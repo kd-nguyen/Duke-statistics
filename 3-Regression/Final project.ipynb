{
 "cells": [
  {
   "cell_type": "code",
   "execution_count": 91,
   "metadata": {},
   "outputs": [],
   "source": [
    "library(ggplot2)\n",
    "library(dplyr)\n",
    "library(statsr)\n",
    "library(reshape2)"
   ]
  },
  {
   "cell_type": "code",
   "execution_count": 92,
   "metadata": {
    "collapsed": true
   },
   "outputs": [],
   "source": [
    "load(\"movies.Rdata\")"
   ]
  },
  {
   "cell_type": "markdown",
   "metadata": {},
   "source": [
    "# Data"
   ]
  },
  {
   "cell_type": "markdown",
   "metadata": {},
   "source": [
    "Since the data is randomly sampled from movies produced and released before 2016, findings from the data could be generalized to movies produced and released in this period.\n",
    "\n",
    "However, since this was not an experiment (only an observational study) and no random assignment was used, we cannot draw any causal conclusion from the data. For example, we can conclude that all else being equal, a one point rise in critic score will predict a two point rise in audience score. However, since we did not actually fix other criteria to be equal (and it would be impossible to do so given that a movie can't have two different critic scores), we cannot state that the rise in critic score would cause a rise in audience score."
   ]
  },
  {
   "cell_type": "markdown",
   "metadata": {},
   "source": [
    "# Research question\n",
    "**Research question**: how is the IMDB rating of a movie (released before 2016) correlated with other information of that movie, including:\n",
    "* Movie type, genre, run rime and MPAA rating\n",
    "* The month and year the movie and the DVD were released\n",
    "* The number of IMDB votes the movie received\n",
    "* The critics score of the movie on Rotten Tomatoes\n",
    "* Whether the movie was nominated for a best picture Oscar or has won one\n",
    "* Whether the movie featured one or more Oscar-winning actors, actresses and directors\n",
    "\n",
    "These correlations will be used to predict the IMDB rating of a random movie released in this period and the predicted rating will be compared with the actual rating of the movie.\n",
    "\n",
    "**Why this interests me**: as a movie-goer, I usually check a movie's rating on IMDB before considering watching the movie in theaters. Therefore, knowing the relationship between the rating and other factors will give me awareness on what is the best predictor(s) of that particular rating, so that I can judge whether that predictor is important to me or not."
   ]
  },
  {
   "cell_type": "markdown",
   "metadata": {},
   "source": [
    "# EDA\n",
    "The response variable in this study is **imdb_rating**: the average IMDB rating of a movie. From the histogram of IMDB ratings of all sampled movies, the distribution of ratings is skewed right: there are relatively high number of movies with low ratings. The summary statistics show an average rating of around 6.5 across all movies, and a median of 6.6. The lowest-rated movie (2008's Disaster Movie) in the sample earned 1.9, and the highest-rated movie (1974's The Godfather Part II) earned a 9."
   ]
  },
  {
   "cell_type": "code",
   "execution_count": 93,
   "metadata": {
    "scrolled": true
   },
   "outputs": [
    {
     "data": {},
     "metadata": {},
     "output_type": "display_data"
    },
    {
     "data": {
      "image/png": "[encoded data removed]",
      "text/plain": [
       "plot without title"
      ]
     },
     "metadata": {},
     "output_type": "display_data"
    }
   ],
   "source": [
    "ggplot(movies, aes(imdb_rating)) +\n",
    "geom_histogram(bins = 30)"
   ]
  },
  {
   "cell_type": "code",
   "execution_count": 94,
   "metadata": {
    "scrolled": false
   },
   "outputs": [
    {
     "data": {
      "text/plain": [
       "   Min. 1st Qu.  Median    Mean 3rd Qu.    Max. \n",
       "  1.900   5.900   6.600   6.493   7.300   9.000 "
      ]
     },
     "metadata": {},
     "output_type": "display_data"
    }
   ],
   "source": [
    "# Summary statistics of IMDB ratings of all sampled movies\n",
    "summary(movies$imdb_rating)"
   ]
  },
  {
   "cell_type": "code",
   "execution_count": 95,
   "metadata": {},
   "outputs": [
    {
     "data": {
      "text/html": [
       "<table>\n",
       "<thead><tr><th scope=col>title</th><th scope=col>thtr_rel_year</th><th scope=col>imdb_rating</th></tr></thead>\n",
       "<tbody>\n",
       "\t<tr><td>The Godfather, Part II</td><td>1974                  </td><td>9.0                   </td></tr>\n",
       "\t<tr><td>Disaster Movie        </td><td>2008                  </td><td>1.9                   </td></tr>\n",
       "</tbody>\n",
       "</table>\n"
      ],
      "text/latex": [
       "\\begin{tabular}{r|lll}\n",
       " title & thtr\\_rel\\_year & imdb\\_rating\\\\\n",
       "\\hline\n",
       "\t The Godfather, Part II & 1974                   & 9.0                   \\\\\n",
       "\t Disaster Movie         & 2008                   & 1.9                   \\\\\n",
       "\\end{tabular}\n"
      ],
      "text/markdown": [
       "\n",
       "title | thtr_rel_year | imdb_rating | \n",
       "|---|---|\n",
       "| The Godfather, Part II | 1974                   | 9.0                    | \n",
       "| Disaster Movie         | 2008                   | 1.9                    | \n",
       "\n",
       "\n"
      ],
      "text/plain": [
       "  title                  thtr_rel_year imdb_rating\n",
       "1 The Godfather, Part II 1974          9.0        \n",
       "2 Disaster Movie         2008          1.9        "
      ]
     },
     "metadata": {},
     "output_type": "display_data"
    }
   ],
   "source": [
    "# Movies with lowest and highest IMDB ratings in the sample\n",
    "movies %>%\n",
    "select(title, thtr_rel_year, imdb_rating) %>%\n",
    "filter(imdb_rating == min(imdb_rating) | imdb_rating == max(imdb_rating))"
   ]
  },
  {
   "cell_type": "markdown",
   "metadata": {},
   "source": [
    "## Preparing data\n",
    "1) We start by dropping factors that are clearly not relevant factors to the IMDB ratings such as the movie's title, the IMDB and Rotten Tomatoes' URLs of the movie (**title**, **imdb_url** and **rt_url** respectively). Rows with NA/missing values will also be dropped."
   ]
  },
  {
   "cell_type": "code",
   "execution_count": 96,
   "metadata": {
    "collapsed": true
   },
   "outputs": [],
   "source": [
    "movies <- movies %>%\n",
    "select(-one_of(c('title', 'imdb_url', 'rt_url'))) %>%\n",
    "na.omit()"
   ]
  },
  {
   "cell_type": "markdown",
   "metadata": {},
   "source": [
    "2) Among the various rating and score factors, many of them are collinear and some are likely just proxy measurements of another factor that is compiled differently. For example:\n",
    "\n",
    "a) The audience score (**audience_score**) and the IMDB rating (**imdb_rating**) are highly correlated, and they might be representing very similar things without providing any additional insight\n",
    "\n",
    "b) The audience rating (**audience_rating**) is likely just the audience score or the IMDB rating expressed as a categorical factor, as the group with the 'Spilled' audience rating has a markedly lower IMDB rating than the 'Upright' group.\n",
    "\n",
    "c) Similarly, the critics' score (**critics_score**) and critics' rating (**critics_rating**) seem to express the same thing: those with 'Rotten' critics score are scored lower than those with 'Fresh' critic score, and similarly for 'Fresh' against 'Certified Fresh'. Therefore, the critics scores already provide enough information about the critical response of a movie.\n",
    "\n",
    "As a result, we will drop score and rating factors that have already been accounted for by other factors. This include **audience_score**, **audience_rating**, and **critics_rating**."
   ]
  },
  {
   "cell_type": "code",
   "execution_count": 97,
   "metadata": {
    "scrolled": true
   },
   "outputs": [
    {
     "data": {},
     "metadata": {},
     "output_type": "display_data"
    },
    {
     "data": {
      "image/png": "[encoded data removed]",
      "text/plain": [
       "plot without title"
      ]
     },
     "metadata": {},
     "output_type": "display_data"
    }
   ],
   "source": [
    "# 2a: audience score collinear with IMDB rating\n",
    "ggplot(movies, aes(audience_score, imdb_rating)) +\n",
    "geom_jitter() +\n",
    "stat_smooth(method = 'lm', se = FALSE)"
   ]
  },
  {
   "cell_type": "code",
   "execution_count": 98,
   "metadata": {
    "scrolled": false
   },
   "outputs": [
    {
     "data": {},
     "metadata": {},
     "output_type": "display_data"
    },
    {
     "data": {
      "image/png": "[encoded data removed]",
      "text/plain": [
       "plot without title"
      ]
     },
     "metadata": {},
     "output_type": "display_data"
    }
   ],
   "source": [
    "# 2b: audience rating collinear with IMDB rating\n",
    "ggplot(movies, aes(audience_rating, imdb_rating)) +\n",
    "geom_boxplot()"
   ]
  },
  {
   "cell_type": "code",
   "execution_count": 99,
   "metadata": {
    "scrolled": true
   },
   "outputs": [
    {
     "data": {},
     "metadata": {},
     "output_type": "display_data"
    },
    {
     "data": {
      "image/png": "[encoded data removed]",
      "text/plain": [
       "plot without title"
      ]
     },
     "metadata": {},
     "output_type": "display_data"
    }
   ],
   "source": [
    "#2c: critics rating collinear with critics score\n",
    "ggplot(movies, aes(critics_rating, critics_score)) +\n",
    "geom_boxplot()"
   ]
  },
  {
   "cell_type": "code",
   "execution_count": 100,
   "metadata": {
    "collapsed": true
   },
   "outputs": [],
   "source": [
    "movies <- movies %>%\n",
    "select(-one_of(c('audience_score', 'audience_rating', 'critics_rating')))"
   ]
  },
  {
   "cell_type": "markdown",
   "metadata": {},
   "source": [
    "3) Since there are many actors and , directors, and studios among the sampled movies (thus many factors when doing multiple regression), we only consider the actors, directors, and studios with very high average IMDB ratings for our regression analysis. To avoid influence of rare occurences, we only consider actors who appeared in 5 or more films, directors who directed 3 or more films, and studios that produced 5 or more films. For example, a director whose only film ever directed got a 9/10 rating (and thus not very representative of his/her work due to extremely low sample size) will not be considered when selecting highly-rated actors and directors.\n",
    "\n",
    "Among eligible actors, Christian Bale and Minnie Driver have average ratings markedly higher than the rest, similarly for Werner Herzog and Woody Allen as directors, and First Run Features and United Artists as studios. "
   ]
  },
  {
   "cell_type": "code",
   "execution_count": 101,
   "metadata": {
    "scrolled": true
   },
   "outputs": [
    {
     "data": {
      "text/html": [
       "<table>\n",
       "<thead><tr><th scope=col>actor</th><th scope=col>movies</th><th scope=col>avg_rating</th></tr></thead>\n",
       "<tbody>\n",
       "\t<tr><td>Christian Bale </td><td>5              </td><td>7.560000       </td></tr>\n",
       "\t<tr><td>Minnie Driver  </td><td>5              </td><td>7.400000       </td></tr>\n",
       "\t<tr><td>Michael Caine  </td><td>5              </td><td>7.040000       </td></tr>\n",
       "\t<tr><td>Woody Harrelson</td><td>6              </td><td>7.033333       </td></tr>\n",
       "\t<tr><td>Keanu Reeves   </td><td>6              </td><td>7.016667       </td></tr>\n",
       "\t<tr><td>Sean Penn      </td><td>5              </td><td>7.000000       </td></tr>\n",
       "</tbody>\n",
       "</table>\n"
      ],
      "text/latex": [
       "\\begin{tabular}{r|lll}\n",
       " actor & movies & avg\\_rating\\\\\n",
       "\\hline\n",
       "\t Christian Bale  & 5               & 7.560000       \\\\\n",
       "\t Minnie Driver   & 5               & 7.400000       \\\\\n",
       "\t Michael Caine   & 5               & 7.040000       \\\\\n",
       "\t Woody Harrelson & 6               & 7.033333       \\\\\n",
       "\t Keanu Reeves    & 6               & 7.016667       \\\\\n",
       "\t Sean Penn       & 5               & 7.000000       \\\\\n",
       "\\end{tabular}\n"
      ],
      "text/markdown": [
       "\n",
       "actor | movies | avg_rating | \n",
       "|---|---|---|---|---|---|\n",
       "| Christian Bale  | 5               | 7.560000        | \n",
       "| Minnie Driver   | 5               | 7.400000        | \n",
       "| Michael Caine   | 5               | 7.040000        | \n",
       "| Woody Harrelson | 6               | 7.033333        | \n",
       "| Keanu Reeves    | 6               | 7.016667        | \n",
       "| Sean Penn       | 5               | 7.000000        | \n",
       "\n",
       "\n"
      ],
      "text/plain": [
       "  actor           movies avg_rating\n",
       "1 Christian Bale  5      7.560000  \n",
       "2 Minnie Driver   5      7.400000  \n",
       "3 Michael Caine   5      7.040000  \n",
       "4 Woody Harrelson 6      7.033333  \n",
       "5 Keanu Reeves    6      7.016667  \n",
       "6 Sean Penn       5      7.000000  "
      ]
     },
     "metadata": {},
     "output_type": "display_data"
    }
   ],
   "source": [
    "# Highest-rated actors\n",
    "movies %>%\n",
    "select(actor1, actor2, actor3, actor4, actor5, imdb_rating) %>%\n",
    "melt(id.vars = 'imdb_rating', variable.name = 'actor_type', value.name = 'actor') %>%\n",
    "group_by(actor) %>%\n",
    "summarize(movies = n(), avg_rating = mean(imdb_rating)) %>%\n",
    "filter(movies >= 5) %>%\n",
    "arrange(desc(avg_rating)) %>%\n",
    "head()"
   ]
  },
  {
   "cell_type": "code",
   "execution_count": 102,
   "metadata": {
    "scrolled": false
   },
   "outputs": [
    {
     "data": {
      "text/html": [
       "<table>\n",
       "<thead><tr><th scope=col>director</th><th scope=col>movies</th><th scope=col>avg_rating</th></tr></thead>\n",
       "<tbody>\n",
       "\t<tr><td>Werner Herzog  </td><td>3              </td><td>7.733333       </td></tr>\n",
       "\t<tr><td>Woody Allen    </td><td>4              </td><td>7.600000       </td></tr>\n",
       "\t<tr><td>Martin Scorsese</td><td>4              </td><td>7.175000       </td></tr>\n",
       "\t<tr><td>Kathryn Bigelow</td><td>3              </td><td>7.133333       </td></tr>\n",
       "\t<tr><td>Michael Apted  </td><td>3              </td><td>7.100000       </td></tr>\n",
       "\t<tr><td>Richard Donner </td><td>3              </td><td>7.066667       </td></tr>\n",
       "</tbody>\n",
       "</table>\n"
      ],
      "text/latex": [
       "\\begin{tabular}{r|lll}\n",
       " director & movies & avg\\_rating\\\\\n",
       "\\hline\n",
       "\t Werner Herzog   & 3               & 7.733333       \\\\\n",
       "\t Woody Allen     & 4               & 7.600000       \\\\\n",
       "\t Martin Scorsese & 4               & 7.175000       \\\\\n",
       "\t Kathryn Bigelow & 3               & 7.133333       \\\\\n",
       "\t Michael Apted   & 3               & 7.100000       \\\\\n",
       "\t Richard Donner  & 3               & 7.066667       \\\\\n",
       "\\end{tabular}\n"
      ],
      "text/markdown": [
       "\n",
       "director | movies | avg_rating | \n",
       "|---|---|---|---|---|---|\n",
       "| Werner Herzog   | 3               | 7.733333        | \n",
       "| Woody Allen     | 4               | 7.600000        | \n",
       "| Martin Scorsese | 4               | 7.175000        | \n",
       "| Kathryn Bigelow | 3               | 7.133333        | \n",
       "| Michael Apted   | 3               | 7.100000        | \n",
       "| Richard Donner  | 3               | 7.066667        | \n",
       "\n",
       "\n"
      ],
      "text/plain": [
       "  director        movies avg_rating\n",
       "1 Werner Herzog   3      7.733333  \n",
       "2 Woody Allen     4      7.600000  \n",
       "3 Martin Scorsese 4      7.175000  \n",
       "4 Kathryn Bigelow 3      7.133333  \n",
       "5 Michael Apted   3      7.100000  \n",
       "6 Richard Donner  3      7.066667  "
      ]
     },
     "metadata": {},
     "output_type": "display_data"
    }
   ],
   "source": [
    "# Highest-rated directors\n",
    "movies %>%\n",
    "select(director, imdb_rating) %>%\n",
    "group_by(director) %>%\n",
    "summarize(movies = n(), avg_rating = mean(imdb_rating)) %>%\n",
    "filter(movies >= 3) %>%\n",
    "arrange(desc(avg_rating)) %>%\n",
    "head()"
   ]
  },
  {
   "cell_type": "code",
   "execution_count": 103,
   "metadata": {},
   "outputs": [
    {
     "data": {
      "text/html": [
       "<table>\n",
       "<thead><tr><th scope=col>studio</th><th scope=col>movies</th><th scope=col>avg_rating</th></tr></thead>\n",
       "<tbody>\n",
       "\t<tr><td>First Run Features    </td><td> 6                    </td><td>7.616667              </td></tr>\n",
       "\t<tr><td>United Artists        </td><td> 5                    </td><td>7.460000              </td></tr>\n",
       "\t<tr><td>HBO Video             </td><td> 7                    </td><td>7.157143              </td></tr>\n",
       "\t<tr><td>Sony Pictures Classics</td><td> 9                    </td><td>7.100000              </td></tr>\n",
       "\t<tr><td>Universal Pictures    </td><td>23                    </td><td>6.878261              </td></tr>\n",
       "\t<tr><td>Magnolia Pictures     </td><td> 9                    </td><td>6.855556              </td></tr>\n",
       "</tbody>\n",
       "</table>\n"
      ],
      "text/latex": [
       "\\begin{tabular}{r|lll}\n",
       " studio & movies & avg\\_rating\\\\\n",
       "\\hline\n",
       "\t First Run Features     &  6                     & 7.616667              \\\\\n",
       "\t United Artists         &  5                     & 7.460000              \\\\\n",
       "\t HBO Video              &  7                     & 7.157143              \\\\\n",
       "\t Sony Pictures Classics &  9                     & 7.100000              \\\\\n",
       "\t Universal Pictures     & 23                     & 6.878261              \\\\\n",
       "\t Magnolia Pictures      &  9                     & 6.855556              \\\\\n",
       "\\end{tabular}\n"
      ],
      "text/markdown": [
       "\n",
       "studio | movies | avg_rating | \n",
       "|---|---|---|---|---|---|\n",
       "| First Run Features     |  6                     | 7.616667               | \n",
       "| United Artists         |  5                     | 7.460000               | \n",
       "| HBO Video              |  7                     | 7.157143               | \n",
       "| Sony Pictures Classics |  9                     | 7.100000               | \n",
       "| Universal Pictures     | 23                     | 6.878261               | \n",
       "| Magnolia Pictures      |  9                     | 6.855556               | \n",
       "\n",
       "\n"
      ],
      "text/plain": [
       "  studio                 movies avg_rating\n",
       "1 First Run Features      6     7.616667  \n",
       "2 United Artists          5     7.460000  \n",
       "3 HBO Video               7     7.157143  \n",
       "4 Sony Pictures Classics  9     7.100000  \n",
       "5 Universal Pictures     23     6.878261  \n",
       "6 Magnolia Pictures       9     6.855556  "
      ]
     },
     "metadata": {},
     "output_type": "display_data"
    }
   ],
   "source": [
    "# Highest-rated studios\n",
    "movies %>%\n",
    "select(studio, imdb_rating) %>%\n",
    "group_by(studio) %>%\n",
    "summarize(movies = n(), avg_rating = mean(imdb_rating)) %>%\n",
    "filter(movies >= 5) %>%\n",
    "arrange(desc(avg_rating)) %>%\n",
    "head()"
   ]
  },
  {
   "cell_type": "markdown",
   "metadata": {},
   "source": [
    "Therefore, we will add 3 new factors (**featured_actor**, **featured_director**, and **featured_studio**) into the data to indicate whether a movie features those 2 highest-rated actors, directors, and studios respectively (if not, the cell will be labeled '.Neither'). These new factors will replace the original factors **actor1** to **actor5**, as well as **director** and **studio**, in the multiple regression analysis."
   ]
  },
  {
   "cell_type": "code",
   "execution_count": 104,
   "metadata": {
    "collapsed": true
   },
   "outputs": [],
   "source": [
    "movies$studio <- as.character(movies$studio)\n",
    "movies <- movies %>%\n",
    "mutate(featured_director = as.factor(ifelse(director != 'Werner Herzog' & director != 'Woody Allen', \n",
    "                                            '.Neither', director)),\n",
    "      featured_studio = as.factor(ifelse(studio != 'First Run Features' & studio != 'United Artists', \n",
    "                                            '.Neither', studio)))\n",
    "\n",
    "actors <- movies[c('actor1', 'actor2', 'actor3', 'actor4', 'actor5')]\n",
    "featured_actor <- apply(actors, 1, function(x) {\n",
    "    if('Minnie Driver' %in% x) {\n",
    "        return('Minnie Driver')\n",
    "    } else if('Christian Bale' %in% x) {\n",
    "        return('Christian Bale')\n",
    "    } else {\n",
    "        return('.Neither')\n",
    "    }})    \n",
    "movies$featured_actor <- as.factor(featured_actor)\n",
    "    \n",
    "movies <- movies %>%\n",
    "select(-one_of(c('actor1', 'actor2', 'actor3', 'actor4', 'actor5', 'director', 'studio')))"
   ]
  },
  {
   "cell_type": "markdown",
   "metadata": {},
   "source": [
    "4) Since the number of theater/DVD release dates and years are too numerous, they are grouped into larger categories for more convenient analysis: days are grouped into beginning of month (days 1-10), middle (days 11-20), and end of month (days 21 to end); similarly, release years are grouped into decades (70s, 80s, 90s, 00s, and 10s)."
   ]
  },
  {
   "cell_type": "code",
   "execution_count": 105,
   "metadata": {
    "collapsed": true,
    "scrolled": true
   },
   "outputs": [],
   "source": [
    "movies <- movies %>%\n",
    "mutate(thtr_rel_year = as.factor(ifelse(thtr_rel_year <= 1979, '70s',\n",
    "                             ifelse(thtr_rel_year <= 1989, '80s',\n",
    "                                   ifelse(thtr_rel_year <= 1999, '90s',\n",
    "                                         ifelse(thtr_rel_year <= 2009, '00s', '10s'))))),\n",
    "      dvd_rel_year = as.factor(ifelse(dvd_rel_year <= 1999, '90s',\n",
    "                           ifelse(dvd_rel_year <= 2009, '00s', '10s'))),\n",
    "      thtr_rel_day = as.factor(ifelse(thtr_rel_day >=21, '21 to end',\n",
    "                            ifelse(thtr_rel_day >= 11, '11 to 20', '1 to 10'))),\n",
    "      dvd_rel_day = as.factor(ifelse(dvd_rel_day >= 21, '21 to end',\n",
    "                            ifelse(dvd_rel_day >= 11, '11 to 20', '1 to 10'))))"
   ]
  },
  {
   "cell_type": "code",
   "execution_count": 106,
   "metadata": {
    "collapsed": true,
    "scrolled": true
   },
   "outputs": [],
   "source": [
    "movies$thtr_rel_year <- relevel(movies$thtr_rel_year, ref = '70s')\n",
    "movies$dvd_rel_year <- relevel(movies$dvd_rel_year, ref = '90s')\n",
    "movies$thtr_rel_day <- relevel(movies$thtr_rel_day, ref = '1 to 10')\n",
    "movies$dvd_rel_day <- relevel(movies$dvd_rel_day, ref = '1 to 10')"
   ]
  },
  {
   "cell_type": "markdown",
   "metadata": {},
   "source": [
    "# Modeling\n",
    "\n",
    "## Predictor variable chosen for full multiple regression model\n",
    "* title_type: Type of movie (Documentary, Feature Film, TV Movie)\n",
    "* genre: Genre of movie (Action & Adventure, Comedy, Documentary, Drama, Horror, Mystery & Suspense, Other)\n",
    "* runte: Runtime of movie (in minutes)\n",
    "* mpaa_rating: MPAA rating of the movie (G, PG, PG-13, R, Unrated)\n",
    "* studio: Studio that produced the movie\n",
    "* thtr_rel_year: Decade in which the movie is released in theaters\n",
    "* thtr_rel_month: Month the movie is released in theaters\n",
    "* thtr_rel_day: Day of the month (beginning, middle, or end of month) the movie is released in theaters\n",
    "* dvd_rel_year: Decade in which the movie is released on DVD\n",
    "* dvd_rel_month: Month the movie is released on DVD\n",
    "* dvd_rel_day: Day of the month (beginning, middle, or end of month) the movie is released on DVD\n",
    "* imdb_num_votes: Number of votes on IMDB\n",
    "* critics_score: Critics score on Rotten Tomatoes\n",
    "* audience_score: Audience score on Rotten Tomatoes\n",
    "* best_pic_nom: Whether or not the movie was nominated for a best picture Oscar (no, yes)\n",
    "* best_pic_win: Whether or not the movie won a best picture Oscar (no, yes)\n",
    "* best_actor_win: Whether or not one of the main actors in the movie ever won an Oscar (no, yes) – note that this is not necessarily whether the actor won an Oscar for their role in the given movie\n",
    "* best_actress win: Whether or not one of the main actresses in the movie ever won an Oscar (no, yes) – not that this is not necessarily whether the actresses won an Oscar for their role in the given movie\n",
    "* best_dir_win: Whether or not the director of the movie ever won an Oscar (no, yes) – not that this is not necessarily whether the director won an Oscar for the given movie\n",
    "* top200_box: Whether or not the movie is in the Top 200 Box Office list on BoxOfficeMojo (no, yes)\n",
    "* featured_actor: Featured actor in the film, but only include top 2 highest-rated actors (Minnie Driver & Christian Bale). Movies without either or those 2 actors will be labeled '.Neither'\n",
    "* featured_director: Featured director in the film, but only include top 2 highest-rated directors (Werner Herzog & Woody Allen). Movies without either or those 2 directors will be labeled '.Neither'\n",
    "\n",
    "## Variables excluded from regression analysis\n",
    "* title: irrelevant to ratings\n",
    "* critics_rating: Categorical variable for critics rating on Rotten Tomatoes (Certified Fresh, Fresh, Rotten) - collinear with critics_score\n",
    "* audience_rating: Categorical variable for audience rating on Rotten Tomatoes (Spilled, Upright) - collinear with audience score\n",
    "* audience_score: Audience score on Rotten Tomatoes - collinear with IMDB rating\n",
    "* director: Director of the movie - simplified to featured_director variable\n",
    "* actor1-5: First-fifth main actor/actress in the abridged cast of the movie - simplified to featured_actor variable\n",
    "* imdb_url: Link to IMDB page for the movie - irrelevant to ratings\n",
    "* rt_url: Link to Rotten Tomatoes page for the movie - irrelevant to ratings\n",
    "\n",
    "## Model chosen\n",
    "A multiple regression model will be carried out between the response variable (imdb_rating), and the chosen predictors above.\n",
    "\n",
    "**Reason**: the regression coefficients/slopes of the response variable to each predictor will indicate how much the rating is expected to change when each predictor changes (assuming the linear relationship is significant). This can be used to predict the rating of a movie in this period using those coefficients from the model.\n",
    "\n",
    "## Full model\n",
    "After running multiple regression on all chosen predictors, the most significant predictors (those with low p-value and three stars at the end of the line in the summary report) are:\n",
    "* If the movie is an art house or international movie\n",
    "* Number of IMDB votes\n",
    "* Critics score\n",
    "\n",
    "Other factors with higher p-value but still significant (p < 0.05) are:\n",
    "* If the movie is a documentary\n",
    "* If the movie is a drama\n",
    "* If the movie is a musical or performing arts movie\n",
    "* The movie's runtime\n",
    "* If the DVD was released in the 2000s\n",
    "* If the movie was directed by Woody Allen\n",
    "\n",
    "Out of these significant predictors, all of them predict an increase in rating when the value of the predictor increases, except for the predictor of whether the DVD was released in the 2000s. In other words, all else being equal, a movie whose DVD was released in the 2000s is expected to have a lower rating than a movie whose DVD was released in the 1990s (default level) by 0.21 rating points (out of 10).\n",
    "\n",
    "The R-squared value of the multiple regression model is 0.68. This means that 68% of the variability in IMDB ratings can be explained by the multiple regression model with the chosen predictors. Furthermore, the p-value of F is almost zero, which means that the multiple regression model can predict IMDB ratings of a movie better than the average ratings of all movies in the sample alone. Summary of the full model as well as the default level of each categorical predictor are provided below."
   ]
  },
  {
   "cell_type": "code",
   "execution_count": 107,
   "metadata": {},
   "outputs": [
    {
     "data": {
      "text/plain": [
       "\n",
       "Call:\n",
       "lm(formula = imdb_rating ~ ., data = movies)\n",
       "\n",
       "Residuals:\n",
       "    Min      1Q  Median      3Q     Max \n",
       "-2.8243 -0.3266  0.0559  0.3664  1.6981 \n",
       "\n",
       "Coefficients:\n",
       "                                    Estimate Std. Error t value Pr(>|t|)    \n",
       "(Intercept)                        4.892e+00  3.872e-01  12.633  < 2e-16 ***\n",
       "title_typeFeature Film            -1.100e-01  2.612e-01  -0.421 0.673706    \n",
       "title_typeTV Movie                -9.403e-02  4.135e-01  -0.227 0.820177    \n",
       "genreAnimation                    -4.259e-01  2.642e-01  -1.612 0.107424    \n",
       "genreArt House & International     7.085e-01  2.079e-01   3.408 0.000701 ***\n",
       "genreComedy                       -1.178e-01  1.091e-01  -1.079 0.281027    \n",
       "genreDocumentary                   7.615e-01  2.681e-01   2.840 0.004674 ** \n",
       "genreDrama                         2.398e-01  9.627e-02   2.491 0.013023 *  \n",
       "genreHorror                       -2.750e-02  1.631e-01  -0.169 0.866167    \n",
       "genreMusical & Performing Arts     5.910e-01  2.219e-01   2.663 0.007961 ** \n",
       "genreMystery & Suspense            1.827e-01  1.235e-01   1.479 0.139668    \n",
       "genreOther                         1.277e-01  1.905e-01   0.671 0.502777    \n",
       "genreScience Fiction & Fantasy    -2.309e-01  2.398e-01  -0.963 0.335979    \n",
       "runtime                            4.690e-03  1.700e-03   2.759 0.005975 ** \n",
       "mpaa_ratingNC-17                  -4.884e-01  6.721e-01  -0.727 0.467715    \n",
       "mpaa_ratingPG                     -3.331e-01  1.938e-01  -1.719 0.086174 .  \n",
       "mpaa_ratingPG-13                  -3.429e-01  2.029e-01  -1.690 0.091571 .  \n",
       "mpaa_ratingR                      -2.575e-01  1.965e-01  -1.310 0.190665    \n",
       "mpaa_ratingUnrated                -3.354e-01  2.295e-01  -1.462 0.144395    \n",
       "thtr_rel_year00s                  -1.808e-02  1.167e-01  -0.155 0.876901    \n",
       "thtr_rel_year10s                  -3.056e-01  2.280e-01  -1.341 0.180559    \n",
       "thtr_rel_year80s                  -1.269e-01  1.214e-01  -1.045 0.296405    \n",
       "thtr_rel_year90s                  -1.497e-01  1.195e-01  -1.253 0.210889    \n",
       "thtr_rel_month                     7.894e-03  7.874e-03   1.003 0.316487    \n",
       "thtr_rel_day11 to 20              -5.858e-02  6.323e-02  -0.926 0.354580    \n",
       "thtr_rel_day21 to end             -6.731e-02  6.556e-02  -1.027 0.305057    \n",
       "dvd_rel_year00s                   -2.105e-01  8.853e-02  -2.377 0.017766 *  \n",
       "dvd_rel_year10s                   -1.208e-01  2.066e-01  -0.585 0.558805    \n",
       "dvd_rel_month                      1.442e-02  7.885e-03   1.829 0.067895 .  \n",
       "dvd_rel_day11 to 20                3.733e-03  6.294e-02   0.059 0.952724    \n",
       "dvd_rel_day21 to end               8.506e-02  6.503e-02   1.308 0.191380    \n",
       "imdb_num_votes                     2.045e-06  2.895e-07   7.062 4.76e-12 ***\n",
       "critics_score                      2.316e-02  1.148e-03  20.180  < 2e-16 ***\n",
       "best_pic_nomyes                    1.077e-01  1.692e-01   0.636 0.524881    \n",
       "best_pic_winyes                   -4.463e-01  3.030e-01  -1.473 0.141310    \n",
       "best_actor_winyes                  2.125e-02  7.735e-02   0.275 0.783646    \n",
       "best_actress_winyes               -2.203e-02  8.515e-02  -0.259 0.795915    \n",
       "best_dir_winyes                   -5.287e-02  1.146e-01  -0.461 0.644828    \n",
       "top200_boxyes                     -1.973e-01  1.795e-01  -1.099 0.272116    \n",
       "featured_directorWerner Herzog     3.581e-03  3.886e-01   0.009 0.992651    \n",
       "featured_directorWoody Allen       7.774e-01  3.810e-01   2.040 0.041760 *  \n",
       "featured_studioFirst Run Features -2.856e-01  2.882e-01  -0.991 0.322030    \n",
       "featured_studioUnited Artists     -1.309e-01  3.332e-01  -0.393 0.694659    \n",
       "featured_actorChristian Bale       9.796e-03  3.082e-01   0.032 0.974656    \n",
       "featured_actorMinnie Driver        1.131e-01  2.942e-01   0.384 0.700863    \n",
       "---\n",
       "Signif. codes:  0 '***' 0.001 '**' 0.01 '*' 0.05 '.' 0.1 ' ' 1\n",
       "\n",
       "Residual standard error: 0.6292 on 574 degrees of freedom\n",
       "Multiple R-squared:  0.6817,\tAdjusted R-squared:  0.6573 \n",
       "F-statistic: 27.94 on 44 and 574 DF,  p-value: < 2.2e-16\n"
      ]
     },
     "metadata": {},
     "output_type": "display_data"
    }
   ],
   "source": [
    "# Running full multiple regression model\n",
    "full_model <- lm(imdb_rating ~., data = movies)\n",
    "\n",
    "# Summary result of full model\n",
    "summary(full_model)"
   ]
  },
  {
   "cell_type": "code",
   "execution_count": 108,
   "metadata": {
    "scrolled": true
   },
   "outputs": [
    {
     "data": {
      "text/html": [
       "<dl class=dl-horizontal>\n",
       "\t<dt>title_type</dt>\n",
       "\t\t<dd>'Documentary'</dd>\n",
       "\t<dt>genre</dt>\n",
       "\t\t<dd>'Action &amp; Adventure'</dd>\n",
       "\t<dt>mpaa_rating</dt>\n",
       "\t\t<dd>'G'</dd>\n",
       "\t<dt>thtr_rel_year</dt>\n",
       "\t\t<dd>'70s'</dd>\n",
       "\t<dt>thtr_rel_day</dt>\n",
       "\t\t<dd>'1 to 10'</dd>\n",
       "\t<dt>dvd_rel_year</dt>\n",
       "\t\t<dd>'90s'</dd>\n",
       "\t<dt>dvd_rel_day</dt>\n",
       "\t\t<dd>'1 to 10'</dd>\n",
       "\t<dt>best_pic_nom</dt>\n",
       "\t\t<dd>'no'</dd>\n",
       "\t<dt>best_pic_win</dt>\n",
       "\t\t<dd>'no'</dd>\n",
       "\t<dt>best_actor_win</dt>\n",
       "\t\t<dd>'no'</dd>\n",
       "\t<dt>best_actress_win</dt>\n",
       "\t\t<dd>'no'</dd>\n",
       "\t<dt>best_dir_win</dt>\n",
       "\t\t<dd>'no'</dd>\n",
       "\t<dt>top200_box</dt>\n",
       "\t\t<dd>'no'</dd>\n",
       "\t<dt>featured_director</dt>\n",
       "\t\t<dd>'.Neither'</dd>\n",
       "\t<dt>featured_studio</dt>\n",
       "\t\t<dd>'.Neither'</dd>\n",
       "\t<dt>featured_actor</dt>\n",
       "\t\t<dd>'.Neither'</dd>\n",
       "</dl>\n"
      ],
      "text/latex": [
       "\\begin{description*}\n",
       "\\item[title\\textbackslash{}\\_type] 'Documentary'\n",
       "\\item[genre] 'Action \\& Adventure'\n",
       "\\item[mpaa\\textbackslash{}\\_rating] 'G'\n",
       "\\item[thtr\\textbackslash{}\\_rel\\textbackslash{}\\_year] '70s'\n",
       "\\item[thtr\\textbackslash{}\\_rel\\textbackslash{}\\_day] '1 to 10'\n",
       "\\item[dvd\\textbackslash{}\\_rel\\textbackslash{}\\_year] '90s'\n",
       "\\item[dvd\\textbackslash{}\\_rel\\textbackslash{}\\_day] '1 to 10'\n",
       "\\item[best\\textbackslash{}\\_pic\\textbackslash{}\\_nom] 'no'\n",
       "\\item[best\\textbackslash{}\\_pic\\textbackslash{}\\_win] 'no'\n",
       "\\item[best\\textbackslash{}\\_actor\\textbackslash{}\\_win] 'no'\n",
       "\\item[best\\textbackslash{}\\_actress\\textbackslash{}\\_win] 'no'\n",
       "\\item[best\\textbackslash{}\\_dir\\textbackslash{}\\_win] 'no'\n",
       "\\item[top200\\textbackslash{}\\_box] 'no'\n",
       "\\item[featured\\textbackslash{}\\_director] '.Neither'\n",
       "\\item[featured\\textbackslash{}\\_studio] '.Neither'\n",
       "\\item[featured\\textbackslash{}\\_actor] '.Neither'\n",
       "\\end{description*}\n"
      ],
      "text/markdown": [
       "title_type\n",
       ":   'Documentary'genre\n",
       ":   'Action &amp; Adventure'mpaa_rating\n",
       ":   'G'thtr_rel_year\n",
       ":   '70s'thtr_rel_day\n",
       ":   '1 to 10'dvd_rel_year\n",
       ":   '90s'dvd_rel_day\n",
       ":   '1 to 10'best_pic_nom\n",
       ":   'no'best_pic_win\n",
       ":   'no'best_actor_win\n",
       ":   'no'best_actress_win\n",
       ":   'no'best_dir_win\n",
       ":   'no'top200_box\n",
       ":   'no'featured_director\n",
       ":   '.Neither'featured_studio\n",
       ":   '.Neither'featured_actor\n",
       ":   '.Neither'\n",
       "\n"
      ],
      "text/plain": [
       "          title_type                genre          mpaa_rating \n",
       "       \"Documentary\" \"Action & Adventure\"                  \"G\" \n",
       "       thtr_rel_year         thtr_rel_day         dvd_rel_year \n",
       "               \"70s\"            \"1 to 10\"                \"90s\" \n",
       "         dvd_rel_day         best_pic_nom         best_pic_win \n",
       "           \"1 to 10\"                 \"no\"                 \"no\" \n",
       "      best_actor_win     best_actress_win         best_dir_win \n",
       "                \"no\"                 \"no\"                 \"no\" \n",
       "          top200_box    featured_director      featured_studio \n",
       "                \"no\"           \".Neither\"           \".Neither\" \n",
       "      featured_actor \n",
       "          \".Neither\" "
      ]
     },
     "metadata": {},
     "output_type": "display_data"
    }
   ],
   "source": [
    "# Default level for each categorical predictor\n",
    "factored_columns <- movies[, sapply(movies, is.factor)]\n",
    "sapply(factored_columns, function(x){levels(x)[1]})"
   ]
  },
  {
   "cell_type": "markdown",
   "metadata": {},
   "source": [
    "## Model selection\n",
    "**Choice of model**: forward selection using adjusted R-squared criteria\n",
    "\n",
    "**Reason**: since the number of significant predictors in the full model is much fewer than the total number of predictors, it is more convenient to start adding predictors until adjusted R-squared does not increase."
   ]
  },
  {
   "cell_type": "code",
   "execution_count": 109,
   "metadata": {
    "collapsed": true
   },
   "outputs": [],
   "source": [
    "all_predictors <- movies %>%\n",
    "select(-imdb_rating) %>%\n",
    "colnames()"
   ]
  },
  {
   "cell_type": "code",
   "execution_count": 110,
   "metadata": {
    "collapsed": true
   },
   "outputs": [],
   "source": [
    "# Run multiple regression analysis of IMDB rating with a set of predictors, and return the adjusted R-squared value of the model\n",
    "lm_adj_r <- function(predictors){\n",
    "    variables <- paste('imdb_rating ~', paste(predictors, collapse = ' + '))\n",
    "    model <- do.call(\"lm\", list(as.formula(variables), data=as.name(\"movies\")))\n",
    "    return(summary(model)$adj.r.squared)\n",
    "}\n",
    "\n",
    "# Run multiple regression analysis of IMDB rating with different combinations of predictors, \n",
    "# and return the maximum adjusted R-squared value across all combos as well as the index of the combo\n",
    "# with that highest adjusted R-squared. If none of the combo exceeds a specified adjusted R-squared threshold,\n",
    "# returns NULL.\n",
    "best_r2_and_index <- function(combos, r_threshold){\n",
    "    r_squares <- sapply(combos, lm_adj_r)\n",
    "    status <- paste(substring(combos[which.max(r_squares)], 4), ': R^2 =', max(r_squares))\n",
    "    if(all(r_squares < r_threshold)){\n",
    "        print(paste(status, '(lower than previous R-square, forward selection stops)'))\n",
    "        return(NULL)\n",
    "    } else{\n",
    "        print(status)\n",
    "        return(c(max(r_squares), which.max(r_squares)))\n",
    "    }}\n",
    "\n",
    "# Start with single predictor regression, select the predictor with highest R-squared value,\n",
    "# and add the remaining variables one at a time to the existing model along with\n",
    "# the first predictor. Then, select the variable with the highest adjusted R-squared value, and so on.\n",
    "# If none of the remaining variables does not result in a higher adjusted R-squared, stop the\n",
    "# forward selection and return the current best set of predictors.\n",
    "best_next_predictor <- function(base_p, next_p, r_threshold){\n",
    "    if(length(next_p) == 0){return(base_p)}\n",
    "    combos <- lapply(next_p, function(x){paste(c(base_p, x), collapse = ' + ')})\n",
    "    r2_and_index <- best_r2_and_index(combos, r_threshold)\n",
    "    if(is.null(r2_and_index)){return(base_p)}\n",
    "    best_r2 <- r2_and_index[1]\n",
    "    index <- r2_and_index[2]\n",
    "    base_p <- c(base_p, next_p[index])\n",
    "    next_p <- next_p[-index]\n",
    "    return(best_next_predictor(base_p, next_p, best_r2))\n",
    "}"
   ]
  },
  {
   "cell_type": "markdown",
   "metadata": {},
   "source": [
    "## Result of model selection\n",
    "**Final predictors after forward selection** (sorted by order of selection; for categorical predictors, only some of the levels of the predictor are likely to be significant):\n",
    "* critics_score: Critics score on Rotten Tomatoes\n",
    "* imdb_num_votes: Number of votes on IMDB\n",
    "* genre: Genre of movie (Action & Adventure, Comedy, Documentary, Drama, Horror, Mystery & Suspense, Other)\n",
    "* dvd_rel_year: Decade in which the movie is released on DVD\n",
    "* runtime: Runtime of movie (in minutes)\n",
    "* featured_director: Featured director in the film, but only include top 2 highest-rated directors (Werner Herzog & Woody Allen). Movies without either or those 2 directors will be labeled '.Neither'\n",
    "* dvd_rel_month: Month the movie is released on DVD\n",
    "* best_pic_win: Whether or not the movie won a best picture Oscar (no, yes)\n",
    "* dvd_rel_day: Day of the month (beginning, middle, or end of month) the movie is released on DVD\n",
    "* top200_box: Whether or not the movie is in the Top 200 Box Office list on BoxOfficeMojo (no, yes)\n",
    "* thtr_rel_month: Month the movie is released in theaters\n",
    "* thtr_rel_year: Decade in which the movie is released in theaters\n",
    "\n",
    "Note that the forward selection model stops after **thtr_rel_year**, since the variable among the remaining ones that provides the maximum R-squared (**mpaa_rating**) still produce an R-squared that is lower than a model without it."
   ]
  },
  {
   "cell_type": "code",
   "execution_count": 111,
   "metadata": {
    "scrolled": true
   },
   "outputs": [
    {
     "name": "stdout",
     "output_type": "stream",
     "text": [
      "[1] \"Forward selection (using adjusted R-squared) begins: \"\n",
      "[1] \"critics_score : R^2 = 0.579962754131089\"\n",
      "[1] \"critics_score + imdb_num_votes : R^2 = 0.612971664989686\"\n",
      "[1] \"critics_score + imdb_num_votes + genre : R^2 = 0.650471230485768\"\n",
      "[1] \"critics_score + imdb_num_votes + genre + dvd_rel_year : R^2 = 0.656180985551319\"\n",
      "[1] \"critics_score + imdb_num_votes + genre + dvd_rel_year + runtime : R^2 = 0.659542865542973\"\n",
      "[1] \"critics_score + imdb_num_votes + genre + dvd_rel_year + runtime + featured_director : R^2 = 0.660454773186394\"\n",
      "[1] \"critics_score + imdb_num_votes + genre + dvd_rel_year + runtime + featured_director + dvd_rel_month : R^2 = 0.661413648319128\"\n",
      "[1] \"critics_score + imdb_num_votes + genre + dvd_rel_year + runtime + featured_director + dvd_rel_month + best_pic_win : R^2 = 0.661754032774646\"\n",
      "[1] \"critics_score + imdb_num_votes + genre + dvd_rel_year + runtime + featured_director + dvd_rel_month + best_pic_win + dvd_rel_day : R^2 = 0.662089664684505\"\n",
      "[1] \"critics_score + imdb_num_votes + genre + dvd_rel_year + runtime + featured_director + dvd_rel_month + best_pic_win + dvd_rel_day + top200_box : R^2 = 0.662178182707036\"\n",
      "[1] \"critics_score + imdb_num_votes + genre + dvd_rel_year + runtime + featured_director + dvd_rel_month + best_pic_win + dvd_rel_day + top200_box + thtr_rel_month : R^2 = 0.662259596240355\"\n",
      "[1] \"critics_score + imdb_num_votes + genre + dvd_rel_year + runtime + featured_director + dvd_rel_month + best_pic_win + dvd_rel_day + top200_box + thtr_rel_month + thtr_rel_year : R^2 = 0.662408843550271\"\n",
      "[1] \"critics_score + imdb_num_votes + genre + dvd_rel_year + runtime + featured_director + dvd_rel_month + best_pic_win + dvd_rel_day + top200_box + thtr_rel_month + thtr_rel_year + mpaa_rating : R^2 = 0.662336915298221 (lower than previous R-square, forward selection stops)\"\n"
     ]
    }
   ],
   "source": [
    "print('Forward selection (using adjusted R-squared) begins: ')\n",
    "selected_predictors <- best_next_predictor(c(''), all_predictors, 0)[-1]"
   ]
  },
  {
   "cell_type": "code",
   "execution_count": 112,
   "metadata": {
    "scrolled": true
   },
   "outputs": [
    {
     "name": "stdout",
     "output_type": "stream",
     "text": [
      "[1] \"Selected predictors (forward selection with adjusted R^2 criteria): critics_score, imdb_num_votes, genre, dvd_rel_year, runtime, featured_director, dvd_rel_month, best_pic_win, dvd_rel_day, top200_box, thtr_rel_month, thtr_rel_year\"\n"
     ]
    }
   ],
   "source": [
    "print(paste('Selected predictors (forward selection with adjusted R^2 criteria):', paste(selected_predictors, collapse = ', ')))"
   ]
  },
  {
   "cell_type": "markdown",
   "metadata": {},
   "source": [
    "## Model diagnostics\n",
    "In the forward selection model, the first 6 selected predictors also match the significant predictors in the full model (**critics_score**, **imdb_num_votes**, **genre**, **dvd_rel_year**, **runtime**, **featured_director**). Some selected predictors, such as **genre**, have multiple levels (comedy, drama, etc.) that are significant in the full model.\n",
    "\n",
    "Furthermore, the latter half of the forward selection model also includes predictors that are insignificant in the full model, such as the release month of the DVD (**dvd_rel_month**) or whether the movie won an Oscar for best picture (**best_pic_win**). Since these predictors are not significant in the full model, it is no surprise that they were selected late during forward selection due to their lower contribution to adjusted R-squared. However, some discrepancy between significant predictors in the full model and selected predictors in the forward selection model is expected.\n",
    "\n",
    "When the selected model is reran against the response variable (**imdb_rating**), the previously-significant predictors in the full model are still significant in the selected model, except for the predictor of whether the movie was directed by Woody Allen, which now has a p-value of just slightly above 0.5. Again, some minor discrepancy between the full model and the selected model is expected.\n",
    "\n",
    "The selected model has a lower R-squared value than the full model (0.6772 vs 0.6817). This could be explained by the more predictors the full model has (more predictor means a higher R-squared). However, the adjusted R-squard value of the selected model is higher than the full model (0.6624 vs 0.6573). This makes sense, since the selected model only contains predictors that contribute significantly to the R-squared value, and not those with low contribution that incurs a penalty in the adjusted R-squared value in the full model.\n",
    "\n",
    "### Condition check\n",
    "**Linearity**: the plot of residuals vs predicted values show that the residuals are scattered randomly around the fitted value, which means that the relationship between the response variable and the predictors can be assumed as linear\n",
    "\n",
    "**Nearly normal residuals**: the histogram and normal probability plots show that the residual are roughly normally-distributed, with some outliers in the lower end of the distribution. Therefore, residuals can be assumed to be nearly normal.\n",
    "\n",
    "**Constant variability**: the plot of residuals vs predicted values show that the residuals have roughly constant variability across different levels of the fitted value (although some levels in the middle have rather high variability). Therefore, the constant variability of residuals for multiple regression is met.\n",
    "\n",
    "## Interpretation of model coefficients\n",
    "**For a numerical predictor** (such as **critics_score**): the coefficient (under the 'Estimate' column in the regression summary) means that the IMDB rating is expected to change by the value of that coefficient (0.023) when the predictor (critics' score) is one unit higher in value, given the other variables are held constant.\n",
    "\n",
    "**For a categorical predictor** (such as **genre(Art House & International)**): the coefficient means that the IMDB rating is expected to change by the value of that coefficient (0.68) when the predictor is at the indicated level compared to the default level of the predictor i.e. when a movie is an art house & international movie compared to an action & adventure movie, given the other variables are held constant"
   ]
  },
  {
   "cell_type": "code",
   "execution_count": 113,
   "metadata": {
    "collapsed": true
   },
   "outputs": [],
   "source": [
    "# Rerun forward-selected model with response variable\n",
    "selected_model <- lm(imdb_rating ~ critics_score + imdb_num_votes + \n",
    "                     genre + dvd_rel_year + runtime + featured_director + \n",
    "                     dvd_rel_month + best_pic_win + dvd_rel_day + top200_box + \n",
    "                     thtr_rel_month + thtr_rel_year, data = movies)"
   ]
  },
  {
   "cell_type": "code",
   "execution_count": 114,
   "metadata": {
    "scrolled": true
   },
   "outputs": [
    {
     "data": {
      "text/plain": [
       "\n",
       "Call:\n",
       "lm(formula = imdb_rating ~ critics_score + imdb_num_votes + genre + \n",
       "    dvd_rel_year + runtime + featured_director + dvd_rel_month + \n",
       "    best_pic_win + dvd_rel_day + top200_box + thtr_rel_month + \n",
       "    thtr_rel_year, data = movies)\n",
       "\n",
       "Residuals:\n",
       "     Min       1Q   Median       3Q      Max \n",
       "-2.88222 -0.32162  0.03922  0.37017  1.67107 \n",
       "\n",
       "Coefficients:\n",
       "                                 Estimate Std. Error t value Pr(>|t|)    \n",
       "(Intercept)                     4.512e+00  2.250e-01  20.056  < 2e-16 ***\n",
       "critics_score                   2.346e-02  1.074e-03  21.830  < 2e-16 ***\n",
       "imdb_num_votes                  2.085e-06  2.765e-07   7.538 1.80e-13 ***\n",
       "genreAnimation                 -2.821e-01  2.375e-01  -1.188 0.235328    \n",
       "genreArt House & International  6.872e-01  2.001e-01   3.434 0.000637 ***\n",
       "genreComedy                    -1.336e-01  1.065e-01  -1.255 0.210028    \n",
       "genreDocumentary                7.952e-01  1.425e-01   5.582 3.63e-08 ***\n",
       "genreDrama                      2.339e-01  9.215e-02   2.538 0.011390 *  \n",
       "genreHorror                    -2.962e-02  1.577e-01  -0.188 0.851043    \n",
       "genreMusical & Performing Arts  5.879e-01  2.037e-01   2.886 0.004045 ** \n",
       "genreMystery & Suspense         1.854e-01  1.182e-01   1.569 0.117271    \n",
       "genreOther                      1.205e-01  1.848e-01   0.652 0.514537    \n",
       "genreScience Fiction & Fantasy -1.934e-01  2.366e-01  -0.818 0.413852    \n",
       "dvd_rel_year00s                -2.065e-01  8.667e-02  -2.383 0.017489 *  \n",
       "dvd_rel_year10s                -1.389e-01  2.004e-01  -0.693 0.488515    \n",
       "runtime                         4.098e-03  1.564e-03   2.620 0.009028 ** \n",
       "featured_directorWerner Herzog  3.240e-03  3.686e-01   0.009 0.992989    \n",
       "featured_directorWoody Allen    6.310e-01  3.314e-01   1.904 0.057377 .  \n",
       "dvd_rel_month                   1.425e-02  7.699e-03   1.851 0.064604 .  \n",
       "best_pic_winyes                -4.200e-01  2.653e-01  -1.583 0.113849    \n",
       "dvd_rel_day11 to 20             1.931e-03  6.170e-02   0.031 0.975042    \n",
       "dvd_rel_day21 to end            7.603e-02  6.378e-02   1.192 0.233742    \n",
       "top200_boxyes                  -1.999e-01  1.743e-01  -1.147 0.251856    \n",
       "thtr_rel_month                  8.688e-03  7.574e-03   1.147 0.251799    \n",
       "thtr_rel_year00s               -4.420e-02  1.060e-01  -0.417 0.676977    \n",
       "thtr_rel_year10s               -2.960e-01  2.204e-01  -1.343 0.179784    \n",
       "thtr_rel_year80s               -1.340e-01  1.148e-01  -1.168 0.243343    \n",
       "thtr_rel_year90s               -1.416e-01  1.097e-01  -1.290 0.197526    \n",
       "---\n",
       "Signif. codes:  0 '***' 0.001 '**' 0.01 '*' 0.05 '.' 0.1 ' ' 1\n",
       "\n",
       "Residual standard error: 0.6244 on 591 degrees of freedom\n",
       "Multiple R-squared:  0.6772,\tAdjusted R-squared:  0.6624 \n",
       "F-statistic: 45.91 on 27 and 591 DF,  p-value: < 2.2e-16\n"
      ]
     },
     "metadata": {},
     "output_type": "display_data"
    }
   ],
   "source": [
    "# Summary result of forward-selected model\n",
    "summary(selected_model)"
   ]
  },
  {
   "cell_type": "code",
   "execution_count": 121,
   "metadata": {
    "scrolled": true
   },
   "outputs": [
    {
     "data": {},
     "metadata": {},
     "output_type": "display_data"
    },
    {
     "data": {
      "image/png": "[encoded data removed]",
      "text/plain": [
       "plot without title"
      ]
     },
     "metadata": {},
     "output_type": "display_data"
    }
   ],
   "source": [
    "# Plot of residuals vs fitted values\n",
    "ggplot(data = selected_model, aes(.fitted, .resid)) +\n",
    "geom_point() +\n",
    "geom_hline(yintercept = 0, linetype = 'dashed') +\n",
    "xlab('Fitted value') +\n",
    "ylab('Residuals')"
   ]
  },
  {
   "cell_type": "code",
   "execution_count": 119,
   "metadata": {
    "scrolled": true
   },
   "outputs": [
    {
     "data": {},
     "metadata": {},
     "output_type": "display_data"
    },
    {
     "data": {
      "image/png": "[encoded data removed]",
      "text/plain": [
       "plot without title"
      ]
     },
     "metadata": {},
     "output_type": "display_data"
    }
   ],
   "source": [
    "# Histogram of residuals\n",
    "ggplot(data = selected_model, aes(.resid)) +\n",
    "geom_histogram(bins = 30) +\n",
    "xlab('Residuals')"
   ]
  },
  {
   "cell_type": "code",
   "execution_count": 120,
   "metadata": {},
   "outputs": [
    {
     "data": {},
     "metadata": {},
     "output_type": "display_data"
    },
    {
     "data": {
      "image/png": "[encoded data removed]",
      "text/plain": [
       "plot without title"
      ]
     },
     "metadata": {},
     "output_type": "display_data"
    }
   ],
   "source": [
    "# Normal probability plot of residuals\n",
    "ggplot(data = selected_model, aes(sample = .resid)) +\n",
    "stat_qq()"
   ]
  },
  {
   "cell_type": "markdown",
   "metadata": {},
   "source": [
    "# Prediction\n",
    "Using the forward selected (based on adjusted R-squared criteria) model, the rating for the 2016 action film 'Deadpool' is predicted using the relevant predictors from the movie as determined from the forward selection (such as critics score, number of votes on IMDB, etc.)\n",
    "\n",
    "**Result**: from the predicted result, we are 95% confident that a movie with the characteristics of that of 'Deadpool' (critics score of 83, runtime of 108 minutes, etc.) will have an IMDB score between 6.53 to 9.14 on average, with the single point rating estimate of 7.84. The actual IMDB rating of 'Deadpool' is 8.0, so our prediction using the selected model is accurate for this case (since the true rating is within the prediction interval).\n",
    "\n",
    "**Reference of new data**: the critics score of 'Deadpool' is obtained from the Rotten Tomatoes website (1), the IMDB rating and number of votes are from the IMDB website (2), whether the movie was in the Top 200 box office list was determined from the BoxOfficeMojo website (3), and the rest of the data of the movie (runtime, genre, theater and DVD release dates, etc.) are taken from the Wikipedia page of the movie (4).\n",
    "\n",
    "(1) https://www.rottentomatoes.com/m/deadpool/\n",
    "\n",
    "(2) http://www.imdb.com/title/tt1431045/\n",
    "\n",
    "(3) http://www.boxofficemojo.com/alltime/world/ \n",
    "\n",
    "(4) https://en.wikipedia.org/wiki/Deadpool_(film)"
   ]
  },
  {
   "cell_type": "code",
   "execution_count": 115,
   "metadata": {
    "collapsed": true
   },
   "outputs": [],
   "source": [
    "deadpool <- data.frame(\n",
    "    critics_score = 83,\n",
    "    imdb_num_votes = 711130,\n",
    "    genre = 'Action & Adventure',\n",
    "    dvd_rel_year = '10s',\n",
    "    runtime = 108,\n",
    "    featured_director = '.Neither',\n",
    "    dvd_rel_month = 5,\n",
    "    best_pic_win = 'no',\n",
    "    dvd_rel_day = '1 to 10',\n",
    "    top200_box = 'yes',\n",
    "    thtr_rel_month = 2,\n",
    "    thtr_rel_year = '10s'\n",
    ")"
   ]
  },
  {
   "cell_type": "code",
   "execution_count": 116,
   "metadata": {
    "scrolled": true
   },
   "outputs": [
    {
     "data": {
      "text/html": [
       "<table>\n",
       "<thead><tr><th></th><th scope=col>fit</th><th scope=col>lwr</th><th scope=col>upr</th></tr></thead>\n",
       "<tbody>\n",
       "\t<tr><th scope=row>1</th><td>7.837817</td><td>6.53236 </td><td>9.143274</td></tr>\n",
       "</tbody>\n",
       "</table>\n"
      ],
      "text/latex": [
       "\\begin{tabular}{r|lll}\n",
       "  & fit & lwr & upr\\\\\n",
       "\\hline\n",
       "\t1 & 7.837817 & 6.53236  & 9.143274\\\\\n",
       "\\end{tabular}\n"
      ],
      "text/markdown": [
       "\n",
       "| <!--/--> | fit | lwr | upr | \n",
       "|---|\n",
       "| 1 | 7.837817 | 6.53236  | 9.143274 | \n",
       "\n",
       "\n"
      ],
      "text/plain": [
       "  fit      lwr     upr     \n",
       "1 7.837817 6.53236 9.143274"
      ]
     },
     "metadata": {},
     "output_type": "display_data"
    }
   ],
   "source": [
    "# Predicting IMDb ratings (with prediction interval) of 'Deadpool'\n",
    "predict(selected_model, deadpool, interval = 'prediction')"
   ]
  },
  {
   "cell_type": "markdown",
   "metadata": {},
   "source": [
    "# Conclusion\n",
    "From the movies dataset, we have built a forward-selected (using adjusted R-squared criteria) multiple regression model to predict a movie's IMDB rating from certain characteristics of the movie (its critics score, genre, runtime, etc.) The model is able to explain 67.7% of the variability in IMDB ratings among the movies in the dataset. When it is used to predict the IMDB rating of 'Deadpool', a 2016 action movie, the model was able to accurately predict its true rating.\n",
    "\n",
    "**Shortcomings**: since the model only accounts for 67.7% of the variability in ratings, there are still some unexplained variability that can impact the accuracy of the model's prediction. Therefore, additional predictors (such as the movie's grossing) can be added to the data to see if the model can be improved."
   ]
  }
 ],
 "metadata": {
  "kernelspec": {
   "display_name": "R",
   "language": "R",
   "name": "ir"
  },
  "language_info": {
   "codemirror_mode": "r",
   "file_extension": ".r",
   "mimetype": "text/x-r-source",
   "name": "R",
   "pygments_lexer": "r",
   "version": "3.4.2"
  }
 },
 "nbformat": 4,
 "nbformat_minor": 2
}
