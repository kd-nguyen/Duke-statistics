{
 "cells": [
  {
   "cell_type": "code",
   "execution_count": 1,
   "metadata": {},
   "outputs": [
    {
     "name": "stderr",
     "output_type": "stream",
     "text": [
      "Loading tidyverse: ggplot2\n",
      "Loading tidyverse: tibble\n",
      "Loading tidyverse: tidyr\n",
      "Loading tidyverse: readr\n",
      "Loading tidyverse: purrr\n",
      "Loading tidyverse: dplyr\n",
      "Warning message:\n",
      "\"package 'tidyr' was built under R version 3.4.3\"Conflicts with tidy packages ---------------------------------------------------\n",
      "filter(): dplyr, stats\n",
      "lag():    dplyr, stats\n"
     ]
    }
   ],
   "source": [
    "library(tidyverse)"
   ]
  },
  {
   "cell_type": "code",
   "execution_count": 3,
   "metadata": {},
   "outputs": [],
   "source": [
    "library(statsr)"
   ]
  },
  {
   "cell_type": "code",
   "execution_count": 4,
   "metadata": {
    "collapsed": true
   },
   "outputs": [],
   "source": [
    "data(mlb11)"
   ]
  },
  {
   "cell_type": "code",
   "execution_count": 5,
   "metadata": {},
   "outputs": [
    {
     "data": {
      "text/html": [
       "<table>\n",
       "<thead><tr><th scope=col>team</th><th scope=col>runs</th><th scope=col>at_bats</th><th scope=col>hits</th><th scope=col>homeruns</th><th scope=col>bat_avg</th><th scope=col>strikeouts</th><th scope=col>stolen_bases</th><th scope=col>wins</th><th scope=col>new_onbase</th><th scope=col>new_slug</th><th scope=col>new_obs</th></tr></thead>\n",
       "<tbody>\n",
       "\t<tr><td>Texas Rangers      </td><td>855                </td><td>5659               </td><td>1599               </td><td>210                </td><td>0.283              </td><td> 930               </td><td>143                </td><td>96                 </td><td>0.340              </td><td>0.460              </td><td>0.800              </td></tr>\n",
       "\t<tr><td>Boston Red Sox     </td><td>875                </td><td>5710               </td><td>1600               </td><td>203                </td><td>0.280              </td><td>1108               </td><td>102                </td><td>90                 </td><td>0.349              </td><td>0.461              </td><td>0.810              </td></tr>\n",
       "\t<tr><td>Detroit Tigers     </td><td>787                </td><td>5563               </td><td>1540               </td><td>169                </td><td>0.277              </td><td>1143               </td><td> 49                </td><td>95                 </td><td>0.340              </td><td>0.434              </td><td>0.773              </td></tr>\n",
       "\t<tr><td>Kansas City Royals </td><td>730                </td><td>5672               </td><td>1560               </td><td>129                </td><td>0.275              </td><td>1006               </td><td>153                </td><td>71                 </td><td>0.329              </td><td>0.415              </td><td>0.744              </td></tr>\n",
       "\t<tr><td>St. Louis Cardinals</td><td>762                </td><td>5532               </td><td>1513               </td><td>162                </td><td>0.273              </td><td> 978               </td><td> 57                </td><td>90                 </td><td>0.341              </td><td>0.425              </td><td>0.766              </td></tr>\n",
       "\t<tr><td>New York Mets      </td><td>718                </td><td>5600               </td><td>1477               </td><td>108                </td><td>0.264              </td><td>1085               </td><td>130                </td><td>77                 </td><td>0.335              </td><td>0.391              </td><td>0.725              </td></tr>\n",
       "</tbody>\n",
       "</table>\n"
      ],
      "text/latex": [
       "\\begin{tabular}{r|llllllllllll}\n",
       " team & runs & at\\_bats & hits & homeruns & bat\\_avg & strikeouts & stolen\\_bases & wins & new\\_onbase & new\\_slug & new\\_obs\\\\\n",
       "\\hline\n",
       "\t Texas Rangers       & 855                 & 5659                & 1599                & 210                 & 0.283               &  930                & 143                 & 96                  & 0.340               & 0.460               & 0.800              \\\\\n",
       "\t Boston Red Sox      & 875                 & 5710                & 1600                & 203                 & 0.280               & 1108                & 102                 & 90                  & 0.349               & 0.461               & 0.810              \\\\\n",
       "\t Detroit Tigers      & 787                 & 5563                & 1540                & 169                 & 0.277               & 1143                &  49                 & 95                  & 0.340               & 0.434               & 0.773              \\\\\n",
       "\t Kansas City Royals  & 730                 & 5672                & 1560                & 129                 & 0.275               & 1006                & 153                 & 71                  & 0.329               & 0.415               & 0.744              \\\\\n",
       "\t St. Louis Cardinals & 762                 & 5532                & 1513                & 162                 & 0.273               &  978                &  57                 & 90                  & 0.341               & 0.425               & 0.766              \\\\\n",
       "\t New York Mets       & 718                 & 5600                & 1477                & 108                 & 0.264               & 1085                & 130                 & 77                  & 0.335               & 0.391               & 0.725              \\\\\n",
       "\\end{tabular}\n"
      ],
      "text/markdown": [
       "\n",
       "team | runs | at_bats | hits | homeruns | bat_avg | strikeouts | stolen_bases | wins | new_onbase | new_slug | new_obs | \n",
       "|---|---|---|---|---|---|\n",
       "| Texas Rangers       | 855                 | 5659                | 1599                | 210                 | 0.283               |  930                | 143                 | 96                  | 0.340               | 0.460               | 0.800               | \n",
       "| Boston Red Sox      | 875                 | 5710                | 1600                | 203                 | 0.280               | 1108                | 102                 | 90                  | 0.349               | 0.461               | 0.810               | \n",
       "| Detroit Tigers      | 787                 | 5563                | 1540                | 169                 | 0.277               | 1143                |  49                 | 95                  | 0.340               | 0.434               | 0.773               | \n",
       "| Kansas City Royals  | 730                 | 5672                | 1560                | 129                 | 0.275               | 1006                | 153                 | 71                  | 0.329               | 0.415               | 0.744               | \n",
       "| St. Louis Cardinals | 762                 | 5532                | 1513                | 162                 | 0.273               |  978                |  57                 | 90                  | 0.341               | 0.425               | 0.766               | \n",
       "| New York Mets       | 718                 | 5600                | 1477                | 108                 | 0.264               | 1085                | 130                 | 77                  | 0.335               | 0.391               | 0.725               | \n",
       "\n",
       "\n"
      ],
      "text/plain": [
       "  team                runs at_bats hits homeruns bat_avg strikeouts\n",
       "1 Texas Rangers       855  5659    1599 210      0.283    930      \n",
       "2 Boston Red Sox      875  5710    1600 203      0.280   1108      \n",
       "3 Detroit Tigers      787  5563    1540 169      0.277   1143      \n",
       "4 Kansas City Royals  730  5672    1560 129      0.275   1006      \n",
       "5 St. Louis Cardinals 762  5532    1513 162      0.273    978      \n",
       "6 New York Mets       718  5600    1477 108      0.264   1085      \n",
       "  stolen_bases wins new_onbase new_slug new_obs\n",
       "1 143          96   0.340      0.460    0.800  \n",
       "2 102          90   0.349      0.461    0.810  \n",
       "3  49          95   0.340      0.434    0.773  \n",
       "4 153          71   0.329      0.415    0.744  \n",
       "5  57          90   0.341      0.425    0.766  \n",
       "6 130          77   0.335      0.391    0.725  "
      ]
     },
     "metadata": {},
     "output_type": "display_data"
    }
   ],
   "source": [
    "head(mlb11)"
   ]
  },
  {
   "cell_type": "code",
   "execution_count": 7,
   "metadata": {},
   "outputs": [
    {
     "data": {
      "text/html": [
       "<ol class=list-inline>\n",
       "\t<li>30</li>\n",
       "\t<li>12</li>\n",
       "</ol>\n"
      ],
      "text/latex": [
       "\\begin{enumerate*}\n",
       "\\item 30\n",
       "\\item 12\n",
       "\\end{enumerate*}\n"
      ],
      "text/markdown": [
       "1. 30\n",
       "2. 12\n",
       "\n",
       "\n"
      ],
      "text/plain": [
       "[1] 30 12"
      ]
     },
     "metadata": {},
     "output_type": "display_data"
    }
   ],
   "source": [
    "dim(mlb11)"
   ]
  },
  {
   "cell_type": "code",
   "execution_count": 10,
   "metadata": {},
   "outputs": [
    {
     "data": {},
     "metadata": {},
     "output_type": "display_data"
    },
    {
     "data": {
      "image/png": "[encoded data removed]",
      "text/plain": [
       "plot without title"
      ]
     },
     "metadata": {},
     "output_type": "display_data"
    }
   ],
   "source": [
    "ggplot(mlb11, aes(runs, at_bats)) +\n",
    "geom_point()"
   ]
  },
  {
   "cell_type": "code",
   "execution_count": 12,
   "metadata": {
    "scrolled": true
   },
   "outputs": [
    {
     "data": {
      "text/html": [
       "<table>\n",
       "<thead><tr><th scope=col>cor(runs, at_bats)</th></tr></thead>\n",
       "<tbody>\n",
       "\t<tr><td>0.610627</td></tr>\n",
       "</tbody>\n",
       "</table>\n"
      ],
      "text/latex": [
       "\\begin{tabular}{r|l}\n",
       " cor(runs, at\\_bats)\\\\\n",
       "\\hline\n",
       "\t 0.610627\\\\\n",
       "\\end{tabular}\n"
      ],
      "text/markdown": [
       "\n",
       "cor(runs, at_bats) | \n",
       "|---|\n",
       "| 0.610627 | \n",
       "\n",
       "\n"
      ],
      "text/plain": [
       "  cor(runs, at_bats)\n",
       "1 0.610627          "
      ]
     },
     "metadata": {},
     "output_type": "display_data"
    }
   ],
   "source": [
    "mlb11 %>%\n",
    "summarize(cor(runs, at_bats))"
   ]
  },
  {
   "cell_type": "code",
   "execution_count": 13,
   "metadata": {},
   "outputs": [
    {
     "name": "stdout",
     "output_type": "stream",
     "text": [
      "Click two points to make a line.\r",
      "                                \n",
      "Call:\n",
      "lm(formula = y ~ x, data = pts)\n",
      "\n",
      "Coefficients:\n",
      "(Intercept)            x  \n",
      " -2789.2429       0.6305  \n",
      "\n",
      "Sum of Squares:  123721.9"
     ]
    },
    {
     "data": {
      "image/png": "[encoded data removed]",
      "text/plain": [
       "plot without title"
      ]
     },
     "metadata": {},
     "output_type": "display_data"
    }
   ],
   "source": [
    "plot_ss(x = at_bats, y = runs, data = mlb11)"
   ]
  },
  {
   "cell_type": "code",
   "execution_count": 14,
   "metadata": {
    "collapsed": true
   },
   "outputs": [],
   "source": [
    "m1 <- lm(runs ~ at_bats, data = mlb11)"
   ]
  },
  {
   "cell_type": "code",
   "execution_count": 15,
   "metadata": {
    "scrolled": true
   },
   "outputs": [
    {
     "data": {
      "text/plain": [
       "\n",
       "Call:\n",
       "lm(formula = runs ~ at_bats, data = mlb11)\n",
       "\n",
       "Residuals:\n",
       "    Min      1Q  Median      3Q     Max \n",
       "-125.58  -47.05  -16.59   54.40  176.87 \n",
       "\n",
       "Coefficients:\n",
       "              Estimate Std. Error t value Pr(>|t|)    \n",
       "(Intercept) -2789.2429   853.6957  -3.267 0.002871 ** \n",
       "at_bats         0.6305     0.1545   4.080 0.000339 ***\n",
       "---\n",
       "Signif. codes:  0 '***' 0.001 '**' 0.01 '*' 0.05 '.' 0.1 ' ' 1\n",
       "\n",
       "Residual standard error: 66.47 on 28 degrees of freedom\n",
       "Multiple R-squared:  0.3729,\tAdjusted R-squared:  0.3505 \n",
       "F-statistic: 16.65 on 1 and 28 DF,  p-value: 0.0003388\n"
      ]
     },
     "metadata": {},
     "output_type": "display_data"
    }
   ],
   "source": [
    "summary(m1)"
   ]
  },
  {
   "cell_type": "code",
   "execution_count": 18,
   "metadata": {},
   "outputs": [
    {
     "data": {},
     "metadata": {},
     "output_type": "display_data"
    },
    {
     "data": {
      "image/png": "[encoded data removed]",
      "text/plain": [
       "plot without title"
      ]
     },
     "metadata": {},
     "output_type": "display_data"
    }
   ],
   "source": [
    "ggplot(mlb11, aes(homeruns, runs)) +\n",
    "geom_point()"
   ]
  },
  {
   "cell_type": "code",
   "execution_count": 19,
   "metadata": {
    "collapsed": true
   },
   "outputs": [],
   "source": [
    "m2 <- lm(runs ~ homeruns, data = mlb11)"
   ]
  },
  {
   "cell_type": "code",
   "execution_count": 20,
   "metadata": {
    "scrolled": true
   },
   "outputs": [
    {
     "data": {
      "text/plain": [
       "\n",
       "Call:\n",
       "lm(formula = runs ~ homeruns, data = mlb11)\n",
       "\n",
       "Residuals:\n",
       "    Min      1Q  Median      3Q     Max \n",
       "-91.615 -33.410   3.231  24.292 104.631 \n",
       "\n",
       "Coefficients:\n",
       "            Estimate Std. Error t value Pr(>|t|)    \n",
       "(Intercept) 415.2389    41.6779   9.963 1.04e-10 ***\n",
       "homeruns      1.8345     0.2677   6.854 1.90e-07 ***\n",
       "---\n",
       "Signif. codes:  0 '***' 0.001 '**' 0.01 '*' 0.05 '.' 0.1 ' ' 1\n",
       "\n",
       "Residual standard error: 51.29 on 28 degrees of freedom\n",
       "Multiple R-squared:  0.6266,\tAdjusted R-squared:  0.6132 \n",
       "F-statistic: 46.98 on 1 and 28 DF,  p-value: 1.9e-07\n"
      ]
     },
     "metadata": {},
     "output_type": "display_data"
    }
   ],
   "source": [
    "summary(m2)"
   ]
  },
  {
   "cell_type": "code",
   "execution_count": 39,
   "metadata": {
    "scrolled": false
   },
   "outputs": [
    {
     "data": {},
     "metadata": {},
     "output_type": "display_data"
    },
    {
     "data": {
      "image/png": "[encoded data removed]",
      "text/plain": [
       "plot without title"
      ]
     },
     "metadata": {},
     "output_type": "display_data"
    }
   ],
   "source": [
    "ggplot(data = mlb11, aes(x = at_bats, y = runs)) +\n",
    "geom_point() +\n",
    "stat_smooth(method = 'lm', se = FALSE)"
   ]
  },
  {
   "cell_type": "code",
   "execution_count": 23,
   "metadata": {},
   "outputs": [
    {
     "data": {
      "text/html": [
       "<table>\n",
       "<thead><tr><th scope=col>runs</th></tr></thead>\n",
       "<tbody>\n",
       "\t<tr><td>713</td></tr>\n",
       "</tbody>\n",
       "</table>\n"
      ],
      "text/latex": [
       "\\begin{tabular}{r|l}\n",
       " runs\\\\\n",
       "\\hline\n",
       "\t 713\\\\\n",
       "\\end{tabular}\n"
      ],
      "text/markdown": [
       "\n",
       "runs | \n",
       "|---|\n",
       "| 713 | \n",
       "\n",
       "\n"
      ],
      "text/plain": [
       "  runs\n",
       "1 713 "
      ]
     },
     "metadata": {},
     "output_type": "display_data"
    }
   ],
   "source": [
    "mlb11 %>%\n",
    "filter(at_bats == 5579) %>%\n",
    "select(runs)"
   ]
  },
  {
   "cell_type": "code",
   "execution_count": 27,
   "metadata": {
    "scrolled": true
   },
   "outputs": [
    {
     "data": {
      "text/plain": [
       "\n",
       "Call:\n",
       "lm(formula = runs ~ at_bats, data = mlb11)\n",
       "\n",
       "Residuals:\n",
       "    Min      1Q  Median      3Q     Max \n",
       "-125.58  -47.05  -16.59   54.40  176.87 \n",
       "\n",
       "Coefficients:\n",
       "              Estimate Std. Error t value Pr(>|t|)    \n",
       "(Intercept) -2789.2429   853.6957  -3.267 0.002871 ** \n",
       "at_bats         0.6305     0.1545   4.080 0.000339 ***\n",
       "---\n",
       "Signif. codes:  0 '***' 0.001 '**' 0.01 '*' 0.05 '.' 0.1 ' ' 1\n",
       "\n",
       "Residual standard error: 66.47 on 28 degrees of freedom\n",
       "Multiple R-squared:  0.3729,\tAdjusted R-squared:  0.3505 \n",
       "F-statistic: 16.65 on 1 and 28 DF,  p-value: 0.0003388\n"
      ]
     },
     "metadata": {},
     "output_type": "display_data"
    }
   ],
   "source": [
    "summary(m1)"
   ]
  },
  {
   "cell_type": "code",
   "execution_count": 30,
   "metadata": {},
   "outputs": [],
   "source": [
    "m1 <- lm(runs ~ at_bats, data = mlb11)"
   ]
  },
  {
   "cell_type": "code",
   "execution_count": 37,
   "metadata": {},
   "outputs": [
    {
     "data": {},
     "metadata": {},
     "output_type": "display_data"
    },
    {
     "data": {
      "image/png": "[encoded data removed]",
      "text/plain": [
       "plot without title"
      ]
     },
     "metadata": {},
     "output_type": "display_data"
    }
   ],
   "source": [
    "ggplot(mlb11, aes(at_bats, runs)) +\n",
    "geom_point()"
   ]
  },
  {
   "cell_type": "code",
   "execution_count": 38,
   "metadata": {},
   "outputs": [
    {
     "data": {},
     "metadata": {},
     "output_type": "display_data"
    },
    {
     "data": {
      "image/png": "[encoded data removed]",
      "text/plain": [
       "plot without title"
      ]
     },
     "metadata": {},
     "output_type": "display_data"
    }
   ],
   "source": [
    "ggplot(data = m1, aes(x = .fitted, y = .resid)) +\n",
    "geom_point() +\n",
    "geom_hline(yintercept = 0, linetype = 'dashed') +\n",
    "xlab('Fitted values') +\n",
    "ylab('Residuals')"
   ]
  },
  {
   "cell_type": "code",
   "execution_count": 40,
   "metadata": {
    "scrolled": true
   },
   "outputs": [
    {
     "data": {},
     "metadata": {},
     "output_type": "display_data"
    },
    {
     "data": {
      "image/png": "[encoded data removed]",
      "text/plain": [
       "plot without title"
      ]
     },
     "metadata": {},
     "output_type": "display_data"
    }
   ],
   "source": [
    "ggplot(data = m1, aes(x = .resid)) +\n",
    "geom_histogram(binwidth = 25) +\n",
    "xlab('Residuals')"
   ]
  },
  {
   "cell_type": "code",
   "execution_count": 41,
   "metadata": {
    "scrolled": true
   },
   "outputs": [
    {
     "data": {},
     "metadata": {},
     "output_type": "display_data"
    },
    {
     "data": {
      "image/png": "[encoded data removed]",
      "text/plain": [
       "plot without title"
      ]
     },
     "metadata": {},
     "output_type": "display_data"
    }
   ],
   "source": [
    "ggplot(m1, aes(sample = .resid)) +\n",
    "stat_qq()"
   ]
  },
  {
   "cell_type": "code",
   "execution_count": 42,
   "metadata": {
    "scrolled": false
   },
   "outputs": [
    {
     "data": {
      "text/html": [
       "<table>\n",
       "<thead><tr><th scope=col>team</th><th scope=col>runs</th><th scope=col>at_bats</th><th scope=col>hits</th><th scope=col>homeruns</th><th scope=col>bat_avg</th><th scope=col>strikeouts</th><th scope=col>stolen_bases</th><th scope=col>wins</th><th scope=col>new_onbase</th><th scope=col>new_slug</th><th scope=col>new_obs</th></tr></thead>\n",
       "<tbody>\n",
       "\t<tr><td>Texas Rangers      </td><td>855                </td><td>5659               </td><td>1599               </td><td>210                </td><td>0.283              </td><td> 930               </td><td>143                </td><td>96                 </td><td>0.340              </td><td>0.460              </td><td>0.800              </td></tr>\n",
       "\t<tr><td>Boston Red Sox     </td><td>875                </td><td>5710               </td><td>1600               </td><td>203                </td><td>0.280              </td><td>1108               </td><td>102                </td><td>90                 </td><td>0.349              </td><td>0.461              </td><td>0.810              </td></tr>\n",
       "\t<tr><td>Detroit Tigers     </td><td>787                </td><td>5563               </td><td>1540               </td><td>169                </td><td>0.277              </td><td>1143               </td><td> 49                </td><td>95                 </td><td>0.340              </td><td>0.434              </td><td>0.773              </td></tr>\n",
       "\t<tr><td>Kansas City Royals </td><td>730                </td><td>5672               </td><td>1560               </td><td>129                </td><td>0.275              </td><td>1006               </td><td>153                </td><td>71                 </td><td>0.329              </td><td>0.415              </td><td>0.744              </td></tr>\n",
       "\t<tr><td>St. Louis Cardinals</td><td>762                </td><td>5532               </td><td>1513               </td><td>162                </td><td>0.273              </td><td> 978               </td><td> 57                </td><td>90                 </td><td>0.341              </td><td>0.425              </td><td>0.766              </td></tr>\n",
       "\t<tr><td>New York Mets      </td><td>718                </td><td>5600               </td><td>1477               </td><td>108                </td><td>0.264              </td><td>1085               </td><td>130                </td><td>77                 </td><td>0.335              </td><td>0.391              </td><td>0.725              </td></tr>\n",
       "</tbody>\n",
       "</table>\n"
      ],
      "text/latex": [
       "\\begin{tabular}{r|llllllllllll}\n",
       " team & runs & at\\_bats & hits & homeruns & bat\\_avg & strikeouts & stolen\\_bases & wins & new\\_onbase & new\\_slug & new\\_obs\\\\\n",
       "\\hline\n",
       "\t Texas Rangers       & 855                 & 5659                & 1599                & 210                 & 0.283               &  930                & 143                 & 96                  & 0.340               & 0.460               & 0.800              \\\\\n",
       "\t Boston Red Sox      & 875                 & 5710                & 1600                & 203                 & 0.280               & 1108                & 102                 & 90                  & 0.349               & 0.461               & 0.810              \\\\\n",
       "\t Detroit Tigers      & 787                 & 5563                & 1540                & 169                 & 0.277               & 1143                &  49                 & 95                  & 0.340               & 0.434               & 0.773              \\\\\n",
       "\t Kansas City Royals  & 730                 & 5672                & 1560                & 129                 & 0.275               & 1006                & 153                 & 71                  & 0.329               & 0.415               & 0.744              \\\\\n",
       "\t St. Louis Cardinals & 762                 & 5532                & 1513                & 162                 & 0.273               &  978                &  57                 & 90                  & 0.341               & 0.425               & 0.766              \\\\\n",
       "\t New York Mets       & 718                 & 5600                & 1477                & 108                 & 0.264               & 1085                & 130                 & 77                  & 0.335               & 0.391               & 0.725              \\\\\n",
       "\\end{tabular}\n"
      ],
      "text/markdown": [
       "\n",
       "team | runs | at_bats | hits | homeruns | bat_avg | strikeouts | stolen_bases | wins | new_onbase | new_slug | new_obs | \n",
       "|---|---|---|---|---|---|\n",
       "| Texas Rangers       | 855                 | 5659                | 1599                | 210                 | 0.283               |  930                | 143                 | 96                  | 0.340               | 0.460               | 0.800               | \n",
       "| Boston Red Sox      | 875                 | 5710                | 1600                | 203                 | 0.280               | 1108                | 102                 | 90                  | 0.349               | 0.461               | 0.810               | \n",
       "| Detroit Tigers      | 787                 | 5563                | 1540                | 169                 | 0.277               | 1143                |  49                 | 95                  | 0.340               | 0.434               | 0.773               | \n",
       "| Kansas City Royals  | 730                 | 5672                | 1560                | 129                 | 0.275               | 1006                | 153                 | 71                  | 0.329               | 0.415               | 0.744               | \n",
       "| St. Louis Cardinals | 762                 | 5532                | 1513                | 162                 | 0.273               |  978                |  57                 | 90                  | 0.341               | 0.425               | 0.766               | \n",
       "| New York Mets       | 718                 | 5600                | 1477                | 108                 | 0.264               | 1085                | 130                 | 77                  | 0.335               | 0.391               | 0.725               | \n",
       "\n",
       "\n"
      ],
      "text/plain": [
       "  team                runs at_bats hits homeruns bat_avg strikeouts\n",
       "1 Texas Rangers       855  5659    1599 210      0.283    930      \n",
       "2 Boston Red Sox      875  5710    1600 203      0.280   1108      \n",
       "3 Detroit Tigers      787  5563    1540 169      0.277   1143      \n",
       "4 Kansas City Royals  730  5672    1560 129      0.275   1006      \n",
       "5 St. Louis Cardinals 762  5532    1513 162      0.273    978      \n",
       "6 New York Mets       718  5600    1477 108      0.264   1085      \n",
       "  stolen_bases wins new_onbase new_slug new_obs\n",
       "1 143          96   0.340      0.460    0.800  \n",
       "2 102          90   0.349      0.461    0.810  \n",
       "3  49          95   0.340      0.434    0.773  \n",
       "4 153          71   0.329      0.415    0.744  \n",
       "5  57          90   0.341      0.425    0.766  \n",
       "6 130          77   0.335      0.391    0.725  "
      ]
     },
     "metadata": {},
     "output_type": "display_data"
    }
   ],
   "source": [
    "head(mlb11)"
   ]
  },
  {
   "cell_type": "code",
   "execution_count": 43,
   "metadata": {
    "collapsed": true
   },
   "outputs": [],
   "source": [
    "m3 <- lm(runs ~ hits, data = mlb11)"
   ]
  },
  {
   "cell_type": "code",
   "execution_count": 44,
   "metadata": {
    "scrolled": false
   },
   "outputs": [
    {
     "data": {
      "text/plain": [
       "\n",
       "Call:\n",
       "lm(formula = runs ~ hits, data = mlb11)\n",
       "\n",
       "Residuals:\n",
       "     Min       1Q   Median       3Q      Max \n",
       "-103.718  -27.179   -5.233   19.322  140.693 \n",
       "\n",
       "Coefficients:\n",
       "             Estimate Std. Error t value Pr(>|t|)    \n",
       "(Intercept) -375.5600   151.1806  -2.484   0.0192 *  \n",
       "hits           0.7589     0.1071   7.085 1.04e-07 ***\n",
       "---\n",
       "Signif. codes:  0 '***' 0.001 '**' 0.01 '*' 0.05 '.' 0.1 ' ' 1\n",
       "\n",
       "Residual standard error: 50.23 on 28 degrees of freedom\n",
       "Multiple R-squared:  0.6419,\tAdjusted R-squared:  0.6292 \n",
       "F-statistic:  50.2 on 1 and 28 DF,  p-value: 1.043e-07\n"
      ]
     },
     "metadata": {},
     "output_type": "display_data"
    }
   ],
   "source": [
    "summary(m3)"
   ]
  },
  {
   "cell_type": "code",
   "execution_count": 67,
   "metadata": {},
   "outputs": [
    {
     "data": {
      "text/html": [
       "<ol class=list-inline>\n",
       "\t<li>'team'</li>\n",
       "\t<li>'runs'</li>\n",
       "\t<li>'at_bats'</li>\n",
       "\t<li>'hits'</li>\n",
       "\t<li>'homeruns'</li>\n",
       "\t<li>'bat_avg'</li>\n",
       "\t<li>'strikeouts'</li>\n",
       "\t<li>'stolen_bases'</li>\n",
       "\t<li>'wins'</li>\n",
       "\t<li>'new_onbase'</li>\n",
       "\t<li>'new_slug'</li>\n",
       "\t<li>'new_obs'</li>\n",
       "</ol>\n"
      ],
      "text/latex": [
       "\\begin{enumerate*}\n",
       "\\item 'team'\n",
       "\\item 'runs'\n",
       "\\item 'at\\_bats'\n",
       "\\item 'hits'\n",
       "\\item 'homeruns'\n",
       "\\item 'bat\\_avg'\n",
       "\\item 'strikeouts'\n",
       "\\item 'stolen\\_bases'\n",
       "\\item 'wins'\n",
       "\\item 'new\\_onbase'\n",
       "\\item 'new\\_slug'\n",
       "\\item 'new\\_obs'\n",
       "\\end{enumerate*}\n"
      ],
      "text/markdown": [
       "1. 'team'\n",
       "2. 'runs'\n",
       "3. 'at_bats'\n",
       "4. 'hits'\n",
       "5. 'homeruns'\n",
       "6. 'bat_avg'\n",
       "7. 'strikeouts'\n",
       "8. 'stolen_bases'\n",
       "9. 'wins'\n",
       "10. 'new_onbase'\n",
       "11. 'new_slug'\n",
       "12. 'new_obs'\n",
       "\n",
       "\n"
      ],
      "text/plain": [
       " [1] \"team\"         \"runs\"         \"at_bats\"      \"hits\"         \"homeruns\"    \n",
       " [6] \"bat_avg\"      \"strikeouts\"   \"stolen_bases\" \"wins\"         \"new_onbase\"  \n",
       "[11] \"new_slug\"     \"new_obs\"     "
      ]
     },
     "metadata": {},
     "output_type": "display_data"
    }
   ],
   "source": [
    "colnames(mlb11)"
   ]
  },
  {
   "cell_type": "code",
   "execution_count": 45,
   "metadata": {
    "scrolled": true
   },
   "outputs": [
    {
     "data": {},
     "metadata": {},
     "output_type": "display_data"
    },
    {
     "data": {
      "image/png": "[encoded data removed]",
      "text/plain": [
       "plot without title"
      ]
     },
     "metadata": {},
     "output_type": "display_data"
    }
   ],
   "source": [
    "ggplot(mlb11, aes(hits, runs)) +\n",
    "geom_point() +\n",
    "stat_smooth(method = 'lm', se = FALSE)"
   ]
  },
  {
   "cell_type": "code",
   "execution_count": 69,
   "metadata": {
    "collapsed": true
   },
   "outputs": [],
   "source": [
    "r_sq <- function(var){\n",
    "    model <- lm(runs ~ eval(parse(text = var)), data = mlb11)\n",
    "    model_summary <- summary(model) \n",
    "    return(c(var, model_summary$r.squared))\n",
    "}"
   ]
  },
  {
   "cell_type": "code",
   "execution_count": 70,
   "metadata": {},
   "outputs": [
    {
     "data": {
      "text/html": [
       "<ol>\n",
       "\t<li><ol class=list-inline>\n",
       "\t<li>'at_bats'</li>\n",
       "\t<li>'0.372865390186805'</li>\n",
       "</ol>\n",
       "</li>\n",
       "\t<li><ol class=list-inline>\n",
       "\t<li>'hits'</li>\n",
       "\t<li>'0.641938767239419'</li>\n",
       "</ol>\n",
       "</li>\n",
       "\t<li><ol class=list-inline>\n",
       "\t<li>'wins'</li>\n",
       "\t<li>'0.360971179446681'</li>\n",
       "</ol>\n",
       "</li>\n",
       "\t<li><ol class=list-inline>\n",
       "\t<li>'bat_avg'</li>\n",
       "\t<li>'0.656077134646863'</li>\n",
       "</ol>\n",
       "</li>\n",
       "</ol>\n"
      ],
      "text/latex": [
       "\\begin{enumerate}\n",
       "\\item \\begin{enumerate*}\n",
       "\\item 'at\\_bats'\n",
       "\\item '0.372865390186805'\n",
       "\\end{enumerate*}\n",
       "\n",
       "\\item \\begin{enumerate*}\n",
       "\\item 'hits'\n",
       "\\item '0.641938767239419'\n",
       "\\end{enumerate*}\n",
       "\n",
       "\\item \\begin{enumerate*}\n",
       "\\item 'wins'\n",
       "\\item '0.360971179446681'\n",
       "\\end{enumerate*}\n",
       "\n",
       "\\item \\begin{enumerate*}\n",
       "\\item 'bat\\_avg'\n",
       "\\item '0.656077134646863'\n",
       "\\end{enumerate*}\n",
       "\n",
       "\\end{enumerate}\n"
      ],
      "text/markdown": [
       "1. 1. 'at_bats'\n",
       "2. '0.372865390186805'\n",
       "\n",
       "\n",
       "\n",
       "2. 1. 'hits'\n",
       "2. '0.641938767239419'\n",
       "\n",
       "\n",
       "\n",
       "3. 1. 'wins'\n",
       "2. '0.360971179446681'\n",
       "\n",
       "\n",
       "\n",
       "4. 1. 'bat_avg'\n",
       "2. '0.656077134646863'\n",
       "\n",
       "\n",
       "\n",
       "\n",
       "\n"
      ],
      "text/plain": [
       "[[1]]\n",
       "[1] \"at_bats\"           \"0.372865390186805\"\n",
       "\n",
       "[[2]]\n",
       "[1] \"hits\"              \"0.641938767239419\"\n",
       "\n",
       "[[3]]\n",
       "[1] \"wins\"              \"0.360971179446681\"\n",
       "\n",
       "[[4]]\n",
       "[1] \"bat_avg\"           \"0.656077134646863\"\n"
      ]
     },
     "metadata": {},
     "output_type": "display_data"
    }
   ],
   "source": [
    "lapply(c('at_bats', 'hits', 'wins', 'bat_avg'), r_sq)"
   ]
  },
  {
   "cell_type": "code",
   "execution_count": 71,
   "metadata": {
    "scrolled": true
   },
   "outputs": [
    {
     "name": "stderr",
     "output_type": "stream",
     "text": [
      "Warning message in summary.lm(model):\n",
      "\"essentially perfect fit: summary may be unreliable\""
     ]
    },
    {
     "data": {
      "text/html": [
       "<ol>\n",
       "\t<li><ol class=list-inline>\n",
       "\t<li>'team'</li>\n",
       "\t<li>'1'</li>\n",
       "</ol>\n",
       "</li>\n",
       "\t<li><ol class=list-inline>\n",
       "\t<li>'runs'</li>\n",
       "\t<li>'1'</li>\n",
       "</ol>\n",
       "</li>\n",
       "\t<li><ol class=list-inline>\n",
       "\t<li>'at_bats'</li>\n",
       "\t<li>'0.372865390186805'</li>\n",
       "</ol>\n",
       "</li>\n",
       "\t<li><ol class=list-inline>\n",
       "\t<li>'hits'</li>\n",
       "\t<li>'0.641938767239419'</li>\n",
       "</ol>\n",
       "</li>\n",
       "\t<li><ol class=list-inline>\n",
       "\t<li>'homeruns'</li>\n",
       "\t<li>'0.626563569566283'</li>\n",
       "</ol>\n",
       "</li>\n",
       "\t<li><ol class=list-inline>\n",
       "\t<li>'bat_avg'</li>\n",
       "\t<li>'0.656077134646863'</li>\n",
       "</ol>\n",
       "</li>\n",
       "\t<li><ol class=list-inline>\n",
       "\t<li>'strikeouts'</li>\n",
       "\t<li>'0.169357932236313'</li>\n",
       "</ol>\n",
       "</li>\n",
       "\t<li><ol class=list-inline>\n",
       "\t<li>'stolen_bases'</li>\n",
       "\t<li>'0.00291399266657394'</li>\n",
       "</ol>\n",
       "</li>\n",
       "\t<li><ol class=list-inline>\n",
       "\t<li>'wins'</li>\n",
       "\t<li>'0.360971179446681'</li>\n",
       "</ol>\n",
       "</li>\n",
       "\t<li><ol class=list-inline>\n",
       "\t<li>'new_onbase'</li>\n",
       "\t<li>'0.849105251446139'</li>\n",
       "</ol>\n",
       "</li>\n",
       "\t<li><ol class=list-inline>\n",
       "\t<li>'new_slug'</li>\n",
       "\t<li>'0.896870368409638'</li>\n",
       "</ol>\n",
       "</li>\n",
       "\t<li><ol class=list-inline>\n",
       "\t<li>'new_obs'</li>\n",
       "\t<li>'0.934927126351814'</li>\n",
       "</ol>\n",
       "</li>\n",
       "</ol>\n"
      ],
      "text/latex": [
       "\\begin{enumerate}\n",
       "\\item \\begin{enumerate*}\n",
       "\\item 'team'\n",
       "\\item '1'\n",
       "\\end{enumerate*}\n",
       "\n",
       "\\item \\begin{enumerate*}\n",
       "\\item 'runs'\n",
       "\\item '1'\n",
       "\\end{enumerate*}\n",
       "\n",
       "\\item \\begin{enumerate*}\n",
       "\\item 'at\\_bats'\n",
       "\\item '0.372865390186805'\n",
       "\\end{enumerate*}\n",
       "\n",
       "\\item \\begin{enumerate*}\n",
       "\\item 'hits'\n",
       "\\item '0.641938767239419'\n",
       "\\end{enumerate*}\n",
       "\n",
       "\\item \\begin{enumerate*}\n",
       "\\item 'homeruns'\n",
       "\\item '0.626563569566283'\n",
       "\\end{enumerate*}\n",
       "\n",
       "\\item \\begin{enumerate*}\n",
       "\\item 'bat\\_avg'\n",
       "\\item '0.656077134646863'\n",
       "\\end{enumerate*}\n",
       "\n",
       "\\item \\begin{enumerate*}\n",
       "\\item 'strikeouts'\n",
       "\\item '0.169357932236313'\n",
       "\\end{enumerate*}\n",
       "\n",
       "\\item \\begin{enumerate*}\n",
       "\\item 'stolen\\_bases'\n",
       "\\item '0.00291399266657394'\n",
       "\\end{enumerate*}\n",
       "\n",
       "\\item \\begin{enumerate*}\n",
       "\\item 'wins'\n",
       "\\item '0.360971179446681'\n",
       "\\end{enumerate*}\n",
       "\n",
       "\\item \\begin{enumerate*}\n",
       "\\item 'new\\_onbase'\n",
       "\\item '0.849105251446139'\n",
       "\\end{enumerate*}\n",
       "\n",
       "\\item \\begin{enumerate*}\n",
       "\\item 'new\\_slug'\n",
       "\\item '0.896870368409638'\n",
       "\\end{enumerate*}\n",
       "\n",
       "\\item \\begin{enumerate*}\n",
       "\\item 'new\\_obs'\n",
       "\\item '0.934927126351814'\n",
       "\\end{enumerate*}\n",
       "\n",
       "\\end{enumerate}\n"
      ],
      "text/markdown": [
       "1. 1. 'team'\n",
       "2. '1'\n",
       "\n",
       "\n",
       "\n",
       "2. 1. 'runs'\n",
       "2. '1'\n",
       "\n",
       "\n",
       "\n",
       "3. 1. 'at_bats'\n",
       "2. '0.372865390186805'\n",
       "\n",
       "\n",
       "\n",
       "4. 1. 'hits'\n",
       "2. '0.641938767239419'\n",
       "\n",
       "\n",
       "\n",
       "5. 1. 'homeruns'\n",
       "2. '0.626563569566283'\n",
       "\n",
       "\n",
       "\n",
       "6. 1. 'bat_avg'\n",
       "2. '0.656077134646863'\n",
       "\n",
       "\n",
       "\n",
       "7. 1. 'strikeouts'\n",
       "2. '0.169357932236313'\n",
       "\n",
       "\n",
       "\n",
       "8. 1. 'stolen_bases'\n",
       "2. '0.00291399266657394'\n",
       "\n",
       "\n",
       "\n",
       "9. 1. 'wins'\n",
       "2. '0.360971179446681'\n",
       "\n",
       "\n",
       "\n",
       "10. 1. 'new_onbase'\n",
       "2. '0.849105251446139'\n",
       "\n",
       "\n",
       "\n",
       "11. 1. 'new_slug'\n",
       "2. '0.896870368409638'\n",
       "\n",
       "\n",
       "\n",
       "12. 1. 'new_obs'\n",
       "2. '0.934927126351814'\n",
       "\n",
       "\n",
       "\n",
       "\n",
       "\n"
      ],
      "text/plain": [
       "[[1]]\n",
       "[1] \"team\" \"1\"   \n",
       "\n",
       "[[2]]\n",
       "[1] \"runs\" \"1\"   \n",
       "\n",
       "[[3]]\n",
       "[1] \"at_bats\"           \"0.372865390186805\"\n",
       "\n",
       "[[4]]\n",
       "[1] \"hits\"              \"0.641938767239419\"\n",
       "\n",
       "[[5]]\n",
       "[1] \"homeruns\"          \"0.626563569566283\"\n",
       "\n",
       "[[6]]\n",
       "[1] \"bat_avg\"           \"0.656077134646863\"\n",
       "\n",
       "[[7]]\n",
       "[1] \"strikeouts\"        \"0.169357932236313\"\n",
       "\n",
       "[[8]]\n",
       "[1] \"stolen_bases\"        \"0.00291399266657394\"\n",
       "\n",
       "[[9]]\n",
       "[1] \"wins\"              \"0.360971179446681\"\n",
       "\n",
       "[[10]]\n",
       "[1] \"new_onbase\"        \"0.849105251446139\"\n",
       "\n",
       "[[11]]\n",
       "[1] \"new_slug\"          \"0.896870368409638\"\n",
       "\n",
       "[[12]]\n",
       "[1] \"new_obs\"           \"0.934927126351814\"\n"
      ]
     },
     "metadata": {},
     "output_type": "display_data"
    }
   ],
   "source": [
    "lapply(colnames(mlb11), r_sq)"
   ]
  },
  {
   "cell_type": "code",
   "execution_count": 72,
   "metadata": {},
   "outputs": [
    {
     "data": {},
     "metadata": {},
     "output_type": "display_data"
    },
    {
     "data": {
      "image/png": "[encoded data removed]",
      "text/plain": [
       "plot without title"
      ]
     },
     "metadata": {},
     "output_type": "display_data"
    }
   ],
   "source": [
    "ggplot(mlb11, aes(new_obs, runs)) +\n",
    "geom_point() +\n",
    "stat_smooth(method = 'lm', se = FALSE)"
   ]
  }
 ],
 "metadata": {
  "kernelspec": {
   "display_name": "R",
   "language": "R",
   "name": "ir"
  },
  "language_info": {
   "codemirror_mode": "r",
   "file_extension": ".r",
   "mimetype": "text/x-r-source",
   "name": "R",
   "pygments_lexer": "r",
   "version": "3.4.2"
  }
 },
 "nbformat": 4,
 "nbformat_minor": 2
}
