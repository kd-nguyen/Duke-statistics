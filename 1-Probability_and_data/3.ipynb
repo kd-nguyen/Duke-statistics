{
 "cells": [
  {
   "cell_type": "code",
   "execution_count": 1,
   "metadata": {
    "scrolled": true
   },
   "outputs": [
    {
     "name": "stderr",
     "output_type": "stream",
     "text": [
      "Loading tidyverse: ggplot2\n",
      "Loading tidyverse: tibble\n",
      "Loading tidyverse: tidyr\n",
      "Loading tidyverse: readr\n",
      "Loading tidyverse: purrr\n",
      "Loading tidyverse: dplyr\n",
      "Warning message:\n",
      "\"package 'tidyr' was built under R version 3.4.3\"Conflicts with tidy packages ---------------------------------------------------\n",
      "filter(): dplyr, stats\n",
      "lag():    dplyr, stats\n"
     ]
    }
   ],
   "source": [
    "library(statsr)\n",
    "library(tidyverse)"
   ]
  },
  {
   "cell_type": "code",
   "execution_count": 2,
   "metadata": {
    "collapsed": true
   },
   "outputs": [],
   "source": [
    "data(kobe_basket)"
   ]
  },
  {
   "cell_type": "code",
   "execution_count": 3,
   "metadata": {},
   "outputs": [
    {
     "data": {
      "text/html": [
       "<ol class=list-inline>\n",
       "\t<li>133</li>\n",
       "\t<li>6</li>\n",
       "</ol>\n"
      ],
      "text/latex": [
       "\\begin{enumerate*}\n",
       "\\item 133\n",
       "\\item 6\n",
       "\\end{enumerate*}\n"
      ],
      "text/markdown": [
       "1. 133\n",
       "2. 6\n",
       "\n",
       "\n"
      ],
      "text/plain": [
       "[1] 133   6"
      ]
     },
     "metadata": {},
     "output_type": "display_data"
    }
   ],
   "source": [
    "dim(kobe_basket)"
   ]
  },
  {
   "cell_type": "code",
   "execution_count": 4,
   "metadata": {},
   "outputs": [
    {
     "data": {
      "text/html": [
       "<ol class=list-inline>\n",
       "\t<li>'vs'</li>\n",
       "\t<li>'game'</li>\n",
       "\t<li>'quarter'</li>\n",
       "\t<li>'time'</li>\n",
       "\t<li>'description'</li>\n",
       "\t<li>'shot'</li>\n",
       "</ol>\n"
      ],
      "text/latex": [
       "\\begin{enumerate*}\n",
       "\\item 'vs'\n",
       "\\item 'game'\n",
       "\\item 'quarter'\n",
       "\\item 'time'\n",
       "\\item 'description'\n",
       "\\item 'shot'\n",
       "\\end{enumerate*}\n"
      ],
      "text/markdown": [
       "1. 'vs'\n",
       "2. 'game'\n",
       "3. 'quarter'\n",
       "4. 'time'\n",
       "5. 'description'\n",
       "6. 'shot'\n",
       "\n",
       "\n"
      ],
      "text/plain": [
       "[1] \"vs\"          \"game\"        \"quarter\"     \"time\"        \"description\"\n",
       "[6] \"shot\"       "
      ]
     },
     "metadata": {},
     "output_type": "display_data"
    }
   ],
   "source": [
    "names(kobe_basket)"
   ]
  },
  {
   "cell_type": "code",
   "execution_count": 5,
   "metadata": {},
   "outputs": [
    {
     "data": {
      "text/html": [
       "<table>\n",
       "<thead><tr><th scope=col>vs</th><th scope=col>game</th><th scope=col>quarter</th><th scope=col>time</th><th scope=col>description</th><th scope=col>shot</th></tr></thead>\n",
       "<tbody>\n",
       "\t<tr><td>ORL                                                    </td><td>1                                                      </td><td>1                                                      </td><td>9:47                                                   </td><td>Kobe Bryant makes 4-foot two point shot                </td><td>H                                                      </td></tr>\n",
       "\t<tr><td>ORL                                                    </td><td>1                                                      </td><td>1                                                      </td><td>9:07                                                   </td><td>Kobe Bryant misses jumper                              </td><td>M                                                      </td></tr>\n",
       "\t<tr><td>ORL                                                    </td><td>1                                                      </td><td>1                                                      </td><td>8:11                                                   </td><td>Kobe Bryant misses 7-foot jumper                       </td><td>M                                                      </td></tr>\n",
       "\t<tr><td>ORL                                                    </td><td>1                                                      </td><td>1                                                      </td><td>7:41                                                   </td><td>Kobe Bryant makes 16-foot jumper (Derek Fisher assists)</td><td>H                                                      </td></tr>\n",
       "\t<tr><td>ORL                                                    </td><td>1                                                      </td><td>1                                                      </td><td>7:03                                                   </td><td>Kobe Bryant makes driving layup                        </td><td>H                                                      </td></tr>\n",
       "\t<tr><td>ORL                                                    </td><td>1                                                      </td><td>1                                                      </td><td>6:01                                                   </td><td>Kobe Bryant misses jumper                              </td><td>M                                                      </td></tr>\n",
       "</tbody>\n",
       "</table>\n"
      ],
      "text/latex": [
       "\\begin{tabular}{r|llllll}\n",
       " vs & game & quarter & time & description & shot\\\\\n",
       "\\hline\n",
       "\t ORL                                                     & 1                                                       & 1                                                       & 9:47                                                    & Kobe Bryant makes 4-foot two point shot                 & H                                                      \\\\\n",
       "\t ORL                                                     & 1                                                       & 1                                                       & 9:07                                                    & Kobe Bryant misses jumper                               & M                                                      \\\\\n",
       "\t ORL                                                     & 1                                                       & 1                                                       & 8:11                                                    & Kobe Bryant misses 7-foot jumper                        & M                                                      \\\\\n",
       "\t ORL                                                     & 1                                                       & 1                                                       & 7:41                                                    & Kobe Bryant makes 16-foot jumper (Derek Fisher assists) & H                                                      \\\\\n",
       "\t ORL                                                     & 1                                                       & 1                                                       & 7:03                                                    & Kobe Bryant makes driving layup                         & H                                                      \\\\\n",
       "\t ORL                                                     & 1                                                       & 1                                                       & 6:01                                                    & Kobe Bryant misses jumper                               & M                                                      \\\\\n",
       "\\end{tabular}\n"
      ],
      "text/markdown": [
       "\n",
       "vs | game | quarter | time | description | shot | \n",
       "|---|---|---|---|---|---|\n",
       "| ORL                                                     | 1                                                       | 1                                                       | 9:47                                                    | Kobe Bryant makes 4-foot two point shot                 | H                                                       | \n",
       "| ORL                                                     | 1                                                       | 1                                                       | 9:07                                                    | Kobe Bryant misses jumper                               | M                                                       | \n",
       "| ORL                                                     | 1                                                       | 1                                                       | 8:11                                                    | Kobe Bryant misses 7-foot jumper                        | M                                                       | \n",
       "| ORL                                                     | 1                                                       | 1                                                       | 7:41                                                    | Kobe Bryant makes 16-foot jumper (Derek Fisher assists) | H                                                       | \n",
       "| ORL                                                     | 1                                                       | 1                                                       | 7:03                                                    | Kobe Bryant makes driving layup                         | H                                                       | \n",
       "| ORL                                                     | 1                                                       | 1                                                       | 6:01                                                    | Kobe Bryant misses jumper                               | M                                                       | \n",
       "\n",
       "\n"
      ],
      "text/plain": [
       "  vs  game quarter time description                                            \n",
       "1 ORL 1    1       9:47 Kobe Bryant makes 4-foot two point shot                \n",
       "2 ORL 1    1       9:07 Kobe Bryant misses jumper                              \n",
       "3 ORL 1    1       8:11 Kobe Bryant misses 7-foot jumper                       \n",
       "4 ORL 1    1       7:41 Kobe Bryant makes 16-foot jumper (Derek Fisher assists)\n",
       "5 ORL 1    1       7:03 Kobe Bryant makes driving layup                        \n",
       "6 ORL 1    1       6:01 Kobe Bryant misses jumper                              \n",
       "  shot\n",
       "1 H   \n",
       "2 M   \n",
       "3 M   \n",
       "4 H   \n",
       "5 H   \n",
       "6 M   "
      ]
     },
     "metadata": {},
     "output_type": "display_data"
    }
   ],
   "source": [
    "head(kobe_basket)"
   ]
  },
  {
   "cell_type": "code",
   "execution_count": 6,
   "metadata": {
    "scrolled": true
   },
   "outputs": [
    {
     "data": {
      "text/plain": [
       "   vs           game       quarter       time    \n",
       " ORL:133   Min.   :1.000   1  :36   0:00   :  3  \n",
       "           1st Qu.:1.000   1OT: 7   0:04   :  2  \n",
       "           Median :3.000   2  :25   11:00  :  2  \n",
       "           Mean   :2.902   3  :34   1:20   :  2  \n",
       "           3rd Qu.:4.000   4  :31   2:17   :  2  \n",
       "           Max.   :5.000            3:33   :  2  \n",
       "                                    (Other):120  \n",
       "                                   description      shot          \n",
       " Bryant 3pt Shot: Missed                 :  5   Length:133        \n",
       " Kobe Bryant misses layup                :  5   Class :character  \n",
       " Kobe Bryant makes 11-foot two point shot:  4   Mode  :character  \n",
       " Kobe Bryant makes 20-foot jumper        :  4                     \n",
       " Kobe Bryant misses 19-foot jumper       :  4                     \n",
       " Kobe Bryant misses 20-foot jumper       :  4                     \n",
       " (Other)                                 :107                     "
      ]
     },
     "metadata": {},
     "output_type": "display_data"
    }
   ],
   "source": [
    "summary(kobe_basket)"
   ]
  },
  {
   "cell_type": "code",
   "execution_count": 11,
   "metadata": {
    "scrolled": true
   },
   "outputs": [
    {
     "data": {
      "text/html": [
       "<table>\n",
       "<thead><tr><th scope=col>vs</th><th scope=col>game</th><th scope=col>quarter</th><th scope=col>time</th><th scope=col>description</th><th scope=col>shot</th></tr></thead>\n",
       "<tbody>\n",
       "\t<tr><td>ORL                                                    </td><td>1                                                      </td><td>1                                                      </td><td>9:47                                                   </td><td>Kobe Bryant makes 4-foot two point shot                </td><td>H                                                      </td></tr>\n",
       "\t<tr><td>ORL                                                    </td><td>1                                                      </td><td>1                                                      </td><td>9:07                                                   </td><td>Kobe Bryant misses jumper                              </td><td>M                                                      </td></tr>\n",
       "\t<tr><td>ORL                                                    </td><td>1                                                      </td><td>1                                                      </td><td>8:11                                                   </td><td>Kobe Bryant misses 7-foot jumper                       </td><td>M                                                      </td></tr>\n",
       "\t<tr><td>ORL                                                    </td><td>1                                                      </td><td>1                                                      </td><td>7:41                                                   </td><td>Kobe Bryant makes 16-foot jumper (Derek Fisher assists)</td><td>H                                                      </td></tr>\n",
       "\t<tr><td>ORL                                                    </td><td>1                                                      </td><td>1                                                      </td><td>7:03                                                   </td><td>Kobe Bryant makes driving layup                        </td><td>H                                                      </td></tr>\n",
       "\t<tr><td>ORL                                                    </td><td>1                                                      </td><td>1                                                      </td><td>6:01                                                   </td><td>Kobe Bryant misses jumper                              </td><td>M                                                      </td></tr>\n",
       "\t<tr><td>ORL                                                    </td><td>1                                                      </td><td>1                                                      </td><td>4:07                                                   </td><td>Kobe Bryant misses 12-foot jumper                      </td><td>M                                                      </td></tr>\n",
       "\t<tr><td>ORL                                                    </td><td>1                                                      </td><td>1                                                      </td><td>0:52                                                   </td><td>Kobe Bryant misses 19-foot jumper                      </td><td>M                                                      </td></tr>\n",
       "\t<tr><td>ORL                                                    </td><td>1                                                      </td><td>1                                                      </td><td>0:00                                                   </td><td>Kobe Bryant misses layup                               </td><td>M                                                      </td></tr>\n",
       "\t<tr><td>ORL                                                    </td><td>1                                                      </td><td>2                                                      </td><td>6:35                                                   </td><td>Kobe Bryant makes jumper                               </td><td>H                                                      </td></tr>\n",
       "\t<tr><td>ORL                                                    </td><td>1                                                      </td><td>2                                                      </td><td>5:58                                                   </td><td>Kobe Bryant makes 20-foot jumper                       </td><td>H                                                      </td></tr>\n",
       "\t<tr><td>ORL                                                    </td><td>1                                                      </td><td>2                                                      </td><td>5:22                                                   </td><td>Kobe Bryant makes 14-foot jumper                       </td><td>H                                                      </td></tr>\n",
       "\t<tr><td>ORL                                                    </td><td>1                                                      </td><td>2                                                      </td><td>4:37                                                   </td><td>Kobe Bryant misses driving layup                       </td><td>M                                                      </td></tr>\n",
       "\t<tr><td>ORL                                                    </td><td>1                                                      </td><td>2                                                      </td><td>3:30                                                   </td><td>Kobe Bryant makes 9-foot two point shot                </td><td>H                                                      </td></tr>\n",
       "\t<tr><td>ORL                                                    </td><td>1                                                      </td><td>2                                                      </td><td>2:55                                                   </td><td>Kobe Bryant makes 14-foot running jumper               </td><td>H                                                      </td></tr>\n",
       "\t<tr><td>ORL                                                    </td><td>1                                                      </td><td>2                                                      </td><td>1:55                                                   </td><td>Kobe Bryant misses 19-foot jumper                      </td><td>M                                                      </td></tr>\n",
       "\t<tr><td>ORL                                                    </td><td>1                                                      </td><td>2                                                      </td><td>0:38                                                   </td><td>Kobe Bryant misses 27-foot three point jumper          </td><td>M                                                      </td></tr>\n",
       "\t<tr><td>ORL                                                    </td><td>1                                                      </td><td>2                                                      </td><td>0:04                                                   </td><td>Kobe Bryant makes driving layup                        </td><td>H                                                      </td></tr>\n",
       "\t<tr><td>ORL                                                    </td><td>1                                                      </td><td>3                                                      </td><td>9:15                                                   </td><td>Kobe Bryant misses 9-foot jumper                       </td><td>M                                                      </td></tr>\n",
       "\t<tr><td>ORL                                                    </td><td>1                                                      </td><td>3                                                      </td><td>6:43                                                   </td><td>Kobe Bryant makes 14-foot two point shot               </td><td>H                                                      </td></tr>\n",
       "\t<tr><td>ORL                                                    </td><td>1                                                      </td><td>3                                                      </td><td>4:58                                                   </td><td>Kobe Bryant misses 16-foot jumper                      </td><td>M                                                      </td></tr>\n",
       "\t<tr><td>ORL                                                    </td><td>1                                                      </td><td>3                                                      </td><td>4:24                                                   </td><td>Kobe Bryant makes two point shot                       </td><td>H                                                      </td></tr>\n",
       "\t<tr><td>ORL                                                    </td><td>1                                                      </td><td>3                                                      </td><td>3:55                                                   </td><td>Kobe Bryant makes 17-foot running jumper               </td><td>H                                                      </td></tr>\n",
       "\t<tr><td>ORL                                                    </td><td>1                                                      </td><td>3                                                      </td><td>3:16                                                   </td><td>Kobe Bryant makes 9-foot two point shot                </td><td>H                                                      </td></tr>\n",
       "\t<tr><td>ORL                                                    </td><td>1                                                      </td><td>3                                                      </td><td>1:15                                                   </td><td>Kobe Bryant misses 20-foot jumper                      </td><td>M                                                      </td></tr>\n",
       "\t<tr><td>ORL                                                    </td><td>1                                                      </td><td>3                                                      </td><td>11:44                                                  </td><td>Kobe Bryant makes layup                                </td><td>H                                                      </td></tr>\n",
       "\t<tr><td>ORL                                                    </td><td>1                                                      </td><td>3                                                      </td><td>11:15                                                  </td><td>Kobe Bryant makes 11-foot two point shot               </td><td>H                                                      </td></tr>\n",
       "\t<tr><td>ORL                                                    </td><td>1                                                      </td><td>3                                                      </td><td>10:14                                                  </td><td>Kobe Bryant misses 13-foot jumper                      </td><td>M                                                      </td></tr>\n",
       "\t<tr><td>ORL                                                    </td><td>1                                                      </td><td>3                                                      </td><td>0:00                                                   </td><td>Kobe Bryant misses 6-foot running jumper               </td><td>M                                                      </td></tr>\n",
       "\t<tr><td>ORL                                                    </td><td>1                                                      </td><td>4                                                      </td><td>6:48                                                   </td><td>Kobe Bryant misses 15-foot jumper                      </td><td>M                                                      </td></tr>\n",
       "\t<tr><td>ORL                                                    </td><td>1                                                      </td><td>4                                                      </td><td>6:16                                                   </td><td>Kobe Bryant misses 11-foot jumper                      </td><td>M                                                      </td></tr>\n",
       "\t<tr><td>ORL                                                    </td><td>1                                                      </td><td>4                                                      </td><td>5:48                                                   </td><td>Kobe Bryant misses layup                               </td><td>M                                                      </td></tr>\n",
       "\t<tr><td>ORL                                                    </td><td>1                                                      </td><td>4                                                      </td><td>2:54                                                   </td><td>Kobe Bryant misses 13-foot jumper                      </td><td>M                                                      </td></tr>\n",
       "\t<tr><td>ORL                                                    </td><td>1                                                      </td><td>4                                                      </td><td>1:59                                                   </td><td>Kobe Bryant makes 10-foot jumper                       </td><td>H                                                      </td></tr>\n",
       "</tbody>\n",
       "</table>\n"
      ],
      "text/latex": [
       "\\begin{tabular}{r|llllll}\n",
       " vs & game & quarter & time & description & shot\\\\\n",
       "\\hline\n",
       "\t ORL                                                     & 1                                                       & 1                                                       & 9:47                                                    & Kobe Bryant makes 4-foot two point shot                 & H                                                      \\\\\n",
       "\t ORL                                                     & 1                                                       & 1                                                       & 9:07                                                    & Kobe Bryant misses jumper                               & M                                                      \\\\\n",
       "\t ORL                                                     & 1                                                       & 1                                                       & 8:11                                                    & Kobe Bryant misses 7-foot jumper                        & M                                                      \\\\\n",
       "\t ORL                                                     & 1                                                       & 1                                                       & 7:41                                                    & Kobe Bryant makes 16-foot jumper (Derek Fisher assists) & H                                                      \\\\\n",
       "\t ORL                                                     & 1                                                       & 1                                                       & 7:03                                                    & Kobe Bryant makes driving layup                         & H                                                      \\\\\n",
       "\t ORL                                                     & 1                                                       & 1                                                       & 6:01                                                    & Kobe Bryant misses jumper                               & M                                                      \\\\\n",
       "\t ORL                                                     & 1                                                       & 1                                                       & 4:07                                                    & Kobe Bryant misses 12-foot jumper                       & M                                                      \\\\\n",
       "\t ORL                                                     & 1                                                       & 1                                                       & 0:52                                                    & Kobe Bryant misses 19-foot jumper                       & M                                                      \\\\\n",
       "\t ORL                                                     & 1                                                       & 1                                                       & 0:00                                                    & Kobe Bryant misses layup                                & M                                                      \\\\\n",
       "\t ORL                                                     & 1                                                       & 2                                                       & 6:35                                                    & Kobe Bryant makes jumper                                & H                                                      \\\\\n",
       "\t ORL                                                     & 1                                                       & 2                                                       & 5:58                                                    & Kobe Bryant makes 20-foot jumper                        & H                                                      \\\\\n",
       "\t ORL                                                     & 1                                                       & 2                                                       & 5:22                                                    & Kobe Bryant makes 14-foot jumper                        & H                                                      \\\\\n",
       "\t ORL                                                     & 1                                                       & 2                                                       & 4:37                                                    & Kobe Bryant misses driving layup                        & M                                                      \\\\\n",
       "\t ORL                                                     & 1                                                       & 2                                                       & 3:30                                                    & Kobe Bryant makes 9-foot two point shot                 & H                                                      \\\\\n",
       "\t ORL                                                     & 1                                                       & 2                                                       & 2:55                                                    & Kobe Bryant makes 14-foot running jumper                & H                                                      \\\\\n",
       "\t ORL                                                     & 1                                                       & 2                                                       & 1:55                                                    & Kobe Bryant misses 19-foot jumper                       & M                                                      \\\\\n",
       "\t ORL                                                     & 1                                                       & 2                                                       & 0:38                                                    & Kobe Bryant misses 27-foot three point jumper           & M                                                      \\\\\n",
       "\t ORL                                                     & 1                                                       & 2                                                       & 0:04                                                    & Kobe Bryant makes driving layup                         & H                                                      \\\\\n",
       "\t ORL                                                     & 1                                                       & 3                                                       & 9:15                                                    & Kobe Bryant misses 9-foot jumper                        & M                                                      \\\\\n",
       "\t ORL                                                     & 1                                                       & 3                                                       & 6:43                                                    & Kobe Bryant makes 14-foot two point shot                & H                                                      \\\\\n",
       "\t ORL                                                     & 1                                                       & 3                                                       & 4:58                                                    & Kobe Bryant misses 16-foot jumper                       & M                                                      \\\\\n",
       "\t ORL                                                     & 1                                                       & 3                                                       & 4:24                                                    & Kobe Bryant makes two point shot                        & H                                                      \\\\\n",
       "\t ORL                                                     & 1                                                       & 3                                                       & 3:55                                                    & Kobe Bryant makes 17-foot running jumper                & H                                                      \\\\\n",
       "\t ORL                                                     & 1                                                       & 3                                                       & 3:16                                                    & Kobe Bryant makes 9-foot two point shot                 & H                                                      \\\\\n",
       "\t ORL                                                     & 1                                                       & 3                                                       & 1:15                                                    & Kobe Bryant misses 20-foot jumper                       & M                                                      \\\\\n",
       "\t ORL                                                     & 1                                                       & 3                                                       & 11:44                                                   & Kobe Bryant makes layup                                 & H                                                      \\\\\n",
       "\t ORL                                                     & 1                                                       & 3                                                       & 11:15                                                   & Kobe Bryant makes 11-foot two point shot                & H                                                      \\\\\n",
       "\t ORL                                                     & 1                                                       & 3                                                       & 10:14                                                   & Kobe Bryant misses 13-foot jumper                       & M                                                      \\\\\n",
       "\t ORL                                                     & 1                                                       & 3                                                       & 0:00                                                    & Kobe Bryant misses 6-foot running jumper                & M                                                      \\\\\n",
       "\t ORL                                                     & 1                                                       & 4                                                       & 6:48                                                    & Kobe Bryant misses 15-foot jumper                       & M                                                      \\\\\n",
       "\t ORL                                                     & 1                                                       & 4                                                       & 6:16                                                    & Kobe Bryant misses 11-foot jumper                       & M                                                      \\\\\n",
       "\t ORL                                                     & 1                                                       & 4                                                       & 5:48                                                    & Kobe Bryant misses layup                                & M                                                      \\\\\n",
       "\t ORL                                                     & 1                                                       & 4                                                       & 2:54                                                    & Kobe Bryant misses 13-foot jumper                       & M                                                      \\\\\n",
       "\t ORL                                                     & 1                                                       & 4                                                       & 1:59                                                    & Kobe Bryant makes 10-foot jumper                        & H                                                      \\\\\n",
       "\\end{tabular}\n"
      ],
      "text/markdown": [
       "\n",
       "vs | game | quarter | time | description | shot | \n",
       "|---|---|---|---|---|---|---|---|---|---|---|---|---|---|---|---|---|---|---|---|---|---|---|---|---|---|---|---|---|---|---|---|---|---|\n",
       "| ORL                                                     | 1                                                       | 1                                                       | 9:47                                                    | Kobe Bryant makes 4-foot two point shot                 | H                                                       | \n",
       "| ORL                                                     | 1                                                       | 1                                                       | 9:07                                                    | Kobe Bryant misses jumper                               | M                                                       | \n",
       "| ORL                                                     | 1                                                       | 1                                                       | 8:11                                                    | Kobe Bryant misses 7-foot jumper                        | M                                                       | \n",
       "| ORL                                                     | 1                                                       | 1                                                       | 7:41                                                    | Kobe Bryant makes 16-foot jumper (Derek Fisher assists) | H                                                       | \n",
       "| ORL                                                     | 1                                                       | 1                                                       | 7:03                                                    | Kobe Bryant makes driving layup                         | H                                                       | \n",
       "| ORL                                                     | 1                                                       | 1                                                       | 6:01                                                    | Kobe Bryant misses jumper                               | M                                                       | \n",
       "| ORL                                                     | 1                                                       | 1                                                       | 4:07                                                    | Kobe Bryant misses 12-foot jumper                       | M                                                       | \n",
       "| ORL                                                     | 1                                                       | 1                                                       | 0:52                                                    | Kobe Bryant misses 19-foot jumper                       | M                                                       | \n",
       "| ORL                                                     | 1                                                       | 1                                                       | 0:00                                                    | Kobe Bryant misses layup                                | M                                                       | \n",
       "| ORL                                                     | 1                                                       | 2                                                       | 6:35                                                    | Kobe Bryant makes jumper                                | H                                                       | \n",
       "| ORL                                                     | 1                                                       | 2                                                       | 5:58                                                    | Kobe Bryant makes 20-foot jumper                        | H                                                       | \n",
       "| ORL                                                     | 1                                                       | 2                                                       | 5:22                                                    | Kobe Bryant makes 14-foot jumper                        | H                                                       | \n",
       "| ORL                                                     | 1                                                       | 2                                                       | 4:37                                                    | Kobe Bryant misses driving layup                        | M                                                       | \n",
       "| ORL                                                     | 1                                                       | 2                                                       | 3:30                                                    | Kobe Bryant makes 9-foot two point shot                 | H                                                       | \n",
       "| ORL                                                     | 1                                                       | 2                                                       | 2:55                                                    | Kobe Bryant makes 14-foot running jumper                | H                                                       | \n",
       "| ORL                                                     | 1                                                       | 2                                                       | 1:55                                                    | Kobe Bryant misses 19-foot jumper                       | M                                                       | \n",
       "| ORL                                                     | 1                                                       | 2                                                       | 0:38                                                    | Kobe Bryant misses 27-foot three point jumper           | M                                                       | \n",
       "| ORL                                                     | 1                                                       | 2                                                       | 0:04                                                    | Kobe Bryant makes driving layup                         | H                                                       | \n",
       "| ORL                                                     | 1                                                       | 3                                                       | 9:15                                                    | Kobe Bryant misses 9-foot jumper                        | M                                                       | \n",
       "| ORL                                                     | 1                                                       | 3                                                       | 6:43                                                    | Kobe Bryant makes 14-foot two point shot                | H                                                       | \n",
       "| ORL                                                     | 1                                                       | 3                                                       | 4:58                                                    | Kobe Bryant misses 16-foot jumper                       | M                                                       | \n",
       "| ORL                                                     | 1                                                       | 3                                                       | 4:24                                                    | Kobe Bryant makes two point shot                        | H                                                       | \n",
       "| ORL                                                     | 1                                                       | 3                                                       | 3:55                                                    | Kobe Bryant makes 17-foot running jumper                | H                                                       | \n",
       "| ORL                                                     | 1                                                       | 3                                                       | 3:16                                                    | Kobe Bryant makes 9-foot two point shot                 | H                                                       | \n",
       "| ORL                                                     | 1                                                       | 3                                                       | 1:15                                                    | Kobe Bryant misses 20-foot jumper                       | M                                                       | \n",
       "| ORL                                                     | 1                                                       | 3                                                       | 11:44                                                   | Kobe Bryant makes layup                                 | H                                                       | \n",
       "| ORL                                                     | 1                                                       | 3                                                       | 11:15                                                   | Kobe Bryant makes 11-foot two point shot                | H                                                       | \n",
       "| ORL                                                     | 1                                                       | 3                                                       | 10:14                                                   | Kobe Bryant misses 13-foot jumper                       | M                                                       | \n",
       "| ORL                                                     | 1                                                       | 3                                                       | 0:00                                                    | Kobe Bryant misses 6-foot running jumper                | M                                                       | \n",
       "| ORL                                                     | 1                                                       | 4                                                       | 6:48                                                    | Kobe Bryant misses 15-foot jumper                       | M                                                       | \n",
       "| ORL                                                     | 1                                                       | 4                                                       | 6:16                                                    | Kobe Bryant misses 11-foot jumper                       | M                                                       | \n",
       "| ORL                                                     | 1                                                       | 4                                                       | 5:48                                                    | Kobe Bryant misses layup                                | M                                                       | \n",
       "| ORL                                                     | 1                                                       | 4                                                       | 2:54                                                    | Kobe Bryant misses 13-foot jumper                       | M                                                       | \n",
       "| ORL                                                     | 1                                                       | 4                                                       | 1:59                                                    | Kobe Bryant makes 10-foot jumper                        | H                                                       | \n",
       "\n",
       "\n"
      ],
      "text/plain": [
       "   vs  game quarter time \n",
       "1  ORL 1    1       9:47 \n",
       "2  ORL 1    1       9:07 \n",
       "3  ORL 1    1       8:11 \n",
       "4  ORL 1    1       7:41 \n",
       "5  ORL 1    1       7:03 \n",
       "6  ORL 1    1       6:01 \n",
       "7  ORL 1    1       4:07 \n",
       "8  ORL 1    1       0:52 \n",
       "9  ORL 1    1       0:00 \n",
       "10 ORL 1    2       6:35 \n",
       "11 ORL 1    2       5:58 \n",
       "12 ORL 1    2       5:22 \n",
       "13 ORL 1    2       4:37 \n",
       "14 ORL 1    2       3:30 \n",
       "15 ORL 1    2       2:55 \n",
       "16 ORL 1    2       1:55 \n",
       "17 ORL 1    2       0:38 \n",
       "18 ORL 1    2       0:04 \n",
       "19 ORL 1    3       9:15 \n",
       "20 ORL 1    3       6:43 \n",
       "21 ORL 1    3       4:58 \n",
       "22 ORL 1    3       4:24 \n",
       "23 ORL 1    3       3:55 \n",
       "24 ORL 1    3       3:16 \n",
       "25 ORL 1    3       1:15 \n",
       "26 ORL 1    3       11:44\n",
       "27 ORL 1    3       11:15\n",
       "28 ORL 1    3       10:14\n",
       "29 ORL 1    3       0:00 \n",
       "30 ORL 1    4       6:48 \n",
       "31 ORL 1    4       6:16 \n",
       "32 ORL 1    4       5:48 \n",
       "33 ORL 1    4       2:54 \n",
       "34 ORL 1    4       1:59 \n",
       "   description                                             shot\n",
       "1  Kobe Bryant makes 4-foot two point shot                 H   \n",
       "2  Kobe Bryant misses jumper                               M   \n",
       "3  Kobe Bryant misses 7-foot jumper                        M   \n",
       "4  Kobe Bryant makes 16-foot jumper (Derek Fisher assists) H   \n",
       "5  Kobe Bryant makes driving layup                         H   \n",
       "6  Kobe Bryant misses jumper                               M   \n",
       "7  Kobe Bryant misses 12-foot jumper                       M   \n",
       "8  Kobe Bryant misses 19-foot jumper                       M   \n",
       "9  Kobe Bryant misses layup                                M   \n",
       "10 Kobe Bryant makes jumper                                H   \n",
       "11 Kobe Bryant makes 20-foot jumper                        H   \n",
       "12 Kobe Bryant makes 14-foot jumper                        H   \n",
       "13 Kobe Bryant misses driving layup                        M   \n",
       "14 Kobe Bryant makes 9-foot two point shot                 H   \n",
       "15 Kobe Bryant makes 14-foot running jumper                H   \n",
       "16 Kobe Bryant misses 19-foot jumper                       M   \n",
       "17 Kobe Bryant misses 27-foot three point jumper           M   \n",
       "18 Kobe Bryant makes driving layup                         H   \n",
       "19 Kobe Bryant misses 9-foot jumper                        M   \n",
       "20 Kobe Bryant makes 14-foot two point shot                H   \n",
       "21 Kobe Bryant misses 16-foot jumper                       M   \n",
       "22 Kobe Bryant makes two point shot                        H   \n",
       "23 Kobe Bryant makes 17-foot running jumper                H   \n",
       "24 Kobe Bryant makes 9-foot two point shot                 H   \n",
       "25 Kobe Bryant misses 20-foot jumper                       M   \n",
       "26 Kobe Bryant makes layup                                 H   \n",
       "27 Kobe Bryant makes 11-foot two point shot                H   \n",
       "28 Kobe Bryant misses 13-foot jumper                       M   \n",
       "29 Kobe Bryant misses 6-foot running jumper                M   \n",
       "30 Kobe Bryant misses 15-foot jumper                       M   \n",
       "31 Kobe Bryant misses 11-foot jumper                       M   \n",
       "32 Kobe Bryant misses layup                                M   \n",
       "33 Kobe Bryant misses 13-foot jumper                       M   \n",
       "34 Kobe Bryant makes 10-foot jumper                        H   "
      ]
     },
     "metadata": {},
     "output_type": "display_data"
    }
   ],
   "source": [
    "kobe_basket %>%\n",
    "filter(game == 1) %>%\n",
    "arrange(quarter, desc(time))"
   ]
  },
  {
   "cell_type": "code",
   "execution_count": 15,
   "metadata": {},
   "outputs": [],
   "source": [
    "kobe_streak <- calc_streak(kobe_basket$shot)"
   ]
  },
  {
   "cell_type": "code",
   "execution_count": 66,
   "metadata": {
    "scrolled": true
   },
   "outputs": [
    {
     "data": {},
     "metadata": {},
     "output_type": "display_data"
    },
    {
     "data": {
      "image/png": "[encoded data removed]",
      "text/plain": [
       "plot without title"
      ]
     },
     "metadata": {},
     "output_type": "display_data"
    }
   ],
   "source": [
    "ggplot(kobe_streak, aes(length)) +\n",
    "geom_histogram(binwidth = 1)"
   ]
  },
  {
   "cell_type": "code",
   "execution_count": 25,
   "metadata": {},
   "outputs": [
    {
     "data": {
      "text/html": [
       "<table>\n",
       "<thead><tr><th scope=col>hit_p</th></tr></thead>\n",
       "<tbody>\n",
       "\t<tr><td>0.4360902</td></tr>\n",
       "</tbody>\n",
       "</table>\n"
      ],
      "text/latex": [
       "\\begin{tabular}{r|l}\n",
       " hit\\_p\\\\\n",
       "\\hline\n",
       "\t 0.4360902\\\\\n",
       "\\end{tabular}\n"
      ],
      "text/markdown": [
       "\n",
       "hit_p | \n",
       "|---|\n",
       "| 0.4360902 | \n",
       "\n",
       "\n"
      ],
      "text/plain": [
       "  hit_p    \n",
       "1 0.4360902"
      ]
     },
     "metadata": {},
     "output_type": "display_data"
    }
   ],
   "source": [
    "kobe_basket %>%\n",
    "mutate(is_hit = (shot == 'H')) %>%\n",
    "summarize(hit_p = mean(is_hit))"
   ]
  },
  {
   "cell_type": "code",
   "execution_count": 26,
   "metadata": {},
   "outputs": [
    {
     "data": {
      "text/html": [
       "0.763157894736842"
      ],
      "text/latex": [
       "0.763157894736842"
      ],
      "text/markdown": [
       "0.763157894736842"
      ],
      "text/plain": [
       "[1] 0.7631579"
      ]
     },
     "metadata": {},
     "output_type": "display_data"
    }
   ],
   "source": [
    "mean(kobe_streak$length)"
   ]
  },
  {
   "cell_type": "code",
   "execution_count": 27,
   "metadata": {},
   "outputs": [
    {
     "data": {
      "text/plain": [
       "sim_unfair_coin\n",
       "head tail \n",
       "  17   83 "
      ]
     },
     "metadata": {},
     "output_type": "display_data"
    }
   ],
   "source": [
    "coin_outcomes <- c('head', 'tail')\n",
    "sim_unfair_coin <- sample(coin_outcomes, size = 100, replace = TRUE,\n",
    "                         prob = c(0.2, 0.8))\n",
    "table(sim_unfair_coin)"
   ]
  },
  {
   "cell_type": "code",
   "execution_count": 31,
   "metadata": {},
   "outputs": [],
   "source": [
    "shot_outcomes <- c('H', 'M')\n",
    "sim_basket <- sample(shot_outcomes, size = 133, replace = TRUE,\n",
    "                   prob = c(0.45, 0.55))"
   ]
  },
  {
   "cell_type": "code",
   "execution_count": 32,
   "metadata": {
    "scrolled": true
   },
   "outputs": [
    {
     "data": {
      "text/plain": [
       "sim_basket\n",
       " H  M \n",
       "64 69 "
      ]
     },
     "metadata": {},
     "output_type": "display_data"
    }
   ],
   "source": [
    "table(sim_basket)"
   ]
  },
  {
   "cell_type": "code",
   "execution_count": 33,
   "metadata": {
    "collapsed": true
   },
   "outputs": [],
   "source": [
    "sim_streak <- calc_streak(sim_basket)"
   ]
  },
  {
   "cell_type": "code",
   "execution_count": 35,
   "metadata": {},
   "outputs": [
    {
     "data": {
      "text/html": [
       "0.914285714285714"
      ],
      "text/latex": [
       "0.914285714285714"
      ],
      "text/markdown": [
       "0.914285714285714"
      ],
      "text/plain": [
       "[1] 0.9142857"
      ]
     },
     "metadata": {},
     "output_type": "display_data"
    }
   ],
   "source": [
    "mean(sim_streak$length)"
   ]
  },
  {
   "cell_type": "code",
   "execution_count": 67,
   "metadata": {
    "scrolled": true
   },
   "outputs": [
    {
     "data": {},
     "metadata": {},
     "output_type": "display_data"
    },
    {
     "data": {
      "image/png": "[encoded data removed]",
      "text/plain": [
       "plot without title"
      ]
     },
     "metadata": {},
     "output_type": "display_data"
    }
   ],
   "source": [
    "ggplot(sim_streak, aes(length)) + \n",
    "geom_histogram(binwidth = 1)"
   ]
  },
  {
   "cell_type": "code",
   "execution_count": 52,
   "metadata": {
    "scrolled": true
   },
   "outputs": [],
   "source": [
    "koby_streak_count <- kobe_streak %>%\n",
    "group_by(length) %>%\n",
    "summarize(kobe = n())"
   ]
  },
  {
   "cell_type": "code",
   "execution_count": 53,
   "metadata": {},
   "outputs": [],
   "source": [
    "sim_streak_count <- sim_streak %>%\n",
    "group_by(length) %>%\n",
    "summarize(sim = n())"
   ]
  },
  {
   "cell_type": "code",
   "execution_count": 57,
   "metadata": {},
   "outputs": [
    {
     "name": "stderr",
     "output_type": "stream",
     "text": [
      "\n",
      "Attaching package: 'reshape2'\n",
      "\n",
      "The following object is masked from 'package:tidyr':\n",
      "\n",
      "    smiths\n",
      "\n"
     ]
    }
   ],
   "source": [
    "library(reshape2)"
   ]
  },
  {
   "cell_type": "code",
   "execution_count": 69,
   "metadata": {},
   "outputs": [
    {
     "data": {},
     "metadata": {},
     "output_type": "display_data"
    },
    {
     "data": {
      "image/png": "[encoded data removed]",
      "text/plain": [
       "plot without title"
      ]
     },
     "metadata": {},
     "output_type": "display_data"
    }
   ],
   "source": [
    "merge(koby_streak_count, sim_streak_count, by = 'length') %>%\n",
    "melt(measure.var = c('kobe', 'sim')) %>%\n",
    "ggplot(aes(length, value, color = variable)) +\n",
    "geom_freqpoly(stat = 'identity', position = 'identity')"
   ]
  }
 ],
 "metadata": {
  "kernelspec": {
   "display_name": "R",
   "language": "R",
   "name": "ir"
  },
  "language_info": {
   "codemirror_mode": "r",
   "file_extension": ".r",
   "mimetype": "text/x-r-source",
   "name": "R",
   "pygments_lexer": "r",
   "version": "3.4.2"
  }
 },
 "nbformat": 4,
 "nbformat_minor": 2
}
