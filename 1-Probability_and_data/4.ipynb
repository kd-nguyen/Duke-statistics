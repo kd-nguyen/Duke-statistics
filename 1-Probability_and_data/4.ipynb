{
 "cells": [
  {
   "cell_type": "code",
   "execution_count": 5,
   "metadata": {},
   "outputs": [],
   "source": [
    "library(tidyverse)"
   ]
  },
  {
   "cell_type": "code",
   "execution_count": 7,
   "metadata": {},
   "outputs": [],
   "source": [
    "load('selected_nzes2011.Rdata')"
   ]
  },
  {
   "cell_type": "code",
   "execution_count": 26,
   "metadata": {
    "scrolled": true
   },
   "outputs": [
    {
     "data": {
      "text/html": [
       "<table>\n",
       "<thead><tr><th scope=col>jpartyvote</th><th scope=col>jdiffvoting</th><th scope=col>X_singlefav</th></tr></thead>\n",
       "<tbody>\n",
       "\t<tr><td>Labour       </td><td>NA           </td><td>Green        </td></tr>\n",
       "\t<tr><td>Green        </td><td>NA           </td><td>Green        </td></tr>\n",
       "\t<tr><td>NA           </td><td>NA           </td><td>NA           </td></tr>\n",
       "\t<tr><td>NZ First     </td><td>NA           </td><td>NZ First     </td></tr>\n",
       "\t<tr><td>Labour       </td><td>NA           </td><td>Labour       </td></tr>\n",
       "\t<tr><td>NA           </td><td>NA           </td><td>NA           </td></tr>\n",
       "\t<tr><td>NZ First     </td><td>NA           </td><td>NZ First     </td></tr>\n",
       "\t<tr><td>Labour       </td><td>NA           </td><td>Labour       </td></tr>\n",
       "\t<tr><td>NA           </td><td>NA           </td><td>NA           </td></tr>\n",
       "\t<tr><td>Maori Party  </td><td>NA           </td><td>Green        </td></tr>\n",
       "\t<tr><td>Labour       </td><td>NA           </td><td>Labour       </td></tr>\n",
       "\t<tr><td>Green        </td><td>NA           </td><td>Green        </td></tr>\n",
       "\t<tr><td>Maori Party  </td><td>NA           </td><td>United Future</td></tr>\n",
       "\t<tr><td>Labour       </td><td>NA           </td><td>Labour       </td></tr>\n",
       "\t<tr><td>NA           </td><td>NA           </td><td>NA           </td></tr>\n",
       "\t<tr><td>Labour       </td><td>NA           </td><td>Labour       </td></tr>\n",
       "\t<tr><td>NA           </td><td>NA           </td><td>Labour       </td></tr>\n",
       "\t<tr><td>Labour       </td><td>NA           </td><td>Labour       </td></tr>\n",
       "\t<tr><td>Maori Party  </td><td>NA           </td><td>NA           </td></tr>\n",
       "\t<tr><td>Labour       </td><td>NA           </td><td>Labour       </td></tr>\n",
       "\t<tr><td>National     </td><td>NA           </td><td>NA           </td></tr>\n",
       "\t<tr><td>Labour       </td><td>NA           </td><td>National     </td></tr>\n",
       "\t<tr><td>Labour       </td><td>NA           </td><td>Labour       </td></tr>\n",
       "\t<tr><td>Labour       </td><td>NA           </td><td>Labour       </td></tr>\n",
       "\t<tr><td>Act          </td><td>NA           </td><td>NA           </td></tr>\n",
       "\t<tr><td>NA           </td><td>NA           </td><td>NA           </td></tr>\n",
       "\t<tr><td>National     </td><td>NA           </td><td>National     </td></tr>\n",
       "\t<tr><td>Maori Party  </td><td>NA           </td><td>NZ First     </td></tr>\n",
       "</tbody>\n",
       "</table>\n"
      ],
      "text/latex": [
       "\\begin{tabular}{r|lll}\n",
       " jpartyvote & jdiffvoting & X\\_singlefav\\\\\n",
       "\\hline\n",
       "\t Labour        & NA            & Green        \\\\\n",
       "\t Green         & NA            & Green        \\\\\n",
       "\t NA            & NA            & NA           \\\\\n",
       "\t NZ First      & NA            & NZ First     \\\\\n",
       "\t Labour        & NA            & Labour       \\\\\n",
       "\t NA            & NA            & NA           \\\\\n",
       "\t NZ First      & NA            & NZ First     \\\\\n",
       "\t Labour        & NA            & Labour       \\\\\n",
       "\t NA            & NA            & NA           \\\\\n",
       "\t Maori Party   & NA            & Green        \\\\\n",
       "\t Labour        & NA            & Labour       \\\\\n",
       "\t Green         & NA            & Green        \\\\\n",
       "\t Maori Party   & NA            & United Future\\\\\n",
       "\t Labour        & NA            & Labour       \\\\\n",
       "\t NA            & NA            & NA           \\\\\n",
       "\t Labour        & NA            & Labour       \\\\\n",
       "\t NA            & NA            & Labour       \\\\\n",
       "\t Labour        & NA            & Labour       \\\\\n",
       "\t Maori Party   & NA            & NA           \\\\\n",
       "\t Labour        & NA            & Labour       \\\\\n",
       "\t National      & NA            & NA           \\\\\n",
       "\t Labour        & NA            & National     \\\\\n",
       "\t Labour        & NA            & Labour       \\\\\n",
       "\t Labour        & NA            & Labour       \\\\\n",
       "\t Act           & NA            & NA           \\\\\n",
       "\t NA            & NA            & NA           \\\\\n",
       "\t National      & NA            & National     \\\\\n",
       "\t Maori Party   & NA            & NZ First     \\\\\n",
       "\\end{tabular}\n"
      ],
      "text/markdown": [
       "\n",
       "jpartyvote | jdiffvoting | X_singlefav | \n",
       "|---|---|---|---|---|---|---|---|---|---|---|---|---|---|---|---|---|---|---|---|---|---|---|---|---|---|---|---|\n",
       "| Labour        | NA            | Green         | \n",
       "| Green         | NA            | Green         | \n",
       "| NA            | NA            | NA            | \n",
       "| NZ First      | NA            | NZ First      | \n",
       "| Labour        | NA            | Labour        | \n",
       "| NA            | NA            | NA            | \n",
       "| NZ First      | NA            | NZ First      | \n",
       "| Labour        | NA            | Labour        | \n",
       "| NA            | NA            | NA            | \n",
       "| Maori Party   | NA            | Green         | \n",
       "| Labour        | NA            | Labour        | \n",
       "| Green         | NA            | Green         | \n",
       "| Maori Party   | NA            | United Future | \n",
       "| Labour        | NA            | Labour        | \n",
       "| NA            | NA            | NA            | \n",
       "| Labour        | NA            | Labour        | \n",
       "| NA            | NA            | Labour        | \n",
       "| Labour        | NA            | Labour        | \n",
       "| Maori Party   | NA            | NA            | \n",
       "| Labour        | NA            | Labour        | \n",
       "| National      | NA            | NA            | \n",
       "| Labour        | NA            | National      | \n",
       "| Labour        | NA            | Labour        | \n",
       "| Labour        | NA            | Labour        | \n",
       "| Act           | NA            | NA            | \n",
       "| NA            | NA            | NA            | \n",
       "| National      | NA            | National      | \n",
       "| Maori Party   | NA            | NZ First      | \n",
       "\n",
       "\n"
      ],
      "text/plain": [
       "   jpartyvote  jdiffvoting X_singlefav  \n",
       "1  Labour      NA          Green        \n",
       "2  Green       NA          Green        \n",
       "3  NA          NA          NA           \n",
       "4  NZ First    NA          NZ First     \n",
       "5  Labour      NA          Labour       \n",
       "6  NA          NA          NA           \n",
       "7  NZ First    NA          NZ First     \n",
       "8  Labour      NA          Labour       \n",
       "9  NA          NA          NA           \n",
       "10 Maori Party NA          Green        \n",
       "11 Labour      NA          Labour       \n",
       "12 Green       NA          Green        \n",
       "13 Maori Party NA          United Future\n",
       "14 Labour      NA          Labour       \n",
       "15 NA          NA          NA           \n",
       "16 Labour      NA          Labour       \n",
       "17 NA          NA          Labour       \n",
       "18 Labour      NA          Labour       \n",
       "19 Maori Party NA          NA           \n",
       "20 Labour      NA          Labour       \n",
       "21 National    NA          NA           \n",
       "22 Labour      NA          National     \n",
       "23 Labour      NA          Labour       \n",
       "24 Labour      NA          Labour       \n",
       "25 Act         NA          NA           \n",
       "26 NA          NA          NA           \n",
       "27 National    NA          National     \n",
       "28 Maori Party NA          NZ First     "
      ]
     },
     "metadata": {},
     "output_type": "display_data"
    }
   ],
   "source": [
    "selected_nzes2011 %>%\n",
    "select(jpartyvote, jdiffvoting, X_singlefav) %>%\n",
    "filter(is.na(jdiffvoting))"
   ]
  },
  {
   "cell_type": "code",
   "execution_count": 18,
   "metadata": {
    "scrolled": true
   },
   "outputs": [
    {
     "data": {
      "text/html": [
       "107"
      ],
      "text/latex": [
       "107"
      ],
      "text/markdown": [
       "107"
      ],
      "text/plain": [
       "[1] 107"
      ]
     },
     "metadata": {},
     "output_type": "display_data"
    }
   ],
   "source": [
    "grep('sing', names(selected_nzes2011))"
   ]
  },
  {
   "cell_type": "code",
   "execution_count": 23,
   "metadata": {
    "scrolled": true
   },
   "outputs": [
    {
     "data": {
      "text/html": [
       "<table>\n",
       "<thead><tr><th scope=col>jpartyvote</th><th scope=col>n</th></tr></thead>\n",
       "<tbody>\n",
       "\t<tr><td>Act          </td><td>  29         </td></tr>\n",
       "\t<tr><td>ALC          </td><td>  10         </td></tr>\n",
       "\t<tr><td>Alliance     </td><td>   2         </td></tr>\n",
       "\t<tr><td>Another party</td><td>   8         </td></tr>\n",
       "\t<tr><td>Conservative </td><td>  74         </td></tr>\n",
       "\t<tr><td>Green        </td><td> 348         </td></tr>\n",
       "\t<tr><td>Labour       </td><td> 749         </td></tr>\n",
       "\t<tr><td>Mana         </td><td>  62         </td></tr>\n",
       "\t<tr><td>Maori Party  </td><td> 128         </td></tr>\n",
       "\t<tr><td>National     </td><td>1130         </td></tr>\n",
       "\t<tr><td>NZ First     </td><td> 216         </td></tr>\n",
       "\t<tr><td>United Future</td><td>  14         </td></tr>\n",
       "</tbody>\n",
       "</table>\n"
      ],
      "text/latex": [
       "\\begin{tabular}{r|ll}\n",
       " jpartyvote & n\\\\\n",
       "\\hline\n",
       "\t Act           &   29         \\\\\n",
       "\t ALC           &   10         \\\\\n",
       "\t Alliance      &    2         \\\\\n",
       "\t Another party &    8         \\\\\n",
       "\t Conservative  &   74         \\\\\n",
       "\t Green         &  348         \\\\\n",
       "\t Labour        &  749         \\\\\n",
       "\t Mana          &   62         \\\\\n",
       "\t Maori Party   &  128         \\\\\n",
       "\t National      & 1130         \\\\\n",
       "\t NZ First      &  216         \\\\\n",
       "\t United Future &   14         \\\\\n",
       "\\end{tabular}\n"
      ],
      "text/markdown": [
       "\n",
       "jpartyvote | n | \n",
       "|---|---|---|---|---|---|---|---|---|---|---|---|\n",
       "| Act           |   29          | \n",
       "| ALC           |   10          | \n",
       "| Alliance      |    2          | \n",
       "| Another party |    8          | \n",
       "| Conservative  |   74          | \n",
       "| Green         |  348          | \n",
       "| Labour        |  749          | \n",
       "| Mana          |   62          | \n",
       "| Maori Party   |  128          | \n",
       "| National      | 1130          | \n",
       "| NZ First      |  216          | \n",
       "| United Future |   14          | \n",
       "\n",
       "\n"
      ],
      "text/plain": [
       "   jpartyvote    n   \n",
       "1  Act             29\n",
       "2  ALC             10\n",
       "3  Alliance         2\n",
       "4  Another party    8\n",
       "5  Conservative    74\n",
       "6  Green          348\n",
       "7  Labour         749\n",
       "8  Mana            62\n",
       "9  Maori Party    128\n",
       "10 National      1130\n",
       "11 NZ First       216\n",
       "12 United Future   14"
      ]
     },
     "metadata": {},
     "output_type": "display_data"
    }
   ],
   "source": [
    "selected_nzes2011 %>%\n",
    "filter(jpartyvote != \"Don't know\") %>%\n",
    "group_by(jpartyvote) %>%\n",
    "count()"
   ]
  },
  {
   "cell_type": "code",
   "execution_count": 33,
   "metadata": {},
   "outputs": [
    {
     "data": {
      "text/html": [
       "<ol class=list-inline>\n",
       "\t<li>'0'</li>\n",
       "\t<li>'1'</li>\n",
       "\t<li>'10'</li>\n",
       "\t<li>'2'</li>\n",
       "\t<li>'3'</li>\n",
       "\t<li>'4'</li>\n",
       "\t<li>'5'</li>\n",
       "\t<li>'6'</li>\n",
       "\t<li>'7'</li>\n",
       "\t<li>'8'</li>\n",
       "\t<li>'9'</li>\n",
       "\t<li>'Don\\'t know'</li>\n",
       "</ol>\n"
      ],
      "text/latex": [
       "\\begin{enumerate*}\n",
       "\\item '0'\n",
       "\\item '1'\n",
       "\\item '10'\n",
       "\\item '2'\n",
       "\\item '3'\n",
       "\\item '4'\n",
       "\\item '5'\n",
       "\\item '6'\n",
       "\\item '7'\n",
       "\\item '8'\n",
       "\\item '9'\n",
       "\\item 'Don\\textbackslash{}'t know'\n",
       "\\end{enumerate*}\n"
      ],
      "text/markdown": [
       "1. '0'\n",
       "2. '1'\n",
       "3. '10'\n",
       "4. '2'\n",
       "5. '3'\n",
       "6. '4'\n",
       "7. '5'\n",
       "8. '6'\n",
       "9. '7'\n",
       "10. '8'\n",
       "11. '9'\n",
       "12. 'Don\\'t know'\n",
       "\n",
       "\n"
      ],
      "text/plain": [
       " [1] \"0\"          \"1\"          \"10\"         \"2\"          \"3\"         \n",
       " [6] \"4\"          \"5\"          \"6\"          \"7\"          \"8\"         \n",
       "[11] \"9\"          \"Don't know\""
      ]
     },
     "metadata": {},
     "output_type": "display_data"
    }
   ],
   "source": [
    "levels(selected_nzes2011$jnzflike)"
   ]
  }
 ],
 "metadata": {
  "kernelspec": {
   "display_name": "R",
   "language": "R",
   "name": "ir"
  },
  "language_info": {
   "codemirror_mode": "r",
   "file_extension": ".r",
   "mimetype": "text/x-r-source",
   "name": "R",
   "pygments_lexer": "r",
   "version": "3.4.2"
  }
 },
 "nbformat": 4,
 "nbformat_minor": 2
}
