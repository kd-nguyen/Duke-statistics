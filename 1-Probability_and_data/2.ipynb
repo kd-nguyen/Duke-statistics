{
 "cells": [
  {
   "cell_type": "code",
   "execution_count": 1,
   "metadata": {},
   "outputs": [
    {
     "name": "stderr",
     "output_type": "stream",
     "text": [
      "\n",
      "Attaching package: 'dplyr'\n",
      "\n",
      "The following objects are masked from 'package:stats':\n",
      "\n",
      "    filter, lag\n",
      "\n",
      "The following objects are masked from 'package:base':\n",
      "\n",
      "    intersect, setdiff, setequal, union\n",
      "\n",
      "Warning message:\n",
      "\"package 'devtools' was built under R version 3.4.3\""
     ]
    }
   ],
   "source": [
    "library(dplyr)\n",
    "library(ggplot2)\n",
    "library(devtools)"
   ]
  },
  {
   "cell_type": "code",
   "execution_count": 2,
   "metadata": {
    "collapsed": true
   },
   "outputs": [],
   "source": [
    "library(statsr)"
   ]
  },
  {
   "cell_type": "code",
   "execution_count": 3,
   "metadata": {
    "collapsed": true
   },
   "outputs": [],
   "source": [
    "data(nycflights)"
   ]
  },
  {
   "cell_type": "code",
   "execution_count": 4,
   "metadata": {},
   "outputs": [
    {
     "data": {
      "text/html": [
       "<ol class=list-inline>\n",
       "\t<li>'year'</li>\n",
       "\t<li>'month'</li>\n",
       "\t<li>'day'</li>\n",
       "\t<li>'dep_time'</li>\n",
       "\t<li>'dep_delay'</li>\n",
       "\t<li>'arr_time'</li>\n",
       "\t<li>'arr_delay'</li>\n",
       "\t<li>'carrier'</li>\n",
       "\t<li>'tailnum'</li>\n",
       "\t<li>'flight'</li>\n",
       "\t<li>'origin'</li>\n",
       "\t<li>'dest'</li>\n",
       "\t<li>'air_time'</li>\n",
       "\t<li>'distance'</li>\n",
       "\t<li>'hour'</li>\n",
       "\t<li>'minute'</li>\n",
       "</ol>\n"
      ],
      "text/latex": [
       "\\begin{enumerate*}\n",
       "\\item 'year'\n",
       "\\item 'month'\n",
       "\\item 'day'\n",
       "\\item 'dep\\_time'\n",
       "\\item 'dep\\_delay'\n",
       "\\item 'arr\\_time'\n",
       "\\item 'arr\\_delay'\n",
       "\\item 'carrier'\n",
       "\\item 'tailnum'\n",
       "\\item 'flight'\n",
       "\\item 'origin'\n",
       "\\item 'dest'\n",
       "\\item 'air\\_time'\n",
       "\\item 'distance'\n",
       "\\item 'hour'\n",
       "\\item 'minute'\n",
       "\\end{enumerate*}\n"
      ],
      "text/markdown": [
       "1. 'year'\n",
       "2. 'month'\n",
       "3. 'day'\n",
       "4. 'dep_time'\n",
       "5. 'dep_delay'\n",
       "6. 'arr_time'\n",
       "7. 'arr_delay'\n",
       "8. 'carrier'\n",
       "9. 'tailnum'\n",
       "10. 'flight'\n",
       "11. 'origin'\n",
       "12. 'dest'\n",
       "13. 'air_time'\n",
       "14. 'distance'\n",
       "15. 'hour'\n",
       "16. 'minute'\n",
       "\n",
       "\n"
      ],
      "text/plain": [
       " [1] \"year\"      \"month\"     \"day\"       \"dep_time\"  \"dep_delay\" \"arr_time\" \n",
       " [7] \"arr_delay\" \"carrier\"   \"tailnum\"   \"flight\"    \"origin\"    \"dest\"     \n",
       "[13] \"air_time\"  \"distance\"  \"hour\"      \"minute\"   "
      ]
     },
     "metadata": {},
     "output_type": "display_data"
    }
   ],
   "source": [
    "names(nycflights)"
   ]
  },
  {
   "cell_type": "code",
   "execution_count": 5,
   "metadata": {},
   "outputs": [
    {
     "data": {
      "text/html": [
       "<ol class=list-inline>\n",
       "\t<li>68</li>\n",
       "\t<li>16</li>\n",
       "</ol>\n"
      ],
      "text/latex": [
       "\\begin{enumerate*}\n",
       "\\item 68\n",
       "\\item 16\n",
       "\\end{enumerate*}\n"
      ],
      "text/markdown": [
       "1. 68\n",
       "2. 16\n",
       "\n",
       "\n"
      ],
      "text/plain": [
       "[1] 68 16"
      ]
     },
     "metadata": {},
     "output_type": "display_data"
    }
   ],
   "source": [
    "sfo_feb_flights <- nycflights %>%\n",
    "filter(dest == 'SFO', month == 2)\n",
    "dim(sfo_feb_flights)"
   ]
  },
  {
   "cell_type": "code",
   "execution_count": 6,
   "metadata": {},
   "outputs": [
    {
     "data": {},
     "metadata": {},
     "output_type": "display_data"
    },
    {
     "data": {
      "image/png": "[encoded data removed]",
      "text/plain": [
       "plot without title"
      ]
     },
     "metadata": {},
     "output_type": "display_data"
    }
   ],
   "source": [
    "ggplot(sfo_feb_flights, aes(arr_delay)) + geom_histogram(bins = 30)"
   ]
  },
  {
   "cell_type": "code",
   "execution_count": 16,
   "metadata": {},
   "outputs": [
    {
     "data": {
      "text/plain": [
       "   Min. 1st Qu.  Median    Mean 3rd Qu.    Max. \n",
       " -66.00  -21.25  -11.00   -4.50    2.00  196.00 "
      ]
     },
     "metadata": {},
     "output_type": "display_data"
    }
   ],
   "source": [
    "summary(sfo_feb_flights$arr_delay)"
   ]
  },
  {
   "cell_type": "code",
   "execution_count": 7,
   "metadata": {},
   "outputs": [
    {
     "data": {
      "text/html": [
       "<table>\n",
       "<thead><tr><th scope=col>carrier</th><th scope=col>median_delay</th><th scope=col>IQR_delay</th></tr></thead>\n",
       "<tbody>\n",
       "\t<tr><td>DL   </td><td>-15.0</td><td>22.00</td></tr>\n",
       "\t<tr><td>UA   </td><td>-10.0</td><td>22.00</td></tr>\n",
       "\t<tr><td>VX   </td><td>-22.5</td><td>21.25</td></tr>\n",
       "\t<tr><td>AA   </td><td>  5.0</td><td>17.50</td></tr>\n",
       "\t<tr><td>B6   </td><td>-10.5</td><td>12.25</td></tr>\n",
       "</tbody>\n",
       "</table>\n"
      ],
      "text/latex": [
       "\\begin{tabular}{r|lll}\n",
       " carrier & median\\_delay & IQR\\_delay\\\\\n",
       "\\hline\n",
       "\t DL    & -15.0 & 22.00\\\\\n",
       "\t UA    & -10.0 & 22.00\\\\\n",
       "\t VX    & -22.5 & 21.25\\\\\n",
       "\t AA    &   5.0 & 17.50\\\\\n",
       "\t B6    & -10.5 & 12.25\\\\\n",
       "\\end{tabular}\n"
      ],
      "text/markdown": [
       "\n",
       "carrier | median_delay | IQR_delay | \n",
       "|---|---|---|---|---|\n",
       "| DL    | -15.0 | 22.00 | \n",
       "| UA    | -10.0 | 22.00 | \n",
       "| VX    | -22.5 | 21.25 | \n",
       "| AA    |   5.0 | 17.50 | \n",
       "| B6    | -10.5 | 12.25 | \n",
       "\n",
       "\n"
      ],
      "text/plain": [
       "  carrier median_delay IQR_delay\n",
       "1 DL      -15.0        22.00    \n",
       "2 UA      -10.0        22.00    \n",
       "3 VX      -22.5        21.25    \n",
       "4 AA        5.0        17.50    \n",
       "5 B6      -10.5        12.25    "
      ]
     },
     "metadata": {},
     "output_type": "display_data"
    }
   ],
   "source": [
    "# 3\n",
    "delay_summary_sfo_feb <- sfo_feb_flights %>%\n",
    "group_by(carrier) %>%\n",
    "summarise(median_delay = median(arr_delay), IQR_delay = IQR(arr_delay)) %>%\n",
    "arrange(desc(IQR_delay))\n",
    "delay_summary_sfo_feb"
   ]
  },
  {
   "cell_type": "code",
   "execution_count": 48,
   "metadata": {},
   "outputs": [
    {
     "data": {
      "text/html": [
       "<table>\n",
       "<thead><tr><th scope=col>carrier</th><th scope=col>median_delay</th><th scope=col>IQR_delay</th></tr></thead>\n",
       "<tbody>\n",
       "\t<tr><td>DL </td><td>-15</td><td>22 </td></tr>\n",
       "\t<tr><td>UA </td><td>-10</td><td>22 </td></tr>\n",
       "</tbody>\n",
       "</table>\n"
      ],
      "text/latex": [
       "\\begin{tabular}{r|lll}\n",
       " carrier & median\\_delay & IQR\\_delay\\\\\n",
       "\\hline\n",
       "\t DL  & -15 & 22 \\\\\n",
       "\t UA  & -10 & 22 \\\\\n",
       "\\end{tabular}\n"
      ],
      "text/markdown": [
       "\n",
       "carrier | median_delay | IQR_delay | \n",
       "|---|---|\n",
       "| DL  | -15 | 22  | \n",
       "| UA  | -10 | 22  | \n",
       "\n",
       "\n"
      ],
      "text/plain": [
       "  carrier median_delay IQR_delay\n",
       "1 DL      -15          22       \n",
       "2 UA      -10          22       "
      ]
     },
     "metadata": {},
     "output_type": "display_data"
    }
   ],
   "source": [
    "max_mask <- with(delay_summary_sfo_feb, abs(IQR_delay - max(IQR_delay)) < 1e-3)\n",
    "delay_summary_sfo_feb[max_mask,]"
   ]
  },
  {
   "cell_type": "code",
   "execution_count": 8,
   "metadata": {},
   "outputs": [
    {
     "data": {
      "text/html": [
       "<table>\n",
       "<thead><tr><th scope=col>month</th><th scope=col>average_delay</th></tr></thead>\n",
       "<tbody>\n",
       "\t<tr><td> 7       </td><td>20.754559</td></tr>\n",
       "\t<tr><td> 6       </td><td>20.350293</td></tr>\n",
       "\t<tr><td>12       </td><td>17.368189</td></tr>\n",
       "\t<tr><td> 4       </td><td>14.554477</td></tr>\n",
       "\t<tr><td> 3       </td><td>13.517602</td></tr>\n",
       "\t<tr><td> 5       </td><td>13.264800</td></tr>\n",
       "\t<tr><td> 8       </td><td>12.619097</td></tr>\n",
       "\t<tr><td> 2       </td><td>10.687227</td></tr>\n",
       "\t<tr><td> 1       </td><td>10.233333</td></tr>\n",
       "\t<tr><td> 9       </td><td> 6.872436</td></tr>\n",
       "\t<tr><td>11       </td><td> 6.103183</td></tr>\n",
       "\t<tr><td>10       </td><td> 5.880374</td></tr>\n",
       "</tbody>\n",
       "</table>\n"
      ],
      "text/latex": [
       "\\begin{tabular}{r|ll}\n",
       " month & average\\_delay\\\\\n",
       "\\hline\n",
       "\t  7        & 20.754559\\\\\n",
       "\t  6        & 20.350293\\\\\n",
       "\t 12        & 17.368189\\\\\n",
       "\t  4        & 14.554477\\\\\n",
       "\t  3        & 13.517602\\\\\n",
       "\t  5        & 13.264800\\\\\n",
       "\t  8        & 12.619097\\\\\n",
       "\t  2        & 10.687227\\\\\n",
       "\t  1        & 10.233333\\\\\n",
       "\t  9        &  6.872436\\\\\n",
       "\t 11        &  6.103183\\\\\n",
       "\t 10        &  5.880374\\\\\n",
       "\\end{tabular}\n"
      ],
      "text/markdown": [
       "\n",
       "month | average_delay | \n",
       "|---|---|---|---|---|---|---|---|---|---|---|---|\n",
       "|  7        | 20.754559 | \n",
       "|  6        | 20.350293 | \n",
       "| 12        | 17.368189 | \n",
       "|  4        | 14.554477 | \n",
       "|  3        | 13.517602 | \n",
       "|  5        | 13.264800 | \n",
       "|  8        | 12.619097 | \n",
       "|  2        | 10.687227 | \n",
       "|  1        | 10.233333 | \n",
       "|  9        |  6.872436 | \n",
       "| 11        |  6.103183 | \n",
       "| 10        |  5.880374 | \n",
       "\n",
       "\n"
      ],
      "text/plain": [
       "   month average_delay\n",
       "1   7    20.754559    \n",
       "2   6    20.350293    \n",
       "3  12    17.368189    \n",
       "4   4    14.554477    \n",
       "5   3    13.517602    \n",
       "6   5    13.264800    \n",
       "7   8    12.619097    \n",
       "8   2    10.687227    \n",
       "9   1    10.233333    \n",
       "10  9     6.872436    \n",
       "11 11     6.103183    \n",
       "12 10     5.880374    "
      ]
     },
     "metadata": {},
     "output_type": "display_data"
    }
   ],
   "source": [
    "# 4\n",
    "average_delay_by_month <- nycflights %>%\n",
    "group_by(month) %>%\n",
    "summarise(average_delay = mean(dep_delay)) %>%\n",
    "arrange(desc(average_delay))\n",
    "\n",
    "average_delay_by_month"
   ]
  },
  {
   "cell_type": "code",
   "execution_count": 58,
   "metadata": {
    "scrolled": true
   },
   "outputs": [
    {
     "data": {
      "text/html": [
       "<table>\n",
       "<thead><tr><th scope=col>month</th><th scope=col>median_delay</th></tr></thead>\n",
       "<tbody>\n",
       "\t<tr><td>12</td><td> 1</td></tr>\n",
       "\t<tr><td>6 </td><td> 0</td></tr>\n",
       "\t<tr><td>7 </td><td> 0</td></tr>\n",
       "\t<tr><td>3 </td><td>-1</td></tr>\n",
       "\t<tr><td>5 </td><td>-1</td></tr>\n",
       "\t<tr><td>8 </td><td>-1</td></tr>\n",
       "\t<tr><td>1 </td><td>-2</td></tr>\n",
       "\t<tr><td>2 </td><td>-2</td></tr>\n",
       "\t<tr><td>4 </td><td>-2</td></tr>\n",
       "\t<tr><td>11</td><td>-2</td></tr>\n",
       "\t<tr><td>9 </td><td>-3</td></tr>\n",
       "\t<tr><td>10</td><td>-3</td></tr>\n",
       "</tbody>\n",
       "</table>\n"
      ],
      "text/latex": [
       "\\begin{tabular}{r|ll}\n",
       " month & median\\_delay\\\\\n",
       "\\hline\n",
       "\t 12 &  1\\\\\n",
       "\t 6  &  0\\\\\n",
       "\t 7  &  0\\\\\n",
       "\t 3  & -1\\\\\n",
       "\t 5  & -1\\\\\n",
       "\t 8  & -1\\\\\n",
       "\t 1  & -2\\\\\n",
       "\t 2  & -2\\\\\n",
       "\t 4  & -2\\\\\n",
       "\t 11 & -2\\\\\n",
       "\t 9  & -3\\\\\n",
       "\t 10 & -3\\\\\n",
       "\\end{tabular}\n"
      ],
      "text/markdown": [
       "\n",
       "month | median_delay | \n",
       "|---|---|---|---|---|---|---|---|---|---|---|---|\n",
       "| 12 |  1 | \n",
       "| 6  |  0 | \n",
       "| 7  |  0 | \n",
       "| 3  | -1 | \n",
       "| 5  | -1 | \n",
       "| 8  | -1 | \n",
       "| 1  | -2 | \n",
       "| 2  | -2 | \n",
       "| 4  | -2 | \n",
       "| 11 | -2 | \n",
       "| 9  | -3 | \n",
       "| 10 | -3 | \n",
       "\n",
       "\n"
      ],
      "text/plain": [
       "   month median_delay\n",
       "1  12     1          \n",
       "2  6      0          \n",
       "3  7      0          \n",
       "4  3     -1          \n",
       "5  5     -1          \n",
       "6  8     -1          \n",
       "7  1     -2          \n",
       "8  2     -2          \n",
       "9  4     -2          \n",
       "10 11    -2          \n",
       "11 9     -3          \n",
       "12 10    -3          "
      ]
     },
     "metadata": {},
     "output_type": "display_data"
    }
   ],
   "source": [
    "# 5\n",
    "nycflights %>%\n",
    "group_by(month) %>%\n",
    "summarise(median_delay = median(dep_delay)) %>%\n",
    "arrange(desc(median_delay))"
   ]
  },
  {
   "cell_type": "code",
   "execution_count": 29,
   "metadata": {},
   "outputs": [],
   "source": [
    "nycflights$month <- as.factor(nycflights$month)"
   ]
  },
  {
   "cell_type": "code",
   "execution_count": 39,
   "metadata": {},
   "outputs": [
    {
     "data": {},
     "metadata": {},
     "output_type": "display_data"
    },
    {
     "data": {
      "image/png": "[encoded data removed]",
      "text/plain": [
       "plot without title"
      ]
     },
     "metadata": {},
     "output_type": "display_data"
    }
   ],
   "source": [
    "ggplot(data = nycflights, mapping = aes(x = month, y = arr_delay)) +\n",
    "geom_boxplot()"
   ]
  },
  {
   "cell_type": "code",
   "execution_count": 42,
   "metadata": {
    "scrolled": false
   },
   "outputs": [
    {
     "data": {
      "text/html": [
       "<table>\n",
       "<thead><tr><th scope=col>origin</th><th scope=col>p_ontime</th></tr></thead>\n",
       "<tbody>\n",
       "\t<tr><td>EWR      </td><td>0.5488064</td></tr>\n",
       "\t<tr><td>JFK      </td><td>0.6184271</td></tr>\n",
       "\t<tr><td>LGA      </td><td>0.6692163</td></tr>\n",
       "</tbody>\n",
       "</table>\n"
      ],
      "text/latex": [
       "\\begin{tabular}{r|ll}\n",
       " origin & p\\_ontime\\\\\n",
       "\\hline\n",
       "\t EWR       & 0.5488064\\\\\n",
       "\t JFK       & 0.6184271\\\\\n",
       "\t LGA       & 0.6692163\\\\\n",
       "\\end{tabular}\n"
      ],
      "text/markdown": [
       "\n",
       "origin | p_ontime | \n",
       "|---|---|---|\n",
       "| EWR       | 0.5488064 | \n",
       "| JFK       | 0.6184271 | \n",
       "| LGA       | 0.6692163 | \n",
       "\n",
       "\n"
      ],
      "text/plain": [
       "  origin p_ontime \n",
       "1 EWR    0.5488064\n",
       "2 JFK    0.6184271\n",
       "3 LGA    0.6692163"
      ]
     },
     "metadata": {},
     "output_type": "display_data"
    }
   ],
   "source": [
    "# 7\n",
    "nycflights %>%\n",
    "group_by(origin) %>%\n",
    "summarize(p_ontime = mean(dep_delay <= 0))"
   ]
  },
  {
   "cell_type": "code",
   "execution_count": 44,
   "metadata": {},
   "outputs": [
    {
     "data": {
      "text/html": [
       "<ol class=list-inline>\n",
       "\t<li>'year'</li>\n",
       "\t<li>'month'</li>\n",
       "\t<li>'day'</li>\n",
       "\t<li>'dep_time'</li>\n",
       "\t<li>'dep_delay'</li>\n",
       "\t<li>'arr_time'</li>\n",
       "\t<li>'arr_delay'</li>\n",
       "\t<li>'carrier'</li>\n",
       "\t<li>'tailnum'</li>\n",
       "\t<li>'flight'</li>\n",
       "\t<li>'origin'</li>\n",
       "\t<li>'dest'</li>\n",
       "\t<li>'air_time'</li>\n",
       "\t<li>'distance'</li>\n",
       "\t<li>'hour'</li>\n",
       "\t<li>'minute'</li>\n",
       "</ol>\n"
      ],
      "text/latex": [
       "\\begin{enumerate*}\n",
       "\\item 'year'\n",
       "\\item 'month'\n",
       "\\item 'day'\n",
       "\\item 'dep\\_time'\n",
       "\\item 'dep\\_delay'\n",
       "\\item 'arr\\_time'\n",
       "\\item 'arr\\_delay'\n",
       "\\item 'carrier'\n",
       "\\item 'tailnum'\n",
       "\\item 'flight'\n",
       "\\item 'origin'\n",
       "\\item 'dest'\n",
       "\\item 'air\\_time'\n",
       "\\item 'distance'\n",
       "\\item 'hour'\n",
       "\\item 'minute'\n",
       "\\end{enumerate*}\n"
      ],
      "text/markdown": [
       "1. 'year'\n",
       "2. 'month'\n",
       "3. 'day'\n",
       "4. 'dep_time'\n",
       "5. 'dep_delay'\n",
       "6. 'arr_time'\n",
       "7. 'arr_delay'\n",
       "8. 'carrier'\n",
       "9. 'tailnum'\n",
       "10. 'flight'\n",
       "11. 'origin'\n",
       "12. 'dest'\n",
       "13. 'air_time'\n",
       "14. 'distance'\n",
       "15. 'hour'\n",
       "16. 'minute'\n",
       "\n",
       "\n"
      ],
      "text/plain": [
       " [1] \"year\"      \"month\"     \"day\"       \"dep_time\"  \"dep_delay\" \"arr_time\" \n",
       " [7] \"arr_delay\" \"carrier\"   \"tailnum\"   \"flight\"    \"origin\"    \"dest\"     \n",
       "[13] \"air_time\"  \"distance\"  \"hour\"      \"minute\"   "
      ]
     },
     "metadata": {},
     "output_type": "display_data"
    }
   ],
   "source": [
    "names(nycflights)"
   ]
  },
  {
   "cell_type": "code",
   "execution_count": 46,
   "metadata": {},
   "outputs": [
    {
     "data": {
      "text/html": [
       "<table>\n",
       "<thead><tr><th scope=col>tailnum</th><th scope=col>avg_speed</th><th scope=col>distance</th></tr></thead>\n",
       "<tbody>\n",
       "\t<tr><td>N666DN   </td><td>11.723077</td><td> 762     </td></tr>\n",
       "\t<tr><td>N779JB   </td><td> 9.290698</td><td>1598     </td></tr>\n",
       "\t<tr><td>N571JB   </td><td> 9.236994</td><td>1598     </td></tr>\n",
       "\t<tr><td>N568JB   </td><td> 9.131429</td><td>1598     </td></tr>\n",
       "\t<tr><td>N5EHAA   </td><td> 9.131429</td><td>1598     </td></tr>\n",
       "\t<tr><td>N656JB   </td><td> 9.131429</td><td>1598     </td></tr>\n",
       "</tbody>\n",
       "</table>\n"
      ],
      "text/latex": [
       "\\begin{tabular}{r|lll}\n",
       " tailnum & avg\\_speed & distance\\\\\n",
       "\\hline\n",
       "\t N666DN    & 11.723077 &  762     \\\\\n",
       "\t N779JB    &  9.290698 & 1598     \\\\\n",
       "\t N571JB    &  9.236994 & 1598     \\\\\n",
       "\t N568JB    &  9.131429 & 1598     \\\\\n",
       "\t N5EHAA    &  9.131429 & 1598     \\\\\n",
       "\t N656JB    &  9.131429 & 1598     \\\\\n",
       "\\end{tabular}\n"
      ],
      "text/markdown": [
       "\n",
       "tailnum | avg_speed | distance | \n",
       "|---|---|---|---|---|---|\n",
       "| N666DN    | 11.723077 |  762      | \n",
       "| N779JB    |  9.290698 | 1598      | \n",
       "| N571JB    |  9.236994 | 1598      | \n",
       "| N568JB    |  9.131429 | 1598      | \n",
       "| N5EHAA    |  9.131429 | 1598      | \n",
       "| N656JB    |  9.131429 | 1598      | \n",
       "\n",
       "\n"
      ],
      "text/plain": [
       "  tailnum avg_speed distance\n",
       "1 N666DN  11.723077  762    \n",
       "2 N779JB   9.290698 1598    \n",
       "3 N571JB   9.236994 1598    \n",
       "4 N568JB   9.131429 1598    \n",
       "5 N5EHAA   9.131429 1598    \n",
       "6 N656JB   9.131429 1598    "
      ]
     },
     "metadata": {},
     "output_type": "display_data"
    }
   ],
   "source": [
    "# 8\n",
    "df8 <- nycflights %>%\n",
    "mutate(avg_speed = distance / air_time) %>%\n",
    "arrange(desc(avg_speed)) %>%\n",
    "select(tailnum, avg_speed, distance)\n",
    "head(df8)"
   ]
  },
  {
   "cell_type": "code",
   "execution_count": 47,
   "metadata": {},
   "outputs": [
    {
     "data": {},
     "metadata": {},
     "output_type": "display_data"
    },
    {
     "data": {
      "image/png": "[encoded data removed]",
      "text/plain": [
       "plot without title"
      ]
     },
     "metadata": {},
     "output_type": "display_data"
    }
   ],
   "source": [
    "# 9\n",
    "ggplot(df8, aes(distance, avg_speed)) +\n",
    "geom_point()"
   ]
  },
  {
   "cell_type": "code",
   "execution_count": 48,
   "metadata": {},
   "outputs": [
    {
     "data": {},
     "metadata": {},
     "output_type": "display_data"
    },
    {
     "data": {
      "image/png": "[encoded data removed]",
      "text/plain": [
       "plot without title"
      ]
     },
     "metadata": {},
     "output_type": "display_data"
    }
   ],
   "source": [
    "ggplot(df8, aes(distance)) +\n",
    "geom_histogram(bins = 10)"
   ]
  },
  {
   "cell_type": "code",
   "execution_count": 57,
   "metadata": {},
   "outputs": [
    {
     "data": {
      "text/html": [
       "<table>\n",
       "<thead><tr><th scope=col>dep_type</th><th scope=col>p_arr_ontime</th></tr></thead>\n",
       "<tbody>\n",
       "\t<tr><td>delayed  </td><td>0.1833639</td></tr>\n",
       "\t<tr><td>on time  </td><td>0.7762241</td></tr>\n",
       "</tbody>\n",
       "</table>\n"
      ],
      "text/latex": [
       "\\begin{tabular}{r|ll}\n",
       " dep\\_type & p\\_arr\\_ontime\\\\\n",
       "\\hline\n",
       "\t delayed   & 0.1833639\\\\\n",
       "\t on time   & 0.7762241\\\\\n",
       "\\end{tabular}\n"
      ],
      "text/markdown": [
       "\n",
       "dep_type | p_arr_ontime | \n",
       "|---|---|\n",
       "| delayed   | 0.1833639 | \n",
       "| on time   | 0.7762241 | \n",
       "\n",
       "\n"
      ],
      "text/plain": [
       "  dep_type p_arr_ontime\n",
       "1 delayed  0.1833639   \n",
       "2 on time  0.7762241   "
      ]
     },
     "metadata": {},
     "output_type": "display_data"
    }
   ],
   "source": [
    "# 10\n",
    "df10 <- nycflights %>%\n",
    "mutate(arr_type = ifelse(arr_delay <= 0, 'on time', 'delayed'),\n",
    "      dep_type = ifelse(dep_delay < 5, 'on time', 'delayed')) %>%\n",
    "group_by(dep_type) %>%\n",
    "summarize(p_arr_ontime = mean(arr_type == 'on time'))\n",
    "\n",
    "df10"
   ]
  }
 ],
 "metadata": {
  "kernelspec": {
   "display_name": "R",
   "language": "R",
   "name": "ir"
  },
  "language_info": {
   "codemirror_mode": "r",
   "file_extension": ".r",
   "mimetype": "text/x-r-source",
   "name": "R",
   "pygments_lexer": "r",
   "version": "3.4.2"
  }
 },
 "nbformat": 4,
 "nbformat_minor": 2
}
