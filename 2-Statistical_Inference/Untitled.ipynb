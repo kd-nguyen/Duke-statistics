{
 "cells": [
  {
   "cell_type": "code",
   "execution_count": 1,
   "metadata": {
    "scrolled": true
   },
   "outputs": [
    {
     "data": {
      "text/html": [
       "0.0250452028547842"
      ],
      "text/latex": [
       "0.0250452028547842"
      ],
      "text/markdown": [
       "0.0250452028547842"
      ],
      "text/plain": [
       "[1] 0.0250452"
      ]
     },
     "metadata": {},
     "output_type": "display_data"
    }
   ],
   "source": [
    "pt(-2.10, 18)"
   ]
  },
  {
   "cell_type": "code",
   "execution_count": 2,
   "metadata": {
    "scrolled": true
   },
   "outputs": [
    {
     "data": {
      "text/html": [
       "0.0572804122689396"
      ],
      "text/latex": [
       "0.0572804122689396"
      ],
      "text/markdown": [
       "0.0572804122689396"
      ],
      "text/plain": [
       "[1] 0.05728041"
      ]
     },
     "metadata": {},
     "output_type": "display_data"
    }
   ],
   "source": [
    "pt(1.65, 20, lower.tail = FALSE)"
   ]
  },
  {
   "cell_type": "code",
   "execution_count": 4,
   "metadata": {
    "scrolled": true
   },
   "outputs": [
    {
     "data": {
      "text/html": [
       "0.0954659662667091"
      ],
      "text/latex": [
       "0.0954659662667091"
      ],
      "text/markdown": [
       "0.0954659662667091"
      ],
      "text/plain": [
       "[1] 0.09546597"
      ]
     },
     "metadata": {},
     "output_type": "display_data"
    }
   ],
   "source": [
    "pt(-3, 2) * 2"
   ]
  },
  {
   "cell_type": "code",
   "execution_count": 6,
   "metadata": {},
   "outputs": [
    {
     "data": {
      "text/html": [
       "0.955297765665808"
      ],
      "text/latex": [
       "0.955297765665808"
      ],
      "text/markdown": [
       "0.955297765665808"
      ],
      "text/plain": [
       "[1] 0.9552978"
      ]
     },
     "metadata": {},
     "output_type": "display_data"
    }
   ],
   "source": [
    "pt(-1.79, 19, lower.tail = FALSE)"
   ]
  },
  {
   "cell_type": "code",
   "execution_count": 8,
   "metadata": {
    "scrolled": true
   },
   "outputs": [
    {
     "data": {
      "text/html": [
       "2.10092204024104"
      ],
      "text/latex": [
       "2.10092204024104"
      ],
      "text/markdown": [
       "2.10092204024104"
      ],
      "text/plain": [
       "[1] 2.100922"
      ]
     },
     "metadata": {},
     "output_type": "display_data"
    }
   ],
   "source": [
    "qt(0.975, 18)"
   ]
  },
  {
   "cell_type": "code",
   "execution_count": 9,
   "metadata": {
    "scrolled": true
   },
   "outputs": [
    {
     "data": {
      "text/html": [
       "1.76131013577489"
      ],
      "text/latex": [
       "1.76131013577489"
      ],
      "text/markdown": [
       "1.76131013577489"
      ],
      "text/plain": [
       "[1] 1.76131"
      ]
     },
     "metadata": {},
     "output_type": "display_data"
    }
   ],
   "source": [
    "qt(0.95, 14)"
   ]
  },
  {
   "cell_type": "code",
   "execution_count": 14,
   "metadata": {
    "scrolled": true
   },
   "outputs": [
    {
     "data": {
      "text/html": [
       "0.144674491096165"
      ],
      "text/latex": [
       "0.144674491096165"
      ],
      "text/markdown": [
       "0.144674491096165"
      ],
      "text/plain": [
       "[1] 0.1446745"
      ]
     },
     "metadata": {},
     "output_type": "display_data"
    }
   ],
   "source": [
    "pt((95.61 - 93.29) / (15.78 / sqrt(100)), 99, lower.tail = FALSE) * 2"
   ]
  },
  {
   "cell_type": "code",
   "execution_count": 13,
   "metadata": {},
   "outputs": [
    {
     "data": {
      "text/html": [
       "0.927662754451918"
      ],
      "text/latex": [
       "0.927662754451918"
      ],
      "text/markdown": [
       "0.927662754451918"
      ],
      "text/plain": [
       "[1] 0.9276628"
      ]
     },
     "metadata": {},
     "output_type": "display_data"
    }
   ],
   "source": [
    "pt((95.61 - 93.29) / (15.78 / sqrt(100)), 99)"
   ]
  },
  {
   "cell_type": "code",
   "execution_count": 16,
   "metadata": {},
   "outputs": [
    {
     "data": {
      "text/html": [
       "16.0890841563253"
      ],
      "text/latex": [
       "16.0890841563253"
      ],
      "text/markdown": [
       "16.0890841563253"
      ],
      "text/plain": [
       "[1] 16.08908"
      ]
     },
     "metadata": {},
     "output_type": "display_data"
    }
   ],
   "source": [
    "12.76 + qt(0.975, 72) * 1.67"
   ]
  }
 ],
 "metadata": {
  "kernelspec": {
   "display_name": "R",
   "language": "R",
   "name": "ir"
  },
  "language_info": {
   "codemirror_mode": "r",
   "file_extension": ".r",
   "mimetype": "text/x-r-source",
   "name": "R",
   "pygments_lexer": "r",
   "version": "3.4.2"
  }
 },
 "nbformat": 4,
 "nbformat_minor": 2
}
