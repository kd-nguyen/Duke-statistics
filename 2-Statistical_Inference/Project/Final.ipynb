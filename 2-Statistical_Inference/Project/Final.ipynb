{
 "cells": [
  {
   "cell_type": "code",
   "execution_count": 225,
   "metadata": {},
   "outputs": [],
   "source": [
    "library(ggplot2)\n",
    "library(dplyr)\n",
    "library(statsr)"
   ]
  },
  {
   "cell_type": "markdown",
   "metadata": {},
   "source": [
    "The findings from this data can be generalized to all adults in the United States, since random sampling was used to find candidates for house interviews. More specifically, the survey uses cluster sampling to identify areas/clusters for canvas, and for each cluster, a stratified sample was taken with quotas based on sex, age, and employment status. As a result, the sampling method is multi-stage and is able to generalize to US adults with little bias due to demographic imbalance (due to the quota sampling) and without using as much resources compared to a simple random sample. As with all surveys, there is some non-response bias, but it was minimized by limiting canvas and interviews to after 3 pm on weekdays or during weekend or holidays*.\n",
    "\n",
    "Any correlation between variables found through analyzing the data should not be taken as causation, since an experiment was not designed and subjects were not randomly assigned to different groups of one variable. Hence, any difference observed between those groups might be caused by some other underlying differences between those groups, and not directly by that variable itself.\n",
    "\n",
    "* Smith, T., Hout, M. and Marsden, P. (2018). General Social Survey, 1972-2012. [PDF] Inter-university Consortium for Political and Social Research, pp.2881-2882. Available at: https://www.icpsr.umich.edu/cgi-bin/file?comp=none&study=34802&ds=1&file_id=1136502&path= [Accessed 18 Mar. 2018]."
   ]
  },
  {
   "cell_type": "markdown",
   "metadata": {},
   "source": [
    "**Research question:** Are level of education (by highest degree obtained) and self-perceived social class dependent?\n",
    "\n",
    "**Why this interests me**: As a college graduate, I perceive myself as middle class due to my income level. However, I wonder if there's a dependence between education level and perceived social class, since I've been told that the more educated one is, the higher income one earns, and that might affect how one perceive his or her social class. Furthermore, a person who perceives him- or herself to belong to a lower social class might tend not to pursue higher education. \n",
    "\n",
    "Therefore, if there's indeed no difference in proportion of perceived social class among different education levels, the survey finding can be used to dispute that claim or not."
   ]
  },
  {
   "cell_type": "code",
   "execution_count": 226,
   "metadata": {
    "collapsed": true
   },
   "outputs": [],
   "source": [
    "load('gss.Rdata')"
   ]
  },
  {
   "cell_type": "markdown",
   "metadata": {},
   "source": [
    "**Research question:** Are level of education (by highest degree obtained) and perceived social class dependent?\n",
    "\n",
    "1) Select relevant columns and remove rows with missing data (*degree*: highest degree earned,  *class*: self-perceived social class). There was one person who answered 'No Class', which can be dropped from the data since this label provides no meaningful interpretation."
   ]
  },
  {
   "cell_type": "code",
   "execution_count": 227,
   "metadata": {},
   "outputs": [],
   "source": [
    "gss1 <- gss %>%\n",
    "select(degree, class) %>%\n",
    "na.omit() %>%\n",
    "filter(class != 'No Class') %>%\n",
    "droplevels()"
   ]
  },
  {
   "cell_type": "markdown",
   "metadata": {},
   "source": [
    "2) Plotting proportion of social class versus education level shows that at higher education levels, a larger portion of people perceives themselves as upper and middle class and a smaller portion perceives themselves as lower and working class. The greatest difference between (middle + upper) class and (lower + working) class is between those with junior college degrees and bachelor degrees."
   ]
  },
  {
   "cell_type": "code",
   "execution_count": 228,
   "metadata": {
    "scrolled": false
   },
   "outputs": [
    {
     "data": {},
     "metadata": {},
     "output_type": "display_data"
    },
    {
     "data": {
      "image/png": "[encoded data removed]",
      "text/plain": [
       "plot without title"
      ]
     },
     "metadata": {},
     "output_type": "display_data"
    }
   ],
   "source": [
    "ggplot(gss1) +\n",
    "geom_bar(aes(x = degree, fill = class), position = 'fill') +\n",
    "ylab('proportion')"
   ]
  },
  {
   "cell_type": "markdown",
   "metadata": {},
   "source": [
    "3) Calculating the perceived social class proportion for each education level reaches the same conclusion: in general, the more advanced the highest degree earned is, the higher proportions of perceived middle and upper class people and the lower proportions of perceived lower and working class people there are for that group."
   ]
  },
  {
   "cell_type": "code",
   "execution_count": 229,
   "metadata": {
    "scrolled": true
   },
   "outputs": [
    {
     "data": {
      "text/plain": [
       "               \n",
       "                Lt High School High School Junior College Bachelor Graduate\n",
       "  Lower Class             1322        1450            120      109       26\n",
       "  Working Class           5721       14407           1396     1919      534\n",
       "  Middle Class            3732       11194           1332     5021     2718\n",
       "  Upper Class              255         538             62      493      368"
      ]
     },
     "metadata": {},
     "output_type": "display_data"
    }
   ],
   "source": [
    "# Cell count table\n",
    "gss_table <- table(gss1$class, gss1$degree)\n",
    "gss_table"
   ]
  },
  {
   "cell_type": "code",
   "execution_count": 230,
   "metadata": {},
   "outputs": [
    {
     "data": {
      "text/plain": [
       "               \n",
       "                Lt High School High School Junior College   Bachelor   Graduate\n",
       "  Lower Class       11.9854941   5.2557179      4.1237113  1.4452400  0.7131103\n",
       "  Working Class     51.8676337  52.2200877     47.9725086 25.4441793 14.6461876\n",
       "  Middle Class      33.8349955  40.5741419     45.7731959 66.5738531 74.5474493\n",
       "  Upper Class        2.3118767   1.9500526      2.1305842  6.5367277 10.0932529"
      ]
     },
     "metadata": {},
     "output_type": "display_data"
    }
   ],
   "source": [
    "# Proportion table (relative to total samples in each education level group)\n",
    "prop.table(gss_table, 2) * 100"
   ]
  },
  {
   "cell_type": "markdown",
   "metadata": {},
   "source": [
    "# Inference"
   ]
  },
  {
   "cell_type": "markdown",
   "metadata": {},
   "source": [
    "## Hypothesis\n",
    "\n",
    "**H0:** there is no difference in social class self-perception across education levels\n",
    "\n",
    "**H1:** there is a difference in social class self-perception across education levels\n",
    "\n",
    "## Conditions\n",
    "\n",
    "**Independence condition**: Since the survey sample is randomly selected and composed of less than 10% of the US adult population (across all sub-groups), and we have no reason to believe that the answers from the people surveyed are significantly related, the independence condition for chi-square test is met.\n",
    "\n",
    "**Sample size condition**: Since the expected count for all counts under null hypothesis (see below) are all greater than 5, the sample size condition for chi-square test is met."
   ]
  },
  {
   "cell_type": "code",
   "execution_count": 231,
   "metadata": {
    "scrolled": true
   },
   "outputs": [
    {
     "data": {
      "text/html": [
       "<table>\n",
       "<thead><tr><th></th><th scope=col>Lt High School</th><th scope=col>High School</th><th scope=col>Junior College</th><th scope=col>Bachelor</th><th scope=col>Graduate</th></tr></thead>\n",
       "<tbody>\n",
       "\t<tr><th scope=row>Lower Class</th><td> 633.3405 </td><td> 1584.1551</td><td> 167.0916 </td><td> 433.0602 </td><td> 209.3526 </td></tr>\n",
       "\t<tr><th scope=row>Working Class</th><td>5016.7178 </td><td>12548.1619</td><td>1323.5402 </td><td>3430.2888 </td><td>1658.2913 </td></tr>\n",
       "\t<tr><th scope=row>Middle Class</th><td>5020.9024 </td><td>12558.6288</td><td>1324.6442 </td><td>3433.1501 </td><td>1659.6745 </td></tr>\n",
       "\t<tr><th scope=row>Upper Class</th><td> 359.0394 </td><td>  898.0542</td><td>  94.7239 </td><td> 245.5009 </td><td> 118.6816 </td></tr>\n",
       "</tbody>\n",
       "</table>\n"
      ],
      "text/latex": [
       "\\begin{tabular}{r|lllll}\n",
       "  & Lt High School & High School & Junior College & Bachelor & Graduate\\\\\n",
       "\\hline\n",
       "\tLower Class &  633.3405  &  1584.1551 &  167.0916  &  433.0602  &  209.3526 \\\\\n",
       "\tWorking Class & 5016.7178  & 12548.1619 & 1323.5402  & 3430.2888  & 1658.2913 \\\\\n",
       "\tMiddle Class & 5020.9024  & 12558.6288 & 1324.6442  & 3433.1501  & 1659.6745 \\\\\n",
       "\tUpper Class &  359.0394  &   898.0542 &   94.7239  &  245.5009  &  118.6816 \\\\\n",
       "\\end{tabular}\n"
      ],
      "text/markdown": [
       "\n",
       "| <!--/--> | Lt High School | High School | Junior College | Bachelor | Graduate | \n",
       "|---|---|---|---|\n",
       "| Lower Class |  633.3405  |  1584.1551 |  167.0916  |  433.0602  |  209.3526  | \n",
       "| Working Class | 5016.7178  | 12548.1619 | 1323.5402  | 3430.2888  | 1658.2913  | \n",
       "| Middle Class | 5020.9024  | 12558.6288 | 1324.6442  | 3433.1501  | 1659.6745  | \n",
       "| Upper Class |  359.0394  |   898.0542 |   94.7239  |  245.5009  |  118.6816  | \n",
       "\n",
       "\n"
      ],
      "text/plain": [
       "               \n",
       "                Lt High School High School Junior College Bachelor  Graduate \n",
       "  Lower Class    633.3405       1584.1551   167.0916       433.0602  209.3526\n",
       "  Working Class 5016.7178      12548.1619  1323.5402      3430.2888 1658.2913\n",
       "  Middle Class  5020.9024      12558.6288  1324.6442      3433.1501 1659.6745\n",
       "  Upper Class    359.0394        898.0542    94.7239       245.5009  118.6816"
      ]
     },
     "metadata": {},
     "output_type": "display_data"
    }
   ],
   "source": [
    "row_sums <- margin.table(gss_table, 1)\n",
    "row_p <- row_sums / sum(gss_table)\n",
    "column_sums <- margin.table(gss_table, 2)\n",
    "expected_table <- outer(row_p, column_sums)\n",
    "expected_table"
   ]
  },
  {
   "cell_type": "markdown",
   "metadata": {},
   "source": [
    "## Hypothesis testing method\n",
    "\n",
    "**Method**: Chi-square test for independence (between 2 categorical variables)\n",
    "\n",
    "**Why**: since both variables under study are categorical, a chi-square test is used to see if the proportion distribution of one variable changes across different levels of the second variable. If it does, the two variables are independent.\n",
    "\n",
    "**How**: under the null hypothesis, the two variables (class and education level) are independent. As a result, the proportions of perceived social class would be identical across education levels, and the difference between the survey proportions and the null-hypothesis proportions is represented by the chi-square test statistic. \n",
    "\n",
    "A p-value is calculated from that chi-square value to show how likely the survey result would be obtained if the hypothesis is true, and if it's very unlikely (under 5% significance level), then the null hypothesis can be rejected. If not, we fail to reject the null hypothesis.\n",
    "\n",
    "## Result\n",
    "\n",
    "1) The observed proportions look to be much different than the expected proportions under the null hypothesis (no difference in social class self-perception across education levels), suggesting a low p-value and high likelihood of rejecting the null hypothesis."
   ]
  },
  {
   "cell_type": "code",
   "execution_count": 232,
   "metadata": {},
   "outputs": [
    {
     "data": {},
     "metadata": {},
     "output_type": "display_data"
    },
    {
     "data": {
      "image/png": "[encoded data removed]",
      "text/plain": [
       "plot without title"
      ]
     },
     "metadata": {},
     "output_type": "display_data"
    }
   ],
   "source": [
    "observed_counts <- as.data.frame(gss_table)\n",
    "observed_counts$type <- 'observed'\n",
    "observed_counts <- rename(observed_counts, class = Var1, degree = Var2, count = Freq)\n",
    "\n",
    "expected_counts <- melt(expected_table)\n",
    "expected_counts$type <- 'expected'\n",
    "expected_counts <- rename(expected_counts, class = Var1, degree = Var2, count = value)\n",
    "\n",
    "rbind(observed_counts, expected_counts) %>%\n",
    "ggplot() +\n",
    "geom_bar(aes(x = degree, y = count, fill = class), \n",
    "         stat = 'identity', position = 'fill') +\n",
    "theme(axis.text.x = element_text(angle = 90, hjust = 1)) +\n",
    "ylab('proportion') +\n",
    "facet_wrap(~ type)"
   ]
  },
  {
   "cell_type": "markdown",
   "metadata": {},
   "source": [
    "2) Calculating chi-square test-statistic gives a chi square value of 5830. Due to this very large chi square, its p-value (at 12 degrees of freedom) is virtually zero."
   ]
  },
  {
   "cell_type": "code",
   "execution_count": 233,
   "metadata": {
    "scrolled": true
   },
   "outputs": [
    {
     "data": {
      "text/html": [
       "5830.31908184577"
      ],
      "text/latex": [
       "5830.31908184577"
      ],
      "text/markdown": [
       "5830.31908184577"
      ],
      "text/plain": [
       "[1] 5830.319"
      ]
     },
     "metadata": {},
     "output_type": "display_data"
    }
   ],
   "source": [
    "chi_square <- sum((gss_table - expected_table)^2 / expected_table)\n",
    "chi_square"
   ]
  },
  {
   "cell_type": "code",
   "execution_count": 234,
   "metadata": {},
   "outputs": [
    {
     "data": {
      "text/html": [
       "12"
      ],
      "text/latex": [
       "12"
      ],
      "text/markdown": [
       "12"
      ],
      "text/plain": [
       "[1] 12"
      ]
     },
     "metadata": {},
     "output_type": "display_data"
    }
   ],
   "source": [
    "df <- (length(unique(gss1$class)) - 1) * (length(unique(gss1$degree)) - 1)\n",
    "df"
   ]
  },
  {
   "cell_type": "code",
   "execution_count": 235,
   "metadata": {},
   "outputs": [
    {
     "data": {
      "text/html": [
       "0"
      ],
      "text/latex": [
       "0"
      ],
      "text/markdown": [
       "0"
      ],
      "text/plain": [
       "[1] 0"
      ]
     },
     "metadata": {},
     "output_type": "display_data"
    }
   ],
   "source": [
    "pchisq(chi_square, df, lower.tail = FALSE)"
   ]
  },
  {
   "cell_type": "markdown",
   "metadata": {},
   "source": [
    "## Conclusion\n",
    "\n",
    "Since the p-value of the chi-square test statistic is less than 0.05, the null hypothesis (there is no difference in social class self-perception across education levels) is rejected at 5% significance level. In other words, the survey data provide convincing evidence that social class self-perception is indeed different across education levels."
   ]
  },
  {
   "cell_type": "code",
   "execution_count": 236,
   "metadata": {},
   "outputs": [
    {
     "data": {
      "text/html": [
       "<table>\n",
       "<thead><tr><th scope=col>degree</th><th scope=col>class</th></tr></thead>\n",
       "<tbody>\n",
       "\t<tr><td>Bachelor      </td><td>Middle Class  </td></tr>\n",
       "\t<tr><td>Lt High School</td><td>Middle Class  </td></tr>\n",
       "\t<tr><td>High School   </td><td>Working Class </td></tr>\n",
       "\t<tr><td>Bachelor      </td><td>Middle Class  </td></tr>\n",
       "\t<tr><td>High School   </td><td>Working Class </td></tr>\n",
       "\t<tr><td>High School   </td><td>Middle Class  </td></tr>\n",
       "\t<tr><td>High School   </td><td>Middle Class  </td></tr>\n",
       "\t<tr><td>Bachelor      </td><td>Working Class </td></tr>\n",
       "\t<tr><td>High School   </td><td>Working Class </td></tr>\n",
       "\t<tr><td>High School   </td><td>Working Class </td></tr>\n",
       "\t<tr><td>High School   </td><td>Working Class </td></tr>\n",
       "\t<tr><td>Lt High School</td><td>Working Class </td></tr>\n",
       "\t<tr><td>Lt High School</td><td>Working Class </td></tr>\n",
       "\t<tr><td>Lt High School</td><td>Working Class </td></tr>\n",
       "\t<tr><td>Lt High School</td><td>Middle Class  </td></tr>\n",
       "\t<tr><td>High School   </td><td>Working Class </td></tr>\n",
       "\t<tr><td>High School   </td><td>Working Class </td></tr>\n",
       "\t<tr><td>Lt High School</td><td>Middle Class  </td></tr>\n",
       "\t<tr><td>Bachelor      </td><td>Middle Class  </td></tr>\n",
       "\t<tr><td>High School   </td><td>Middle Class  </td></tr>\n",
       "\t<tr><td>High School   </td><td>Middle Class  </td></tr>\n",
       "\t<tr><td>High School   </td><td>Upper Class   </td></tr>\n",
       "\t<tr><td>High School   </td><td>Working Class </td></tr>\n",
       "\t<tr><td>High School   </td><td>Working Class </td></tr>\n",
       "\t<tr><td>Bachelor      </td><td>Middle Class  </td></tr>\n",
       "\t<tr><td>High School   </td><td>Working Class </td></tr>\n",
       "\t<tr><td>High School   </td><td>Working Class </td></tr>\n",
       "\t<tr><td>High School   </td><td>Working Class </td></tr>\n",
       "\t<tr><td>High School   </td><td>Middle Class  </td></tr>\n",
       "\t<tr><td>Lt High School</td><td>Middle Class  </td></tr>\n",
       "\t<tr><td>...</td><td>...</td></tr>\n",
       "\t<tr><td>High School   </td><td>Working Class </td></tr>\n",
       "\t<tr><td>High School   </td><td>Working Class </td></tr>\n",
       "\t<tr><td>High School   </td><td>Working Class </td></tr>\n",
       "\t<tr><td>High School   </td><td>Working Class </td></tr>\n",
       "\t<tr><td>High School   </td><td>Working Class </td></tr>\n",
       "\t<tr><td>Bachelor      </td><td>Middle Class  </td></tr>\n",
       "\t<tr><td>Bachelor      </td><td>Working Class </td></tr>\n",
       "\t<tr><td>Bachelor      </td><td>Middle Class  </td></tr>\n",
       "\t<tr><td>Junior College</td><td>Working Class </td></tr>\n",
       "\t<tr><td>Junior College</td><td>Middle Class  </td></tr>\n",
       "\t<tr><td>Junior College</td><td>Working Class </td></tr>\n",
       "\t<tr><td>High School   </td><td>Working Class </td></tr>\n",
       "\t<tr><td>Bachelor      </td><td>Middle Class  </td></tr>\n",
       "\t<tr><td>Graduate      </td><td>Middle Class  </td></tr>\n",
       "\t<tr><td>Graduate      </td><td>Working Class </td></tr>\n",
       "\t<tr><td>Bachelor      </td><td>Middle Class  </td></tr>\n",
       "\t<tr><td>High School   </td><td>Middle Class  </td></tr>\n",
       "\t<tr><td>High School   </td><td>Working Class </td></tr>\n",
       "\t<tr><td>High School   </td><td>Lower Class   </td></tr>\n",
       "\t<tr><td>High School   </td><td>Working Class </td></tr>\n",
       "\t<tr><td>Graduate      </td><td>Middle Class  </td></tr>\n",
       "\t<tr><td>Lt High School</td><td>Working Class </td></tr>\n",
       "\t<tr><td>Lt High School</td><td>Lower Class   </td></tr>\n",
       "\t<tr><td>Lt High School</td><td>Working Class </td></tr>\n",
       "\t<tr><td>Lt High School</td><td>Working Class </td></tr>\n",
       "\t<tr><td>Bachelor      </td><td>Working Class </td></tr>\n",
       "\t<tr><td>High School   </td><td>Lower Class   </td></tr>\n",
       "\t<tr><td>High School   </td><td>Middle Class  </td></tr>\n",
       "\t<tr><td>High School   </td><td>Lower Class   </td></tr>\n",
       "\t<tr><td>High School   </td><td>Working Class </td></tr>\n",
       "</tbody>\n",
       "</table>\n"
      ],
      "text/latex": [
       "\\begin{tabular}{r|ll}\n",
       " degree & class\\\\\n",
       "\\hline\n",
       "\t Bachelor       & Middle Class  \\\\\n",
       "\t Lt High School & Middle Class  \\\\\n",
       "\t High School    & Working Class \\\\\n",
       "\t Bachelor       & Middle Class  \\\\\n",
       "\t High School    & Working Class \\\\\n",
       "\t High School    & Middle Class  \\\\\n",
       "\t High School    & Middle Class  \\\\\n",
       "\t Bachelor       & Working Class \\\\\n",
       "\t High School    & Working Class \\\\\n",
       "\t High School    & Working Class \\\\\n",
       "\t High School    & Working Class \\\\\n",
       "\t Lt High School & Working Class \\\\\n",
       "\t Lt High School & Working Class \\\\\n",
       "\t Lt High School & Working Class \\\\\n",
       "\t Lt High School & Middle Class  \\\\\n",
       "\t High School    & Working Class \\\\\n",
       "\t High School    & Working Class \\\\\n",
       "\t Lt High School & Middle Class  \\\\\n",
       "\t Bachelor       & Middle Class  \\\\\n",
       "\t High School    & Middle Class  \\\\\n",
       "\t High School    & Middle Class  \\\\\n",
       "\t High School    & Upper Class   \\\\\n",
       "\t High School    & Working Class \\\\\n",
       "\t High School    & Working Class \\\\\n",
       "\t Bachelor       & Middle Class  \\\\\n",
       "\t High School    & Working Class \\\\\n",
       "\t High School    & Working Class \\\\\n",
       "\t High School    & Working Class \\\\\n",
       "\t High School    & Middle Class  \\\\\n",
       "\t Lt High School & Middle Class  \\\\\n",
       "\t ... & ...\\\\\n",
       "\t High School    & Working Class \\\\\n",
       "\t High School    & Working Class \\\\\n",
       "\t High School    & Working Class \\\\\n",
       "\t High School    & Working Class \\\\\n",
       "\t High School    & Working Class \\\\\n",
       "\t Bachelor       & Middle Class  \\\\\n",
       "\t Bachelor       & Working Class \\\\\n",
       "\t Bachelor       & Middle Class  \\\\\n",
       "\t Junior College & Working Class \\\\\n",
       "\t Junior College & Middle Class  \\\\\n",
       "\t Junior College & Working Class \\\\\n",
       "\t High School    & Working Class \\\\\n",
       "\t Bachelor       & Middle Class  \\\\\n",
       "\t Graduate       & Middle Class  \\\\\n",
       "\t Graduate       & Working Class \\\\\n",
       "\t Bachelor       & Middle Class  \\\\\n",
       "\t High School    & Middle Class  \\\\\n",
       "\t High School    & Working Class \\\\\n",
       "\t High School    & Lower Class   \\\\\n",
       "\t High School    & Working Class \\\\\n",
       "\t Graduate       & Middle Class  \\\\\n",
       "\t Lt High School & Working Class \\\\\n",
       "\t Lt High School & Lower Class   \\\\\n",
       "\t Lt High School & Working Class \\\\\n",
       "\t Lt High School & Working Class \\\\\n",
       "\t Bachelor       & Working Class \\\\\n",
       "\t High School    & Lower Class   \\\\\n",
       "\t High School    & Middle Class  \\\\\n",
       "\t High School    & Lower Class   \\\\\n",
       "\t High School    & Working Class \\\\\n",
       "\\end{tabular}\n"
      ],
      "text/markdown": [
       "\n",
       "degree | class | \n",
       "|---|---|---|---|---|---|---|---|---|---|---|---|---|---|---|---|---|---|---|---|---|---|---|---|---|---|---|---|---|---|---|---|---|---|---|---|---|---|---|---|---|---|---|---|---|---|---|---|---|---|---|---|---|---|---|---|---|---|---|---|---|\n",
       "| Bachelor       | Middle Class   | \n",
       "| Lt High School | Middle Class   | \n",
       "| High School    | Working Class  | \n",
       "| Bachelor       | Middle Class   | \n",
       "| High School    | Working Class  | \n",
       "| High School    | Middle Class   | \n",
       "| High School    | Middle Class   | \n",
       "| Bachelor       | Working Class  | \n",
       "| High School    | Working Class  | \n",
       "| High School    | Working Class  | \n",
       "| High School    | Working Class  | \n",
       "| Lt High School | Working Class  | \n",
       "| Lt High School | Working Class  | \n",
       "| Lt High School | Working Class  | \n",
       "| Lt High School | Middle Class   | \n",
       "| High School    | Working Class  | \n",
       "| High School    | Working Class  | \n",
       "| Lt High School | Middle Class   | \n",
       "| Bachelor       | Middle Class   | \n",
       "| High School    | Middle Class   | \n",
       "| High School    | Middle Class   | \n",
       "| High School    | Upper Class    | \n",
       "| High School    | Working Class  | \n",
       "| High School    | Working Class  | \n",
       "| Bachelor       | Middle Class   | \n",
       "| High School    | Working Class  | \n",
       "| High School    | Working Class  | \n",
       "| High School    | Working Class  | \n",
       "| High School    | Middle Class   | \n",
       "| Lt High School | Middle Class   | \n",
       "| ... | ... | \n",
       "| High School    | Working Class  | \n",
       "| High School    | Working Class  | \n",
       "| High School    | Working Class  | \n",
       "| High School    | Working Class  | \n",
       "| High School    | Working Class  | \n",
       "| Bachelor       | Middle Class   | \n",
       "| Bachelor       | Working Class  | \n",
       "| Bachelor       | Middle Class   | \n",
       "| Junior College | Working Class  | \n",
       "| Junior College | Middle Class   | \n",
       "| Junior College | Working Class  | \n",
       "| High School    | Working Class  | \n",
       "| Bachelor       | Middle Class   | \n",
       "| Graduate       | Middle Class   | \n",
       "| Graduate       | Working Class  | \n",
       "| Bachelor       | Middle Class   | \n",
       "| High School    | Middle Class   | \n",
       "| High School    | Working Class  | \n",
       "| High School    | Lower Class    | \n",
       "| High School    | Working Class  | \n",
       "| Graduate       | Middle Class   | \n",
       "| Lt High School | Working Class  | \n",
       "| Lt High School | Lower Class    | \n",
       "| Lt High School | Working Class  | \n",
       "| Lt High School | Working Class  | \n",
       "| Bachelor       | Working Class  | \n",
       "| High School    | Lower Class    | \n",
       "| High School    | Middle Class   | \n",
       "| High School    | Lower Class    | \n",
       "| High School    | Working Class  | \n",
       "\n",
       "\n"
      ],
      "text/plain": [
       "      degree         class        \n",
       "1     Bachelor       Middle Class \n",
       "2     Lt High School Middle Class \n",
       "3     High School    Working Class\n",
       "4     Bachelor       Middle Class \n",
       "5     High School    Working Class\n",
       "6     High School    Middle Class \n",
       "7     High School    Middle Class \n",
       "8     Bachelor       Working Class\n",
       "9     High School    Working Class\n",
       "10    High School    Working Class\n",
       "11    High School    Working Class\n",
       "12    Lt High School Working Class\n",
       "13    Lt High School Working Class\n",
       "14    Lt High School Working Class\n",
       "15    Lt High School Middle Class \n",
       "16    High School    Working Class\n",
       "17    High School    Working Class\n",
       "18    Lt High School Middle Class \n",
       "19    Bachelor       Middle Class \n",
       "20    High School    Middle Class \n",
       "21    High School    Middle Class \n",
       "22    High School    Upper Class  \n",
       "23    High School    Working Class\n",
       "24    High School    Working Class\n",
       "25    Bachelor       Middle Class \n",
       "26    High School    Working Class\n",
       "27    High School    Working Class\n",
       "28    High School    Working Class\n",
       "29    High School    Middle Class \n",
       "30    Lt High School Middle Class \n",
       "...   ...            ...          \n",
       "52688 High School    Working Class\n",
       "52689 High School    Working Class\n",
       "52690 High School    Working Class\n",
       "52691 High School    Working Class\n",
       "52692 High School    Working Class\n",
       "52693 Bachelor       Middle Class \n",
       "52694 Bachelor       Working Class\n",
       "52695 Bachelor       Middle Class \n",
       "52696 Junior College Working Class\n",
       "52697 Junior College Middle Class \n",
       "52698 Junior College Working Class\n",
       "52699 High School    Working Class\n",
       "52700 Bachelor       Middle Class \n",
       "52701 Graduate       Middle Class \n",
       "52702 Graduate       Working Class\n",
       "52703 Bachelor       Middle Class \n",
       "52704 High School    Middle Class \n",
       "52705 High School    Working Class\n",
       "52706 High School    Lower Class  \n",
       "52707 High School    Working Class\n",
       "52708 Graduate       Middle Class \n",
       "52709 Lt High School Working Class\n",
       "52710 Lt High School Lower Class  \n",
       "52711 Lt High School Working Class\n",
       "52712 Lt High School Working Class\n",
       "52713 Bachelor       Working Class\n",
       "52714 High School    Lower Class  \n",
       "52715 High School    Middle Class \n",
       "52716 High School    Lower Class  \n",
       "52717 High School    Working Class"
      ]
     },
     "metadata": {},
     "output_type": "display_data"
    }
   ],
   "source": [
    "gss1"
   ]
  },
  {
   "cell_type": "code",
   "execution_count": 237,
   "metadata": {},
   "outputs": [
    {
     "name": "stderr",
     "output_type": "stream",
     "text": [
      "Warning message:\n",
      "\"Use alternative = \"greater\" for chi-square test\""
     ]
    },
    {
     "name": "stdout",
     "output_type": "stream",
     "text": [
      "Response variable: categorical (4 levels) \n",
      "Explanatory variable: categorical (5 levels) \n",
      "Observed:\n",
      "                y\n",
      "x                Lower Class Working Class Middle Class Upper Class\n",
      "  Lt High School        1322          5721         3732         255\n",
      "  High School           1450         14407        11194         538\n",
      "  Junior College         120          1396         1332          62\n",
      "  Bachelor               109          1919         5021         493\n",
      "  Graduate                26           534         2718         368\n",
      "\n",
      "Expected:\n",
      "                y\n",
      "x                Lower Class Working Class Middle Class Upper Class\n",
      "  Lt High School    633.3405      5016.718     5020.902    359.0394\n",
      "  High School      1584.1551     12548.162    12558.629    898.0542\n",
      "  Junior College    167.0916      1323.540     1324.644     94.7239\n",
      "  Bachelor          433.0602      3430.289     3433.150    245.5009\n",
      "  Graduate          209.3526      1658.291     1659.675    118.6816\n",
      "\n",
      "H0: degree and class are independent\n",
      "HA: degree and class are dependent\n",
      "chi_sq = 5830.3191, df = 12, p_value = 0\n"
     ]
    },
    {
     "data": {
      "image/png": "[encoded data removed]",
      "text/plain": [
       "plot without title"
      ]
     },
     "metadata": {},
     "output_type": "display_data"
    }
   ],
   "source": [
    "inference (y = class, x = degree, \n",
    "           data = gss1, statistic = \"proportion\",\n",
    "           type = \"ht\",\n",
    "           method = \"theoretical\")"
   ]
  }
 ],
 "metadata": {
  "kernelspec": {
   "display_name": "R",
   "language": "R",
   "name": "ir"
  },
  "language_info": {
   "codemirror_mode": "r",
   "file_extension": ".r",
   "mimetype": "text/x-r-source",
   "name": "R",
   "pygments_lexer": "r",
   "version": "3.4.2"
  }
 },
 "nbformat": 4,
 "nbformat_minor": 2
}
