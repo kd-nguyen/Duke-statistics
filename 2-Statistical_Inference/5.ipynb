{
 "cells": [
  {
   "cell_type": "code",
   "execution_count": 2,
   "metadata": {},
   "outputs": [
    {
     "data": {
      "text/html": [
       "-1.76131013577489"
      ],
      "text/latex": [
       "-1.76131013577489"
      ],
      "text/markdown": [
       "-1.76131013577489"
      ],
      "text/plain": [
       "[1] -1.76131"
      ]
     },
     "metadata": {},
     "output_type": "display_data"
    }
   ],
   "source": [
    "qt(0.05, 14)"
   ]
  },
  {
   "cell_type": "code",
   "execution_count": 8,
   "metadata": {},
   "outputs": [
    {
     "data": {
      "text/html": [
       "<ol class=list-inline>\n",
       "\t<li>1.4702154626109</li>\n",
       "\t<li>0.144674491096165</li>\n",
       "</ol>\n"
      ],
      "text/latex": [
       "\\begin{enumerate*}\n",
       "\\item 1.4702154626109\n",
       "\\item 0.144674491096165\n",
       "\\end{enumerate*}\n"
      ],
      "text/markdown": [
       "1. 1.4702154626109\n",
       "2. 0.144674491096165\n",
       "\n",
       "\n"
      ],
      "text/plain": [
       "[1] 1.4702155 0.1446745"
      ]
     },
     "metadata": {},
     "output_type": "display_data"
    }
   ],
   "source": [
    "t <- (95.61 - 93.29) / (15.78 / 10)\n",
    "c(t, 2 * (1 - pt(t, 99)))"
   ]
  },
  {
   "cell_type": "code",
   "execution_count": 10,
   "metadata": {},
   "outputs": [
    {
     "data": {
      "text/html": [
       "6.89117651830884e-11"
      ],
      "text/latex": [
       "6.89117651830884e-11"
      ],
      "text/markdown": [
       "6.89117651830884e-11"
      ],
      "text/plain": [
       "[1] 6.891177e-11"
      ]
     },
     "metadata": {},
     "output_type": "display_data"
    }
   ],
   "source": [
    "2*(1 - pt(7.65, 72))"
   ]
  },
  {
   "cell_type": "code",
   "execution_count": 13,
   "metadata": {
    "scrolled": true
   },
   "outputs": [
    {
     "data": {
      "text/html": [
       "9.43091584367467"
      ],
      "text/latex": [
       "9.43091584367467"
      ],
      "text/markdown": [
       "9.43091584367467"
      ],
      "text/plain": [
       "[1] 9.430916"
      ]
     },
     "metadata": {},
     "output_type": "display_data"
    }
   ],
   "source": [
    "12.76 + qt(0.025, 72) * 1.67"
   ]
  },
  {
   "cell_type": "code",
   "execution_count": 15,
   "metadata": {},
   "outputs": [
    {
     "data": {
      "text/html": [
       "<ol class=list-inline>\n",
       "\t<li>3.33329193635188</li>\n",
       "\t<li>12.3267080636481</li>\n",
       "</ol>\n"
      ],
      "text/latex": [
       "\\begin{enumerate*}\n",
       "\\item 3.33329193635188\n",
       "\\item 12.3267080636481\n",
       "\\end{enumerate*}\n"
      ],
      "text/markdown": [
       "1. 3.33329193635188\n",
       "2. 12.3267080636481\n",
       "\n",
       "\n"
      ],
      "text/plain": [
       "[1]  3.333292 12.326708"
      ]
     },
     "metadata": {},
     "output_type": "display_data"
    }
   ],
   "source": [
    "c(7.83 + qt(0.025, 8) * 1.95, 7.83 - qt(0.025, 8) * 1.95)"
   ]
  },
  {
   "cell_type": "code",
   "execution_count": 16,
   "metadata": {
    "scrolled": true
   },
   "outputs": [
    {
     "data": {
      "text/html": [
       "0.257872061301724"
      ],
      "text/latex": [
       "0.257872061301724"
      ],
      "text/markdown": [
       "0.257872061301724"
      ],
      "text/plain": [
       "[1] 0.2578721"
      ]
     },
     "metadata": {},
     "output_type": "display_data"
    }
   ],
   "source": [
    "sqrt(1.43^2/50 + 1.60^2/100)"
   ]
  },
  {
   "cell_type": "code",
   "execution_count": 18,
   "metadata": {},
   "outputs": [
    {
     "data": {
      "text/html": [
       "0.1272996052598"
      ],
      "text/latex": [
       "0.1272996052598"
      ],
      "text/markdown": [
       "0.1272996052598"
      ],
      "text/plain": [
       "[1] 0.1272996"
      ]
     },
     "metadata": {},
     "output_type": "display_data"
    }
   ],
   "source": [
    "t <- 0.4 / sqrt(1.43^2/50 + 1.60^2/100)\n",
    "2*(1 - pt(t, 49))"
   ]
  },
  {
   "cell_type": "code",
   "execution_count": 20,
   "metadata": {
    "scrolled": true
   },
   "outputs": [
    {
     "data": {
      "text/html": [
       "0.260612108012312"
      ],
      "text/latex": [
       "0.260612108012312"
      ],
      "text/markdown": [
       "0.260612108012312"
      ],
      "text/plain": [
       "[1] 0.2606121"
      ]
     },
     "metadata": {},
     "output_type": "display_data"
    }
   ],
   "source": [
    "2 * (1 - pt(1.15, 26))"
   ]
  },
  {
   "cell_type": "code",
   "execution_count": 22,
   "metadata": {},
   "outputs": [
    {
     "data": {
      "text/html": [
       "-3.37316881769691"
      ],
      "text/latex": [
       "-3.37316881769691"
      ],
      "text/markdown": [
       "-3.37316881769691"
      ],
      "text/plain": [
       "[1] -3.373169"
      ]
     },
     "metadata": {},
     "output_type": "display_data"
    }
   ],
   "source": [
    "qt(0.025, 99) * 1.70"
   ]
  },
  {
   "cell_type": "code",
   "execution_count": 23,
   "metadata": {
    "scrolled": true
   },
   "outputs": [
    {
     "data": {
      "text/html": [
       "-1.98421695158642"
      ],
      "text/latex": [
       "-1.98421695158642"
      ],
      "text/markdown": [
       "-1.98421695158642"
      ],
      "text/plain": [
       "[1] -1.984217"
      ]
     },
     "metadata": {},
     "output_type": "display_data"
    }
   ],
   "source": [
    "qt(0.025, 99)"
   ]
  },
  {
   "cell_type": "code",
   "execution_count": 24,
   "metadata": {},
   "outputs": [
    {
     "data": {
      "text/html": [
       "-1.95996398454005"
      ],
      "text/latex": [
       "-1.95996398454005"
      ],
      "text/markdown": [
       "-1.95996398454005"
      ],
      "text/plain": [
       "[1] -1.959964"
      ]
     },
     "metadata": {},
     "output_type": "display_data"
    }
   ],
   "source": [
    "qnorm(0.025)"
   ]
  }
 ],
 "metadata": {
  "kernelspec": {
   "display_name": "R",
   "language": "R",
   "name": "ir"
  },
  "language_info": {
   "codemirror_mode": "r",
   "file_extension": ".r",
   "mimetype": "text/x-r-source",
   "name": "R",
   "pygments_lexer": "r",
   "version": "3.4.2"
  }
 },
 "nbformat": 4,
 "nbformat_minor": 2
}
