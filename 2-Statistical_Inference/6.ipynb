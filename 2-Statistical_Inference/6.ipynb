{
 "cells": [
  {
   "cell_type": "code",
   "execution_count": 15,
   "metadata": {},
   "outputs": [],
   "source": [
    "se <- function(p, n){\n",
    "    return (sqrt(p * (1 - p) / n))\n",
    "}"
   ]
  },
  {
   "cell_type": "code",
   "execution_count": 39,
   "metadata": {},
   "outputs": [],
   "source": [
    "p_interval <- function(p, n, confidence){\n",
    "    z <- qnorm(confidence + (1 - confidence) / 2)\n",
    "    return (c(p - z * se(p, n), p + z * se(p, n)))\n",
    "}"
   ]
  },
  {
   "cell_type": "code",
   "execution_count": 53,
   "metadata": {
    "collapsed": true
   },
   "outputs": [],
   "source": [
    "se_2_sample <- function(p1, p2, n1, n2){\n",
    "    v1 <- p1 * (1 - p1) / n1\n",
    "    v2 <- p2 * (1 - p2) / n2\n",
    "    return (sqrt(v1 + v2))\n",
    "}"
   ]
  },
  {
   "cell_type": "code",
   "execution_count": 54,
   "metadata": {
    "collapsed": true
   },
   "outputs": [],
   "source": [
    "p_interval_2_sample <- function(p1, p2, n1, n2, confidence){\n",
    "    z <- qnorm(confidence + (1 - confidence) / 2)\n",
    "    diff <- p1 - p2\n",
    "    se <- se_2_sample(p1, p2, n1, n2)\n",
    "    return (c(diff - z * se, diff + z * se))\n",
    "}"
   ]
  },
  {
   "cell_type": "code",
   "execution_count": 55,
   "metadata": {},
   "outputs": [
    {
     "data": {
      "text/html": [
       "<ol class=list-inline>\n",
       "\t<li>0.233308352318671</li>\n",
       "\t<li>0.326691647681329</li>\n",
       "</ol>\n"
      ],
      "text/latex": [
       "\\begin{enumerate*}\n",
       "\\item 0.233308352318671\n",
       "\\item 0.326691647681329\n",
       "\\end{enumerate*}\n"
      ],
      "text/markdown": [
       "1. 0.233308352318671\n",
       "2. 0.326691647681329\n",
       "\n",
       "\n"
      ],
      "text/plain": [
       "[1] 0.2333084 0.3266916"
      ]
     },
     "metadata": {},
     "output_type": "display_data"
    }
   ],
   "source": [
    "p_interval_2_sample(0.70, 0.42, 819, 783, 0.95)"
   ]
  },
  {
   "cell_type": "code",
   "execution_count": 45,
   "metadata": {
    "collapsed": true
   },
   "outputs": [],
   "source": [
    "z_2 <- function(confidence){\n",
    "    return (qnorm(confidence + (1 - confidence) / 2))\n",
    "}"
   ]
  },
  {
   "cell_type": "code",
   "execution_count": 48,
   "metadata": {
    "scrolled": true
   },
   "outputs": [
    {
     "data": {
      "text/html": [
       "1536.58352827765"
      ],
      "text/latex": [
       "1536.58352827765"
      ],
      "text/markdown": [
       "1536.58352827765"
      ],
      "text/plain": [
       "[1] 1536.584"
      ]
     },
     "metadata": {},
     "output_type": "display_data"
    }
   ],
   "source": [
    "0.2 * (1 - 0.2) / (0.02 / z_2(0.95))^2"
   ]
  },
  {
   "cell_type": "code",
   "execution_count": 52,
   "metadata": {},
   "outputs": [
    {
     "data": {
      "text/html": [
       "6753.03646142215"
      ],
      "text/latex": [
       "6753.03646142215"
      ],
      "text/markdown": [
       "6753.03646142215"
      ],
      "text/plain": [
       "[1] 6753.036"
      ]
     },
     "metadata": {},
     "output_type": "display_data"
    }
   ],
   "source": [
    "0.52 * (1 - 0.52) / (0.01 / z_2(0.90))^2"
   ]
  },
  {
   "cell_type": "code",
   "execution_count": 72,
   "metadata": {
    "scrolled": true
   },
   "outputs": [
    {
     "name": "stdout",
     "output_type": "stream",
     "text": [
      "[1] 0.15\n",
      "[1] 2.892406\n"
     ]
    },
    {
     "data": {
      "text/html": [
       "0.00382303435858208"
      ],
      "text/latex": [
       "0.00382303435858208"
      ],
      "text/markdown": [
       "0.00382303435858208"
      ],
      "text/plain": [
       "[1] 0.003823034"
      ]
     },
     "metadata": {},
     "output_type": "display_data"
    }
   ],
   "source": [
    "p_value_2_sample_2(26/120, 10/120, 120, 120)"
   ]
  },
  {
   "cell_type": "code",
   "execution_count": 73,
   "metadata": {
    "collapsed": true
   },
   "outputs": [],
   "source": [
    "?sum"
   ]
  },
  {
   "cell_type": "code",
   "execution_count": 74,
   "metadata": {
    "collapsed": true
   },
   "outputs": [],
   "source": [
    "chi_sq <- function(true, predicted){\n",
    "    diff <- true - predicted\n",
    "    return (sum(diff ^ 2 / predicted))\n",
    "}"
   ]
  },
  {
   "cell_type": "code",
   "execution_count": 89,
   "metadata": {
    "scrolled": true
   },
   "outputs": [
    {
     "name": "stdout",
     "output_type": "stream",
     "text": [
      "[1] 1.863354\n"
     ]
    },
    {
     "data": {
      "text/html": [
       "0.172238194875057"
      ],
      "text/latex": [
       "0.172238194875057"
      ],
      "text/markdown": [
       "0.172238194875057"
      ],
      "text/plain": [
       "[1] 0.1722382"
      ]
     },
     "metadata": {},
     "output_type": "display_data"
    }
   ],
   "source": [
    "p_chi_sq_table(c(40, 110, 30, 120), c(35, 115, 35, 115), 2, 2)"
   ]
  },
  {
   "cell_type": "code",
   "execution_count": null,
   "metadata": {
    "collapsed": true
   },
   "outputs": [],
   "source": []
  },
  {
   "cell_type": "code",
   "execution_count": 87,
   "metadata": {
    "collapsed": true
   },
   "outputs": [],
   "source": [
    "p_chi_sq_table <- function(true, predicted, rows, columns){\n",
    "    chi_sq_value <- chi_sq(true, predicted)\n",
    "    print(chi_sq_value)\n",
    "    return (pchisq(chi_sq_value, (rows - 1) * (columns - 1), lower.tail = FALSE))\n",
    "}"
   ]
  },
  {
   "cell_type": "code",
   "execution_count": 85,
   "metadata": {
    "scrolled": true
   },
   "outputs": [
    {
     "name": "stdout",
     "output_type": "stream",
     "text": [
      "[1] 7.515152 3.000000\n"
     ]
    },
    {
     "data": {
      "text/html": [
       "0.0233402542801347"
      ],
      "text/latex": [
       "0.0233402542801347"
      ],
      "text/markdown": [
       "0.0233402542801347"
      ],
      "text/plain": [
       "[1] 0.02334025"
      ]
     },
     "metadata": {},
     "output_type": "display_data"
    }
   ],
   "source": [
    "p_chi_sq(c(43, 21, 35), c(33, 33, 33))"
   ]
  },
  {
   "cell_type": "code",
   "execution_count": 83,
   "metadata": {},
   "outputs": [],
   "source": [
    "p_chi_sq <- function(true, predicted){\n",
    "    chi_sq_value <- chi_sq(true, predicted)\n",
    "    print(c(chi_sq_value, length(true)))\n",
    "    return (pchisq(chi_sq_value, length(true) - 1, lower.tail = FALSE))\n",
    "}"
   ]
  },
  {
   "cell_type": "code",
   "execution_count": 75,
   "metadata": {
    "scrolled": true
   },
   "outputs": [
    {
     "data": {
      "text/html": [
       "2.32010582010582"
      ],
      "text/latex": [
       "2.32010582010582"
      ],
      "text/markdown": [
       "2.32010582010582"
      ],
      "text/plain": [
       "[1] 2.320106"
      ]
     },
     "metadata": {},
     "output_type": "display_data"
    }
   ],
   "source": [
    "chi_sq(c(71, 30, 25), c(75.6, 31.5, 18.9))"
   ]
  },
  {
   "cell_type": "code",
   "execution_count": 84,
   "metadata": {},
   "outputs": [
    {
     "name": "stdout",
     "output_type": "stream",
     "text": [
      "[1] 2.320106 3.000000\n"
     ]
    },
    {
     "data": {
      "text/html": [
       "0.313469594750979"
      ],
      "text/latex": [
       "0.313469594750979"
      ],
      "text/markdown": [
       "0.313469594750979"
      ],
      "text/plain": [
       "[1] 0.3134696"
      ]
     },
     "metadata": {},
     "output_type": "display_data"
    }
   ],
   "source": [
    "p_chi_sq(c(71, 30, 25), c(75.6, 31.5, 18.9))"
   ]
  },
  {
   "cell_type": "code",
   "execution_count": 90,
   "metadata": {
    "scrolled": true
   },
   "outputs": [
    {
     "name": "stdout",
     "output_type": "stream",
     "text": [
      "[1] 0.2333333\n",
      "[1] 1.365047\n"
     ]
    },
    {
     "data": {
      "text/html": [
       "0.172238194875057"
      ],
      "text/latex": [
       "0.172238194875057"
      ],
      "text/markdown": [
       "0.172238194875057"
      ],
      "text/plain": [
       "[1] 0.1722382"
      ]
     },
     "metadata": {},
     "output_type": "display_data"
    }
   ],
   "source": [
    "p_value_2_sample_2(40/150, 30/150, 150, 150)"
   ]
  },
  {
   "cell_type": "code",
   "execution_count": null,
   "metadata": {
    "collapsed": true
   },
   "outputs": [],
   "source": []
  },
  {
   "cell_type": "code",
   "execution_count": 64,
   "metadata": {},
   "outputs": [],
   "source": [
    "p_value_2_sample_2 <- function(p1, p2, n1, n2){\n",
    "    pooled_p <- (p1 * n1 + p2 * n2) / (n1 + n2)\n",
    "    print(pooled_p)\n",
    "    se <- se_2_sample(pooled_p, pooled_p, n1, n2)\n",
    "    z <- (p1 - p2) / se\n",
    "    print(z)\n",
    "    if (z <= 0){\n",
    "        return(2 * pnorm(z))\n",
    "    } else {\n",
    "        return(2 * pnorm(z, lower.tail = FALSE))\n",
    "    }\n",
    "}"
   ]
  },
  {
   "cell_type": "code",
   "execution_count": 94,
   "metadata": {},
   "outputs": [
    {
     "name": "stdout",
     "output_type": "stream",
     "text": [
      "[1] 11.461\n"
     ]
    },
    {
     "data": {
      "text/html": [
       "0.0032454482623186"
      ],
      "text/latex": [
       "0.0032454482623186"
      ],
      "text/markdown": [
       "0.0032454482623186"
      ],
      "text/plain": [
       "[1] 0.003245448"
      ]
     },
     "metadata": {},
     "output_type": "display_data"
    }
   ],
   "source": [
    "p_chi_sq_table(c(154, 132, 180, 126, 104, 131), c(151.473, 134.527,\n",
    "                                                 162.065, 143.935,\n",
    "                                                 124.462, 110.538), 3, 2)"
   ]
  },
  {
   "cell_type": "code",
   "execution_count": 62,
   "metadata": {
    "scrolled": true
   },
   "outputs": [
    {
     "name": "stdout",
     "output_type": "stream",
     "text": [
      "[1] -3.160806\n"
     ]
    },
    {
     "data": {
      "text/html": [
       "0.00157333390659718"
      ],
      "text/latex": [
       "0.00157333390659718"
      ],
      "text/markdown": [
       "0.00157333390659718"
      ],
      "text/plain": [
       "[1] 0.001573334"
      ]
     },
     "metadata": {},
     "output_type": "display_data"
    }
   ],
   "source": [
    "p_value_2_sample_2(104/438, 131/389, 438, 389)"
   ]
  },
  {
   "cell_type": "code",
   "execution_count": 65,
   "metadata": {
    "scrolled": true
   },
   "outputs": [
    {
     "name": "stdout",
     "output_type": "stream",
     "text": [
      "[1] 0.3458283\n",
      "[1] 0.3701737\n"
     ]
    },
    {
     "data": {
      "text/html": [
       "0.711253086527709"
      ],
      "text/latex": [
       "0.711253086527709"
      ],
      "text/markdown": [
       "0.711253086527709"
      ],
      "text/plain": [
       "[1] 0.7112531"
      ]
     },
     "metadata": {},
     "output_type": "display_data"
    }
   ],
   "source": [
    "p_value_2_sample_2(154/438, 132/389, 438, 389)"
   ]
  },
  {
   "cell_type": "code",
   "execution_count": 69,
   "metadata": {},
   "outputs": [
    {
     "name": "stdout",
     "output_type": "stream",
     "text": [
      "[1] 0.1414141\n",
      "[1] -1.650356\n"
     ]
    },
    {
     "data": {
      "text/html": [
       "0.0988700793278207"
      ],
      "text/latex": [
       "0.0988700793278207"
      ],
      "text/markdown": [
       "0.0988700793278207"
      ],
      "text/plain": [
       "[1] 0.09887008"
      ]
     },
     "metadata": {},
     "output_type": "display_data"
    }
   ],
   "source": [
    "p_value_2_sample_2(35/292, 35/203, 292, 203)"
   ]
  },
  {
   "cell_type": "code",
   "execution_count": 35,
   "metadata": {
    "collapsed": true
   },
   "outputs": [],
   "source": [
    "p_value_2 <- function(p, p0, n){\n",
    "    z <- (p - p0) / se(p0, n)\n",
    "    print(z)\n",
    "    if (z <= 0){\n",
    "        return(2 * pnorm(z))\n",
    "    } else {\n",
    "        return(2 * pnorm(z, lower.tail = FALSE))\n",
    "    }\n",
    "}"
   ]
  },
  {
   "cell_type": "code",
   "execution_count": 32,
   "metadata": {
    "collapsed": true
   },
   "outputs": [],
   "source": [
    "p_value_1 <- function(p, p0, n){\n",
    "    z <- (p - p0) / se(p0, n)\n",
    "    print(z)\n",
    "    if (z <= 0){\n",
    "        return(pnorm(z))\n",
    "    } else {\n",
    "        return(pnorm(z, lower.tail = FALSE))\n",
    "    }\n",
    "}"
   ]
  },
  {
   "cell_type": "code",
   "execution_count": 41,
   "metadata": {
    "scrolled": true
   },
   "outputs": [
    {
     "name": "stdout",
     "output_type": "stream",
     "text": [
      "[1] -20.54039\n"
     ]
    },
    {
     "data": {
      "text/html": [
       "9.38134297317743e-94"
      ],
      "text/latex": [
       "9.38134297317743e-94"
      ],
      "text/markdown": [
       "9.38134297317743e-94"
      ],
      "text/plain": [
       "[1] 9.381343e-94"
      ]
     },
     "metadata": {},
     "output_type": "display_data"
    }
   ],
   "source": [
    "p_value_2(0.17, 0.38, 2254)"
   ]
  },
  {
   "cell_type": "code",
   "execution_count": 43,
   "metadata": {},
   "outputs": [
    {
     "data": {
      "text/html": [
       "<ol class=list-inline>\n",
       "\t<li>0.154492755226625</li>\n",
       "\t<li>0.185507244773375</li>\n",
       "</ol>\n"
      ],
      "text/latex": [
       "\\begin{enumerate*}\n",
       "\\item 0.154492755226625\n",
       "\\item 0.185507244773375\n",
       "\\end{enumerate*}\n"
      ],
      "text/markdown": [
       "1. 0.154492755226625\n",
       "2. 0.185507244773375\n",
       "\n",
       "\n"
      ],
      "text/plain": [
       "[1] 0.1544928 0.1855072"
      ]
     },
     "metadata": {},
     "output_type": "display_data"
    }
   ],
   "source": [
    "p_interval(0.17, 2254, 0.95)"
   ]
  },
  {
   "cell_type": "code",
   "execution_count": 44,
   "metadata": {},
   "outputs": [
    {
     "data": {
      "text/html": [
       "<ol class=list-inline>\n",
       "\t<li>0.144563847026013</li>\n",
       "\t<li>0.255436152973987</li>\n",
       "</ol>\n"
      ],
      "text/latex": [
       "\\begin{enumerate*}\n",
       "\\item 0.144563847026013\n",
       "\\item 0.255436152973987\n",
       "\\end{enumerate*}\n"
      ],
      "text/markdown": [
       "1. 0.144563847026013\n",
       "2. 0.255436152973987\n",
       "\n",
       "\n"
      ],
      "text/plain": [
       "[1] 0.1445638 0.2554362"
      ]
     },
     "metadata": {},
     "output_type": "display_data"
    }
   ],
   "source": [
    "p_interval(40/200, 200, 0.95)"
   ]
  },
  {
   "cell_type": "code",
   "execution_count": 10,
   "metadata": {},
   "outputs": [
    {
     "data": {
      "text/html": [
       "<ol class=list-inline>\n",
       "\t<li>0.519375214545924</li>\n",
       "\t<li>0.520624785454076</li>\n",
       "</ol>\n"
      ],
      "text/latex": [
       "\\begin{enumerate*}\n",
       "\\item 0.519375214545924\n",
       "\\item 0.520624785454076\n",
       "\\end{enumerate*}\n"
      ],
      "text/markdown": [
       "1. 0.519375214545924\n",
       "2. 0.520624785454076\n",
       "\n",
       "\n"
      ],
      "text/plain": [
       "[1] 0.5193752 0.5206248"
      ]
     },
     "metadata": {},
     "output_type": "display_data"
    }
   ],
   "source": [
    "p_interval_2(0.52, 783, 0.95)"
   ]
  },
  {
   "cell_type": "code",
   "execution_count": 16,
   "metadata": {
    "scrolled": true
   },
   "outputs": [
    {
     "data": {
      "text/html": [
       "1.11928548637066"
      ],
      "text/latex": [
       "1.11928548637066"
      ],
      "text/markdown": [
       "1.11928548637066"
      ],
      "text/plain": [
       "[1] 1.119285"
      ]
     },
     "metadata": {},
     "output_type": "display_data"
    }
   ],
   "source": [
    "(0.52 - 0.50) / se(0.50, 783)"
   ]
  },
  {
   "cell_type": "code",
   "execution_count": 22,
   "metadata": {},
   "outputs": [
    {
     "data": {
      "text/html": [
       "<ol class=list-inline>\n",
       "\t<li>0.484978300739066</li>\n",
       "\t<li>0.555021699260934</li>\n",
       "</ol>\n"
      ],
      "text/latex": [
       "\\begin{enumerate*}\n",
       "\\item 0.484978300739066\n",
       "\\item 0.555021699260934\n",
       "\\end{enumerate*}\n"
      ],
      "text/markdown": [
       "1. 0.484978300739066\n",
       "2. 0.555021699260934\n",
       "\n",
       "\n"
      ],
      "text/plain": [
       "[1] 0.4849783 0.5550217"
      ]
     },
     "metadata": {},
     "output_type": "display_data"
    }
   ],
   "source": [
    "p_interval_2(0.52, 0.50, 783, 0.95)"
   ]
  },
  {
   "cell_type": "code",
   "execution_count": 23,
   "metadata": {
    "scrolled": false
   },
   "outputs": [
    {
     "data": {
      "text/html": [
       "0.263018365542279"
      ],
      "text/latex": [
       "0.263018365542279"
      ],
      "text/markdown": [
       "0.263018365542279"
      ],
      "text/plain": [
       "[1] 0.2630184"
      ]
     },
     "metadata": {},
     "output_type": "display_data"
    }
   ],
   "source": [
    "p_value_2(0.52, 0.50, 783)"
   ]
  },
  {
   "cell_type": "code",
   "execution_count": 29,
   "metadata": {
    "scrolled": true
   },
   "outputs": [
    {
     "name": "stdout",
     "output_type": "stream",
     "text": [
      "[1] 1.119285\n"
     ]
    },
    {
     "data": {
      "text/html": [
       "0.13150918277114"
      ],
      "text/latex": [
       "0.13150918277114"
      ],
      "text/markdown": [
       "0.13150918277114"
      ],
      "text/plain": [
       "[1] 0.1315092"
      ]
     },
     "metadata": {},
     "output_type": "display_data"
    }
   ],
   "source": [
    "p_value_1(0.52, 0.50, 783)"
   ]
  },
  {
   "cell_type": "code",
   "execution_count": 40,
   "metadata": {},
   "outputs": [
    {
     "data": {
      "text/html": [
       "<ol class=list-inline>\n",
       "\t<li>0.490632385798113</li>\n",
       "\t<li>0.549367614201887</li>\n",
       "</ol>\n"
      ],
      "text/latex": [
       "\\begin{enumerate*}\n",
       "\\item 0.490632385798113\n",
       "\\item 0.549367614201887\n",
       "\\end{enumerate*}\n"
      ],
      "text/markdown": [
       "1. 0.490632385798113\n",
       "2. 0.549367614201887\n",
       "\n",
       "\n"
      ],
      "text/plain": [
       "[1] 0.4906324 0.5493676"
      ]
     },
     "metadata": {},
     "output_type": "display_data"
    }
   ],
   "source": [
    "p_interval(0.52, 783, 0.90)"
   ]
  }
 ],
 "metadata": {
  "kernelspec": {
   "display_name": "R",
   "language": "R",
   "name": "ir"
  },
  "language_info": {
   "codemirror_mode": "r",
   "file_extension": ".r",
   "mimetype": "text/x-r-source",
   "name": "R",
   "pygments_lexer": "r",
   "version": "3.4.2"
  }
 },
 "nbformat": 4,
 "nbformat_minor": 2
}
