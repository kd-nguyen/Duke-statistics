{
 "cells": [
  {
   "cell_type": "code",
   "execution_count": 1,
   "metadata": {},
   "outputs": [
    {
     "name": "stderr",
     "output_type": "stream",
     "text": [
      "\n",
      "Attaching package: 'dplyr'\n",
      "\n",
      "The following objects are masked from 'package:stats':\n",
      "\n",
      "    filter, lag\n",
      "\n",
      "The following objects are masked from 'package:base':\n",
      "\n",
      "    intersect, setdiff, setequal, union\n",
      "\n"
     ]
    }
   ],
   "source": [
    "library(statsr)\n",
    "library(dplyr)\n",
    "library(shiny)\n",
    "library(ggplot2)"
   ]
  },
  {
   "cell_type": "code",
   "execution_count": 2,
   "metadata": {
    "collapsed": true
   },
   "outputs": [],
   "source": [
    "data(ames)"
   ]
  },
  {
   "cell_type": "code",
   "execution_count": 8,
   "metadata": {
    "scrolled": true
   },
   "outputs": [
    {
     "name": "stdout",
     "output_type": "stream",
     "text": [
      "Classes 'tbl_df', 'tbl' and 'data.frame':\t2930 obs. of  82 variables:\n",
      " $ Order          : int  1 2 3 4 5 6 7 8 9 10 ...\n",
      " $ PID            : int  526301100 526350040 526351010 526353030 527105010 527105030 527127150 527145080 527146030 527162130 ...\n",
      " $ area           : int  1656 896 1329 2110 1629 1604 1338 1280 1616 1804 ...\n",
      " $ price          : int  215000 105000 172000 244000 189900 195500 213500 191500 236500 189000 ...\n",
      " $ MS.SubClass    : int  20 20 20 20 60 60 120 120 120 60 ...\n",
      " $ MS.Zoning      : Factor w/ 7 levels \"A (agr)\",\"C (all)\",..: 6 5 6 6 6 6 6 6 6 6 ...\n",
      " $ Lot.Frontage   : int  141 80 81 93 74 78 41 43 39 60 ...\n",
      " $ Lot.Area       : int  31770 11622 14267 11160 13830 9978 4920 5005 5389 7500 ...\n",
      " $ Street         : Factor w/ 2 levels \"Grvl\",\"Pave\": 2 2 2 2 2 2 2 2 2 2 ...\n",
      " $ Alley          : Factor w/ 2 levels \"Grvl\",\"Pave\": NA NA NA NA NA NA NA NA NA NA ...\n",
      " $ Lot.Shape      : Factor w/ 4 levels \"IR1\",\"IR2\",\"IR3\",..: 1 4 1 4 1 1 4 1 1 4 ...\n",
      " $ Land.Contour   : Factor w/ 4 levels \"Bnk\",\"HLS\",\"Low\",..: 4 4 4 4 4 4 4 2 4 4 ...\n",
      " $ Utilities      : Factor w/ 3 levels \"AllPub\",\"NoSeWa\",..: 1 1 1 1 1 1 1 1 1 1 ...\n",
      " $ Lot.Config     : Factor w/ 5 levels \"Corner\",\"CulDSac\",..: 1 5 1 1 5 5 5 5 5 5 ...\n",
      " $ Land.Slope     : Factor w/ 3 levels \"Gtl\",\"Mod\",\"Sev\": 1 1 1 1 1 1 1 1 1 1 ...\n",
      " $ Neighborhood   : Factor w/ 28 levels \"Blmngtn\",\"Blueste\",..: 16 16 16 16 9 9 25 25 25 9 ...\n",
      " $ Condition.1    : Factor w/ 9 levels \"Artery\",\"Feedr\",..: 3 2 3 3 3 3 3 3 3 3 ...\n",
      " $ Condition.2    : Factor w/ 8 levels \"Artery\",\"Feedr\",..: 3 3 3 3 3 3 3 3 3 3 ...\n",
      " $ Bldg.Type      : Factor w/ 5 levels \"1Fam\",\"2fmCon\",..: 1 1 1 1 1 1 5 5 5 1 ...\n",
      " $ House.Style    : Factor w/ 8 levels \"1.5Fin\",\"1.5Unf\",..: 3 3 3 3 6 6 3 3 3 6 ...\n",
      " $ Overall.Qual   : int  6 5 6 7 5 6 8 8 8 7 ...\n",
      " $ Overall.Cond   : int  5 6 6 5 5 6 5 5 5 5 ...\n",
      " $ Year.Built     : int  1960 1961 1958 1968 1997 1998 2001 1992 1995 1999 ...\n",
      " $ Year.Remod.Add : int  1960 1961 1958 1968 1998 1998 2001 1992 1996 1999 ...\n",
      " $ Roof.Style     : Factor w/ 6 levels \"Flat\",\"Gable\",..: 4 2 4 4 2 2 2 2 2 2 ...\n",
      " $ Roof.Matl      : Factor w/ 8 levels \"ClyTile\",\"CompShg\",..: 2 2 2 2 2 2 2 2 2 2 ...\n",
      " $ Exterior.1st   : Factor w/ 16 levels \"AsbShng\",\"AsphShn\",..: 4 14 15 4 14 14 6 7 6 14 ...\n",
      " $ Exterior.2nd   : Factor w/ 17 levels \"AsbShng\",\"AsphShn\",..: 11 15 16 4 15 15 6 7 6 15 ...\n",
      " $ Mas.Vnr.Type   : Factor w/ 6 levels \"\",\"BrkCmn\",\"BrkFace\",..: 6 5 3 5 5 3 5 5 5 5 ...\n",
      " $ Mas.Vnr.Area   : int  112 0 108 0 0 20 0 0 0 0 ...\n",
      " $ Exter.Qual     : Factor w/ 4 levels \"Ex\",\"Fa\",\"Gd\",..: 4 4 4 3 4 4 3 3 3 4 ...\n",
      " $ Exter.Cond     : Factor w/ 5 levels \"Ex\",\"Fa\",\"Gd\",..: 5 5 5 5 5 5 5 5 5 5 ...\n",
      " $ Foundation     : Factor w/ 6 levels \"BrkTil\",\"CBlock\",..: 2 2 2 2 3 3 3 3 3 3 ...\n",
      " $ Bsmt.Qual      : Factor w/ 6 levels \"\",\"Ex\",\"Fa\",\"Gd\",..: 6 6 6 6 4 6 4 4 4 6 ...\n",
      " $ Bsmt.Cond      : Factor w/ 6 levels \"\",\"Ex\",\"Fa\",\"Gd\",..: 4 6 6 6 6 6 6 6 6 6 ...\n",
      " $ Bsmt.Exposure  : Factor w/ 5 levels \"\",\"Av\",\"Gd\",\"Mn\",..: 3 5 5 5 5 5 4 5 5 5 ...\n",
      " $ BsmtFin.Type.1 : Factor w/ 7 levels \"\",\"ALQ\",\"BLQ\",..: 3 6 2 2 4 4 4 2 4 7 ...\n",
      " $ BsmtFin.SF.1   : int  639 468 923 1065 791 602 616 263 1180 0 ...\n",
      " $ BsmtFin.Type.2 : Factor w/ 7 levels \"\",\"ALQ\",\"BLQ\",..: 7 5 7 7 7 7 7 7 7 7 ...\n",
      " $ BsmtFin.SF.2   : int  0 144 0 0 0 0 0 0 0 0 ...\n",
      " $ Bsmt.Unf.SF    : int  441 270 406 1045 137 324 722 1017 415 994 ...\n",
      " $ Total.Bsmt.SF  : int  1080 882 1329 2110 928 926 1338 1280 1595 994 ...\n",
      " $ Heating        : Factor w/ 6 levels \"Floor\",\"GasA\",..: 2 2 2 2 2 2 2 2 2 2 ...\n",
      " $ Heating.QC     : Factor w/ 5 levels \"Ex\",\"Fa\",\"Gd\",..: 2 5 5 1 3 1 1 1 1 3 ...\n",
      " $ Central.Air    : Factor w/ 2 levels \"N\",\"Y\": 2 2 2 2 2 2 2 2 2 2 ...\n",
      " $ Electrical     : Factor w/ 6 levels \"\",\"FuseA\",\"FuseF\",..: 6 6 6 6 6 6 6 6 6 6 ...\n",
      " $ X1st.Flr.SF    : int  1656 896 1329 2110 928 926 1338 1280 1616 1028 ...\n",
      " $ X2nd.Flr.SF    : int  0 0 0 0 701 678 0 0 0 776 ...\n",
      " $ Low.Qual.Fin.SF: int  0 0 0 0 0 0 0 0 0 0 ...\n",
      " $ Bsmt.Full.Bath : int  1 0 0 1 0 0 1 0 1 0 ...\n",
      " $ Bsmt.Half.Bath : int  0 0 0 0 0 0 0 0 0 0 ...\n",
      " $ Full.Bath      : int  1 1 1 2 2 2 2 2 2 2 ...\n",
      " $ Half.Bath      : int  0 0 1 1 1 1 0 0 0 1 ...\n",
      " $ Bedroom.AbvGr  : int  3 2 3 3 3 3 2 2 2 3 ...\n",
      " $ Kitchen.AbvGr  : int  1 1 1 1 1 1 1 1 1 1 ...\n",
      " $ Kitchen.Qual   : Factor w/ 5 levels \"Ex\",\"Fa\",\"Gd\",..: 5 5 3 1 5 3 3 3 3 3 ...\n",
      " $ TotRms.AbvGrd  : int  7 5 6 8 6 7 6 5 5 7 ...\n",
      " $ Functional     : Factor w/ 8 levels \"Maj1\",\"Maj2\",..: 8 8 8 8 8 8 8 8 8 8 ...\n",
      " $ Fireplaces     : int  2 0 0 2 1 1 0 0 1 1 ...\n",
      " $ Fireplace.Qu   : Factor w/ 5 levels \"Ex\",\"Fa\",\"Gd\",..: 3 NA NA 5 5 3 NA NA 5 5 ...\n",
      " $ Garage.Type    : Factor w/ 6 levels \"2Types\",\"Attchd\",..: 2 2 2 2 2 2 2 2 2 2 ...\n",
      " $ Garage.Yr.Blt  : int  1960 1961 1958 1968 1997 1998 2001 1992 1995 1999 ...\n",
      " $ Garage.Finish  : Factor w/ 4 levels \"\",\"Fin\",\"RFn\",..: 2 4 4 2 2 2 2 3 3 2 ...\n",
      " $ Garage.Cars    : int  2 1 1 2 2 2 2 2 2 2 ...\n",
      " $ Garage.Area    : int  528 730 312 522 482 470 582 506 608 442 ...\n",
      " $ Garage.Qual    : Factor w/ 6 levels \"\",\"Ex\",\"Fa\",\"Gd\",..: 6 6 6 6 6 6 6 6 6 6 ...\n",
      " $ Garage.Cond    : Factor w/ 6 levels \"\",\"Ex\",\"Fa\",\"Gd\",..: 6 6 6 6 6 6 6 6 6 6 ...\n",
      " $ Paved.Drive    : Factor w/ 3 levels \"N\",\"P\",\"Y\": 2 3 3 3 3 3 3 3 3 3 ...\n",
      " $ Wood.Deck.SF   : int  210 140 393 0 212 360 0 0 237 140 ...\n",
      " $ Open.Porch.SF  : int  62 0 36 0 34 36 0 82 152 60 ...\n",
      " $ Enclosed.Porch : int  0 0 0 0 0 0 170 0 0 0 ...\n",
      " $ X3Ssn.Porch    : int  0 0 0 0 0 0 0 0 0 0 ...\n",
      " $ Screen.Porch   : int  0 120 0 0 0 0 0 144 0 0 ...\n",
      " $ Pool.Area      : int  0 0 0 0 0 0 0 0 0 0 ...\n",
      " $ Pool.QC        : Factor w/ 4 levels \"Ex\",\"Fa\",\"Gd\",..: NA NA NA NA NA NA NA NA NA NA ...\n",
      " $ Fence          : Factor w/ 4 levels \"GdPrv\",\"GdWo\",..: NA 3 NA NA 3 NA NA NA NA NA ...\n",
      " $ Misc.Feature   : Factor w/ 5 levels \"Elev\",\"Gar2\",..: NA NA 2 NA NA NA NA NA NA NA ...\n",
      " $ Misc.Val       : int  0 0 12500 0 0 0 0 0 0 0 ...\n",
      " $ Mo.Sold        : int  5 6 6 4 3 6 4 1 3 6 ...\n",
      " $ Yr.Sold        : int  2010 2010 2010 2010 2010 2010 2010 2010 2010 2010 ...\n",
      " $ Sale.Type      : Factor w/ 10 levels \"COD\",\"Con\",\"ConLD\",..: 10 10 10 10 10 10 10 10 10 10 ...\n",
      " $ Sale.Condition : Factor w/ 6 levels \"Abnorml\",\"AdjLand\",..: 5 5 5 5 5 5 5 5 5 5 ...\n"
     ]
    }
   ],
   "source": [
    "str(ames)"
   ]
  },
  {
   "cell_type": "code",
   "execution_count": 9,
   "metadata": {},
   "outputs": [
    {
     "data": {},
     "metadata": {},
     "output_type": "display_data"
    },
    {
     "data": {
      "image/png": "[encoded data removed]",
      "text/plain": [
       "plot without title"
      ]
     },
     "metadata": {},
     "output_type": "display_data"
    }
   ],
   "source": [
    "ggplot(ames, aes(area)) +\n",
    "geom_histogram(binwidth = 250)"
   ]
  },
  {
   "cell_type": "code",
   "execution_count": 10,
   "metadata": {},
   "outputs": [
    {
     "data": {
      "text/html": [
       "<table>\n",
       "<thead><tr><th scope=col>mu</th><th scope=col>pop_med</th><th scope=col>sigma</th><th scope=col>pop_iqr</th><th scope=col>pop_min</th><th scope=col>pop_max</th><th scope=col>pop_q1</th><th scope=col>pop_q3</th></tr></thead>\n",
       "<tbody>\n",
       "\t<tr><td>1499.69 </td><td>1442    </td><td>505.5089</td><td>616.75  </td><td>334     </td><td>5642    </td><td>1126    </td><td>1742.75 </td></tr>\n",
       "</tbody>\n",
       "</table>\n"
      ],
      "text/latex": [
       "\\begin{tabular}{r|llllllll}\n",
       " mu & pop\\_med & sigma & pop\\_iqr & pop\\_min & pop\\_max & pop\\_q1 & pop\\_q3\\\\\n",
       "\\hline\n",
       "\t 1499.69  & 1442     & 505.5089 & 616.75   & 334      & 5642     & 1126     & 1742.75 \\\\\n",
       "\\end{tabular}\n"
      ],
      "text/markdown": [
       "\n",
       "mu | pop_med | sigma | pop_iqr | pop_min | pop_max | pop_q1 | pop_q3 | \n",
       "|---|\n",
       "| 1499.69  | 1442     | 505.5089 | 616.75   | 334      | 5642     | 1126     | 1742.75  | \n",
       "\n",
       "\n"
      ],
      "text/plain": [
       "  mu      pop_med sigma    pop_iqr pop_min pop_max pop_q1 pop_q3 \n",
       "1 1499.69 1442    505.5089 616.75  334     5642    1126   1742.75"
      ]
     },
     "metadata": {},
     "output_type": "display_data"
    }
   ],
   "source": [
    "ames %>%\n",
    "summarize(mu = mean(area), pop_med = median(area), sigma = sd(area),\n",
    "         pop_iqr = IQR(area), pop_min = min(area), pop_max = max(area),\n",
    "         pop_q1 = quantile(area, 0.25),\n",
    "         pop_q3 = quantile(area, 0.75))"
   ]
  },
  {
   "cell_type": "code",
   "execution_count": 11,
   "metadata": {
    "collapsed": true
   },
   "outputs": [],
   "source": [
    "samp1 <- ames %>%\n",
    "sample_n(size = 50)"
   ]
  },
  {
   "cell_type": "code",
   "execution_count": 12,
   "metadata": {},
   "outputs": [
    {
     "data": {
      "text/html": [
       "<table>\n",
       "<thead><tr><th scope=col>Order</th><th scope=col>PID</th><th scope=col>area</th><th scope=col>price</th><th scope=col>MS.SubClass</th><th scope=col>MS.Zoning</th><th scope=col>Lot.Frontage</th><th scope=col>Lot.Area</th><th scope=col>Street</th><th scope=col>Alley</th><th scope=col>...</th><th scope=col>Screen.Porch</th><th scope=col>Pool.Area</th><th scope=col>Pool.QC</th><th scope=col>Fence</th><th scope=col>Misc.Feature</th><th scope=col>Misc.Val</th><th scope=col>Mo.Sold</th><th scope=col>Yr.Sold</th><th scope=col>Sale.Type</th><th scope=col>Sale.Condition</th></tr></thead>\n",
       "<tbody>\n",
       "\t<tr><td>1512     </td><td>908276140</td><td>1204     </td><td>100000   </td><td> 80      </td><td>RL       </td><td> 62      </td><td> 7692    </td><td>Pave     </td><td>NA       </td><td>...      </td><td>  0      </td><td>0        </td><td>NA       </td><td>NA       </td><td>NA       </td><td>    0    </td><td>11       </td><td>2008     </td><td>WD       </td><td>Abnorml  </td></tr>\n",
       "\t<tr><td>1674     </td><td>527427160</td><td>1337     </td><td>155000   </td><td>120      </td><td>RH       </td><td> 33      </td><td> 4113    </td><td>Pave     </td><td>NA       </td><td>...      </td><td>  0      </td><td>0        </td><td>NA       </td><td>NA       </td><td>NA       </td><td>    0    </td><td> 7       </td><td>2007     </td><td>WD       </td><td>Normal   </td></tr>\n",
       "\t<tr><td> 577     </td><td>533254050</td><td>1740     </td><td>241600   </td><td> 20      </td><td>RL       </td><td>110      </td><td>15417    </td><td>Pave     </td><td>NA       </td><td>...      </td><td>  0      </td><td>0        </td><td>NA       </td><td>NA       </td><td>NA       </td><td>    0    </td><td> 6       </td><td>2009     </td><td>WD       </td><td>Normal   </td></tr>\n",
       "\t<tr><td>2056     </td><td>905104090</td><td> 894     </td><td>125000   </td><td> 20      </td><td>RL       </td><td> 99      </td><td> 7094    </td><td>Pave     </td><td>NA       </td><td>...      </td><td>  0      </td><td>0        </td><td>NA       </td><td>MnPrv    </td><td>NA       </td><td>    0    </td><td> 5       </td><td>2007     </td><td>WD       </td><td>Normal   </td></tr>\n",
       "\t<tr><td>2465     </td><td>528480100</td><td>1553     </td><td>186500   </td><td> 60      </td><td>FV       </td><td> 65      </td><td> 8125    </td><td>Pave     </td><td>NA       </td><td>...      </td><td>  0      </td><td>0        </td><td>NA       </td><td>NA       </td><td>NA       </td><td>    0    </td><td> 3       </td><td>2006     </td><td>New      </td><td>Partial  </td></tr>\n",
       "\t<tr><td>2466     </td><td>528480110</td><td>1716     </td><td>200825   </td><td> 60      </td><td>FV       </td><td> 65      </td><td> 8125    </td><td>Pave     </td><td>NA       </td><td>...      </td><td>  0      </td><td>0        </td><td>NA       </td><td>NA       </td><td>NA       </td><td>    0    </td><td> 2       </td><td>2006     </td><td>WD       </td><td>Normal   </td></tr>\n",
       "\t<tr><td> 690     </td><td>535476240</td><td>1045     </td><td>127000   </td><td> 20      </td><td>RL       </td><td> 80      </td><td> 7936    </td><td>Pave     </td><td>NA       </td><td>...      </td><td>  0      </td><td>0        </td><td>NA       </td><td>NA       </td><td>NA       </td><td>    0    </td><td> 4       </td><td>2009     </td><td>WD       </td><td>Normal   </td></tr>\n",
       "\t<tr><td>2040     </td><td>903458060</td><td>1196     </td><td>109900   </td><td> 30      </td><td>RM       </td><td> 40      </td><td> 4800    </td><td>Pave     </td><td>NA       </td><td>...      </td><td>  0      </td><td>0        </td><td>NA       </td><td>NA       </td><td>NA       </td><td>    0    </td><td> 7       </td><td>2007     </td><td>WD       </td><td>Normal   </td></tr>\n",
       "\t<tr><td>1908     </td><td>534478140</td><td>1920     </td><td>137000   </td><td> 90      </td><td>RL       </td><td> 95      </td><td>11345    </td><td>Pave     </td><td>NA       </td><td>...      </td><td>  0      </td><td>0        </td><td>NA       </td><td>NA       </td><td>NA       </td><td>    0    </td><td> 7       </td><td>2007     </td><td>WD       </td><td>Normal   </td></tr>\n",
       "\t<tr><td>2614     </td><td>535403200</td><td> 864     </td><td>120000   </td><td> 20      </td><td>RL       </td><td> 60      </td><td> 7332    </td><td>Pave     </td><td>NA       </td><td>...      </td><td>  0      </td><td>0        </td><td>NA       </td><td>NA       </td><td>NA       </td><td>    0    </td><td>10       </td><td>2006     </td><td>WD       </td><td>Abnorml  </td></tr>\n",
       "\t<tr><td>2256     </td><td>916226090</td><td>1501     </td><td>244000   </td><td>120      </td><td>RL       </td><td> 46      </td><td> 4054    </td><td>Pave     </td><td>NA       </td><td>...      </td><td>  0      </td><td>0        </td><td>NA       </td><td>NA       </td><td>NA       </td><td>    0    </td><td>10       </td><td>2007     </td><td>WD       </td><td>Normal   </td></tr>\n",
       "\t<tr><td>2174     </td><td>908127100</td><td> 816     </td><td>118500   </td><td> 90      </td><td>RL       </td><td> 81      </td><td>11841    </td><td>Grvl     </td><td>NA       </td><td>...      </td><td>  0      </td><td>0        </td><td>NA       </td><td>NA       </td><td>NA       </td><td>    0    </td><td> 5       </td><td>2007     </td><td>WD       </td><td>Normal   </td></tr>\n",
       "\t<tr><td>2038     </td><td>903457130</td><td>1315     </td><td> 99500   </td><td>190      </td><td>RM       </td><td> 52      </td><td> 4330    </td><td>Pave     </td><td>Grvl     </td><td>...      </td><td>  0      </td><td>0        </td><td>NA       </td><td>NA       </td><td>NA       </td><td>    0    </td><td> 2       </td><td>2007     </td><td>COD      </td><td>Abnorml  </td></tr>\n",
       "\t<tr><td>1882     </td><td>534275170</td><td> 958     </td><td>151500   </td><td> 20      </td><td>RL       </td><td> NA      </td><td>12772    </td><td>Pave     </td><td>NA       </td><td>...      </td><td>  0      </td><td>0        </td><td>NA       </td><td>NA       </td><td>Gar2     </td><td>15500    </td><td> 4       </td><td>2007     </td><td>WD       </td><td>Normal   </td></tr>\n",
       "\t<tr><td>2093     </td><td>906201200</td><td>2730     </td><td>301000   </td><td> 60      </td><td>RL       </td><td> 86      </td><td>10380    </td><td>Pave     </td><td>NA       </td><td>...      </td><td>  0      </td><td>0        </td><td>NA       </td><td>MnPrv    </td><td>NA       </td><td>    0    </td><td> 8       </td><td>2007     </td><td>WD       </td><td>Normal   </td></tr>\n",
       "\t<tr><td>1932     </td><td>535301160</td><td>1560     </td><td>128600   </td><td> 90      </td><td>RL       </td><td> 70      </td><td> 8078    </td><td>Pave     </td><td>NA       </td><td>...      </td><td>  0      </td><td>0        </td><td>NA       </td><td>NA       </td><td>NA       </td><td>    0    </td><td>12       </td><td>2007     </td><td>WD       </td><td>Normal   </td></tr>\n",
       "\t<tr><td>2437     </td><td>528275060</td><td>1664     </td><td>172400   </td><td> 60      </td><td>RL       </td><td> NA      </td><td> 8121    </td><td>Pave     </td><td>NA       </td><td>...      </td><td>  0      </td><td>0        </td><td>NA       </td><td>NA       </td><td>NA       </td><td>    0    </td><td> 1       </td><td>2006     </td><td>WD       </td><td>Normal   </td></tr>\n",
       "\t<tr><td> 340     </td><td>924151040</td><td>1803     </td><td>285000   </td><td> 20      </td><td>RL       </td><td> 76      </td><td> 9892    </td><td>Pave     </td><td>NA       </td><td>...      </td><td>  0      </td><td>0        </td><td>NA       </td><td>GdWo     </td><td>NA       </td><td>    0    </td><td> 2       </td><td>2010     </td><td>WD       </td><td>Normal   </td></tr>\n",
       "\t<tr><td> 314     </td><td>914478110</td><td>2048     </td><td>170000   </td><td> 90      </td><td>RL       </td><td> NA      </td><td>12760    </td><td>Pave     </td><td>NA       </td><td>...      </td><td>  0      </td><td>0        </td><td>NA       </td><td>NA       </td><td>NA       </td><td>    0    </td><td> 3       </td><td>2010     </td><td>ConLD    </td><td>Normal   </td></tr>\n",
       "\t<tr><td> 406     </td><td>527451540</td><td> 987     </td><td> 97000   </td><td>160      </td><td>RM       </td><td> 21      </td><td> 1680    </td><td>Pave     </td><td>NA       </td><td>...      </td><td>  0      </td><td>0        </td><td>NA       </td><td>NA       </td><td>NA       </td><td>    0    </td><td> 7       </td><td>2009     </td><td>WD       </td><td>Normal   </td></tr>\n",
       "\t<tr><td> 536     </td><td>531363050</td><td>1158     </td><td>143500   </td><td> 20      </td><td>RL       </td><td> 63      </td><td> 7500    </td><td>Pave     </td><td>NA       </td><td>...      </td><td>  0      </td><td>0        </td><td>NA       </td><td>NA       </td><td>NA       </td><td>    0    </td><td> 8       </td><td>2009     </td><td>WD       </td><td>Normal   </td></tr>\n",
       "\t<tr><td>1945     </td><td>535354260</td><td>1728     </td><td>156000   </td><td> 50      </td><td>RL       </td><td> NA      </td><td>12099    </td><td>Pave     </td><td>NA       </td><td>...      </td><td>  0      </td><td>0        </td><td>NA       </td><td>GdWo     </td><td>NA       </td><td>    0    </td><td> 6       </td><td>2007     </td><td>WD       </td><td>Normal   </td></tr>\n",
       "\t<tr><td>2520     </td><td>533253050</td><td>1036     </td><td>188000   </td><td>120      </td><td>RL       </td><td> 36      </td><td> 3640    </td><td>Pave     </td><td>NA       </td><td>...      </td><td>  0      </td><td>0        </td><td>NA       </td><td>NA       </td><td>NA       </td><td>    0    </td><td> 9       </td><td>2006     </td><td>WD       </td><td>Normal   </td></tr>\n",
       "\t<tr><td> 603     </td><td>534277090</td><td>1362     </td><td>140000   </td><td> 20      </td><td>RL       </td><td> NA      </td><td> 9450    </td><td>Pave     </td><td>NA       </td><td>...      </td><td>  0      </td><td>0        </td><td>NA       </td><td>MnPrv    </td><td>NA       </td><td>    0    </td><td> 5       </td><td>2009     </td><td>WD       </td><td>Normal   </td></tr>\n",
       "\t<tr><td> 922     </td><td>909276200</td><td>1308     </td><td>160000   </td><td> 50      </td><td>RL       </td><td>130      </td><td> 9600    </td><td>Pave     </td><td>NA       </td><td>...      </td><td>  0      </td><td>0        </td><td>NA       </td><td>NA       </td><td>NA       </td><td>    0    </td><td> 6       </td><td>2009     </td><td>WD       </td><td>Normal   </td></tr>\n",
       "\t<tr><td>2890     </td><td>914476130</td><td>1210     </td><td>148000   </td><td> 80      </td><td>RL       </td><td>140      </td><td>11080    </td><td>Pave     </td><td>NA       </td><td>...      </td><td>  0      </td><td>0        </td><td>NA       </td><td>NA       </td><td>NA       </td><td>    0    </td><td> 5       </td><td>2006     </td><td>WD       </td><td>Normal   </td></tr>\n",
       "\t<tr><td>1965     </td><td>535453150</td><td>1170     </td><td>140000   </td><td> 20      </td><td>RL       </td><td> 70      </td><td> 7315    </td><td>Pave     </td><td>NA       </td><td>...      </td><td>225      </td><td>0        </td><td>NA       </td><td>NA       </td><td>NA       </td><td>    0    </td><td> 3       </td><td>2007     </td><td>WD       </td><td>Normal   </td></tr>\n",
       "\t<tr><td>1458     </td><td>907254020</td><td>1852     </td><td>230000   </td><td> 60      </td><td>RL       </td><td> 73      </td><td> 9066    </td><td>Pave     </td><td>NA       </td><td>...      </td><td>  0      </td><td>0        </td><td>NA       </td><td>GdPrv    </td><td>NA       </td><td>    0    </td><td>12       </td><td>2008     </td><td>WD       </td><td>Normal   </td></tr>\n",
       "\t<tr><td>1018     </td><td>527301245</td><td>1688     </td><td>226500   </td><td> 20      </td><td>RL       </td><td> 63      </td><td>12680    </td><td>Pave     </td><td>NA       </td><td>...      </td><td>141      </td><td>0        </td><td>NA       </td><td>NA       </td><td>NA       </td><td>    0    </td><td> 6       </td><td>2008     </td><td>WD       </td><td>Normal   </td></tr>\n",
       "\t<tr><td>1515     </td><td>909101060</td><td> 864     </td><td> 67000   </td><td> 30      </td><td>RL       </td><td> 45      </td><td> 8248    </td><td>Pave     </td><td>Grvl     </td><td>...      </td><td>  0      </td><td>0        </td><td>NA       </td><td>NA       </td><td>NA       </td><td>    0    </td><td> 9       </td><td>2008     </td><td>WD       </td><td>Normal   </td></tr>\n",
       "\t<tr><td>1429     </td><td>906424010</td><td>1511     </td><td>225000   </td><td> 80      </td><td>RL       </td><td> NA      </td><td>11454    </td><td>Pave     </td><td>NA       </td><td>...      </td><td>  0      </td><td>0        </td><td>NA       </td><td>NA       </td><td>NA       </td><td>    0    </td><td> 2       </td><td>2008     </td><td>WD       </td><td>Normal   </td></tr>\n",
       "\t<tr><td> 631     </td><td>535151040</td><td>1144     </td><td>150000   </td><td> 20      </td><td>RL       </td><td> 73      </td><td> 8760    </td><td>Pave     </td><td>NA       </td><td>...      </td><td>  0      </td><td>0        </td><td>NA       </td><td>NA       </td><td>NA       </td><td>    0    </td><td> 6       </td><td>2009     </td><td>WD       </td><td>Normal   </td></tr>\n",
       "\t<tr><td>2819     </td><td>908102330</td><td>1220     </td><td>102000   </td><td> 20      </td><td>RL       </td><td> 67      </td><td> 8877    </td><td>Pave     </td><td>NA       </td><td>...      </td><td>  0      </td><td>0        </td><td>NA       </td><td>NA       </td><td>NA       </td><td>    0    </td><td> 4       </td><td>2006     </td><td>COD      </td><td>Normal   </td></tr>\n",
       "\t<tr><td> 620     </td><td>534476320</td><td>1050     </td><td>128900   </td><td> 20      </td><td>RL       </td><td> 80      </td><td> 9600    </td><td>Pave     </td><td>NA       </td><td>...      </td><td>  0      </td><td>0        </td><td>NA       </td><td>NA       </td><td>NA       </td><td>    0    </td><td> 6       </td><td>2009     </td><td>WD       </td><td>Normal   </td></tr>\n",
       "\t<tr><td>1407     </td><td>905425125</td><td>2358     </td><td>240000   </td><td> 50      </td><td>RL       </td><td> 75      </td><td>45600    </td><td>Pave     </td><td>NA       </td><td>...      </td><td>175      </td><td>0        </td><td>NA       </td><td>NA       </td><td>NA       </td><td>    0    </td><td> 9       </td><td>2008     </td><td>WD       </td><td>Normal   </td></tr>\n",
       "\t<tr><td> 797     </td><td>905478030</td><td>1716     </td><td>131000   </td><td> 50      </td><td>RL       </td><td> 60      </td><td>11409    </td><td>Pave     </td><td>NA       </td><td>...      </td><td>160      </td><td>0        </td><td>NA       </td><td>NA       </td><td>NA       </td><td>    0    </td><td> 1       </td><td>2009     </td><td>WD       </td><td>Normal   </td></tr>\n",
       "\t<tr><td>1011     </td><td>527208010</td><td>2500     </td><td>355000   </td><td> 60      </td><td>RL       </td><td>101      </td><td>13543    </td><td>Pave     </td><td>NA       </td><td>...      </td><td>  0      </td><td>0        </td><td>NA       </td><td>NA       </td><td>NA       </td><td>    0    </td><td> 7       </td><td>2008     </td><td>WD       </td><td>Normal   </td></tr>\n",
       "\t<tr><td>2468     </td><td>528488110</td><td>1262     </td><td>185000   </td><td> 20      </td><td>FV       </td><td> 60      </td><td> 7200    </td><td>Pave     </td><td>Pave     </td><td>...      </td><td>  0      </td><td>0        </td><td>NA       </td><td>NA       </td><td>NA       </td><td>    0    </td><td> 5       </td><td>2006     </td><td>New      </td><td>Partial  </td></tr>\n",
       "\t<tr><td>1958     </td><td>535450220</td><td>1082     </td><td>119200   </td><td> 20      </td><td>RL       </td><td> 60      </td><td>11664    </td><td>Pave     </td><td>NA       </td><td>...      </td><td>  0      </td><td>0        </td><td>NA       </td><td>NA       </td><td>NA       </td><td>    0    </td><td>11       </td><td>2007     </td><td>WD       </td><td>Normal   </td></tr>\n",
       "\t<tr><td> 858     </td><td>907202130</td><td>1268     </td><td>143500   </td><td> 20      </td><td>RL       </td><td> NA      </td><td> 9286    </td><td>Pave     </td><td>NA       </td><td>...      </td><td>  0      </td><td>0        </td><td>NA       </td><td>NA       </td><td>NA       </td><td>    0    </td><td>10       </td><td>2009     </td><td>WD       </td><td>Normal   </td></tr>\n",
       "\t<tr><td>1046     </td><td>527451550</td><td>1302     </td><td>111750   </td><td>160      </td><td>RM       </td><td> 21      </td><td> 1680    </td><td>Pave     </td><td>NA       </td><td>...      </td><td>  0      </td><td>0        </td><td>NA       </td><td>NA       </td><td>NA       </td><td>    0    </td><td>12       </td><td>2008     </td><td>WD       </td><td>Normal   </td></tr>\n",
       "\t<tr><td>2877     </td><td>910207110</td><td> 951     </td><td>106500   </td><td> 30      </td><td>RM       </td><td> 50      </td><td> 8765    </td><td>Pave     </td><td>Grvl     </td><td>...      </td><td>  0      </td><td>0        </td><td>NA       </td><td>NA       </td><td>NA       </td><td>    0    </td><td> 4       </td><td>2006     </td><td>WD       </td><td>Abnorml  </td></tr>\n",
       "\t<tr><td>2092     </td><td>906201023</td><td>2243     </td><td>225000   </td><td> 60      </td><td>RL       </td><td>116      </td><td>13474    </td><td>Pave     </td><td>NA       </td><td>...      </td><td>  0      </td><td>0        </td><td>NA       </td><td>NA       </td><td>NA       </td><td>    0    </td><td> 6       </td><td>2007     </td><td>WD       </td><td>Normal   </td></tr>\n",
       "\t<tr><td>2136     </td><td>907200190</td><td>1025     </td><td>153500   </td><td> 80      </td><td>RL       </td><td> 59      </td><td> 8660    </td><td>Pave     </td><td>NA       </td><td>...      </td><td>  0      </td><td>0        </td><td>NA       </td><td>NA       </td><td>NA       </td><td>    0    </td><td> 7       </td><td>2007     </td><td>WD       </td><td>Normal   </td></tr>\n",
       "\t<tr><td> 113     </td><td>534152050</td><td>1610     </td><td>205000   </td><td> 20      </td><td>RL       </td><td> NA      </td><td>10603    </td><td>Pave     </td><td>NA       </td><td>...      </td><td>  0      </td><td>0        </td><td>NA       </td><td>NA       </td><td>NA       </td><td>    0    </td><td> 2       </td><td>2010     </td><td>WD       </td><td>Normal   </td></tr>\n",
       "\t<tr><td>1216     </td><td>534426040</td><td>1053     </td><td>145500   </td><td> 20      </td><td>RL       </td><td> 72      </td><td>10007    </td><td>Pave     </td><td>NA       </td><td>...      </td><td>  0      </td><td>0        </td><td>NA       </td><td>MnPrv    </td><td>NA       </td><td>    0    </td><td> 8       </td><td>2008     </td><td>WD       </td><td>Normal   </td></tr>\n",
       "\t<tr><td>1445     </td><td>907200110</td><td> 938     </td><td>130250   </td><td> 20      </td><td>RL       </td><td> NA      </td><td> 9200    </td><td>Pave     </td><td>NA       </td><td>...      </td><td>  0      </td><td>0        </td><td>NA       </td><td>MnPrv    </td><td>NA       </td><td>    0    </td><td> 7       </td><td>2008     </td><td>WD       </td><td>Normal   </td></tr>\n",
       "\t<tr><td>1209     </td><td>534400060</td><td>1425     </td><td>180500   </td><td> 20      </td><td>RL       </td><td>100      </td><td>10175    </td><td>Pave     </td><td>NA       </td><td>...      </td><td>  0      </td><td>0        </td><td>NA       </td><td>NA       </td><td>NA       </td><td>    0    </td><td> 7       </td><td>2008     </td><td>WD       </td><td>Normal   </td></tr>\n",
       "\t<tr><td>2042     </td><td>903475060</td><td>1889     </td><td>122000   </td><td>190      </td><td>RM       </td><td> 60      </td><td>10120    </td><td>Pave     </td><td>NA       </td><td>...      </td><td>  0      </td><td>0        </td><td>NA       </td><td>MnPrv    </td><td>NA       </td><td>    0    </td><td> 1       </td><td>2007     </td><td>WD       </td><td>Normal   </td></tr>\n",
       "\t<tr><td>2719     </td><td>905108120</td><td>1949     </td><td>157000   </td><td> 90      </td><td>RL       </td><td> 75      </td><td> 8235    </td><td>Pave     </td><td>NA       </td><td>...      </td><td>  0      </td><td>0        </td><td>NA       </td><td>NA       </td><td>NA       </td><td>    0    </td><td> 5       </td><td>2006     </td><td>WD       </td><td>Normal   </td></tr>\n",
       "</tbody>\n",
       "</table>\n"
      ],
      "text/latex": [
       "\\begin{tabular}{r|llllllllllllllllllllllllllllllllllllllllllllllllllllllllllllllllllllllllllllllllll}\n",
       " Order & PID & area & price & MS.SubClass & MS.Zoning & Lot.Frontage & Lot.Area & Street & Alley & ... & Screen.Porch & Pool.Area & Pool.QC & Fence & Misc.Feature & Misc.Val & Mo.Sold & Yr.Sold & Sale.Type & Sale.Condition\\\\\n",
       "\\hline\n",
       "\t 1512      & 908276140 & 1204      & 100000    &  80       & RL        &  62       &  7692     & Pave      & NA        & ...       &   0       & 0         & NA        & NA        & NA        &     0     & 11        & 2008      & WD        & Abnorml  \\\\\n",
       "\t 1674      & 527427160 & 1337      & 155000    & 120       & RH        &  33       &  4113     & Pave      & NA        & ...       &   0       & 0         & NA        & NA        & NA        &     0     &  7        & 2007      & WD        & Normal   \\\\\n",
       "\t  577      & 533254050 & 1740      & 241600    &  20       & RL        & 110       & 15417     & Pave      & NA        & ...       &   0       & 0         & NA        & NA        & NA        &     0     &  6        & 2009      & WD        & Normal   \\\\\n",
       "\t 2056      & 905104090 &  894      & 125000    &  20       & RL        &  99       &  7094     & Pave      & NA        & ...       &   0       & 0         & NA        & MnPrv     & NA        &     0     &  5        & 2007      & WD        & Normal   \\\\\n",
       "\t 2465      & 528480100 & 1553      & 186500    &  60       & FV        &  65       &  8125     & Pave      & NA        & ...       &   0       & 0         & NA        & NA        & NA        &     0     &  3        & 2006      & New       & Partial  \\\\\n",
       "\t 2466      & 528480110 & 1716      & 200825    &  60       & FV        &  65       &  8125     & Pave      & NA        & ...       &   0       & 0         & NA        & NA        & NA        &     0     &  2        & 2006      & WD        & Normal   \\\\\n",
       "\t  690      & 535476240 & 1045      & 127000    &  20       & RL        &  80       &  7936     & Pave      & NA        & ...       &   0       & 0         & NA        & NA        & NA        &     0     &  4        & 2009      & WD        & Normal   \\\\\n",
       "\t 2040      & 903458060 & 1196      & 109900    &  30       & RM        &  40       &  4800     & Pave      & NA        & ...       &   0       & 0         & NA        & NA        & NA        &     0     &  7        & 2007      & WD        & Normal   \\\\\n",
       "\t 1908      & 534478140 & 1920      & 137000    &  90       & RL        &  95       & 11345     & Pave      & NA        & ...       &   0       & 0         & NA        & NA        & NA        &     0     &  7        & 2007      & WD        & Normal   \\\\\n",
       "\t 2614      & 535403200 &  864      & 120000    &  20       & RL        &  60       &  7332     & Pave      & NA        & ...       &   0       & 0         & NA        & NA        & NA        &     0     & 10        & 2006      & WD        & Abnorml  \\\\\n",
       "\t 2256      & 916226090 & 1501      & 244000    & 120       & RL        &  46       &  4054     & Pave      & NA        & ...       &   0       & 0         & NA        & NA        & NA        &     0     & 10        & 2007      & WD        & Normal   \\\\\n",
       "\t 2174      & 908127100 &  816      & 118500    &  90       & RL        &  81       & 11841     & Grvl      & NA        & ...       &   0       & 0         & NA        & NA        & NA        &     0     &  5        & 2007      & WD        & Normal   \\\\\n",
       "\t 2038      & 903457130 & 1315      &  99500    & 190       & RM        &  52       &  4330     & Pave      & Grvl      & ...       &   0       & 0         & NA        & NA        & NA        &     0     &  2        & 2007      & COD       & Abnorml  \\\\\n",
       "\t 1882      & 534275170 &  958      & 151500    &  20       & RL        &  NA       & 12772     & Pave      & NA        & ...       &   0       & 0         & NA        & NA        & Gar2      & 15500     &  4        & 2007      & WD        & Normal   \\\\\n",
       "\t 2093      & 906201200 & 2730      & 301000    &  60       & RL        &  86       & 10380     & Pave      & NA        & ...       &   0       & 0         & NA        & MnPrv     & NA        &     0     &  8        & 2007      & WD        & Normal   \\\\\n",
       "\t 1932      & 535301160 & 1560      & 128600    &  90       & RL        &  70       &  8078     & Pave      & NA        & ...       &   0       & 0         & NA        & NA        & NA        &     0     & 12        & 2007      & WD        & Normal   \\\\\n",
       "\t 2437      & 528275060 & 1664      & 172400    &  60       & RL        &  NA       &  8121     & Pave      & NA        & ...       &   0       & 0         & NA        & NA        & NA        &     0     &  1        & 2006      & WD        & Normal   \\\\\n",
       "\t  340      & 924151040 & 1803      & 285000    &  20       & RL        &  76       &  9892     & Pave      & NA        & ...       &   0       & 0         & NA        & GdWo      & NA        &     0     &  2        & 2010      & WD        & Normal   \\\\\n",
       "\t  314      & 914478110 & 2048      & 170000    &  90       & RL        &  NA       & 12760     & Pave      & NA        & ...       &   0       & 0         & NA        & NA        & NA        &     0     &  3        & 2010      & ConLD     & Normal   \\\\\n",
       "\t  406      & 527451540 &  987      &  97000    & 160       & RM        &  21       &  1680     & Pave      & NA        & ...       &   0       & 0         & NA        & NA        & NA        &     0     &  7        & 2009      & WD        & Normal   \\\\\n",
       "\t  536      & 531363050 & 1158      & 143500    &  20       & RL        &  63       &  7500     & Pave      & NA        & ...       &   0       & 0         & NA        & NA        & NA        &     0     &  8        & 2009      & WD        & Normal   \\\\\n",
       "\t 1945      & 535354260 & 1728      & 156000    &  50       & RL        &  NA       & 12099     & Pave      & NA        & ...       &   0       & 0         & NA        & GdWo      & NA        &     0     &  6        & 2007      & WD        & Normal   \\\\\n",
       "\t 2520      & 533253050 & 1036      & 188000    & 120       & RL        &  36       &  3640     & Pave      & NA        & ...       &   0       & 0         & NA        & NA        & NA        &     0     &  9        & 2006      & WD        & Normal   \\\\\n",
       "\t  603      & 534277090 & 1362      & 140000    &  20       & RL        &  NA       &  9450     & Pave      & NA        & ...       &   0       & 0         & NA        & MnPrv     & NA        &     0     &  5        & 2009      & WD        & Normal   \\\\\n",
       "\t  922      & 909276200 & 1308      & 160000    &  50       & RL        & 130       &  9600     & Pave      & NA        & ...       &   0       & 0         & NA        & NA        & NA        &     0     &  6        & 2009      & WD        & Normal   \\\\\n",
       "\t 2890      & 914476130 & 1210      & 148000    &  80       & RL        & 140       & 11080     & Pave      & NA        & ...       &   0       & 0         & NA        & NA        & NA        &     0     &  5        & 2006      & WD        & Normal   \\\\\n",
       "\t 1965      & 535453150 & 1170      & 140000    &  20       & RL        &  70       &  7315     & Pave      & NA        & ...       & 225       & 0         & NA        & NA        & NA        &     0     &  3        & 2007      & WD        & Normal   \\\\\n",
       "\t 1458      & 907254020 & 1852      & 230000    &  60       & RL        &  73       &  9066     & Pave      & NA        & ...       &   0       & 0         & NA        & GdPrv     & NA        &     0     & 12        & 2008      & WD        & Normal   \\\\\n",
       "\t 1018      & 527301245 & 1688      & 226500    &  20       & RL        &  63       & 12680     & Pave      & NA        & ...       & 141       & 0         & NA        & NA        & NA        &     0     &  6        & 2008      & WD        & Normal   \\\\\n",
       "\t 1515      & 909101060 &  864      &  67000    &  30       & RL        &  45       &  8248     & Pave      & Grvl      & ...       &   0       & 0         & NA        & NA        & NA        &     0     &  9        & 2008      & WD        & Normal   \\\\\n",
       "\t 1429      & 906424010 & 1511      & 225000    &  80       & RL        &  NA       & 11454     & Pave      & NA        & ...       &   0       & 0         & NA        & NA        & NA        &     0     &  2        & 2008      & WD        & Normal   \\\\\n",
       "\t  631      & 535151040 & 1144      & 150000    &  20       & RL        &  73       &  8760     & Pave      & NA        & ...       &   0       & 0         & NA        & NA        & NA        &     0     &  6        & 2009      & WD        & Normal   \\\\\n",
       "\t 2819      & 908102330 & 1220      & 102000    &  20       & RL        &  67       &  8877     & Pave      & NA        & ...       &   0       & 0         & NA        & NA        & NA        &     0     &  4        & 2006      & COD       & Normal   \\\\\n",
       "\t  620      & 534476320 & 1050      & 128900    &  20       & RL        &  80       &  9600     & Pave      & NA        & ...       &   0       & 0         & NA        & NA        & NA        &     0     &  6        & 2009      & WD        & Normal   \\\\\n",
       "\t 1407      & 905425125 & 2358      & 240000    &  50       & RL        &  75       & 45600     & Pave      & NA        & ...       & 175       & 0         & NA        & NA        & NA        &     0     &  9        & 2008      & WD        & Normal   \\\\\n",
       "\t  797      & 905478030 & 1716      & 131000    &  50       & RL        &  60       & 11409     & Pave      & NA        & ...       & 160       & 0         & NA        & NA        & NA        &     0     &  1        & 2009      & WD        & Normal   \\\\\n",
       "\t 1011      & 527208010 & 2500      & 355000    &  60       & RL        & 101       & 13543     & Pave      & NA        & ...       &   0       & 0         & NA        & NA        & NA        &     0     &  7        & 2008      & WD        & Normal   \\\\\n",
       "\t 2468      & 528488110 & 1262      & 185000    &  20       & FV        &  60       &  7200     & Pave      & Pave      & ...       &   0       & 0         & NA        & NA        & NA        &     0     &  5        & 2006      & New       & Partial  \\\\\n",
       "\t 1958      & 535450220 & 1082      & 119200    &  20       & RL        &  60       & 11664     & Pave      & NA        & ...       &   0       & 0         & NA        & NA        & NA        &     0     & 11        & 2007      & WD        & Normal   \\\\\n",
       "\t  858      & 907202130 & 1268      & 143500    &  20       & RL        &  NA       &  9286     & Pave      & NA        & ...       &   0       & 0         & NA        & NA        & NA        &     0     & 10        & 2009      & WD        & Normal   \\\\\n",
       "\t 1046      & 527451550 & 1302      & 111750    & 160       & RM        &  21       &  1680     & Pave      & NA        & ...       &   0       & 0         & NA        & NA        & NA        &     0     & 12        & 2008      & WD        & Normal   \\\\\n",
       "\t 2877      & 910207110 &  951      & 106500    &  30       & RM        &  50       &  8765     & Pave      & Grvl      & ...       &   0       & 0         & NA        & NA        & NA        &     0     &  4        & 2006      & WD        & Abnorml  \\\\\n",
       "\t 2092      & 906201023 & 2243      & 225000    &  60       & RL        & 116       & 13474     & Pave      & NA        & ...       &   0       & 0         & NA        & NA        & NA        &     0     &  6        & 2007      & WD        & Normal   \\\\\n",
       "\t 2136      & 907200190 & 1025      & 153500    &  80       & RL        &  59       &  8660     & Pave      & NA        & ...       &   0       & 0         & NA        & NA        & NA        &     0     &  7        & 2007      & WD        & Normal   \\\\\n",
       "\t  113      & 534152050 & 1610      & 205000    &  20       & RL        &  NA       & 10603     & Pave      & NA        & ...       &   0       & 0         & NA        & NA        & NA        &     0     &  2        & 2010      & WD        & Normal   \\\\\n",
       "\t 1216      & 534426040 & 1053      & 145500    &  20       & RL        &  72       & 10007     & Pave      & NA        & ...       &   0       & 0         & NA        & MnPrv     & NA        &     0     &  8        & 2008      & WD        & Normal   \\\\\n",
       "\t 1445      & 907200110 &  938      & 130250    &  20       & RL        &  NA       &  9200     & Pave      & NA        & ...       &   0       & 0         & NA        & MnPrv     & NA        &     0     &  7        & 2008      & WD        & Normal   \\\\\n",
       "\t 1209      & 534400060 & 1425      & 180500    &  20       & RL        & 100       & 10175     & Pave      & NA        & ...       &   0       & 0         & NA        & NA        & NA        &     0     &  7        & 2008      & WD        & Normal   \\\\\n",
       "\t 2042      & 903475060 & 1889      & 122000    & 190       & RM        &  60       & 10120     & Pave      & NA        & ...       &   0       & 0         & NA        & MnPrv     & NA        &     0     &  1        & 2007      & WD        & Normal   \\\\\n",
       "\t 2719      & 905108120 & 1949      & 157000    &  90       & RL        &  75       &  8235     & Pave      & NA        & ...       &   0       & 0         & NA        & NA        & NA        &     0     &  5        & 2006      & WD        & Normal   \\\\\n",
       "\\end{tabular}\n"
      ],
      "text/markdown": [
       "\n",
       "Order | PID | area | price | MS.SubClass | MS.Zoning | Lot.Frontage | Lot.Area | Street | Alley | ... | Screen.Porch | Pool.Area | Pool.QC | Fence | Misc.Feature | Misc.Val | Mo.Sold | Yr.Sold | Sale.Type | Sale.Condition | \n",
       "|---|---|---|---|---|---|---|---|---|---|---|---|---|---|---|---|---|---|---|---|---|---|---|---|---|---|---|---|---|---|---|---|---|---|---|---|---|---|---|---|---|---|---|---|---|---|---|---|---|---|\n",
       "| 1512      | 908276140 | 1204      | 100000    |  80       | RL        |  62       |  7692     | Pave      | NA        | ...       |   0       | 0         | NA        | NA        | NA        |     0     | 11        | 2008      | WD        | Abnorml   | \n",
       "| 1674      | 527427160 | 1337      | 155000    | 120       | RH        |  33       |  4113     | Pave      | NA        | ...       |   0       | 0         | NA        | NA        | NA        |     0     |  7        | 2007      | WD        | Normal    | \n",
       "|  577      | 533254050 | 1740      | 241600    |  20       | RL        | 110       | 15417     | Pave      | NA        | ...       |   0       | 0         | NA        | NA        | NA        |     0     |  6        | 2009      | WD        | Normal    | \n",
       "| 2056      | 905104090 |  894      | 125000    |  20       | RL        |  99       |  7094     | Pave      | NA        | ...       |   0       | 0         | NA        | MnPrv     | NA        |     0     |  5        | 2007      | WD        | Normal    | \n",
       "| 2465      | 528480100 | 1553      | 186500    |  60       | FV        |  65       |  8125     | Pave      | NA        | ...       |   0       | 0         | NA        | NA        | NA        |     0     |  3        | 2006      | New       | Partial   | \n",
       "| 2466      | 528480110 | 1716      | 200825    |  60       | FV        |  65       |  8125     | Pave      | NA        | ...       |   0       | 0         | NA        | NA        | NA        |     0     |  2        | 2006      | WD        | Normal    | \n",
       "|  690      | 535476240 | 1045      | 127000    |  20       | RL        |  80       |  7936     | Pave      | NA        | ...       |   0       | 0         | NA        | NA        | NA        |     0     |  4        | 2009      | WD        | Normal    | \n",
       "| 2040      | 903458060 | 1196      | 109900    |  30       | RM        |  40       |  4800     | Pave      | NA        | ...       |   0       | 0         | NA        | NA        | NA        |     0     |  7        | 2007      | WD        | Normal    | \n",
       "| 1908      | 534478140 | 1920      | 137000    |  90       | RL        |  95       | 11345     | Pave      | NA        | ...       |   0       | 0         | NA        | NA        | NA        |     0     |  7        | 2007      | WD        | Normal    | \n",
       "| 2614      | 535403200 |  864      | 120000    |  20       | RL        |  60       |  7332     | Pave      | NA        | ...       |   0       | 0         | NA        | NA        | NA        |     0     | 10        | 2006      | WD        | Abnorml   | \n",
       "| 2256      | 916226090 | 1501      | 244000    | 120       | RL        |  46       |  4054     | Pave      | NA        | ...       |   0       | 0         | NA        | NA        | NA        |     0     | 10        | 2007      | WD        | Normal    | \n",
       "| 2174      | 908127100 |  816      | 118500    |  90       | RL        |  81       | 11841     | Grvl      | NA        | ...       |   0       | 0         | NA        | NA        | NA        |     0     |  5        | 2007      | WD        | Normal    | \n",
       "| 2038      | 903457130 | 1315      |  99500    | 190       | RM        |  52       |  4330     | Pave      | Grvl      | ...       |   0       | 0         | NA        | NA        | NA        |     0     |  2        | 2007      | COD       | Abnorml   | \n",
       "| 1882      | 534275170 |  958      | 151500    |  20       | RL        |  NA       | 12772     | Pave      | NA        | ...       |   0       | 0         | NA        | NA        | Gar2      | 15500     |  4        | 2007      | WD        | Normal    | \n",
       "| 2093      | 906201200 | 2730      | 301000    |  60       | RL        |  86       | 10380     | Pave      | NA        | ...       |   0       | 0         | NA        | MnPrv     | NA        |     0     |  8        | 2007      | WD        | Normal    | \n",
       "| 1932      | 535301160 | 1560      | 128600    |  90       | RL        |  70       |  8078     | Pave      | NA        | ...       |   0       | 0         | NA        | NA        | NA        |     0     | 12        | 2007      | WD        | Normal    | \n",
       "| 2437      | 528275060 | 1664      | 172400    |  60       | RL        |  NA       |  8121     | Pave      | NA        | ...       |   0       | 0         | NA        | NA        | NA        |     0     |  1        | 2006      | WD        | Normal    | \n",
       "|  340      | 924151040 | 1803      | 285000    |  20       | RL        |  76       |  9892     | Pave      | NA        | ...       |   0       | 0         | NA        | GdWo      | NA        |     0     |  2        | 2010      | WD        | Normal    | \n",
       "|  314      | 914478110 | 2048      | 170000    |  90       | RL        |  NA       | 12760     | Pave      | NA        | ...       |   0       | 0         | NA        | NA        | NA        |     0     |  3        | 2010      | ConLD     | Normal    | \n",
       "|  406      | 527451540 |  987      |  97000    | 160       | RM        |  21       |  1680     | Pave      | NA        | ...       |   0       | 0         | NA        | NA        | NA        |     0     |  7        | 2009      | WD        | Normal    | \n",
       "|  536      | 531363050 | 1158      | 143500    |  20       | RL        |  63       |  7500     | Pave      | NA        | ...       |   0       | 0         | NA        | NA        | NA        |     0     |  8        | 2009      | WD        | Normal    | \n",
       "| 1945      | 535354260 | 1728      | 156000    |  50       | RL        |  NA       | 12099     | Pave      | NA        | ...       |   0       | 0         | NA        | GdWo      | NA        |     0     |  6        | 2007      | WD        | Normal    | \n",
       "| 2520      | 533253050 | 1036      | 188000    | 120       | RL        |  36       |  3640     | Pave      | NA        | ...       |   0       | 0         | NA        | NA        | NA        |     0     |  9        | 2006      | WD        | Normal    | \n",
       "|  603      | 534277090 | 1362      | 140000    |  20       | RL        |  NA       |  9450     | Pave      | NA        | ...       |   0       | 0         | NA        | MnPrv     | NA        |     0     |  5        | 2009      | WD        | Normal    | \n",
       "|  922      | 909276200 | 1308      | 160000    |  50       | RL        | 130       |  9600     | Pave      | NA        | ...       |   0       | 0         | NA        | NA        | NA        |     0     |  6        | 2009      | WD        | Normal    | \n",
       "| 2890      | 914476130 | 1210      | 148000    |  80       | RL        | 140       | 11080     | Pave      | NA        | ...       |   0       | 0         | NA        | NA        | NA        |     0     |  5        | 2006      | WD        | Normal    | \n",
       "| 1965      | 535453150 | 1170      | 140000    |  20       | RL        |  70       |  7315     | Pave      | NA        | ...       | 225       | 0         | NA        | NA        | NA        |     0     |  3        | 2007      | WD        | Normal    | \n",
       "| 1458      | 907254020 | 1852      | 230000    |  60       | RL        |  73       |  9066     | Pave      | NA        | ...       |   0       | 0         | NA        | GdPrv     | NA        |     0     | 12        | 2008      | WD        | Normal    | \n",
       "| 1018      | 527301245 | 1688      | 226500    |  20       | RL        |  63       | 12680     | Pave      | NA        | ...       | 141       | 0         | NA        | NA        | NA        |     0     |  6        | 2008      | WD        | Normal    | \n",
       "| 1515      | 909101060 |  864      |  67000    |  30       | RL        |  45       |  8248     | Pave      | Grvl      | ...       |   0       | 0         | NA        | NA        | NA        |     0     |  9        | 2008      | WD        | Normal    | \n",
       "| 1429      | 906424010 | 1511      | 225000    |  80       | RL        |  NA       | 11454     | Pave      | NA        | ...       |   0       | 0         | NA        | NA        | NA        |     0     |  2        | 2008      | WD        | Normal    | \n",
       "|  631      | 535151040 | 1144      | 150000    |  20       | RL        |  73       |  8760     | Pave      | NA        | ...       |   0       | 0         | NA        | NA        | NA        |     0     |  6        | 2009      | WD        | Normal    | \n",
       "| 2819      | 908102330 | 1220      | 102000    |  20       | RL        |  67       |  8877     | Pave      | NA        | ...       |   0       | 0         | NA        | NA        | NA        |     0     |  4        | 2006      | COD       | Normal    | \n",
       "|  620      | 534476320 | 1050      | 128900    |  20       | RL        |  80       |  9600     | Pave      | NA        | ...       |   0       | 0         | NA        | NA        | NA        |     0     |  6        | 2009      | WD        | Normal    | \n",
       "| 1407      | 905425125 | 2358      | 240000    |  50       | RL        |  75       | 45600     | Pave      | NA        | ...       | 175       | 0         | NA        | NA        | NA        |     0     |  9        | 2008      | WD        | Normal    | \n",
       "|  797      | 905478030 | 1716      | 131000    |  50       | RL        |  60       | 11409     | Pave      | NA        | ...       | 160       | 0         | NA        | NA        | NA        |     0     |  1        | 2009      | WD        | Normal    | \n",
       "| 1011      | 527208010 | 2500      | 355000    |  60       | RL        | 101       | 13543     | Pave      | NA        | ...       |   0       | 0         | NA        | NA        | NA        |     0     |  7        | 2008      | WD        | Normal    | \n",
       "| 2468      | 528488110 | 1262      | 185000    |  20       | FV        |  60       |  7200     | Pave      | Pave      | ...       |   0       | 0         | NA        | NA        | NA        |     0     |  5        | 2006      | New       | Partial   | \n",
       "| 1958      | 535450220 | 1082      | 119200    |  20       | RL        |  60       | 11664     | Pave      | NA        | ...       |   0       | 0         | NA        | NA        | NA        |     0     | 11        | 2007      | WD        | Normal    | \n",
       "|  858      | 907202130 | 1268      | 143500    |  20       | RL        |  NA       |  9286     | Pave      | NA        | ...       |   0       | 0         | NA        | NA        | NA        |     0     | 10        | 2009      | WD        | Normal    | \n",
       "| 1046      | 527451550 | 1302      | 111750    | 160       | RM        |  21       |  1680     | Pave      | NA        | ...       |   0       | 0         | NA        | NA        | NA        |     0     | 12        | 2008      | WD        | Normal    | \n",
       "| 2877      | 910207110 |  951      | 106500    |  30       | RM        |  50       |  8765     | Pave      | Grvl      | ...       |   0       | 0         | NA        | NA        | NA        |     0     |  4        | 2006      | WD        | Abnorml   | \n",
       "| 2092      | 906201023 | 2243      | 225000    |  60       | RL        | 116       | 13474     | Pave      | NA        | ...       |   0       | 0         | NA        | NA        | NA        |     0     |  6        | 2007      | WD        | Normal    | \n",
       "| 2136      | 907200190 | 1025      | 153500    |  80       | RL        |  59       |  8660     | Pave      | NA        | ...       |   0       | 0         | NA        | NA        | NA        |     0     |  7        | 2007      | WD        | Normal    | \n",
       "|  113      | 534152050 | 1610      | 205000    |  20       | RL        |  NA       | 10603     | Pave      | NA        | ...       |   0       | 0         | NA        | NA        | NA        |     0     |  2        | 2010      | WD        | Normal    | \n",
       "| 1216      | 534426040 | 1053      | 145500    |  20       | RL        |  72       | 10007     | Pave      | NA        | ...       |   0       | 0         | NA        | MnPrv     | NA        |     0     |  8        | 2008      | WD        | Normal    | \n",
       "| 1445      | 907200110 |  938      | 130250    |  20       | RL        |  NA       |  9200     | Pave      | NA        | ...       |   0       | 0         | NA        | MnPrv     | NA        |     0     |  7        | 2008      | WD        | Normal    | \n",
       "| 1209      | 534400060 | 1425      | 180500    |  20       | RL        | 100       | 10175     | Pave      | NA        | ...       |   0       | 0         | NA        | NA        | NA        |     0     |  7        | 2008      | WD        | Normal    | \n",
       "| 2042      | 903475060 | 1889      | 122000    | 190       | RM        |  60       | 10120     | Pave      | NA        | ...       |   0       | 0         | NA        | MnPrv     | NA        |     0     |  1        | 2007      | WD        | Normal    | \n",
       "| 2719      | 905108120 | 1949      | 157000    |  90       | RL        |  75       |  8235     | Pave      | NA        | ...       |   0       | 0         | NA        | NA        | NA        |     0     |  5        | 2006      | WD        | Normal    | \n",
       "\n",
       "\n"
      ],
      "text/plain": [
       "   Order PID       area price  MS.SubClass MS.Zoning Lot.Frontage Lot.Area\n",
       "1  1512  908276140 1204 100000  80         RL         62           7692   \n",
       "2  1674  527427160 1337 155000 120         RH         33           4113   \n",
       "3   577  533254050 1740 241600  20         RL        110          15417   \n",
       "4  2056  905104090  894 125000  20         RL         99           7094   \n",
       "5  2465  528480100 1553 186500  60         FV         65           8125   \n",
       "6  2466  528480110 1716 200825  60         FV         65           8125   \n",
       "7   690  535476240 1045 127000  20         RL         80           7936   \n",
       "8  2040  903458060 1196 109900  30         RM         40           4800   \n",
       "9  1908  534478140 1920 137000  90         RL         95          11345   \n",
       "10 2614  535403200  864 120000  20         RL         60           7332   \n",
       "11 2256  916226090 1501 244000 120         RL         46           4054   \n",
       "12 2174  908127100  816 118500  90         RL         81          11841   \n",
       "13 2038  903457130 1315  99500 190         RM         52           4330   \n",
       "14 1882  534275170  958 151500  20         RL         NA          12772   \n",
       "15 2093  906201200 2730 301000  60         RL         86          10380   \n",
       "16 1932  535301160 1560 128600  90         RL         70           8078   \n",
       "17 2437  528275060 1664 172400  60         RL         NA           8121   \n",
       "18  340  924151040 1803 285000  20         RL         76           9892   \n",
       "19  314  914478110 2048 170000  90         RL         NA          12760   \n",
       "20  406  527451540  987  97000 160         RM         21           1680   \n",
       "21  536  531363050 1158 143500  20         RL         63           7500   \n",
       "22 1945  535354260 1728 156000  50         RL         NA          12099   \n",
       "23 2520  533253050 1036 188000 120         RL         36           3640   \n",
       "24  603  534277090 1362 140000  20         RL         NA           9450   \n",
       "25  922  909276200 1308 160000  50         RL        130           9600   \n",
       "26 2890  914476130 1210 148000  80         RL        140          11080   \n",
       "27 1965  535453150 1170 140000  20         RL         70           7315   \n",
       "28 1458  907254020 1852 230000  60         RL         73           9066   \n",
       "29 1018  527301245 1688 226500  20         RL         63          12680   \n",
       "30 1515  909101060  864  67000  30         RL         45           8248   \n",
       "31 1429  906424010 1511 225000  80         RL         NA          11454   \n",
       "32  631  535151040 1144 150000  20         RL         73           8760   \n",
       "33 2819  908102330 1220 102000  20         RL         67           8877   \n",
       "34  620  534476320 1050 128900  20         RL         80           9600   \n",
       "35 1407  905425125 2358 240000  50         RL         75          45600   \n",
       "36  797  905478030 1716 131000  50         RL         60          11409   \n",
       "37 1011  527208010 2500 355000  60         RL        101          13543   \n",
       "38 2468  528488110 1262 185000  20         FV         60           7200   \n",
       "39 1958  535450220 1082 119200  20         RL         60          11664   \n",
       "40  858  907202130 1268 143500  20         RL         NA           9286   \n",
       "41 1046  527451550 1302 111750 160         RM         21           1680   \n",
       "42 2877  910207110  951 106500  30         RM         50           8765   \n",
       "43 2092  906201023 2243 225000  60         RL        116          13474   \n",
       "44 2136  907200190 1025 153500  80         RL         59           8660   \n",
       "45  113  534152050 1610 205000  20         RL         NA          10603   \n",
       "46 1216  534426040 1053 145500  20         RL         72          10007   \n",
       "47 1445  907200110  938 130250  20         RL         NA           9200   \n",
       "48 1209  534400060 1425 180500  20         RL        100          10175   \n",
       "49 2042  903475060 1889 122000 190         RM         60          10120   \n",
       "50 2719  905108120 1949 157000  90         RL         75           8235   \n",
       "   Street Alley ... Screen.Porch Pool.Area Pool.QC Fence Misc.Feature Misc.Val\n",
       "1  Pave   NA    ...   0          0         NA      NA    NA               0   \n",
       "2  Pave   NA    ...   0          0         NA      NA    NA               0   \n",
       "3  Pave   NA    ...   0          0         NA      NA    NA               0   \n",
       "4  Pave   NA    ...   0          0         NA      MnPrv NA               0   \n",
       "5  Pave   NA    ...   0          0         NA      NA    NA               0   \n",
       "6  Pave   NA    ...   0          0         NA      NA    NA               0   \n",
       "7  Pave   NA    ...   0          0         NA      NA    NA               0   \n",
       "8  Pave   NA    ...   0          0         NA      NA    NA               0   \n",
       "9  Pave   NA    ...   0          0         NA      NA    NA               0   \n",
       "10 Pave   NA    ...   0          0         NA      NA    NA               0   \n",
       "11 Pave   NA    ...   0          0         NA      NA    NA               0   \n",
       "12 Grvl   NA    ...   0          0         NA      NA    NA               0   \n",
       "13 Pave   Grvl  ...   0          0         NA      NA    NA               0   \n",
       "14 Pave   NA    ...   0          0         NA      NA    Gar2         15500   \n",
       "15 Pave   NA    ...   0          0         NA      MnPrv NA               0   \n",
       "16 Pave   NA    ...   0          0         NA      NA    NA               0   \n",
       "17 Pave   NA    ...   0          0         NA      NA    NA               0   \n",
       "18 Pave   NA    ...   0          0         NA      GdWo  NA               0   \n",
       "19 Pave   NA    ...   0          0         NA      NA    NA               0   \n",
       "20 Pave   NA    ...   0          0         NA      NA    NA               0   \n",
       "21 Pave   NA    ...   0          0         NA      NA    NA               0   \n",
       "22 Pave   NA    ...   0          0         NA      GdWo  NA               0   \n",
       "23 Pave   NA    ...   0          0         NA      NA    NA               0   \n",
       "24 Pave   NA    ...   0          0         NA      MnPrv NA               0   \n",
       "25 Pave   NA    ...   0          0         NA      NA    NA               0   \n",
       "26 Pave   NA    ...   0          0         NA      NA    NA               0   \n",
       "27 Pave   NA    ... 225          0         NA      NA    NA               0   \n",
       "28 Pave   NA    ...   0          0         NA      GdPrv NA               0   \n",
       "29 Pave   NA    ... 141          0         NA      NA    NA               0   \n",
       "30 Pave   Grvl  ...   0          0         NA      NA    NA               0   \n",
       "31 Pave   NA    ...   0          0         NA      NA    NA               0   \n",
       "32 Pave   NA    ...   0          0         NA      NA    NA               0   \n",
       "33 Pave   NA    ...   0          0         NA      NA    NA               0   \n",
       "34 Pave   NA    ...   0          0         NA      NA    NA               0   \n",
       "35 Pave   NA    ... 175          0         NA      NA    NA               0   \n",
       "36 Pave   NA    ... 160          0         NA      NA    NA               0   \n",
       "37 Pave   NA    ...   0          0         NA      NA    NA               0   \n",
       "38 Pave   Pave  ...   0          0         NA      NA    NA               0   \n",
       "39 Pave   NA    ...   0          0         NA      NA    NA               0   \n",
       "40 Pave   NA    ...   0          0         NA      NA    NA               0   \n",
       "41 Pave   NA    ...   0          0         NA      NA    NA               0   \n",
       "42 Pave   Grvl  ...   0          0         NA      NA    NA               0   \n",
       "43 Pave   NA    ...   0          0         NA      NA    NA               0   \n",
       "44 Pave   NA    ...   0          0         NA      NA    NA               0   \n",
       "45 Pave   NA    ...   0          0         NA      NA    NA               0   \n",
       "46 Pave   NA    ...   0          0         NA      MnPrv NA               0   \n",
       "47 Pave   NA    ...   0          0         NA      MnPrv NA               0   \n",
       "48 Pave   NA    ...   0          0         NA      NA    NA               0   \n",
       "49 Pave   NA    ...   0          0         NA      MnPrv NA               0   \n",
       "50 Pave   NA    ...   0          0         NA      NA    NA               0   \n",
       "   Mo.Sold Yr.Sold Sale.Type Sale.Condition\n",
       "1  11      2008    WD        Abnorml       \n",
       "2   7      2007    WD        Normal        \n",
       "3   6      2009    WD        Normal        \n",
       "4   5      2007    WD        Normal        \n",
       "5   3      2006    New       Partial       \n",
       "6   2      2006    WD        Normal        \n",
       "7   4      2009    WD        Normal        \n",
       "8   7      2007    WD        Normal        \n",
       "9   7      2007    WD        Normal        \n",
       "10 10      2006    WD        Abnorml       \n",
       "11 10      2007    WD        Normal        \n",
       "12  5      2007    WD        Normal        \n",
       "13  2      2007    COD       Abnorml       \n",
       "14  4      2007    WD        Normal        \n",
       "15  8      2007    WD        Normal        \n",
       "16 12      2007    WD        Normal        \n",
       "17  1      2006    WD        Normal        \n",
       "18  2      2010    WD        Normal        \n",
       "19  3      2010    ConLD     Normal        \n",
       "20  7      2009    WD        Normal        \n",
       "21  8      2009    WD        Normal        \n",
       "22  6      2007    WD        Normal        \n",
       "23  9      2006    WD        Normal        \n",
       "24  5      2009    WD        Normal        \n",
       "25  6      2009    WD        Normal        \n",
       "26  5      2006    WD        Normal        \n",
       "27  3      2007    WD        Normal        \n",
       "28 12      2008    WD        Normal        \n",
       "29  6      2008    WD        Normal        \n",
       "30  9      2008    WD        Normal        \n",
       "31  2      2008    WD        Normal        \n",
       "32  6      2009    WD        Normal        \n",
       "33  4      2006    COD       Normal        \n",
       "34  6      2009    WD        Normal        \n",
       "35  9      2008    WD        Normal        \n",
       "36  1      2009    WD        Normal        \n",
       "37  7      2008    WD        Normal        \n",
       "38  5      2006    New       Partial       \n",
       "39 11      2007    WD        Normal        \n",
       "40 10      2009    WD        Normal        \n",
       "41 12      2008    WD        Normal        \n",
       "42  4      2006    WD        Abnorml       \n",
       "43  6      2007    WD        Normal        \n",
       "44  7      2007    WD        Normal        \n",
       "45  2      2010    WD        Normal        \n",
       "46  8      2008    WD        Normal        \n",
       "47  7      2008    WD        Normal        \n",
       "48  7      2008    WD        Normal        \n",
       "49  1      2007    WD        Normal        \n",
       "50  5      2006    WD        Normal        "
      ]
     },
     "metadata": {},
     "output_type": "display_data"
    }
   ],
   "source": [
    "samp1"
   ]
  },
  {
   "cell_type": "code",
   "execution_count": 24,
   "metadata": {},
   "outputs": [
    {
     "data": {},
     "metadata": {},
     "output_type": "display_data"
    },
    {
     "data": {
      "image/png": "[encoded data removed]",
      "text/plain": [
       "plot without title"
      ]
     },
     "metadata": {},
     "output_type": "display_data"
    }
   ],
   "source": [
    "ggplot() +\n",
    "geom_freqpoly(data = ames, aes(area, ..density..), binwidth = 250, color = 'red') +\n",
    "geom_freqpoly(data = samp1, aes(area, ..density..), binwidth = 250, color = 'blue')"
   ]
  },
  {
   "cell_type": "code",
   "execution_count": 25,
   "metadata": {},
   "outputs": [
    {
     "data": {
      "text/html": [
       "<table>\n",
       "<thead><tr><th scope=col>x_bar</th></tr></thead>\n",
       "<tbody>\n",
       "\t<tr><td>1434.46</td></tr>\n",
       "</tbody>\n",
       "</table>\n"
      ],
      "text/latex": [
       "\\begin{tabular}{r|l}\n",
       " x\\_bar\\\\\n",
       "\\hline\n",
       "\t 1434.46\\\\\n",
       "\\end{tabular}\n"
      ],
      "text/markdown": [
       "\n",
       "x_bar | \n",
       "|---|\n",
       "| 1434.46 | \n",
       "\n",
       "\n"
      ],
      "text/plain": [
       "  x_bar  \n",
       "1 1434.46"
      ]
     },
     "metadata": {},
     "output_type": "display_data"
    }
   ],
   "source": [
    "samp1 %>%\n",
    "summarize(x_bar = mean(area))"
   ]
  },
  {
   "cell_type": "code",
   "execution_count": 27,
   "metadata": {},
   "outputs": [
    {
     "data": {
      "text/html": [
       "<table>\n",
       "<thead><tr><th scope=col>x_bar</th></tr></thead>\n",
       "<tbody>\n",
       "\t<tr><td>1434.08</td></tr>\n",
       "</tbody>\n",
       "</table>\n"
      ],
      "text/latex": [
       "\\begin{tabular}{r|l}\n",
       " x\\_bar\\\\\n",
       "\\hline\n",
       "\t 1434.08\\\\\n",
       "\\end{tabular}\n"
      ],
      "text/markdown": [
       "\n",
       "x_bar | \n",
       "|---|\n",
       "| 1434.08 | \n",
       "\n",
       "\n"
      ],
      "text/plain": [
       "  x_bar  \n",
       "1 1434.08"
      ]
     },
     "metadata": {},
     "output_type": "display_data"
    }
   ],
   "source": [
    "ames %>%\n",
    "sample_n(size = 50) %>%\n",
    "summarize(x_bar = mean(area))"
   ]
  },
  {
   "cell_type": "code",
   "execution_count": 42,
   "metadata": {},
   "outputs": [],
   "source": [
    "sample_means50 <- ames %>%\n",
    "rep_sample_n(size = 50, reps = 15000, replace = TRUE) %>%\n",
    "summarize(x_bar = mean(area))"
   ]
  },
  {
   "cell_type": "code",
   "execution_count": 41,
   "metadata": {},
   "outputs": [
    {
     "name": "stdout",
     "output_type": "stream",
     "text": [
      "Classes 'grouped_df', 'tbl_df', 'tbl' and 'data.frame':\t750000 obs. of  83 variables:\n",
      " $ replicate      : int  1 1 1 1 1 1 1 1 1 1 ...\n",
      " $ Order          : int  2473 2742 1829 2179 762 2877 1860 1144 960 709 ...\n",
      " $ PID            : int  531375060 905452140 532477040 908152280 904100190 910207110 533254130 531385060 916382100 902205010 ...\n",
      " $ area           : int  1131 1855 2167 1090 704 951 1262 1677 2036 612 ...\n",
      " $ price          : int  132000 136900 294000 157000 88750 106500 181500 190500 410000 45000 ...\n",
      " $ MS.SubClass    : int  20 50 60 20 20 30 20 60 20 30 ...\n",
      " $ MS.Zoning      : Factor w/ 7 levels \"A (agr)\",\"C (all)\",..: 6 6 6 6 6 7 6 6 6 7 ...\n",
      " $ Lot.Frontage   : int  63 75 NA 60 50 50 80 65 113 50 ...\n",
      " $ Lot.Area       : int  13072 9525 17542 7024 4280 8765 9600 8450 13438 5925 ...\n",
      " $ Street         : Factor w/ 2 levels \"Grvl\",\"Pave\": 2 2 2 2 2 2 2 2 2 2 ...\n",
      " $ Alley          : Factor w/ 2 levels \"Grvl\",\"Pave\": NA NA NA NA NA 1 NA NA NA NA ...\n",
      " $ Lot.Shape      : Factor w/ 4 levels \"IR1\",\"IR2\",\"IR3\",..: 4 4 1 4 1 4 4 4 1 4 ...\n",
      " $ Land.Contour   : Factor w/ 4 levels \"Bnk\",\"HLS\",\"Low\",..: 4 4 4 4 4 4 4 4 2 4 ...\n",
      " $ Utilities      : Factor w/ 3 levels \"AllPub\",\"NoSeWa\",..: 1 1 1 1 1 1 1 1 1 1 ...\n",
      " $ Lot.Config     : Factor w/ 5 levels \"Corner\",\"CulDSac\",..: 5 5 5 5 5 5 3 5 1 1 ...\n",
      " $ Land.Slope     : Factor w/ 3 levels \"Gtl\",\"Mod\",\"Sev\": 1 1 1 1 1 1 1 1 1 1 ...\n",
      " $ Neighborhood   : Factor w/ 28 levels \"Blmngtn\",\"Blueste\",..: 23 8 28 8 22 12 28 23 27 21 ...\n",
      " $ Condition.1    : Factor w/ 9 levels \"Artery\",\"Feedr\",..: 6 3 3 3 3 3 2 3 3 3 ...\n",
      " $ Condition.2    : Factor w/ 8 levels \"Artery\",\"Feedr\",..: 3 3 3 3 3 3 3 3 3 3 ...\n",
      " $ Bldg.Type      : Factor w/ 5 levels \"1Fam\",\"2fmCon\",..: 1 1 1 1 1 1 1 1 1 1 ...\n",
      " $ House.Style    : Factor w/ 8 levels \"1.5Fin\",\"1.5Unf\",..: 3 1 6 3 3 3 3 6 3 3 ...\n",
      " $ Overall.Qual   : int  6 6 7 5 4 4 6 6 9 2 ...\n",
      " $ Overall.Cond   : int  5 4 7 5 9 6 8 5 5 4 ...\n",
      " $ Year.Built     : int  2005 1954 1974 2005 1946 1936 1976 2001 2008 1940 ...\n",
      " $ Year.Remod.Add : int  2006 1972 2003 2006 2001 1950 1976 2001 2008 1950 ...\n",
      " $ Roof.Style     : Factor w/ 6 levels \"Flat\",\"Gable\",..: 2 2 2 2 2 2 2 2 2 2 ...\n",
      " $ Roof.Matl      : Factor w/ 8 levels \"ClyTile\",\"CompShg\",..: 2 2 2 2 2 2 2 2 2 2 ...\n",
      " $ Exterior.1st   : Factor w/ 16 levels \"AsbShng\",\"AsphShn\",..: 14 15 15 14 9 15 9 14 6 9 ...\n",
      " $ Exterior.2nd   : Factor w/ 17 levels \"AsbShng\",\"AsphShn\",..: 15 16 16 15 9 16 9 15 6 9 ...\n",
      " $ Mas.Vnr.Type   : Factor w/ 6 levels \"\",\"BrkCmn\",\"BrkFace\",..: 5 5 5 5 5 5 5 5 6 5 ...\n",
      " $ Mas.Vnr.Area   : int  0 0 0 0 0 0 0 0 246 0 ...\n",
      " $ Exter.Qual     : Factor w/ 4 levels \"Ex\",\"Fa\",\"Gd\",..: 4 4 3 4 4 4 4 3 1 4 ...\n",
      " $ Exter.Cond     : Factor w/ 5 levels \"Ex\",\"Fa\",\"Gd\",..: 5 5 5 5 3 5 5 5 5 3 ...\n",
      " $ Foundation     : Factor w/ 6 levels \"BrkTil\",\"CBlock\",..: 3 2 2 3 2 1 2 3 2 1 ...\n",
      " $ Bsmt.Qual      : Factor w/ 6 levels \"\",\"Ex\",\"Fa\",\"Gd\",..: 4 6 6 2 3 6 4 4 2 NA ...\n",
      " $ Bsmt.Cond      : Factor w/ 6 levels \"\",\"Ex\",\"Fa\",\"Gd\",..: 6 3 6 4 6 6 6 6 6 NA ...\n",
      " $ Bsmt.Exposure  : Factor w/ 5 levels \"\",\"Av\",\"Gd\",\"Mn\",..: 5 5 3 5 5 5 3 5 3 NA ...\n",
      " $ BsmtFin.Type.1 : Factor w/ 7 levels \"\",\"ALQ\",\"BLQ\",..: 7 6 5 2 7 2 2 4 4 NA ...\n",
      " $ BsmtFin.SF.1   : int  0 444 125 980 0 285 978 472 1758 0 ...\n",
      " $ BsmtFin.Type.2 : Factor w/ 7 levels \"\",\"ALQ\",\"BLQ\",..: 7 7 2 7 7 7 7 7 7 NA ...\n",
      " $ BsmtFin.SF.2   : int  0 0 1031 0 0 0 0 0 0 0 ...\n",
      " $ Bsmt.Unf.SF    : int  1131 550 36 110 560 666 284 355 432 0 ...\n",
      " $ Total.Bsmt.SF  : int  1131 994 1192 1090 560 951 1262 827 2190 0 ...\n",
      " $ Heating        : Factor w/ 6 levels \"Floor\",\"GasA\",..: 2 2 2 2 2 2 2 2 2 2 ...\n",
      " $ Heating.QC     : Factor w/ 5 levels \"Ex\",\"Fa\",\"Gd\",..: 1 3 5 3 1 1 1 1 1 2 ...\n",
      " $ Central.Air    : Factor w/ 2 levels \"N\",\"Y\": 2 2 2 2 2 1 2 2 2 1 ...\n",
      " $ Electrical     : Factor w/ 6 levels \"\",\"FuseA\",\"FuseF\",..: 6 6 6 6 2 6 6 6 6 2 ...\n",
      " $ X1st.Flr.SF    : int  1131 1216 1516 1090 704 951 1262 827 2036 612 ...\n",
      " $ X2nd.Flr.SF    : int  0 639 651 0 0 0 0 850 0 0 ...\n",
      " $ Low.Qual.Fin.SF: int  0 0 0 0 0 0 0 0 0 0 ...\n",
      " $ Bsmt.Full.Bath : int  0 0 1 1 0 0 0 1 1 0 ...\n",
      " $ Bsmt.Half.Bath : int  0 0 0 0 1 0 1 0 0 0 ...\n",
      " $ Full.Bath      : int  1 2 2 1 1 1 2 2 2 1 ...\n",
      " $ Half.Bath      : int  1 0 1 1 0 0 0 1 0 0 ...\n",
      " $ Bedroom.AbvGr  : int  3 4 3 2 2 2 3 3 3 1 ...\n",
      " $ Kitchen.AbvGr  : int  1 1 1 1 1 1 1 1 1 1 ...\n",
      " $ Kitchen.Qual   : Factor w/ 5 levels \"Ex\",\"Fa\",\"Gd\",..: 3 5 3 5 2 5 5 3 1 5 ...\n",
      " $ TotRms.AbvGrd  : int  6 7 9 5 4 6 6 7 9 4 ...\n",
      " $ Functional     : Factor w/ 8 levels \"Maj1\",\"Maj2\",..: 8 8 8 8 8 8 8 8 8 8 ...\n",
      " $ Fireplaces     : int  0 0 2 0 0 0 1 0 1 0 ...\n",
      " $ Fireplace.Qu   : Factor w/ 5 levels \"Ex\",\"Fa\",\"Gd\",..: NA NA 3 NA NA NA 5 NA 1 NA ...\n",
      " $ Garage.Type    : Factor w/ 6 levels \"2Types\",\"Attchd\",..: NA 2 2 2 5 6 2 2 2 6 ...\n",
      " $ Garage.Yr.Blt  : int  NA 1954 1974 2005 1946 1936 1976 2001 2008 1965 ...\n",
      " $ Garage.Finish  : Factor w/ 4 levels \"\",\"Fin\",\"RFn\",..: NA 4 3 2 4 4 3 3 2 4 ...\n",
      " $ Garage.Cars    : int  0 1 2 2 1 1 2 2 3 1 ...\n",
      " $ Garage.Area    : int  0 325 518 450 220 327 460 627 780 308 ...\n",
      " $ Garage.Qual    : Factor w/ 6 levels \"\",\"Ex\",\"Fa\",\"Gd\",..: NA 6 6 6 6 6 6 6 6 6 ...\n",
      " $ Garage.Cond    : Factor w/ 6 levels \"\",\"Ex\",\"Fa\",\"Gd\",..: NA 6 6 6 6 6 6 6 6 3 ...\n",
      " $ Paved.Drive    : Factor w/ 3 levels \"N\",\"P\",\"Y\": 3 3 3 3 3 3 3 3 3 1 ...\n",
      " $ Wood.Deck.SF   : int  0 182 220 0 0 0 298 0 90 0 ...\n",
      " $ Open.Porch.SF  : int  39 0 47 49 0 28 0 68 154 0 ...\n",
      " $ Enclosed.Porch : int  0 0 0 0 24 0 0 0 0 25 ...\n",
      " $ X3Ssn.Porch    : int  0 0 0 0 0 0 0 0 0 0 ...\n",
      " $ Screen.Porch   : int  0 0 0 0 0 0 0 0 0 0 ...\n",
      " $ Pool.Area      : int  0 0 0 0 0 0 0 0 0 0 ...\n",
      " $ Pool.QC        : Factor w/ 4 levels \"Ex\",\"Fa\",\"Gd\",..: NA NA NA NA NA NA NA NA NA NA ...\n",
      " $ Fence          : Factor w/ 4 levels \"GdPrv\",\"GdWo\",..: NA NA 3 NA NA NA NA NA NA NA ...\n",
      " $ Misc.Feature   : Factor w/ 5 levels \"Elev\",\"Gar2\",..: NA NA NA NA NA NA NA NA NA NA ...\n",
      " $ Misc.Val       : int  0 0 0 0 0 0 0 0 0 0 ...\n",
      " $ Mo.Sold        : int  3 10 7 6 9 4 5 9 7 10 ...\n",
      " $ Yr.Sold        : int  2006 2006 2007 2007 2009 2006 2007 2008 2009 2009 ...\n",
      " $ Sale.Type      : Factor w/ 10 levels \"COD\",\"Con\",\"ConLD\",..: 7 10 10 10 10 10 10 10 10 10 ...\n",
      " $ Sale.Condition : Factor w/ 6 levels \"Abnorml\",\"AdjLand\",..: 6 5 5 5 5 1 5 5 5 5 ...\n",
      " - attr(*, \"vars\")= chr \"replicate\"\n",
      " - attr(*, \"drop\")= logi TRUE\n",
      " - attr(*, \"indices\")=List of 15000\n",
      "  ..$ : int  0 1 2 3 4 5 6 7 8 9 ...\n",
      "  ..$ : int  50 51 52 53 54 55 56 57 58 59 ...\n",
      "  ..$ : int  100 101 102 103 104 105 106 107 108 109 ...\n",
      "  ..$ : int  150 151 152 153 154 155 156 157 158 159 ...\n",
      "  ..$ : int  200 201 202 203 204 205 206 207 208 209 ...\n",
      "  ..$ : int  250 251 252 253 254 255 256 257 258 259 ...\n",
      "  ..$ : int  300 301 302 303 304 305 306 307 308 309 ...\n",
      "  ..$ : int  350 351 352 353 354 355 356 357 358 359 ...\n",
      "  ..$ : int  400 401 402 403 404 405 406 407 408 409 ...\n",
      "  ..$ : int  450 451 452 453 454 455 456 457 458 459 ...\n",
      "  ..$ : int  500 501 502 503 504 505 506 507 508 509 ...\n",
      "  ..$ : int  550 551 552 553 554 555 556 557 558 559 ...\n",
      "  ..$ : int  600 601 602 603 604 605 606 607 608 609 ...\n",
      "  ..$ : int  650 651 652 653 654 655 656 657 658 659 ...\n",
      "  ..$ : int  700 701 702 703 704 705 706 707 708 709 ...\n",
      "  ..$ : int  750 751 752 753 754 755 756 757 758 759 ...\n",
      "  ..$ : int  800 801 802 803 804 805 806 807 808 809 ...\n",
      "  ..$ : int  850 851 852 853 854 855 856 857 858 859 ...\n",
      "  ..$ : int  900 901 902 903 904 905 906 907 908 909 ...\n",
      "  ..$ : int  950 951 952 953 954 955 956 957 958 959 ...\n",
      "  ..$ : int  1000 1001 1002 1003 1004 1005 1006 1007 1008 1009 ...\n",
      "  ..$ : int  1050 1051 1052 1053 1054 1055 1056 1057 1058 1059 ...\n",
      "  ..$ : int  1100 1101 1102 1103 1104 1105 1106 1107 1108 1109 ...\n",
      "  ..$ : int  1150 1151 1152 1153 1154 1155 1156 1157 1158 1159 ...\n",
      "  ..$ : int  1200 1201 1202 1203 1204 1205 1206 1207 1208 1209 ...\n",
      "  ..$ : int  1250 1251 1252 1253 1254 1255 1256 1257 1258 1259 ...\n",
      "  ..$ : int  1300 1301 1302 1303 1304 1305 1306 1307 1308 1309 ...\n",
      "  ..$ : int  1350 1351 1352 1353 1354 1355 1356 1357 1358 1359 ...\n",
      "  ..$ : int  1400 1401 1402 1403 1404 1405 1406 1407 1408 1409 ...\n",
      "  ..$ : int  1450 1451 1452 1453 1454 1455 1456 1457 1458 1459 ...\n",
      "  ..$ : int  1500 1501 1502 1503 1504 1505 1506 1507 1508 1509 ...\n",
      "  ..$ : int  1550 1551 1552 1553 1554 1555 1556 1557 1558 1559 ...\n",
      "  ..$ : int  1600 1601 1602 1603 1604 1605 1606 1607 1608 1609 ...\n",
      "  ..$ : int  1650 1651 1652 1653 1654 1655 1656 1657 1658 1659 ...\n",
      "  ..$ : int  1700 1701 1702 1703 1704 1705 1706 1707 1708 1709 ...\n",
      "  ..$ : int  1750 1751 1752 1753 1754 1755 1756 1757 1758 1759 ...\n",
      "  ..$ : int  1800 1801 1802 1803 1804 1805 1806 1807 1808 1809 ...\n",
      "  ..$ : int  1850 1851 1852 1853 1854 1855 1856 1857 1858 1859 ...\n",
      "  ..$ : int  1900 1901 1902 1903 1904 1905 1906 1907 1908 1909 ...\n",
      "  ..$ : int  1950 1951 1952 1953 1954 1955 1956 1957 1958 1959 ...\n",
      "  ..$ : int  2000 2001 2002 2003 2004 2005 2006 2007 2008 2009 ...\n",
      "  ..$ : int  2050 2051 2052 2053 2054 2055 2056 2057 2058 2059 ...\n",
      "  ..$ : int  2100 2101 2102 2103 2104 2105 2106 2107 2108 2109 ...\n",
      "  ..$ : int  2150 2151 2152 2153 2154 2155 2156 2157 2158 2159 ...\n",
      "  ..$ : int  2200 2201 2202 2203 2204 2205 2206 2207 2208 2209 ...\n",
      "  ..$ : int  2250 2251 2252 2253 2254 2255 2256 2257 2258 2259 ...\n",
      "  ..$ : int  2300 2301 2302 2303 2304 2305 2306 2307 2308 2309 ...\n",
      "  ..$ : int  2350 2351 2352 2353 2354 2355 2356 2357 2358 2359 ...\n",
      "  ..$ : int  2400 2401 2402 2403 2404 2405 2406 2407 2408 2409 ...\n",
      "  ..$ : int  2450 2451 2452 2453 2454 2455 2456 2457 2458 2459 ...\n",
      "  ..$ : int  2500 2501 2502 2503 2504 2505 2506 2507 2508 2509 ...\n",
      "  ..$ : int  2550 2551 2552 2553 2554 2555 2556 2557 2558 2559 ...\n",
      "  ..$ : int  2600 2601 2602 2603 2604 2605 2606 2607 2608 2609 ...\n",
      "  ..$ : int  2650 2651 2652 2653 2654 2655 2656 2657 2658 2659 ...\n",
      "  ..$ : int  2700 2701 2702 2703 2704 2705 2706 2707 2708 2709 ...\n",
      "  ..$ : int  2750 2751 2752 2753 2754 2755 2756 2757 2758 2759 ...\n",
      "  ..$ : int  2800 2801 2802 2803 2804 2805 2806 2807 2808 2809 ...\n",
      "  ..$ : int  2850 2851 2852 2853 2854 2855 2856 2857 2858 2859 ...\n",
      "  ..$ : int  2900 2901 2902 2903 2904 2905 2906 2907 2908 2909 ...\n",
      "  ..$ : int  2950 2951 2952 2953 2954 2955 2956 2957 2958 2959 ...\n",
      "  ..$ : int  3000 3001 3002 3003 3004 3005 3006 3007 3008 3009 ...\n",
      "  ..$ : int  3050 3051 3052 3053 3054 3055 3056 3057 3058 3059 ...\n",
      "  ..$ : int  3100 3101 3102 3103 3104 3105 3106 3107 3108 3109 ...\n",
      "  ..$ : int  3150 3151 3152 3153 3154 3155 3156 3157 3158 3159 ...\n",
      "  ..$ : int  3200 3201 3202 3203 3204 3205 3206 3207 3208 3209 ...\n",
      "  ..$ : int  3250 3251 3252 3253 3254 3255 3256 3257 3258 3259 ...\n",
      "  ..$ : int  3300 3301 3302 3303 3304 3305 3306 3307 3308 3309 ...\n",
      "  ..$ : int  3350 3351 3352 3353 3354 3355 3356 3357 3358 3359 ...\n",
      "  ..$ : int  3400 3401 3402 3403 3404 3405 3406 3407 3408 3409 ...\n",
      "  ..$ : int  3450 3451 3452 3453 3454 3455 3456 3457 3458 3459 ...\n",
      "  ..$ : int  3500 3501 3502 3503 3504 3505 3506 3507 3508 3509 ...\n",
      "  ..$ : int  3550 3551 3552 3553 3554 3555 3556 3557 3558 3559 ...\n",
      "  ..$ : int  3600 3601 3602 3603 3604 3605 3606 3607 3608 3609 ...\n",
      "  ..$ : int  3650 3651 3652 3653 3654 3655 3656 3657 3658 3659 ...\n",
      "  ..$ : int  3700 3701 3702 3703 3704 3705 3706 3707 3708 3709 ...\n",
      "  ..$ : int  3750 3751 3752 3753 3754 3755 3756 3757 3758 3759 ...\n",
      "  ..$ : int  3800 3801 3802 3803 3804 3805 3806 3807 3808 3809 ...\n",
      "  ..$ : int  3850 3851 3852 3853 3854 3855 3856 3857 3858 3859 ...\n",
      "  ..$ : int  3900 3901 3902 3903 3904 3905 3906 3907 3908 3909 ...\n",
      "  ..$ : int  3950 3951 3952 3953 3954 3955 3956 3957 3958 3959 ...\n",
      "  ..$ : int  4000 4001 4002 4003 4004 4005 4006 4007 4008 4009 ...\n",
      "  ..$ : int  4050 4051 4052 4053 4054 4055 4056 4057 4058 4059 ...\n",
      "  ..$ : int  4100 4101 4102 4103 4104 4105 4106 4107 4108 4109 ...\n",
      "  ..$ : int  4150 4151 4152 4153 4154 4155 4156 4157 4158 4159 ...\n",
      "  ..$ : int  4200 4201 4202 4203 4204 4205 4206 4207 4208 4209 ...\n",
      "  ..$ : int  4250 4251 4252 4253 4254 4255 4256 4257 4258 4259 ...\n",
      "  ..$ : int  4300 4301 4302 4303 4304 4305 4306 4307 4308 4309 ...\n",
      "  ..$ : int  4350 4351 4352 4353 4354 4355 4356 4357 4358 4359 ...\n",
      "  ..$ : int  4400 4401 4402 4403 4404 4405 4406 4407 4408 4409 ...\n",
      "  ..$ : int  4450 4451 4452 4453 4454 4455 4456 4457 4458 4459 ...\n",
      "  ..$ : int  4500 4501 4502 4503 4504 4505 4506 4507 4508 4509 ...\n",
      "  ..$ : int  4550 4551 4552 4553 4554 4555 4556 4557 4558 4559 ...\n",
      "  ..$ : int  4600 4601 4602 4603 4604 4605 4606 4607 4608 4609 ...\n",
      "  ..$ : int  4650 4651 4652 4653 4654 4655 4656 4657 4658 4659 ...\n",
      "  ..$ : int  4700 4701 4702 4703 4704 4705 4706 4707 4708 4709 ...\n",
      "  ..$ : int  4750 4751 4752 4753 4754 4755 4756 4757 4758 4759 ...\n",
      "  ..$ : int  4800 4801 4802 4803 4804 4805 4806 4807 4808 4809 ...\n",
      "  ..$ : int  4850 4851 4852 4853 4854 4855 4856 4857 4858 4859 ...\n",
      "  ..$ : int  4900 4901 4902 4903 4904 4905 4906 4907 4908 4909 ...\n",
      "  .. [list output truncated]\n",
      " - attr(*, \"group_sizes\")= int  50 50 50 50 50 50 50 50 50 50 ...\n",
      " - attr(*, \"biggest_group_size\")= int 50\n",
      " - attr(*, \"labels\")='data.frame':\t15000 obs. of  1 variable:\n",
      "  ..$ replicate: int  1 2 3 4 5 6 7 8 9 10 ...\n",
      "  ..- attr(*, \"vars\")= chr \"replicate\"\n",
      "  ..- attr(*, \"drop\")= logi TRUE\n"
     ]
    }
   ],
   "source": [
    "ames %>%\n",
    "rep_sample_n(size = 50, reps = 15000, replace = TRUE) %>%\n",
    "str()"
   ]
  },
  {
   "cell_type": "code",
   "execution_count": 35,
   "metadata": {
    "scrolled": true
   },
   "outputs": [
    {
     "name": "stdout",
     "output_type": "stream",
     "text": [
      "Classes 'grouped_df', 'tbl_df', 'tbl' and 'data.frame':\t50 obs. of  83 variables:\n",
      " $ replicate      : int  2 2 2 2 2 2 2 2 2 2 ...\n",
      " $ Order          : int  2368 2693 2611 543 2711 1069 1724 1099 2466 1079 ...\n",
      " $ PID            : int  527450460 903454020 535402230 531376090 905103180 528178090 528186090 528315060 528480110 528188150 ...\n",
      " $ area           : int  1030 819 1207 1450 934 2690 1561 2199 1716 1626 ...\n",
      " $ price          : int  116000 72000 147000 224243 132000 370000 277500 284500 200825 154000 ...\n",
      " $ MS.SubClass    : int  160 30 20 20 80 60 120 75 60 160 ...\n",
      " $ MS.Zoning      : Factor w/ 7 levels \"A (agr)\",\"C (all)\",..: 7 7 6 6 6 6 6 6 3 6 ...\n",
      " $ Lot.Frontage   : int  21 50 77 61 80 112 60 84 65 36 ...\n",
      " $ Lot.Area       : int  1890 9000 9510 7328 10366 16451 7313 9660 8125 2448 ...\n",
      " $ Street         : Factor w/ 2 levels \"Grvl\",\"Pave\": 2 2 2 2 2 2 2 2 2 2 ...\n",
      " $ Alley          : Factor w/ 2 levels \"Grvl\",\"Pave\": NA NA NA NA NA NA NA NA NA NA ...\n",
      " $ Lot.Shape      : Factor w/ 4 levels \"IR1\",\"IR2\",\"IR3\",..: 4 4 4 4 1 1 4 4 4 4 ...\n",
      " $ Land.Contour   : Factor w/ 4 levels \"Bnk\",\"HLS\",\"Low\",..: 4 4 4 4 4 4 4 4 4 4 ...\n",
      " $ Utilities      : Factor w/ 3 levels \"AllPub\",\"NoSeWa\",..: 1 1 1 1 1 1 1 1 1 1 ...\n",
      " $ Lot.Config     : Factor w/ 5 levels \"Corner\",\"CulDSac\",..: 5 5 5 5 1 1 5 5 5 5 ...\n",
      " $ Land.Slope     : Factor w/ 3 levels \"Gtl\",\"Mod\",\"Sev\": 1 1 1 1 1 1 1 1 1 1 ...\n",
      " $ Neighborhood   : Factor w/ 28 levels \"Blmngtn\",\"Blueste\",..: 3 12 16 23 22 19 19 17 24 19 ...\n",
      " $ Condition.1    : Factor w/ 9 levels \"Artery\",\"Feedr\",..: 3 3 3 3 3 3 3 3 3 3 ...\n",
      " $ Condition.2    : Factor w/ 8 levels \"Artery\",\"Feedr\",..: 3 3 3 3 3 3 3 3 3 3 ...\n",
      " $ Bldg.Type      : Factor w/ 5 levels \"1Fam\",\"2fmCon\",..: 4 1 1 1 1 1 5 1 1 4 ...\n",
      " $ House.Style    : Factor w/ 8 levels \"1.5Fin\",\"1.5Unf\",..: 6 3 3 3 8 6 3 5 6 6 ...\n",
      " $ Overall.Qual   : int  6 5 6 7 6 8 9 8 6 7 ...\n",
      " $ Overall.Cond   : int  7 4 5 5 7 5 5 5 5 5 ...\n",
      " $ Year.Built     : int  1972 1919 1962 2008 1964 2003 2005 1997 2005 2003 ...\n",
      " $ Year.Remod.Add : int  1972 1950 1985 2009 1964 2003 2005 1997 2005 2004 ...\n",
      " $ Roof.Style     : Factor w/ 6 levels \"Flat\",\"Gable\",..: 2 2 2 2 2 2 4 4 2 2 ...\n",
      " $ Roof.Matl      : Factor w/ 8 levels \"ClyTile\",\"CompShg\",..: 2 2 2 2 2 2 2 2 2 2 ...\n",
      " $ Exterior.1st   : Factor w/ 16 levels \"AsbShng\",\"AsphShn\",..: 7 15 7 14 7 14 9 7 14 14 ...\n",
      " $ Exterior.2nd   : Factor w/ 17 levels \"AsbShng\",\"AsphShn\",..: 7 16 7 15 11 15 9 7 15 17 ...\n",
      " $ Mas.Vnr.Type   : Factor w/ 6 levels \"\",\"BrkCmn\",\"BrkFace\",..: 3 5 2 3 5 3 3 3 5 6 ...\n",
      " $ Mas.Vnr.Area   : int  380 0 161 140 0 221 246 1290 0 106 ...\n",
      " $ Exter.Qual     : Factor w/ 4 levels \"Ex\",\"Fa\",\"Gd\",..: 4 4 4 3 4 3 1 3 3 3 ...\n",
      " $ Exter.Cond     : Factor w/ 5 levels \"Ex\",\"Fa\",\"Gd\",..: 5 5 5 5 3 5 5 5 5 5 ...\n",
      " $ Foundation     : Factor w/ 6 levels \"BrkTil\",\"CBlock\",..: 2 1 2 3 2 3 3 3 3 3 ...\n",
      " $ Bsmt.Qual      : Factor w/ 6 levels \"\",\"Ex\",\"Fa\",\"Gd\",..: 6 6 6 4 6 2 2 4 4 4 ...\n",
      " $ Bsmt.Cond      : Factor w/ 6 levels \"\",\"Ex\",\"Fa\",\"Gd\",..: 6 6 6 6 6 6 6 6 6 6 ...\n",
      " $ Bsmt.Exposure  : Factor w/ 5 levels \"\",\"Av\",\"Gd\",\"Mn\",..: 5 5 5 5 2 3 5 5 5 5 ...\n",
      " $ BsmtFin.Type.1 : Factor w/ 7 levels \"\",\"ALQ\",\"BLQ\",..: 2 7 2 7 4 7 4 7 7 4 ...\n",
      " $ BsmtFin.SF.1   : int  282 0 701 0 456 0 1153 0 0 573 ...\n",
      " $ BsmtFin.Type.2 : Factor w/ 7 levels \"\",\"ALQ\",\"BLQ\",..: 7 7 7 7 7 7 7 7 7 7 ...\n",
      " $ BsmtFin.SF.2   : int  0 0 0 0 0 0 0 0 0 0 ...\n",
      " $ Bsmt.Unf.SF    : int  212 610 434 1450 456 1765 408 1173 858 191 ...\n",
      " $ Total.Bsmt.SF  : int  494 610 1135 1450 912 1765 1561 1173 858 764 ...\n",
      " $ Heating        : Factor w/ 6 levels \"Floor\",\"GasA\",..: 2 2 2 2 2 2 2 2 2 2 ...\n",
      " $ Heating.QC     : Factor w/ 5 levels \"Ex\",\"Fa\",\"Gd\",..: 1 1 1 1 5 1 1 1 1 1 ...\n",
      " $ Central.Air    : Factor w/ 2 levels \"N\",\"Y\": 2 1 2 2 2 2 2 2 2 2 ...\n",
      " $ Electrical     : Factor w/ 6 levels \"\",\"FuseA\",\"FuseF\",..: 6 2 6 6 6 6 6 6 6 6 ...\n",
      " $ X1st.Flr.SF    : int  494 819 1207 1450 934 1804 1561 1182 858 764 ...\n",
      " $ X2nd.Flr.SF    : int  536 0 0 0 0 886 0 1017 858 862 ...\n",
      " $ Low.Qual.Fin.SF: int  0 0 0 0 0 0 0 0 0 0 ...\n",
      " $ Bsmt.Full.Bath : int  0 0 0 0 0 0 1 0 0 1 ...\n",
      " $ Bsmt.Half.Bath : int  0 0 0 0 1 0 0 0 0 0 ...\n",
      " $ Full.Bath      : int  1 1 1 2 1 2 2 2 2 2 ...\n",
      " $ Half.Bath      : int  1 0 1 0 0 1 0 1 1 1 ...\n",
      " $ Bedroom.AbvGr  : int  3 2 3 2 2 4 2 3 3 2 ...\n",
      " $ Kitchen.AbvGr  : int  1 1 1 1 1 1 1 1 1 1 ...\n",
      " $ Kitchen.Qual   : Factor w/ 5 levels \"Ex\",\"Fa\",\"Gd\",..: 5 3 5 3 5 3 1 3 3 3 ...\n",
      " $ TotRms.AbvGrd  : int  6 4 6 6 4 9 6 9 7 6 ...\n",
      " $ Functional     : Factor w/ 8 levels \"Maj1\",\"Maj2\",..: 8 8 8 8 8 8 8 8 8 8 ...\n",
      " $ Fireplaces     : int  0 0 0 0 0 1 1 1 0 0 ...\n",
      " $ Fireplace.Qu   : Factor w/ 5 levels \"Ex\",\"Fa\",\"Gd\",..: NA NA NA NA NA 3 3 5 NA NA ...\n",
      " $ Garage.Type    : Factor w/ 6 levels \"2Types\",\"Attchd\",..: 6 NA 2 2 2 4 2 2 2 4 ...\n",
      " $ Garage.Yr.Blt  : int  1973 NA 1962 2008 1964 2003 2005 1997 2005 2003 ...\n",
      " $ Garage.Finish  : Factor w/ 4 levels \"\",\"Fin\",\"RFn\",..: 4 NA 3 3 4 2 2 2 3 3 ...\n",
      " $ Garage.Cars    : int  1 0 1 3 1 3 2 2 2 2 ...\n",
      " $ Garage.Area    : int  264 0 264 788 336 795 556 516 615 474 ...\n",
      " $ Garage.Qual    : Factor w/ 6 levels \"\",\"Ex\",\"Fa\",\"Gd\",..: 6 NA 6 6 6 6 6 6 6 6 ...\n",
      " $ Garage.Cond    : Factor w/ 6 levels \"\",\"Ex\",\"Fa\",\"Gd\",..: 6 NA 6 6 6 6 6 6 6 6 ...\n",
      " $ Paved.Drive    : Factor w/ 3 levels \"N\",\"P\",\"Y\": 3 1 3 3 3 3 3 3 3 3 ...\n",
      " $ Wood.Deck.SF   : int  0 0 0 0 77 268 203 0 0 0 ...\n",
      " $ Open.Porch.SF  : int  0 0 240 93 0 58 47 131 53 27 ...\n",
      " $ Enclosed.Porch : int  0 0 0 0 0 0 0 0 0 0 ...\n",
      " $ X3Ssn.Porch    : int  0 0 0 0 0 0 0 0 0 0 ...\n",
      " $ Screen.Porch   : int  0 0 0 0 0 0 0 0 0 0 ...\n",
      " $ Pool.Area      : int  0 0 0 0 0 0 0 0 0 0 ...\n",
      " $ Pool.QC        : Factor w/ 4 levels \"Ex\",\"Fa\",\"Gd\",..: NA NA NA NA NA NA NA NA NA NA ...\n",
      " $ Fence          : Factor w/ 4 levels \"GdPrv\",\"GdWo\",..: NA NA NA NA 1 NA NA NA NA NA ...\n",
      " $ Misc.Feature   : Factor w/ 5 levels \"Elev\",\"Gar2\",..: NA NA NA NA 4 NA NA NA NA NA ...\n",
      " $ Misc.Val       : int  0 0 0 0 500 0 0 0 0 0 ...\n",
      " $ Mo.Sold        : int  7 9 5 2 7 7 8 9 2 10 ...\n",
      " $ Yr.Sold        : int  2006 2006 2006 2009 2006 2008 2007 2008 2006 2008 ...\n",
      " $ Sale.Type      : Factor w/ 10 levels \"COD\",\"Con\",\"ConLD\",..: 10 10 10 7 10 10 10 10 10 10 ...\n",
      " $ Sale.Condition : Factor w/ 6 levels \"Abnorml\",\"AdjLand\",..: 5 1 5 6 5 5 5 5 5 5 ...\n",
      " - attr(*, \"vars\")= chr \"replicate\"\n",
      " - attr(*, \"drop\")= logi TRUE\n",
      " - attr(*, \"indices\")=List of 1\n",
      "  ..$ : int  0 1 2 3 4 5 6 7 8 9 ...\n",
      " - attr(*, \"group_sizes\")= int 50\n",
      " - attr(*, \"biggest_group_size\")= int 50\n",
      " - attr(*, \"labels\")='data.frame':\t1 obs. of  1 variable:\n",
      "  ..$ replicate: int 2\n",
      "  ..- attr(*, \"vars\")= chr \"replicate\"\n",
      "  ..- attr(*, \"drop\")= logi TRUE\n"
     ]
    }
   ],
   "source": [
    "sample_means50 %>%\n",
    "filter(replicate == 2) %>%\n",
    "summarize(x_bar = )"
   ]
  },
  {
   "cell_type": "code",
   "execution_count": 45,
   "metadata": {
    "scrolled": true
   },
   "outputs": [
    {
     "data": {},
     "metadata": {},
     "output_type": "display_data"
    },
    {
     "data": {
      "image/png": "[encoded data removed]",
      "text/plain": [
       "plot without title"
      ]
     },
     "metadata": {},
     "output_type": "display_data"
    }
   ],
   "source": [
    "ggplot(sample_means50, aes(x_bar)) +\n",
    "geom_histogram(binwidth = 20)"
   ]
  },
  {
   "cell_type": "code",
   "execution_count": 47,
   "metadata": {
    "scrolled": true
   },
   "outputs": [
    {
     "data": {
      "text/html": [
       "<table>\n",
       "<thead><tr><th scope=col>mean</th><th scope=col>median</th></tr></thead>\n",
       "<tbody>\n",
       "\t<tr><td>1499.41</td><td>1497.2 </td></tr>\n",
       "</tbody>\n",
       "</table>\n"
      ],
      "text/latex": [
       "\\begin{tabular}{r|ll}\n",
       " mean & median\\\\\n",
       "\\hline\n",
       "\t 1499.41 & 1497.2 \\\\\n",
       "\\end{tabular}\n"
      ],
      "text/markdown": [
       "\n",
       "mean | median | \n",
       "|---|\n",
       "| 1499.41 | 1497.2  | \n",
       "\n",
       "\n"
      ],
      "text/plain": [
       "  mean    median\n",
       "1 1499.41 1497.2"
      ]
     },
     "metadata": {},
     "output_type": "display_data"
    }
   ],
   "source": [
    "sample_means50 %>%\n",
    "summarize(mean = mean(x_bar), median = median(x_bar))"
   ]
  },
  {
   "cell_type": "code",
   "execution_count": 48,
   "metadata": {
    "scrolled": true
   },
   "outputs": [
    {
     "data": {
      "text/html": [
       "<ol class=list-inline>\n",
       "\t<li>15000</li>\n",
       "\t<li>2</li>\n",
       "</ol>\n"
      ],
      "text/latex": [
       "\\begin{enumerate*}\n",
       "\\item 15000\n",
       "\\item 2\n",
       "\\end{enumerate*}\n"
      ],
      "text/markdown": [
       "1. 15000\n",
       "2. 2\n",
       "\n",
       "\n"
      ],
      "text/plain": [
       "[1] 15000     2"
      ]
     },
     "metadata": {},
     "output_type": "display_data"
    }
   ],
   "source": [
    "dim(sample_means50)"
   ]
  },
  {
   "cell_type": "code",
   "execution_count": 49,
   "metadata": {
    "collapsed": true
   },
   "outputs": [],
   "source": [
    "sample_means_small <- ames %>%\n",
    "rep_sample_n(size = 10, reps = 25, replace = TRUE) %>%\n",
    "summarize(x_bar = mean(area))"
   ]
  },
  {
   "cell_type": "code",
   "execution_count": 50,
   "metadata": {},
   "outputs": [
    {
     "data": {
      "text/html": [
       "<ol class=list-inline>\n",
       "\t<li>25</li>\n",
       "\t<li>2</li>\n",
       "</ol>\n"
      ],
      "text/latex": [
       "\\begin{enumerate*}\n",
       "\\item 25\n",
       "\\item 2\n",
       "\\end{enumerate*}\n"
      ],
      "text/markdown": [
       "1. 25\n",
       "2. 2\n",
       "\n",
       "\n"
      ],
      "text/plain": [
       "[1] 25  2"
      ]
     },
     "metadata": {},
     "output_type": "display_data"
    }
   ],
   "source": [
    "dim(sample_means_small)"
   ]
  },
  {
   "cell_type": "code",
   "execution_count": 51,
   "metadata": {
    "scrolled": true
   },
   "outputs": [
    {
     "data": {
      "text/html": [
       "<table>\n",
       "<thead><tr><th scope=col>replicate</th><th scope=col>x_bar</th></tr></thead>\n",
       "<tbody>\n",
       "\t<tr><td> 1    </td><td>1731.2</td></tr>\n",
       "\t<tr><td> 2    </td><td>1462.2</td></tr>\n",
       "\t<tr><td> 3    </td><td>1598.8</td></tr>\n",
       "\t<tr><td> 4    </td><td>1585.6</td></tr>\n",
       "\t<tr><td> 5    </td><td>1496.0</td></tr>\n",
       "\t<tr><td> 6    </td><td>1585.3</td></tr>\n",
       "\t<tr><td> 7    </td><td>1398.1</td></tr>\n",
       "\t<tr><td> 8    </td><td>1425.9</td></tr>\n",
       "\t<tr><td> 9    </td><td>1336.4</td></tr>\n",
       "\t<tr><td>10    </td><td>1577.7</td></tr>\n",
       "\t<tr><td>11    </td><td>1424.9</td></tr>\n",
       "\t<tr><td>12    </td><td>1257.9</td></tr>\n",
       "\t<tr><td>13    </td><td>1371.0</td></tr>\n",
       "\t<tr><td>14    </td><td>1284.0</td></tr>\n",
       "\t<tr><td>15    </td><td>1518.2</td></tr>\n",
       "\t<tr><td>16    </td><td>1246.3</td></tr>\n",
       "\t<tr><td>17    </td><td>1805.6</td></tr>\n",
       "\t<tr><td>18    </td><td>1665.3</td></tr>\n",
       "\t<tr><td>19    </td><td>1453.0</td></tr>\n",
       "\t<tr><td>20    </td><td>1666.4</td></tr>\n",
       "\t<tr><td>21    </td><td>1536.0</td></tr>\n",
       "\t<tr><td>22    </td><td>1402.4</td></tr>\n",
       "\t<tr><td>23    </td><td>1684.1</td></tr>\n",
       "\t<tr><td>24    </td><td>1308.0</td></tr>\n",
       "\t<tr><td>25    </td><td>1547.9</td></tr>\n",
       "</tbody>\n",
       "</table>\n"
      ],
      "text/latex": [
       "\\begin{tabular}{r|ll}\n",
       " replicate & x\\_bar\\\\\n",
       "\\hline\n",
       "\t  1     & 1731.2\\\\\n",
       "\t  2     & 1462.2\\\\\n",
       "\t  3     & 1598.8\\\\\n",
       "\t  4     & 1585.6\\\\\n",
       "\t  5     & 1496.0\\\\\n",
       "\t  6     & 1585.3\\\\\n",
       "\t  7     & 1398.1\\\\\n",
       "\t  8     & 1425.9\\\\\n",
       "\t  9     & 1336.4\\\\\n",
       "\t 10     & 1577.7\\\\\n",
       "\t 11     & 1424.9\\\\\n",
       "\t 12     & 1257.9\\\\\n",
       "\t 13     & 1371.0\\\\\n",
       "\t 14     & 1284.0\\\\\n",
       "\t 15     & 1518.2\\\\\n",
       "\t 16     & 1246.3\\\\\n",
       "\t 17     & 1805.6\\\\\n",
       "\t 18     & 1665.3\\\\\n",
       "\t 19     & 1453.0\\\\\n",
       "\t 20     & 1666.4\\\\\n",
       "\t 21     & 1536.0\\\\\n",
       "\t 22     & 1402.4\\\\\n",
       "\t 23     & 1684.1\\\\\n",
       "\t 24     & 1308.0\\\\\n",
       "\t 25     & 1547.9\\\\\n",
       "\\end{tabular}\n"
      ],
      "text/markdown": [
       "\n",
       "replicate | x_bar | \n",
       "|---|---|---|---|---|---|---|---|---|---|---|---|---|---|---|---|---|---|---|---|---|---|---|---|---|\n",
       "|  1     | 1731.2 | \n",
       "|  2     | 1462.2 | \n",
       "|  3     | 1598.8 | \n",
       "|  4     | 1585.6 | \n",
       "|  5     | 1496.0 | \n",
       "|  6     | 1585.3 | \n",
       "|  7     | 1398.1 | \n",
       "|  8     | 1425.9 | \n",
       "|  9     | 1336.4 | \n",
       "| 10     | 1577.7 | \n",
       "| 11     | 1424.9 | \n",
       "| 12     | 1257.9 | \n",
       "| 13     | 1371.0 | \n",
       "| 14     | 1284.0 | \n",
       "| 15     | 1518.2 | \n",
       "| 16     | 1246.3 | \n",
       "| 17     | 1805.6 | \n",
       "| 18     | 1665.3 | \n",
       "| 19     | 1453.0 | \n",
       "| 20     | 1666.4 | \n",
       "| 21     | 1536.0 | \n",
       "| 22     | 1402.4 | \n",
       "| 23     | 1684.1 | \n",
       "| 24     | 1308.0 | \n",
       "| 25     | 1547.9 | \n",
       "\n",
       "\n"
      ],
      "text/plain": [
       "   replicate x_bar \n",
       "1   1        1731.2\n",
       "2   2        1462.2\n",
       "3   3        1598.8\n",
       "4   4        1585.6\n",
       "5   5        1496.0\n",
       "6   6        1585.3\n",
       "7   7        1398.1\n",
       "8   8        1425.9\n",
       "9   9        1336.4\n",
       "10 10        1577.7\n",
       "11 11        1424.9\n",
       "12 12        1257.9\n",
       "13 13        1371.0\n",
       "14 14        1284.0\n",
       "15 15        1518.2\n",
       "16 16        1246.3\n",
       "17 17        1805.6\n",
       "18 18        1665.3\n",
       "19 19        1453.0\n",
       "20 20        1666.4\n",
       "21 21        1536.0\n",
       "22 22        1402.4\n",
       "23 23        1684.1\n",
       "24 24        1308.0\n",
       "25 25        1547.9"
      ]
     },
     "metadata": {},
     "output_type": "display_data"
    }
   ],
   "source": [
    "sample_means_small"
   ]
  },
  {
   "cell_type": "code",
   "execution_count": 52,
   "metadata": {
    "collapsed": true
   },
   "outputs": [],
   "source": [
    "s10 <- ames %>%\n",
    "rep_sample_n(size = 10, reps = 5000, replace = TRUE) %>%\n",
    "summarize(x_bar = mean(area))"
   ]
  },
  {
   "cell_type": "code",
   "execution_count": 53,
   "metadata": {
    "collapsed": true
   },
   "outputs": [],
   "source": [
    "s50 <- ames %>%\n",
    "rep_sample_n(size = 50, reps = 5000, replace = TRUE) %>%\n",
    "summarize(x_bar = mean(area))"
   ]
  },
  {
   "cell_type": "code",
   "execution_count": 54,
   "metadata": {
    "collapsed": true
   },
   "outputs": [],
   "source": [
    "s100 <- ames %>%\n",
    "rep_sample_n(size = 100, reps = 5000, replace = TRUE) %>%\n",
    "summarize(x_bar = mean(area))"
   ]
  },
  {
   "cell_type": "code",
   "execution_count": 58,
   "metadata": {},
   "outputs": [
    {
     "data": {
      "text/html": [
       "<table>\n",
       "<thead><tr><th scope=col>replicate</th><th scope=col>x_bar</th></tr></thead>\n",
       "<tbody>\n",
       "\t<tr><td> 1     </td><td>1522.44</td></tr>\n",
       "\t<tr><td> 2     </td><td>1572.64</td></tr>\n",
       "\t<tr><td> 3     </td><td>1642.72</td></tr>\n",
       "\t<tr><td> 4     </td><td>1670.70</td></tr>\n",
       "\t<tr><td> 5     </td><td>1596.36</td></tr>\n",
       "\t<tr><td> 6     </td><td>1618.22</td></tr>\n",
       "\t<tr><td> 7     </td><td>1510.88</td></tr>\n",
       "\t<tr><td> 8     </td><td>1510.54</td></tr>\n",
       "\t<tr><td> 9     </td><td>1576.92</td></tr>\n",
       "\t<tr><td>10     </td><td>1582.20</td></tr>\n",
       "\t<tr><td>11     </td><td>1527.08</td></tr>\n",
       "\t<tr><td>12     </td><td>1643.00</td></tr>\n",
       "\t<tr><td>13     </td><td>1439.26</td></tr>\n",
       "\t<tr><td>14     </td><td>1713.48</td></tr>\n",
       "\t<tr><td>15     </td><td>1539.90</td></tr>\n",
       "\t<tr><td>16     </td><td>1498.44</td></tr>\n",
       "\t<tr><td>17     </td><td>1483.44</td></tr>\n",
       "\t<tr><td>18     </td><td>1507.38</td></tr>\n",
       "\t<tr><td>19     </td><td>1434.50</td></tr>\n",
       "\t<tr><td>20     </td><td>1374.60</td></tr>\n",
       "\t<tr><td>21     </td><td>1566.92</td></tr>\n",
       "\t<tr><td>22     </td><td>1433.38</td></tr>\n",
       "\t<tr><td>23     </td><td>1464.62</td></tr>\n",
       "\t<tr><td>24     </td><td>1447.20</td></tr>\n",
       "\t<tr><td>25     </td><td>1468.00</td></tr>\n",
       "\t<tr><td>26     </td><td>1509.80</td></tr>\n",
       "\t<tr><td>27     </td><td>1464.50</td></tr>\n",
       "\t<tr><td>28     </td><td>1516.74</td></tr>\n",
       "\t<tr><td>29     </td><td>1427.80</td></tr>\n",
       "\t<tr><td>30     </td><td>1619.42</td></tr>\n",
       "\t<tr><td>...</td><td>...</td></tr>\n",
       "\t<tr><td>4971   </td><td>1529.12</td></tr>\n",
       "\t<tr><td>4972   </td><td>1539.14</td></tr>\n",
       "\t<tr><td>4973   </td><td>1488.42</td></tr>\n",
       "\t<tr><td>4974   </td><td>1419.72</td></tr>\n",
       "\t<tr><td>4975   </td><td>1536.06</td></tr>\n",
       "\t<tr><td>4976   </td><td>1460.90</td></tr>\n",
       "\t<tr><td>4977   </td><td>1461.12</td></tr>\n",
       "\t<tr><td>4978   </td><td>1527.54</td></tr>\n",
       "\t<tr><td>4979   </td><td>1478.28</td></tr>\n",
       "\t<tr><td>4980   </td><td>1546.78</td></tr>\n",
       "\t<tr><td>4981   </td><td>1616.84</td></tr>\n",
       "\t<tr><td>4982   </td><td>1438.70</td></tr>\n",
       "\t<tr><td>4983   </td><td>1467.20</td></tr>\n",
       "\t<tr><td>4984   </td><td>1541.58</td></tr>\n",
       "\t<tr><td>4985   </td><td>1541.30</td></tr>\n",
       "\t<tr><td>4986   </td><td>1433.70</td></tr>\n",
       "\t<tr><td>4987   </td><td>1541.58</td></tr>\n",
       "\t<tr><td>4988   </td><td>1413.84</td></tr>\n",
       "\t<tr><td>4989   </td><td>1397.14</td></tr>\n",
       "\t<tr><td>4990   </td><td>1467.20</td></tr>\n",
       "\t<tr><td>4991   </td><td>1427.10</td></tr>\n",
       "\t<tr><td>4992   </td><td>1597.54</td></tr>\n",
       "\t<tr><td>4993   </td><td>1570.16</td></tr>\n",
       "\t<tr><td>4994   </td><td>1505.48</td></tr>\n",
       "\t<tr><td>4995   </td><td>1362.04</td></tr>\n",
       "\t<tr><td>4996   </td><td>1515.04</td></tr>\n",
       "\t<tr><td>4997   </td><td>1493.90</td></tr>\n",
       "\t<tr><td>4998   </td><td>1456.94</td></tr>\n",
       "\t<tr><td>4999   </td><td>1491.52</td></tr>\n",
       "\t<tr><td>5000   </td><td>1616.74</td></tr>\n",
       "</tbody>\n",
       "</table>\n"
      ],
      "text/latex": [
       "\\begin{tabular}{r|ll}\n",
       " replicate & x\\_bar\\\\\n",
       "\\hline\n",
       "\t  1      & 1522.44\\\\\n",
       "\t  2      & 1572.64\\\\\n",
       "\t  3      & 1642.72\\\\\n",
       "\t  4      & 1670.70\\\\\n",
       "\t  5      & 1596.36\\\\\n",
       "\t  6      & 1618.22\\\\\n",
       "\t  7      & 1510.88\\\\\n",
       "\t  8      & 1510.54\\\\\n",
       "\t  9      & 1576.92\\\\\n",
       "\t 10      & 1582.20\\\\\n",
       "\t 11      & 1527.08\\\\\n",
       "\t 12      & 1643.00\\\\\n",
       "\t 13      & 1439.26\\\\\n",
       "\t 14      & 1713.48\\\\\n",
       "\t 15      & 1539.90\\\\\n",
       "\t 16      & 1498.44\\\\\n",
       "\t 17      & 1483.44\\\\\n",
       "\t 18      & 1507.38\\\\\n",
       "\t 19      & 1434.50\\\\\n",
       "\t 20      & 1374.60\\\\\n",
       "\t 21      & 1566.92\\\\\n",
       "\t 22      & 1433.38\\\\\n",
       "\t 23      & 1464.62\\\\\n",
       "\t 24      & 1447.20\\\\\n",
       "\t 25      & 1468.00\\\\\n",
       "\t 26      & 1509.80\\\\\n",
       "\t 27      & 1464.50\\\\\n",
       "\t 28      & 1516.74\\\\\n",
       "\t 29      & 1427.80\\\\\n",
       "\t 30      & 1619.42\\\\\n",
       "\t ... & ...\\\\\n",
       "\t 4971    & 1529.12\\\\\n",
       "\t 4972    & 1539.14\\\\\n",
       "\t 4973    & 1488.42\\\\\n",
       "\t 4974    & 1419.72\\\\\n",
       "\t 4975    & 1536.06\\\\\n",
       "\t 4976    & 1460.90\\\\\n",
       "\t 4977    & 1461.12\\\\\n",
       "\t 4978    & 1527.54\\\\\n",
       "\t 4979    & 1478.28\\\\\n",
       "\t 4980    & 1546.78\\\\\n",
       "\t 4981    & 1616.84\\\\\n",
       "\t 4982    & 1438.70\\\\\n",
       "\t 4983    & 1467.20\\\\\n",
       "\t 4984    & 1541.58\\\\\n",
       "\t 4985    & 1541.30\\\\\n",
       "\t 4986    & 1433.70\\\\\n",
       "\t 4987    & 1541.58\\\\\n",
       "\t 4988    & 1413.84\\\\\n",
       "\t 4989    & 1397.14\\\\\n",
       "\t 4990    & 1467.20\\\\\n",
       "\t 4991    & 1427.10\\\\\n",
       "\t 4992    & 1597.54\\\\\n",
       "\t 4993    & 1570.16\\\\\n",
       "\t 4994    & 1505.48\\\\\n",
       "\t 4995    & 1362.04\\\\\n",
       "\t 4996    & 1515.04\\\\\n",
       "\t 4997    & 1493.90\\\\\n",
       "\t 4998    & 1456.94\\\\\n",
       "\t 4999    & 1491.52\\\\\n",
       "\t 5000    & 1616.74\\\\\n",
       "\\end{tabular}\n"
      ],
      "text/markdown": [
       "\n",
       "replicate | x_bar | \n",
       "|---|---|---|---|---|---|---|---|---|---|---|---|---|---|---|---|---|---|---|---|---|---|---|---|---|---|---|---|---|---|---|---|---|---|---|---|---|---|---|---|---|---|---|---|---|---|---|---|---|---|---|---|---|---|---|---|---|---|---|---|---|\n",
       "|  1      | 1522.44 | \n",
       "|  2      | 1572.64 | \n",
       "|  3      | 1642.72 | \n",
       "|  4      | 1670.70 | \n",
       "|  5      | 1596.36 | \n",
       "|  6      | 1618.22 | \n",
       "|  7      | 1510.88 | \n",
       "|  8      | 1510.54 | \n",
       "|  9      | 1576.92 | \n",
       "| 10      | 1582.20 | \n",
       "| 11      | 1527.08 | \n",
       "| 12      | 1643.00 | \n",
       "| 13      | 1439.26 | \n",
       "| 14      | 1713.48 | \n",
       "| 15      | 1539.90 | \n",
       "| 16      | 1498.44 | \n",
       "| 17      | 1483.44 | \n",
       "| 18      | 1507.38 | \n",
       "| 19      | 1434.50 | \n",
       "| 20      | 1374.60 | \n",
       "| 21      | 1566.92 | \n",
       "| 22      | 1433.38 | \n",
       "| 23      | 1464.62 | \n",
       "| 24      | 1447.20 | \n",
       "| 25      | 1468.00 | \n",
       "| 26      | 1509.80 | \n",
       "| 27      | 1464.50 | \n",
       "| 28      | 1516.74 | \n",
       "| 29      | 1427.80 | \n",
       "| 30      | 1619.42 | \n",
       "| ... | ... | \n",
       "| 4971    | 1529.12 | \n",
       "| 4972    | 1539.14 | \n",
       "| 4973    | 1488.42 | \n",
       "| 4974    | 1419.72 | \n",
       "| 4975    | 1536.06 | \n",
       "| 4976    | 1460.90 | \n",
       "| 4977    | 1461.12 | \n",
       "| 4978    | 1527.54 | \n",
       "| 4979    | 1478.28 | \n",
       "| 4980    | 1546.78 | \n",
       "| 4981    | 1616.84 | \n",
       "| 4982    | 1438.70 | \n",
       "| 4983    | 1467.20 | \n",
       "| 4984    | 1541.58 | \n",
       "| 4985    | 1541.30 | \n",
       "| 4986    | 1433.70 | \n",
       "| 4987    | 1541.58 | \n",
       "| 4988    | 1413.84 | \n",
       "| 4989    | 1397.14 | \n",
       "| 4990    | 1467.20 | \n",
       "| 4991    | 1427.10 | \n",
       "| 4992    | 1597.54 | \n",
       "| 4993    | 1570.16 | \n",
       "| 4994    | 1505.48 | \n",
       "| 4995    | 1362.04 | \n",
       "| 4996    | 1515.04 | \n",
       "| 4997    | 1493.90 | \n",
       "| 4998    | 1456.94 | \n",
       "| 4999    | 1491.52 | \n",
       "| 5000    | 1616.74 | \n",
       "\n",
       "\n"
      ],
      "text/plain": [
       "     replicate x_bar  \n",
       "1     1        1522.44\n",
       "2     2        1572.64\n",
       "3     3        1642.72\n",
       "4     4        1670.70\n",
       "5     5        1596.36\n",
       "6     6        1618.22\n",
       "7     7        1510.88\n",
       "8     8        1510.54\n",
       "9     9        1576.92\n",
       "10   10        1582.20\n",
       "11   11        1527.08\n",
       "12   12        1643.00\n",
       "13   13        1439.26\n",
       "14   14        1713.48\n",
       "15   15        1539.90\n",
       "16   16        1498.44\n",
       "17   17        1483.44\n",
       "18   18        1507.38\n",
       "19   19        1434.50\n",
       "20   20        1374.60\n",
       "21   21        1566.92\n",
       "22   22        1433.38\n",
       "23   23        1464.62\n",
       "24   24        1447.20\n",
       "25   25        1468.00\n",
       "26   26        1509.80\n",
       "27   27        1464.50\n",
       "28   28        1516.74\n",
       "29   29        1427.80\n",
       "30   30        1619.42\n",
       "...  ...       ...    \n",
       "4971 4971      1529.12\n",
       "4972 4972      1539.14\n",
       "4973 4973      1488.42\n",
       "4974 4974      1419.72\n",
       "4975 4975      1536.06\n",
       "4976 4976      1460.90\n",
       "4977 4977      1461.12\n",
       "4978 4978      1527.54\n",
       "4979 4979      1478.28\n",
       "4980 4980      1546.78\n",
       "4981 4981      1616.84\n",
       "4982 4982      1438.70\n",
       "4983 4983      1467.20\n",
       "4984 4984      1541.58\n",
       "4985 4985      1541.30\n",
       "4986 4986      1433.70\n",
       "4987 4987      1541.58\n",
       "4988 4988      1413.84\n",
       "4989 4989      1397.14\n",
       "4990 4990      1467.20\n",
       "4991 4991      1427.10\n",
       "4992 4992      1597.54\n",
       "4993 4993      1570.16\n",
       "4994 4994      1505.48\n",
       "4995 4995      1362.04\n",
       "4996 4996      1515.04\n",
       "4997 4997      1493.90\n",
       "4998 4998      1456.94\n",
       "4999 4999      1491.52\n",
       "5000 5000      1616.74"
      ]
     },
     "metadata": {},
     "output_type": "display_data"
    }
   ],
   "source": [
    "s50"
   ]
  },
  {
   "cell_type": "code",
   "execution_count": 70,
   "metadata": {
    "scrolled": true
   },
   "outputs": [
    {
     "data": {},
     "metadata": {},
     "output_type": "display_data"
    },
    {
     "data": {
      "image/png": "[encoded data removed]",
      "text/plain": [
       "plot without title"
      ]
     },
     "metadata": {},
     "output_type": "display_data"
    }
   ],
   "source": [
    "ggplot() +\n",
    "geom_freqpoly(data = s10, aes(x_bar), binwidth = 100, color = 'red') +\n",
    "geom_freqpoly(data = s50, aes(x_bar), binwidth = 100, color = 'green') +\n",
    "geom_freqpoly(data = s100, aes(x_bar), binwidth = 100, color = 'blue') +\n",
    "geom_freqpoly(data = ames, aes(area), binwidth = 100) +\n",
    "coord_cartesian(xlim = c(0, 6000))"
   ]
  },
  {
   "cell_type": "code",
   "execution_count": 71,
   "metadata": {
    "collapsed": true
   },
   "outputs": [],
   "source": [
    "price50 <- ames %>%\n",
    "sample_n(size = 50) %>%\n",
    "summarize(x_bar = mean(price))"
   ]
  },
  {
   "cell_type": "code",
   "execution_count": 72,
   "metadata": {
    "scrolled": true
   },
   "outputs": [
    {
     "data": {
      "text/html": [
       "<table>\n",
       "<thead><tr><th scope=col>x_bar</th></tr></thead>\n",
       "<tbody>\n",
       "\t<tr><td>189239.3</td></tr>\n",
       "</tbody>\n",
       "</table>\n"
      ],
      "text/latex": [
       "\\begin{tabular}{r|l}\n",
       " x\\_bar\\\\\n",
       "\\hline\n",
       "\t 189239.3\\\\\n",
       "\\end{tabular}\n"
      ],
      "text/markdown": [
       "\n",
       "x_bar | \n",
       "|---|\n",
       "| 189239.3 | \n",
       "\n",
       "\n"
      ],
      "text/plain": [
       "  x_bar   \n",
       "1 189239.3"
      ]
     },
     "metadata": {},
     "output_type": "display_data"
    }
   ],
   "source": [
    "price50"
   ]
  },
  {
   "cell_type": "code",
   "execution_count": 82,
   "metadata": {
    "collapsed": true
   },
   "outputs": [],
   "source": [
    "sample_means50 <- ames %>%\n",
    "rep_sample_n(size = 50, reps = 5000, replace = TRUE) %>%\n",
    "summarize(x_bar = mean(price))"
   ]
  },
  {
   "cell_type": "code",
   "execution_count": 74,
   "metadata": {},
   "outputs": [
    {
     "name": "stdout",
     "output_type": "stream",
     "text": [
      "Classes 'tbl_df', 'tbl' and 'data.frame':\t5000 obs. of  2 variables:\n",
      " $ replicate: int  1 2 3 4 5 6 7 8 9 10 ...\n",
      " $ x_bar    : num  169153 178853 189167 165164 170007 ...\n"
     ]
    }
   ],
   "source": [
    "str(price50x5000)"
   ]
  },
  {
   "cell_type": "code",
   "execution_count": 76,
   "metadata": {
    "scrolled": true
   },
   "outputs": [
    {
     "data": {},
     "metadata": {},
     "output_type": "display_data"
    },
    {
     "data": {
      "image/png": "[encoded data removed]",
      "text/plain": [
       "plot without title"
      ]
     },
     "metadata": {},
     "output_type": "display_data"
    }
   ],
   "source": [
    "price50x5000 %>%\n",
    "ggplot(aes(x_bar)) +\n",
    "geom_histogram(binwidth = 5000)"
   ]
  },
  {
   "cell_type": "code",
   "execution_count": 77,
   "metadata": {
    "scrolled": true
   },
   "outputs": [
    {
     "data": {
      "text/html": [
       "181053.842336"
      ],
      "text/latex": [
       "181053.842336"
      ],
      "text/markdown": [
       "181053.842336"
      ],
      "text/plain": [
       "[1] 181053.8"
      ]
     },
     "metadata": {},
     "output_type": "display_data"
    }
   ],
   "source": [
    "mean(price50x5000$x_bar)"
   ]
  },
  {
   "cell_type": "code",
   "execution_count": 78,
   "metadata": {
    "scrolled": true
   },
   "outputs": [
    {
     "data": {
      "text/html": [
       "180796.060068259"
      ],
      "text/latex": [
       "180796.060068259"
      ],
      "text/markdown": [
       "180796.060068259"
      ],
      "text/plain": [
       "[1] 180796.1"
      ]
     },
     "metadata": {},
     "output_type": "display_data"
    }
   ],
   "source": [
    "mean(ames$price)"
   ]
  },
  {
   "cell_type": "code",
   "execution_count": 79,
   "metadata": {
    "collapsed": true
   },
   "outputs": [],
   "source": [
    "sample_means150 <- ames %>%\n",
    "rep_sample_n(size = 150, reps = 5000, replace = TRUE) %>%\n",
    "summarize(x_bar = mean(price))"
   ]
  },
  {
   "cell_type": "code",
   "execution_count": 80,
   "metadata": {
    "scrolled": true
   },
   "outputs": [
    {
     "data": {},
     "metadata": {},
     "output_type": "display_data"
    },
    {
     "data": {
      "image/png": "[encoded data removed]",
      "text/plain": [
       "plot without title"
      ]
     },
     "metadata": {},
     "output_type": "display_data"
    }
   ],
   "source": [
    "sample_means150 %>%\n",
    "ggplot(aes(x_bar)) +\n",
    "geom_histogram(binwidth = 5000)"
   ]
  },
  {
   "cell_type": "code",
   "execution_count": 81,
   "metadata": {
    "scrolled": true
   },
   "outputs": [
    {
     "data": {
      "text/html": [
       "180646.963817333"
      ],
      "text/latex": [
       "180646.963817333"
      ],
      "text/markdown": [
       "180646.963817333"
      ],
      "text/plain": [
       "[1] 180647"
      ]
     },
     "metadata": {},
     "output_type": "display_data"
    }
   ],
   "source": [
    "mean(sample_means150$x_bar)"
   ]
  },
  {
   "cell_type": "code",
   "execution_count": 84,
   "metadata": {},
   "outputs": [
    {
     "data": {},
     "metadata": {},
     "output_type": "display_data"
    },
    {
     "data": {
      "image/png": "[encoded data removed]",
      "text/plain": [
       "plot without title"
      ]
     },
     "metadata": {},
     "output_type": "display_data"
    }
   ],
   "source": [
    "ggplot() +\n",
    "geom_freqpoly(data = sample_means50, aes(x_bar), binwidth = 5000, color = 'red') +\n",
    "geom_freqpoly(data = sample_means150, aes(x_bar), binwidth = 5000, color = 'green')"
   ]
  },
  {
   "cell_type": "code",
   "execution_count": 88,
   "metadata": {
    "scrolled": true
   },
   "outputs": [
    {
     "data": {
      "text/html": [
       "<table>\n",
       "<thead><tr><th scope=col>mean_price</th></tr></thead>\n",
       "<tbody>\n",
       "\t<tr><td>180375.2</td></tr>\n",
       "</tbody>\n",
       "</table>\n"
      ],
      "text/latex": [
       "\\begin{tabular}{r|l}\n",
       " mean\\_price\\\\\n",
       "\\hline\n",
       "\t 180375.2\\\\\n",
       "\\end{tabular}\n"
      ],
      "text/markdown": [
       "\n",
       "mean_price | \n",
       "|---|\n",
       "| 180375.2 | \n",
       "\n",
       "\n"
      ],
      "text/plain": [
       "  mean_price\n",
       "1 180375.2  "
      ]
     },
     "metadata": {},
     "output_type": "display_data"
    }
   ],
   "source": [
    "ames %>%\n",
    "sample_n(size = 15) %>%\n",
    "summarize(mean_price = mean(price))"
   ]
  },
  {
   "cell_type": "code",
   "execution_count": 89,
   "metadata": {
    "collapsed": true
   },
   "outputs": [],
   "source": [
    "sample_means15 <- ames %>%\n",
    "rep_sample_n(size = 15, reps = 2000, replace = TRUE) %>%\n",
    "summarize(x_bar = mean(price))"
   ]
  },
  {
   "cell_type": "code",
   "execution_count": 93,
   "metadata": {
    "scrolled": true
   },
   "outputs": [
    {
     "data": {},
     "metadata": {},
     "output_type": "display_data"
    },
    {
     "data": {
      "image/png": "[encoded data removed]",
      "text/plain": [
       "plot without title"
      ]
     },
     "metadata": {},
     "output_type": "display_data"
    }
   ],
   "source": [
    "ggplot(sample_means15, aes(x_bar)) +\n",
    "geom_histogram(binwidth = 5000)"
   ]
  },
  {
   "cell_type": "code",
   "execution_count": 92,
   "metadata": {
    "scrolled": true
   },
   "outputs": [
    {
     "data": {
      "text/html": [
       "180379.4565"
      ],
      "text/latex": [
       "180379.4565"
      ],
      "text/markdown": [
       "180379.4565"
      ],
      "text/plain": [
       "[1] 180379.5"
      ]
     },
     "metadata": {},
     "output_type": "display_data"
    }
   ],
   "source": [
    "mean(sample_means15$x_bar)"
   ]
  },
  {
   "cell_type": "code",
   "execution_count": 94,
   "metadata": {},
   "outputs": [
    {
     "data": {
      "text/html": [
       "180796.060068259"
      ],
      "text/latex": [
       "180796.060068259"
      ],
      "text/markdown": [
       "180796.060068259"
      ],
      "text/plain": [
       "[1] 180796.1"
      ]
     },
     "metadata": {},
     "output_type": "display_data"
    }
   ],
   "source": [
    "mean(ames$price)"
   ]
  }
 ],
 "metadata": {
  "kernelspec": {
   "display_name": "R",
   "language": "R",
   "name": "ir"
  },
  "language_info": {
   "codemirror_mode": "r",
   "file_extension": ".r",
   "mimetype": "text/x-r-source",
   "name": "R",
   "pygments_lexer": "r",
   "version": "3.4.2"
  }
 },
 "nbformat": 4,
 "nbformat_minor": 2
}
