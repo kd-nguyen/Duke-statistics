{
 "cells": [
  {
   "cell_type": "code",
   "execution_count": 1,
   "metadata": {
    "scrolled": true
   },
   "outputs": [
    {
     "data": {
      "text/html": [
       "-2.10092204024104"
      ],
      "text/latex": [
       "-2.10092204024104"
      ],
      "text/markdown": [
       "-2.10092204024104"
      ],
      "text/plain": [
       "[1] -2.100922"
      ]
     },
     "metadata": {},
     "output_type": "display_data"
    }
   ],
   "source": [
    "qt(0.025, 18)"
   ]
  },
  {
   "cell_type": "code",
   "execution_count": 3,
   "metadata": {},
   "outputs": [
    {
     "data": {
      "text/html": [
       "-1.97538713105511"
      ],
      "text/latex": [
       "-1.97538713105511"
      ],
      "text/markdown": [
       "-1.97538713105511"
      ],
      "text/plain": [
       "[1] -1.975387"
      ]
     },
     "metadata": {},
     "output_type": "display_data"
    }
   ],
   "source": [
    "qt(0.025, 155)"
   ]
  },
  {
   "cell_type": "code",
   "execution_count": 2,
   "metadata": {},
   "outputs": [
    {
     "data": {
      "text/html": [
       "1.81991576518352e-06"
      ],
      "text/latex": [
       "1.81991576518352e-06"
      ],
      "text/markdown": [
       "1.81991576518352e-06"
      ],
      "text/plain": [
       "[1] 1.819916e-06"
      ]
     },
     "metadata": {},
     "output_type": "display_data"
    }
   ],
   "source": [
    "pt(6.562, 18, lower.tail = FALSE)"
   ]
  },
  {
   "cell_type": "code",
   "execution_count": 4,
   "metadata": {},
   "outputs": [
    {
     "data": {
      "text/html": [
       "-1.96949839342115"
      ],
      "text/latex": [
       "-1.96949839342115"
      ],
      "text/markdown": [
       "-1.96949839342115"
      ],
      "text/plain": [
       "[1] -1.969498"
      ]
     },
     "metadata": {},
     "output_type": "display_data"
    }
   ],
   "source": [
    "qt(0.025, 250)"
   ]
  }
 ],
 "metadata": {
  "kernelspec": {
   "display_name": "R",
   "language": "R",
   "name": "ir"
  },
  "language_info": {
   "codemirror_mode": "r",
   "file_extension": ".r",
   "mimetype": "text/x-r-source",
   "name": "R",
   "pygments_lexer": "r",
   "version": "3.4.2"
  }
 },
 "nbformat": 4,
 "nbformat_minor": 2
}
