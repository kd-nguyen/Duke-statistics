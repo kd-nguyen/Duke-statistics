{
 "cells": [
  {
   "cell_type": "code",
   "execution_count": 4,
   "metadata": {},
   "outputs": [
    {
     "data": {
      "text/html": [
       "2.01504837333302"
      ],
      "text/latex": [
       "2.01504837333302"
      ],
      "text/markdown": [
       "2.01504837333302"
      ],
      "text/plain": [
       "[1] 2.015048"
      ]
     },
     "metadata": {},
     "output_type": "display_data"
    }
   ],
   "source": [
    "qt(0.95, 5)"
   ]
  },
  {
   "cell_type": "code",
   "execution_count": 6,
   "metadata": {},
   "outputs": [
    {
     "data": {
      "text/html": [
       "2.52797700274157"
      ],
      "text/latex": [
       "2.52797700274157"
      ],
      "text/markdown": [
       "2.52797700274157"
      ],
      "text/plain": [
       "[1] 2.527977"
      ]
     },
     "metadata": {},
     "output_type": "display_data"
    }
   ],
   "source": [
    "qt(0.99, 20)"
   ]
  },
  {
   "cell_type": "code",
   "execution_count": 7,
   "metadata": {
    "scrolled": true
   },
   "outputs": [
    {
     "data": {
      "text/html": [
       "2.0452296421327"
      ],
      "text/latex": [
       "2.0452296421327"
      ],
      "text/markdown": [
       "2.0452296421327"
      ],
      "text/plain": [
       "[1] 2.04523"
      ]
     },
     "metadata": {},
     "output_type": "display_data"
    }
   ],
   "source": [
    "qt(0.975, 29)"
   ]
  },
  {
   "cell_type": "code",
   "execution_count": 8,
   "metadata": {
    "scrolled": true
   },
   "outputs": [
    {
     "data": {
      "text/html": [
       "3.10580651553928"
      ],
      "text/latex": [
       "3.10580651553928"
      ],
      "text/markdown": [
       "3.10580651553928"
      ],
      "text/plain": [
       "[1] 3.105807"
      ]
     },
     "metadata": {},
     "output_type": "display_data"
    }
   ],
   "source": [
    "qt(0.995, 11)"
   ]
  },
  {
   "cell_type": "code",
   "execution_count": 11,
   "metadata": {},
   "outputs": [
    {
     "data": {
      "text/html": [
       "0.0426024383225783"
      ],
      "text/latex": [
       "0.0426024383225783"
      ],
      "text/markdown": [
       "0.0426024383225783"
      ],
      "text/plain": [
       "[1] 0.04260244"
      ]
     },
     "metadata": {},
     "output_type": "display_data"
    }
   ],
   "source": [
    "1 - pt(1.91, 10)"
   ]
  },
  {
   "cell_type": "code",
   "execution_count": 10,
   "metadata": {
    "scrolled": true
   },
   "outputs": [
    {
     "data": {
      "text/html": [
       "0.00164678570189846"
      ],
      "text/latex": [
       "0.00164678570189846"
      ],
      "text/markdown": [
       "0.00164678570189846"
      ],
      "text/plain": [
       "[1] 0.001646786"
      ]
     },
     "metadata": {},
     "output_type": "display_data"
    }
   ],
   "source": [
    "pt(-3.45, 16)"
   ]
  },
  {
   "cell_type": "code",
   "execution_count": 12,
   "metadata": {},
   "outputs": [
    {
     "data": {
      "text/html": [
       "0.438308401565986"
      ],
      "text/latex": [
       "0.438308401565986"
      ],
      "text/markdown": [
       "0.438308401565986"
      ],
      "text/plain": [
       "[1] 0.4383084"
      ]
     },
     "metadata": {},
     "output_type": "display_data"
    }
   ],
   "source": [
    "2 * pt(0.83, 6, lower.tail = FALSE)"
   ]
  },
  {
   "cell_type": "code",
   "execution_count": 13,
   "metadata": {},
   "outputs": [
    {
     "data": {
      "text/html": [
       "0.02121769296095"
      ],
      "text/latex": [
       "0.02121769296095"
      ],
      "text/markdown": [
       "0.02121769296095"
      ],
      "text/plain": [
       "[1] 0.02121769"
      ]
     },
     "metadata": {},
     "output_type": "display_data"
    }
   ],
   "source": [
    "pt(2.13, 27, lower.tail = FALSE)"
   ]
  },
  {
   "cell_type": "code",
   "execution_count": 15,
   "metadata": {},
   "outputs": [
    {
     "data": {
      "text/html": [
       "20"
      ],
      "text/latex": [
       "20"
      ],
      "text/markdown": [
       "20"
      ],
      "text/plain": [
       "[1] 20"
      ]
     },
     "metadata": {},
     "output_type": "display_data"
    }
   ],
   "source": [
    "(21.015 + 18.985) / 2"
   ]
  },
  {
   "cell_type": "code",
   "execution_count": 17,
   "metadata": {
    "scrolled": true
   },
   "outputs": [
    {
     "data": {
      "text/html": [
       "2.99984050860227"
      ],
      "text/latex": [
       "2.99984050860227"
      ],
      "text/markdown": [
       "2.99984050860227"
      ],
      "text/plain": [
       "[1] 2.999841"
      ]
     },
     "metadata": {},
     "output_type": "display_data"
    }
   ],
   "source": [
    "-1.015 * sqrt(36) / qt(0.025, 35) "
   ]
  },
  {
   "cell_type": "code",
   "execution_count": 18,
   "metadata": {
    "scrolled": true
   },
   "outputs": [
    {
     "data": {
      "text/html": [
       "384.16"
      ],
      "text/latex": [
       "384.16"
      ],
      "text/markdown": [
       "384.16"
      ],
      "text/plain": [
       "[1] 384.16"
      ]
     },
     "metadata": {},
     "output_type": "display_data"
    }
   ],
   "source": [
    "19.6^2"
   ]
  },
  {
   "cell_type": "code",
   "execution_count": 19,
   "metadata": {
    "collapsed": true
   },
   "outputs": [],
   "source": [
    "t <- 1.1 / (4.9 / sqrt(51))"
   ]
  },
  {
   "cell_type": "code",
   "execution_count": 20,
   "metadata": {
    "scrolled": true
   },
   "outputs": [
    {
     "data": {
      "text/html": [
       "0.115194615784016"
      ],
      "text/latex": [
       "0.115194615784016"
      ],
      "text/markdown": [
       "0.115194615784016"
      ],
      "text/plain": [
       "[1] 0.1151946"
      ]
     },
     "metadata": {},
     "output_type": "display_data"
    }
   ],
   "source": [
    "2 * pt(t, 50, lower.tail = FALSE)"
   ]
  },
  {
   "cell_type": "code",
   "execution_count": 25,
   "metadata": {},
   "outputs": [
    {
     "data": {
      "text/html": [
       "2.24990085043459"
      ],
      "text/latex": [
       "2.24990085043459"
      ],
      "text/markdown": [
       "2.24990085043459"
      ],
      "text/plain": [
       "[1] 2.249901"
      ]
     },
     "metadata": {},
     "output_type": "display_data"
    }
   ],
   "source": [
    "1.1 + qt(0.05, 50, lower.tail = FALSE) * 4.9 / sqrt(51)"
   ]
  },
  {
   "cell_type": "code",
   "execution_count": 26,
   "metadata": {
    "collapsed": true
   },
   "outputs": [],
   "source": [
    "t <- 3.4 * 6 / 7.5"
   ]
  },
  {
   "cell_type": "code",
   "execution_count": 29,
   "metadata": {},
   "outputs": [
    {
     "data": {
      "text/html": [
       "0.0100951233108302"
      ],
      "text/latex": [
       "0.0100951233108302"
      ],
      "text/markdown": [
       "0.0100951233108302"
      ],
      "text/plain": [
       "[1] 0.01009512"
      ]
     },
     "metadata": {},
     "output_type": "display_data"
    }
   ],
   "source": [
    "pt(t, 35, lower.tail = FALSE) * 2"
   ]
  },
  {
   "cell_type": "code",
   "execution_count": 30,
   "metadata": {
    "collapsed": true
   },
   "outputs": [],
   "source": [
    "t <- 1835 / (1176 / sqrt(10))"
   ]
  },
  {
   "cell_type": "code",
   "execution_count": 32,
   "metadata": {},
   "outputs": [
    {
     "data": {
      "text/html": [
       "0.000808506455402362"
      ],
      "text/latex": [
       "0.000808506455402362"
      ],
      "text/markdown": [
       "0.000808506455402362"
      ],
      "text/plain": [
       "[1] 0.0008085065"
      ]
     },
     "metadata": {},
     "output_type": "display_data"
    }
   ],
   "source": [
    "pt(t, 9, lower.tail = FALSE) * 2"
   ]
  },
  {
   "cell_type": "code",
   "execution_count": 38,
   "metadata": {},
   "outputs": [
    {
     "data": {
      "text/html": [
       "<ol class=list-inline>\n",
       "\t<li>3.01225846217478</li>\n",
       "\t<li>0.0146620858529181</li>\n",
       "</ol>\n"
      ],
      "text/latex": [
       "\\begin{enumerate*}\n",
       "\\item 3.01225846217478\n",
       "\\item 0.0146620858529181\n",
       "\\end{enumerate*}\n"
      ],
      "text/markdown": [
       "1. 3.01225846217478\n",
       "2. 0.0146620858529181\n",
       "\n",
       "\n"
      ],
      "text/plain": [
       "[1] 3.01225846 0.01466209"
      ]
     },
     "metadata": {},
     "output_type": "display_data"
    }
   ],
   "source": [
    "dx <- 218.75 - 160.29\n",
    "se <- sqrt(38.63^2 / 10 + 52.24^2 / 12)\n",
    "t <- dx / se\n",
    "c(t, pt(t, 9, lower.tail = FALSE) * 2)"
   ]
  },
  {
   "cell_type": "code",
   "execution_count": 40,
   "metadata": {},
   "outputs": [
    {
     "data": {
      "text/html": [
       "<ol class=list-inline>\n",
       "\t<li>2.24384515963443</li>\n",
       "\t<li>0.0357508226714153</li>\n",
       "</ol>\n"
      ],
      "text/latex": [
       "\\begin{enumerate*}\n",
       "\\item 2.24384515963443\n",
       "\\item 0.0357508226714153\n",
       "\\end{enumerate*}\n"
      ],
      "text/markdown": [
       "1. 2.24384515963443\n",
       "2. 0.0357508226714153\n",
       "\n",
       "\n"
      ],
      "text/plain": [
       "[1] 2.24384516 0.03575082"
      ]
     },
     "metadata": {},
     "output_type": "display_data"
    }
   ],
   "source": [
    "dx <- 52.1 - 27.1\n",
    "se <- sqrt(45.1^2 / 22 + 26.4^2 / 22)\n",
    "t <- dx / se\n",
    "c(t, pt(t, 21, lower.tail = FALSE) * 2)"
   ]
  },
  {
   "cell_type": "code",
   "execution_count": 45,
   "metadata": {
    "scrolled": true
   },
   "outputs": [
    {
     "data": {
      "text/html": [
       "<ol class=list-inline>\n",
       "\t<li>1.88908068063953</li>\n",
       "\t<li>1.34775064561379</li>\n",
       "\t<li>-1.40148427205885</li>\n",
       "</ol>\n"
      ],
      "text/latex": [
       "\\begin{enumerate*}\n",
       "\\item 1.88908068063953\n",
       "\\item 1.34775064561379\n",
       "\\item -1.40148427205885\n",
       "\\end{enumerate*}\n"
      ],
      "text/markdown": [
       "1. 1.88908068063953\n",
       "2. 1.34775064561379\n",
       "3. -1.40148427205885\n",
       "\n",
       "\n"
      ],
      "text/plain": [
       "[1]  1.889081  1.347751 -1.401484"
      ]
     },
     "metadata": {},
     "output_type": "display_data"
    },
    {
     "data": {
      "text/html": [
       "0.0406961805183439"
      ],
      "text/latex": [
       "0.0406961805183439"
      ],
      "text/markdown": [
       "0.0406961805183439"
      ],
      "text/plain": [
       "[1] 0.04069618"
      ]
     },
     "metadata": {},
     "output_type": "display_data"
    },
    {
     "data": {
      "text/html": [
       "0.100378639364917"
      ],
      "text/latex": [
       "0.100378639364917"
      ],
      "text/markdown": [
       "0.100378639364917"
      ],
      "text/plain": [
       "[1] 0.1003786"
      ]
     },
     "metadata": {},
     "output_type": "display_data"
    },
    {
     "data": {
      "text/html": [
       "0.907755112548869"
      ],
      "text/latex": [
       "0.907755112548869"
      ],
      "text/markdown": [
       "0.907755112548869"
      ],
      "text/plain": [
       "[1] 0.9077551"
      ]
     },
     "metadata": {},
     "output_type": "display_data"
    }
   ],
   "source": [
    "t1 <- 6.21 / (12.3 / sqrt(14))\n",
    "t2 <- 2.86 / (7.94 / sqrt(14))\n",
    "t3 <- -3.21 / (8.57 / sqrt(14))\n",
    "c(t1, t2, t3)\n",
    "pt(t1, 13, lower.tail = FALSE)\n",
    "pt(t2, 13, lower.tail = FALSE)\n",
    "pt(t3, 13, lower.tail = FALSE)"
   ]
  },
  {
   "cell_type": "code",
   "execution_count": 51,
   "metadata": {
    "scrolled": true
   },
   "outputs": [
    {
     "data": {
      "text/html": [
       "0.000339186064892928"
      ],
      "text/latex": [
       "0.000339186064892928"
      ],
      "text/markdown": [
       "0.000339186064892928"
      ],
      "text/plain": [
       "[1] 0.0003391861"
      ]
     },
     "metadata": {},
     "output_type": "display_data"
    }
   ],
   "source": [
    "pf(5.21334, 4, 50734, lower.tail = FALSE)"
   ]
  },
  {
   "cell_type": "code",
   "execution_count": 79,
   "metadata": {
    "collapsed": true
   },
   "outputs": [],
   "source": [
    "p_calc <- function(u1, u2, s_pooled, df){\n",
    "    dx <- u1 - u2\n",
    "    t <- dx / (sqrt(2) * s_pooled / sqrt(14))\n",
    "    p <- pt(t, df, lower.tail = FALSE) * 2\n",
    "    return(p)\n",
    "}"
   ]
  },
  {
   "cell_type": "code",
   "execution_count": 80,
   "metadata": {
    "scrolled": true
   },
   "outputs": [
    {
     "data": {
      "text/html": [
       "0.370990254619147"
      ],
      "text/latex": [
       "0.370990254619147"
      ],
      "text/markdown": [
       "0.370990254619147"
      ],
      "text/plain": [
       "[1] 0.3709903"
      ]
     },
     "metadata": {},
     "output_type": "display_data"
    },
    {
     "data": {
      "text/html": [
       "0.0149976319390607"
      ],
      "text/latex": [
       "0.0149976319390607"
      ],
      "text/markdown": [
       "0.0149976319390607"
      ],
      "text/plain": [
       "[1] 0.01499763"
      ]
     },
     "metadata": {},
     "output_type": "display_data"
    },
    {
     "data": {
      "text/html": [
       "0.10906494816541"
      ],
      "text/latex": [
       "0.10906494816541"
      ],
      "text/markdown": [
       "0.10906494816541"
      ],
      "text/plain": [
       "[1] 0.1090649"
      ]
     },
     "metadata": {},
     "output_type": "display_data"
    }
   ],
   "source": [
    "p_calc(6.21, 2.86, 9.793, 39)\n",
    "p_calc(6.21, -3.21, 9.793, 39)\n",
    "p_calc(2.86, -3.21, 9.793, 39)"
   ]
  },
  {
   "cell_type": "code",
   "execution_count": 65,
   "metadata": {},
   "outputs": [
    {
     "data": {
      "text/html": [
       "0.0149976319390607"
      ],
      "text/latex": [
       "0.0149976319390607"
      ],
      "text/markdown": [
       "0.0149976319390607"
      ],
      "text/plain": [
       "[1] 0.01499763"
      ]
     },
     "metadata": {},
     "output_type": "display_data"
    }
   ],
   "source": [
    "dx <- 6.21 + 3.21\n",
    "se <- sqrt(9.793^2 / 14 + 9.793^2/14)\n",
    "t <- dx / se\n",
    "pt(t, 39, lower.tail = FALSE) * 2"
   ]
  },
  {
   "cell_type": "code",
   "execution_count": 1,
   "metadata": {},
   "outputs": [
    {
     "data": {
      "text/html": [
       "0.311742603282856"
      ],
      "text/latex": [
       "0.311742603282856"
      ],
      "text/markdown": [
       "0.311742603282856"
      ],
      "text/plain": [
       "[1] 0.3117426"
      ]
     },
     "metadata": {},
     "output_type": "display_data"
    }
   ],
   "source": [
    "pt(0.5, 17, lower.tail = FALSE)"
   ]
  },
  {
   "cell_type": "code",
   "execution_count": 2,
   "metadata": {},
   "outputs": [
    {
     "data": {
      "text/html": [
       "0.0200048010978179"
      ],
      "text/latex": [
       "0.0200048010978179"
      ],
      "text/markdown": [
       "0.0200048010978179"
      ],
      "text/plain": [
       "[1] 0.0200048"
      ]
     },
     "metadata": {},
     "output_type": "display_data"
    }
   ],
   "source": [
    "2 * pt(2.485, 25, lower.tail = FALSE)"
   ]
  },
  {
   "cell_type": "code",
   "execution_count": 4,
   "metadata": {},
   "outputs": [
    {
     "data": {
      "text/html": [
       "1.86892599053077"
      ],
      "text/latex": [
       "1.86892599053077"
      ],
      "text/markdown": [
       "1.86892599053077"
      ],
      "text/plain": [
       "[1] 1.868926"
      ]
     },
     "metadata": {},
     "output_type": "display_data"
    }
   ],
   "source": [
    "75/40.13"
   ]
  },
  {
   "cell_type": "code",
   "execution_count": 7,
   "metadata": {},
   "outputs": [
    {
     "data": {
      "text/html": [
       "1.86915111890645"
      ],
      "text/latex": [
       "1.86915111890645"
      ],
      "text/markdown": [
       "1.86915111890645"
      ],
      "text/plain": [
       "[1] 1.869151"
      ]
     },
     "metadata": {},
     "output_type": "display_data"
    }
   ],
   "source": [
    "qf(0.0767, 7, 189, lower.tail = FALSE)"
   ]
  },
  {
   "cell_type": "code",
   "execution_count": 8,
   "metadata": {},
   "outputs": [
    {
     "data": {
      "text/html": [
       "1.02333876220058"
      ],
      "text/latex": [
       "1.02333876220058"
      ],
      "text/markdown": [
       "1.02333876220058"
      ],
      "text/plain": [
       "[1] 1.023339"
      ]
     },
     "metadata": {},
     "output_type": "display_data"
    }
   ],
   "source": [
    "sqrt(3.4^2 / 18 + 2.7^2 / 18)"
   ]
  },
  {
   "cell_type": "code",
   "execution_count": 9,
   "metadata": {},
   "outputs": [
    {
     "data": {
      "text/html": [
       "1.71088207990943"
      ],
      "text/latex": [
       "1.71088207990943"
      ],
      "text/markdown": [
       "1.71088207990943"
      ],
      "text/plain": [
       "[1] 1.710882"
      ]
     },
     "metadata": {},
     "output_type": "display_data"
    }
   ],
   "source": [
    "qt(0.05, 24, lower.tail = FALSE)"
   ]
  }
 ],
 "metadata": {
  "kernelspec": {
   "display_name": "R",
   "language": "R",
   "name": "ir"
  },
  "language_info": {
   "codemirror_mode": "r",
   "file_extension": ".r",
   "mimetype": "text/x-r-source",
   "name": "R",
   "pygments_lexer": "r",
   "version": "3.4.2"
  }
 },
 "nbformat": 4,
 "nbformat_minor": 2
}
