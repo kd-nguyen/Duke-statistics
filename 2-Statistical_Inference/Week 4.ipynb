{
 "cells": [
  {
   "cell_type": "code",
   "execution_count": 1,
   "metadata": {},
   "outputs": [
    {
     "data": {
      "text/html": [
       "0.0120058579451866"
      ],
      "text/latex": [
       "0.0120058579451866"
      ],
      "text/markdown": [
       "0.0120058579451866"
      ],
      "text/plain": [
       "[1] 0.01200586"
      ]
     },
     "metadata": {},
     "output_type": "display_data"
    }
   ],
   "source": [
    "sqrt(0.82 * (1 - 0.82) / 1024)"
   ]
  },
  {
   "cell_type": "code",
   "execution_count": 4,
   "metadata": {},
   "outputs": [
    {
     "data": {
      "text/html": [
       "5.96664183106537e-05"
      ],
      "text/latex": [
       "5.96664183106537e-05"
      ],
      "text/markdown": [
       "5.96664183106537e-05"
      ],
      "text/plain": [
       "[1] 5.966642e-05"
      ]
     },
     "metadata": {},
     "output_type": "display_data"
    }
   ],
   "source": [
    "pnorm(0.06 / sqrt(0.5 ^ 2 / 1028), lower.tail = FALSE)"
   ]
  },
  {
   "cell_type": "code",
   "execution_count": 6,
   "metadata": {
    "scrolled": true
   },
   "outputs": [
    {
     "data": {
      "text/html": [
       "6.33455929801192e-05"
      ],
      "text/latex": [
       "6.33455929801192e-05"
      ],
      "text/markdown": [
       "6.33455929801192e-05"
      ],
      "text/plain": [
       "[1] 6.334559e-05"
      ]
     },
     "metadata": {},
     "output_type": "display_data"
    }
   ],
   "source": [
    "pt(0.06 / sqrt(0.5 ^ 2 / 1028), 1027, lower.tail = FALSE)"
   ]
  },
  {
   "cell_type": "code",
   "execution_count": 15,
   "metadata": {
    "scrolled": true
   },
   "outputs": [
    {
     "data": {
      "text/html": [
       "7.86200947259478e-24"
      ],
      "text/latex": [
       "7.86200947259478e-24"
      ],
      "text/markdown": [
       "7.86200947259478e-24"
      ],
      "text/plain": [
       "[1] 7.862009e-24"
      ]
     },
     "metadata": {},
     "output_type": "display_data"
    }
   ],
   "source": [
    "pchisq(106.4, 2, lower.tail = FALSE)"
   ]
  },
  {
   "cell_type": "code",
   "execution_count": 16,
   "metadata": {
    "collapsed": true
   },
   "outputs": [],
   "source": [
    "se <- function(p, n){\n",
    "    return(sqrt(p * (1 - p) / n))\n",
    "}"
   ]
  },
  {
   "cell_type": "code",
   "execution_count": 26,
   "metadata": {
    "collapsed": true
   },
   "outputs": [],
   "source": [
    "p2 <- function(p, p0, n){\n",
    "    z <- (p - p0) / se(p0, n)\n",
    "    pv <- pnorm(z)\n",
    "    if (pv <= 0) {\n",
    "        return(2 * abs(pv))\n",
    "    } else {\n",
    "        return(2 * (1 - pv))\n",
    "    }\n",
    "}"
   ]
  },
  {
   "cell_type": "code",
   "execution_count": 29,
   "metadata": {
    "collapsed": true
   },
   "outputs": [],
   "source": [
    "p1 <- function(p, p0, n){\n",
    "    z <- (p - p0) / se(p0, n)\n",
    "    pv <- pnorm(z)\n",
    "    if (pv <= 0) {\n",
    "        return(abs(pv))\n",
    "    } else {\n",
    "        return(1 - pv)\n",
    "    }\n",
    "}"
   ]
  },
  {
   "cell_type": "code",
   "execution_count": 31,
   "metadata": {},
   "outputs": [],
   "source": [
    "pint <- function(p, n, confidence){\n",
    "    z <- qnorm(confidence + (1 - confidence) / 2)\n",
    "    return(c(p - z * se(p, n), p + z * se(p, n)))\n",
    "}"
   ]
  },
  {
   "cell_type": "code",
   "execution_count": 32,
   "metadata": {
    "scrolled": true
   },
   "outputs": [
    {
     "data": {
      "text/html": [
       "<ol class=list-inline>\n",
       "\t<li>0.837042869033375</li>\n",
       "\t<li>0.902957130966625</li>\n",
       "</ol>\n"
      ],
      "text/latex": [
       "\\begin{enumerate*}\n",
       "\\item 0.837042869033375\n",
       "\\item 0.902957130966625\n",
       "\\end{enumerate*}\n"
      ],
      "text/markdown": [
       "1. 0.837042869033375\n",
       "2. 0.902957130966625\n",
       "\n",
       "\n"
      ],
      "text/plain": [
       "[1] 0.8370429 0.9029571"
      ]
     },
     "metadata": {},
     "output_type": "display_data"
    }
   ],
   "source": [
    "pint(348/400, 400, 0.95)"
   ]
  },
  {
   "cell_type": "code",
   "execution_count": 33,
   "metadata": {},
   "outputs": [
    {
     "data": {
      "text/html": [
       "<ol class=list-inline>\n",
       "\t<li>0.826686987937356</li>\n",
       "\t<li>0.913313012062644</li>\n",
       "</ol>\n"
      ],
      "text/latex": [
       "\\begin{enumerate*}\n",
       "\\item 0.826686987937356\n",
       "\\item 0.913313012062644\n",
       "\\end{enumerate*}\n"
      ],
      "text/markdown": [
       "1. 0.826686987937356\n",
       "2. 0.913313012062644\n",
       "\n",
       "\n"
      ],
      "text/plain": [
       "[1] 0.826687 0.913313"
      ]
     },
     "metadata": {},
     "output_type": "display_data"
    }
   ],
   "source": [
    "pint(348/400, 400, 0.99)"
   ]
  },
  {
   "cell_type": "code",
   "execution_count": 34,
   "metadata": {},
   "outputs": [
    {
     "data": {
      "text/html": [
       "<ol class=list-inline>\n",
       "\t<li>0.528934574369744</li>\n",
       "\t<li>0.571065425630256</li>\n",
       "</ol>\n"
      ],
      "text/latex": [
       "\\begin{enumerate*}\n",
       "\\item 0.528934574369744\n",
       "\\item 0.571065425630256\n",
       "\\end{enumerate*}\n"
      ],
      "text/markdown": [
       "1. 0.528934574369744\n",
       "2. 0.571065425630256\n",
       "\n",
       "\n"
      ],
      "text/plain": [
       "[1] 0.5289346 0.5710654"
      ]
     },
     "metadata": {},
     "output_type": "display_data"
    }
   ],
   "source": [
    "pint(0.55, 1509, 0.90)"
   ]
  }
 ],
 "metadata": {
  "kernelspec": {
   "display_name": "R",
   "language": "R",
   "name": "ir"
  },
  "language_info": {
   "codemirror_mode": "r",
   "file_extension": ".r",
   "mimetype": "text/x-r-source",
   "name": "R",
   "pygments_lexer": "r",
   "version": "3.4.2"
  }
 },
 "nbformat": 4,
 "nbformat_minor": 2
}
