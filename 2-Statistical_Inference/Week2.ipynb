{
 "cells": [
  {
   "cell_type": "code",
   "execution_count": 4,
   "metadata": {},
   "outputs": [
    {
     "data": {
      "text/html": [
       "0.0682025981270035"
      ],
      "text/latex": [
       "0.0682025981270035"
      ],
      "text/markdown": [
       "0.0682025981270035"
      ],
      "text/plain": [
       "[1] 0.0682026"
      ]
     },
     "metadata": {},
     "output_type": "display_data"
    }
   ],
   "source": [
    "pnorm((30.69 - 32) * 6 / 4.31) * 2"
   ]
  },
  {
   "cell_type": "code",
   "execution_count": 5,
   "metadata": {
    "scrolled": true
   },
   "outputs": [
    {
     "data": {
      "text/html": [
       "553.1904"
      ],
      "text/latex": [
       "553.1904"
      ],
      "text/markdown": [
       "553.1904"
      ],
      "text/plain": [
       "[1] 553.1904"
      ]
     },
     "metadata": {},
     "output_type": "display_data"
    }
   ],
   "source": [
    "(300 / (25 / 1.96))^2"
   ]
  },
  {
   "cell_type": "code",
   "execution_count": 9,
   "metadata": {},
   "outputs": [
    {
     "data": {
      "text/html": [
       "0.163916713380565"
      ],
      "text/latex": [
       "0.163916713380565"
      ],
      "text/markdown": [
       "0.163916713380565"
      ],
      "text/plain": [
       "[1] 0.1639167"
      ]
     },
     "metadata": {},
     "output_type": "display_data"
    }
   ],
   "source": [
    "pnorm(4 / (17 / sqrt(35)), lower.tail = FALSE) * 2"
   ]
  }
 ],
 "metadata": {
  "kernelspec": {
   "display_name": "R",
   "language": "R",
   "name": "ir"
  },
  "language_info": {
   "codemirror_mode": "r",
   "file_extension": ".r",
   "mimetype": "text/x-r-source",
   "name": "R",
   "pygments_lexer": "r",
   "version": "3.4.2"
  }
 },
 "nbformat": 4,
 "nbformat_minor": 2
}
