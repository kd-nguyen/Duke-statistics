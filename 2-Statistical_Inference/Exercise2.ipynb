{
 "cells": [
  {
   "cell_type": "code",
   "execution_count": 1,
   "metadata": {
    "collapsed": true
   },
   "outputs": [],
   "source": [
    "set.seed(9102015)"
   ]
  },
  {
   "cell_type": "code",
   "execution_count": 9,
   "metadata": {},
   "outputs": [
    {
     "name": "stderr",
     "output_type": "stream",
     "text": [
      "Loading tidyverse: ggplot2\n",
      "Loading tidyverse: tibble\n",
      "Loading tidyverse: tidyr\n",
      "Loading tidyverse: readr\n",
      "Loading tidyverse: purrr\n",
      "Warning message:\n",
      "\"package 'tidyr' was built under R version 3.4.3\"Conflicts with tidy packages ---------------------------------------------------\n",
      "filter(): dplyr, stats\n",
      "lag():    dplyr, stats\n"
     ]
    }
   ],
   "source": [
    "library(tidyverse)"
   ]
  },
  {
   "cell_type": "code",
   "execution_count": 3,
   "metadata": {
    "collapsed": true
   },
   "outputs": [],
   "source": [
    "library(statsr)"
   ]
  },
  {
   "cell_type": "code",
   "execution_count": 4,
   "metadata": {
    "collapsed": true
   },
   "outputs": [],
   "source": [
    "data(ames)"
   ]
  },
  {
   "cell_type": "code",
   "execution_count": 11,
   "metadata": {
    "collapsed": true
   },
   "outputs": [],
   "source": [
    "n <- 60\n",
    "samp <- sample_n(ames, n)"
   ]
  },
  {
   "cell_type": "code",
   "execution_count": 17,
   "metadata": {
    "scrolled": true
   },
   "outputs": [
    {
     "data": {
      "text/plain": [
       "   Min. 1st Qu.  Median    Mean 3rd Qu.    Max. \n",
       "    572    1124    1448    1500    1687    3493 "
      ]
     },
     "metadata": {},
     "output_type": "display_data"
    }
   ],
   "source": [
    "summary(samp$area)"
   ]
  },
  {
   "cell_type": "code",
   "execution_count": 12,
   "metadata": {
    "scrolled": true
   },
   "outputs": [
    {
     "data": {},
     "metadata": {},
     "output_type": "display_data"
    },
    {
     "data": {
      "image/png": "[encoded data removed]",
      "text/plain": [
       "plot without title"
      ]
     },
     "metadata": {},
     "output_type": "display_data"
    }
   ],
   "source": [
    "samp %>%\n",
    "ggplot(aes(area)) +\n",
    "geom_histogram(bins = 30)"
   ]
  },
  {
   "cell_type": "code",
   "execution_count": 14,
   "metadata": {},
   "outputs": [
    {
     "data": {
      "text/html": [
       "1.95996398454005"
      ],
      "text/latex": [
       "1.95996398454005"
      ],
      "text/markdown": [
       "1.95996398454005"
      ],
      "text/plain": [
       "[1] 1.959964"
      ]
     },
     "metadata": {},
     "output_type": "display_data"
    }
   ],
   "source": [
    "z_star_95 <- qnorm(0.975)\n",
    "z_star_95"
   ]
  },
  {
   "cell_type": "code",
   "execution_count": 18,
   "metadata": {},
   "outputs": [],
   "source": [
    "confidence_interval <- samp %>%\n",
    "summarize(lower = mean(area) - z_star_95 * sd(area) / sqrt(n),\n",
    "          upper = mean(area) + z_star_95 * sd(area) / sqrt(n))"
   ]
  },
  {
   "cell_type": "code",
   "execution_count": 23,
   "metadata": {},
   "outputs": [
    {
     "data": {
      "text/html": [
       "<table>\n",
       "<thead><tr><th scope=col>lower</th><th scope=col>upper</th></tr></thead>\n",
       "<tbody>\n",
       "\t<tr><td>1369.875</td><td>1630.492</td></tr>\n",
       "</tbody>\n",
       "</table>\n"
      ],
      "text/latex": [
       "\\begin{tabular}{r|ll}\n",
       " lower & upper\\\\\n",
       "\\hline\n",
       "\t 1369.875 & 1630.492\\\\\n",
       "\\end{tabular}\n"
      ],
      "text/markdown": [
       "\n",
       "lower | upper | \n",
       "|---|\n",
       "| 1369.875 | 1630.492 | \n",
       "\n",
       "\n"
      ],
      "text/plain": [
       "  lower    upper   \n",
       "1 1369.875 1630.492"
      ]
     },
     "metadata": {},
     "output_type": "display_data"
    }
   ],
   "source": [
    "confidence_interval"
   ]
  },
  {
   "cell_type": "code",
   "execution_count": 21,
   "metadata": {},
   "outputs": [
    {
     "data": {
      "text/html": [
       "1500.18333333333"
      ],
      "text/latex": [
       "1500.18333333333"
      ],
      "text/markdown": [
       "1500.18333333333"
      ],
      "text/plain": [
       "[1] 1500.183"
      ]
     },
     "metadata": {},
     "output_type": "display_data"
    }
   ],
   "source": [
    "with(confidence_interval, (lower + upper) / 2)"
   ]
  },
  {
   "cell_type": "code",
   "execution_count": 22,
   "metadata": {},
   "outputs": [
    {
     "data": {
      "text/html": [
       "<table>\n",
       "<thead><tr><th scope=col>mu</th></tr></thead>\n",
       "<tbody>\n",
       "\t<tr><td>1499.69</td></tr>\n",
       "</tbody>\n",
       "</table>\n"
      ],
      "text/latex": [
       "\\begin{tabular}{r|l}\n",
       " mu\\\\\n",
       "\\hline\n",
       "\t 1499.69\\\\\n",
       "\\end{tabular}\n"
      ],
      "text/markdown": [
       "\n",
       "mu | \n",
       "|---|\n",
       "| 1499.69 | \n",
       "\n",
       "\n"
      ],
      "text/plain": [
       "  mu     \n",
       "1 1499.69"
      ]
     },
     "metadata": {},
     "output_type": "display_data"
    }
   ],
   "source": [
    "params <- ames %>%\n",
    "summarize(mu = mean(area))\n",
    "params"
   ]
  },
  {
   "cell_type": "code",
   "execution_count": 47,
   "metadata": {},
   "outputs": [
    {
     "data": {},
     "metadata": {},
     "output_type": "display_data"
    },
    {
     "data": {
      "image/png": "[encoded data removed]",
      "text/plain": [
       "plot without title"
      ]
     },
     "metadata": {},
     "output_type": "display_data"
    }
   ],
   "source": [
    "ci <- ames %>%\n",
    "rep_sample_n(size = n, reps = 50, replace = TRUE) %>%\n",
    "summarize(lower = mean(area) - z_star_95 * sd(area) / sqrt(n),\n",
    "          upper = mean(area) + z_star_95 * sd(area) / sqrt(n))\n",
    "\n",
    "ci <- ci %>%\n",
    "mutate(capture_mu = ifelse(lower < params$mu & upper > params$mu, 'yes', 'no'))\n",
    "\n",
    "melt(ci, id = c('replicate', 'capture_mu')) %>%\n",
    "ggplot(aes(value, replicate, group = replicate, color = capture_mu)) +\n",
    "geom_point(size = 2) +\n",
    "geom_line() +\n",
    "geom_vline(xintercept = params$mu, color = 'darkgray')"
   ]
  },
  {
   "cell_type": "code",
   "execution_count": 72,
   "metadata": {},
   "outputs": [
    {
     "data": {
      "text/html": [
       "<table>\n",
       "<thead><tr><th scope=col>replicate</th><th scope=col>lower</th><th scope=col>upper</th></tr></thead>\n",
       "<tbody>\n",
       "\t<tr><td> 1      </td><td>1399.407</td><td>1639.160</td></tr>\n",
       "\t<tr><td> 2      </td><td>1352.588</td><td>1597.478</td></tr>\n",
       "\t<tr><td> 3      </td><td>1358.878</td><td>1557.089</td></tr>\n",
       "\t<tr><td> 4      </td><td>1371.396</td><td>1569.137</td></tr>\n",
       "\t<tr><td> 5      </td><td>1301.305</td><td>1534.262</td></tr>\n",
       "\t<tr><td> 6      </td><td>1453.425</td><td>1745.642</td></tr>\n",
       "\t<tr><td> 7      </td><td>1481.979</td><td>1771.054</td></tr>\n",
       "\t<tr><td> 8      </td><td>1345.153</td><td>1585.714</td></tr>\n",
       "\t<tr><td> 9      </td><td>1373.116</td><td>1612.551</td></tr>\n",
       "\t<tr><td>10      </td><td>1423.443</td><td>1723.290</td></tr>\n",
       "\t<tr><td>11      </td><td>1353.290</td><td>1620.743</td></tr>\n",
       "\t<tr><td>12      </td><td>1388.682</td><td>1773.985</td></tr>\n",
       "\t<tr><td>13      </td><td>1464.372</td><td>1733.461</td></tr>\n",
       "\t<tr><td>14      </td><td>1319.083</td><td>1526.751</td></tr>\n",
       "\t<tr><td>15      </td><td>1427.610</td><td>1668.456</td></tr>\n",
       "\t<tr><td>16      </td><td>1396.856</td><td>1664.644</td></tr>\n",
       "\t<tr><td>17      </td><td>1364.187</td><td>1601.380</td></tr>\n",
       "\t<tr><td>18      </td><td>1303.098</td><td>1575.902</td></tr>\n",
       "\t<tr><td>19      </td><td>1424.161</td><td>1655.106</td></tr>\n",
       "\t<tr><td>20      </td><td>1271.649</td><td>1463.951</td></tr>\n",
       "\t<tr><td>21      </td><td>1360.731</td><td>1612.703</td></tr>\n",
       "\t<tr><td>22      </td><td>1269.915</td><td>1497.085</td></tr>\n",
       "\t<tr><td>23      </td><td>1354.101</td><td>1597.699</td></tr>\n",
       "\t<tr><td>24      </td><td>1320.894</td><td>1565.439</td></tr>\n",
       "\t<tr><td>25      </td><td>1405.595</td><td>1716.871</td></tr>\n",
       "\t<tr><td>26      </td><td>1262.802</td><td>1440.865</td></tr>\n",
       "\t<tr><td>27      </td><td>1503.610</td><td>1778.724</td></tr>\n",
       "\t<tr><td>28      </td><td>1308.476</td><td>1545.157</td></tr>\n",
       "\t<tr><td>29      </td><td>1469.835</td><td>1745.965</td></tr>\n",
       "\t<tr><td>30      </td><td>1281.572</td><td>1493.328</td></tr>\n",
       "\t<tr><td>31      </td><td>1314.260</td><td>1553.740</td></tr>\n",
       "\t<tr><td>32      </td><td>1348.737</td><td>1632.330</td></tr>\n",
       "\t<tr><td>33      </td><td>1352.005</td><td>1570.262</td></tr>\n",
       "\t<tr><td>34      </td><td>1441.330</td><td>1702.604</td></tr>\n",
       "\t<tr><td>35      </td><td>1440.935</td><td>1692.965</td></tr>\n",
       "\t<tr><td>36      </td><td>1394.614</td><td>1662.319</td></tr>\n",
       "\t<tr><td>37      </td><td>1329.100</td><td>1554.300</td></tr>\n",
       "\t<tr><td>38      </td><td>1382.518</td><td>1622.015</td></tr>\n",
       "\t<tr><td>39      </td><td>1507.439</td><td>1818.461</td></tr>\n",
       "\t<tr><td>40      </td><td>1387.359</td><td>1626.974</td></tr>\n",
       "\t<tr><td>41      </td><td>1402.186</td><td>1774.147</td></tr>\n",
       "\t<tr><td>42      </td><td>1316.386</td><td>1548.314</td></tr>\n",
       "\t<tr><td>43      </td><td>1367.316</td><td>1572.484</td></tr>\n",
       "\t<tr><td>44      </td><td>1423.177</td><td>1664.123</td></tr>\n",
       "\t<tr><td>45      </td><td>1363.765</td><td>1683.602</td></tr>\n",
       "\t<tr><td>46      </td><td>1308.417</td><td>1505.950</td></tr>\n",
       "\t<tr><td>47      </td><td>1416.142</td><td>1677.325</td></tr>\n",
       "\t<tr><td>48      </td><td>1400.258</td><td>1651.609</td></tr>\n",
       "\t<tr><td>49      </td><td>1386.168</td><td>1653.065</td></tr>\n",
       "\t<tr><td>50      </td><td>1344.210</td><td>1628.557</td></tr>\n",
       "</tbody>\n",
       "</table>\n"
      ],
      "text/latex": [
       "\\begin{tabular}{r|lll}\n",
       " replicate & lower & upper\\\\\n",
       "\\hline\n",
       "\t  1       & 1399.407 & 1639.160\\\\\n",
       "\t  2       & 1352.588 & 1597.478\\\\\n",
       "\t  3       & 1358.878 & 1557.089\\\\\n",
       "\t  4       & 1371.396 & 1569.137\\\\\n",
       "\t  5       & 1301.305 & 1534.262\\\\\n",
       "\t  6       & 1453.425 & 1745.642\\\\\n",
       "\t  7       & 1481.979 & 1771.054\\\\\n",
       "\t  8       & 1345.153 & 1585.714\\\\\n",
       "\t  9       & 1373.116 & 1612.551\\\\\n",
       "\t 10       & 1423.443 & 1723.290\\\\\n",
       "\t 11       & 1353.290 & 1620.743\\\\\n",
       "\t 12       & 1388.682 & 1773.985\\\\\n",
       "\t 13       & 1464.372 & 1733.461\\\\\n",
       "\t 14       & 1319.083 & 1526.751\\\\\n",
       "\t 15       & 1427.610 & 1668.456\\\\\n",
       "\t 16       & 1396.856 & 1664.644\\\\\n",
       "\t 17       & 1364.187 & 1601.380\\\\\n",
       "\t 18       & 1303.098 & 1575.902\\\\\n",
       "\t 19       & 1424.161 & 1655.106\\\\\n",
       "\t 20       & 1271.649 & 1463.951\\\\\n",
       "\t 21       & 1360.731 & 1612.703\\\\\n",
       "\t 22       & 1269.915 & 1497.085\\\\\n",
       "\t 23       & 1354.101 & 1597.699\\\\\n",
       "\t 24       & 1320.894 & 1565.439\\\\\n",
       "\t 25       & 1405.595 & 1716.871\\\\\n",
       "\t 26       & 1262.802 & 1440.865\\\\\n",
       "\t 27       & 1503.610 & 1778.724\\\\\n",
       "\t 28       & 1308.476 & 1545.157\\\\\n",
       "\t 29       & 1469.835 & 1745.965\\\\\n",
       "\t 30       & 1281.572 & 1493.328\\\\\n",
       "\t 31       & 1314.260 & 1553.740\\\\\n",
       "\t 32       & 1348.737 & 1632.330\\\\\n",
       "\t 33       & 1352.005 & 1570.262\\\\\n",
       "\t 34       & 1441.330 & 1702.604\\\\\n",
       "\t 35       & 1440.935 & 1692.965\\\\\n",
       "\t 36       & 1394.614 & 1662.319\\\\\n",
       "\t 37       & 1329.100 & 1554.300\\\\\n",
       "\t 38       & 1382.518 & 1622.015\\\\\n",
       "\t 39       & 1507.439 & 1818.461\\\\\n",
       "\t 40       & 1387.359 & 1626.974\\\\\n",
       "\t 41       & 1402.186 & 1774.147\\\\\n",
       "\t 42       & 1316.386 & 1548.314\\\\\n",
       "\t 43       & 1367.316 & 1572.484\\\\\n",
       "\t 44       & 1423.177 & 1664.123\\\\\n",
       "\t 45       & 1363.765 & 1683.602\\\\\n",
       "\t 46       & 1308.417 & 1505.950\\\\\n",
       "\t 47       & 1416.142 & 1677.325\\\\\n",
       "\t 48       & 1400.258 & 1651.609\\\\\n",
       "\t 49       & 1386.168 & 1653.065\\\\\n",
       "\t 50       & 1344.210 & 1628.557\\\\\n",
       "\\end{tabular}\n"
      ],
      "text/markdown": [
       "\n",
       "replicate | lower | upper | \n",
       "|---|---|---|---|---|---|---|---|---|---|---|---|---|---|---|---|---|---|---|---|---|---|---|---|---|---|---|---|---|---|---|---|---|---|---|---|---|---|---|---|---|---|---|---|---|---|---|---|---|---|\n",
       "|  1       | 1399.407 | 1639.160 | \n",
       "|  2       | 1352.588 | 1597.478 | \n",
       "|  3       | 1358.878 | 1557.089 | \n",
       "|  4       | 1371.396 | 1569.137 | \n",
       "|  5       | 1301.305 | 1534.262 | \n",
       "|  6       | 1453.425 | 1745.642 | \n",
       "|  7       | 1481.979 | 1771.054 | \n",
       "|  8       | 1345.153 | 1585.714 | \n",
       "|  9       | 1373.116 | 1612.551 | \n",
       "| 10       | 1423.443 | 1723.290 | \n",
       "| 11       | 1353.290 | 1620.743 | \n",
       "| 12       | 1388.682 | 1773.985 | \n",
       "| 13       | 1464.372 | 1733.461 | \n",
       "| 14       | 1319.083 | 1526.751 | \n",
       "| 15       | 1427.610 | 1668.456 | \n",
       "| 16       | 1396.856 | 1664.644 | \n",
       "| 17       | 1364.187 | 1601.380 | \n",
       "| 18       | 1303.098 | 1575.902 | \n",
       "| 19       | 1424.161 | 1655.106 | \n",
       "| 20       | 1271.649 | 1463.951 | \n",
       "| 21       | 1360.731 | 1612.703 | \n",
       "| 22       | 1269.915 | 1497.085 | \n",
       "| 23       | 1354.101 | 1597.699 | \n",
       "| 24       | 1320.894 | 1565.439 | \n",
       "| 25       | 1405.595 | 1716.871 | \n",
       "| 26       | 1262.802 | 1440.865 | \n",
       "| 27       | 1503.610 | 1778.724 | \n",
       "| 28       | 1308.476 | 1545.157 | \n",
       "| 29       | 1469.835 | 1745.965 | \n",
       "| 30       | 1281.572 | 1493.328 | \n",
       "| 31       | 1314.260 | 1553.740 | \n",
       "| 32       | 1348.737 | 1632.330 | \n",
       "| 33       | 1352.005 | 1570.262 | \n",
       "| 34       | 1441.330 | 1702.604 | \n",
       "| 35       | 1440.935 | 1692.965 | \n",
       "| 36       | 1394.614 | 1662.319 | \n",
       "| 37       | 1329.100 | 1554.300 | \n",
       "| 38       | 1382.518 | 1622.015 | \n",
       "| 39       | 1507.439 | 1818.461 | \n",
       "| 40       | 1387.359 | 1626.974 | \n",
       "| 41       | 1402.186 | 1774.147 | \n",
       "| 42       | 1316.386 | 1548.314 | \n",
       "| 43       | 1367.316 | 1572.484 | \n",
       "| 44       | 1423.177 | 1664.123 | \n",
       "| 45       | 1363.765 | 1683.602 | \n",
       "| 46       | 1308.417 | 1505.950 | \n",
       "| 47       | 1416.142 | 1677.325 | \n",
       "| 48       | 1400.258 | 1651.609 | \n",
       "| 49       | 1386.168 | 1653.065 | \n",
       "| 50       | 1344.210 | 1628.557 | \n",
       "\n",
       "\n"
      ],
      "text/plain": [
       "   replicate lower    upper   \n",
       "1   1        1399.407 1639.160\n",
       "2   2        1352.588 1597.478\n",
       "3   3        1358.878 1557.089\n",
       "4   4        1371.396 1569.137\n",
       "5   5        1301.305 1534.262\n",
       "6   6        1453.425 1745.642\n",
       "7   7        1481.979 1771.054\n",
       "8   8        1345.153 1585.714\n",
       "9   9        1373.116 1612.551\n",
       "10 10        1423.443 1723.290\n",
       "11 11        1353.290 1620.743\n",
       "12 12        1388.682 1773.985\n",
       "13 13        1464.372 1733.461\n",
       "14 14        1319.083 1526.751\n",
       "15 15        1427.610 1668.456\n",
       "16 16        1396.856 1664.644\n",
       "17 17        1364.187 1601.380\n",
       "18 18        1303.098 1575.902\n",
       "19 19        1424.161 1655.106\n",
       "20 20        1271.649 1463.951\n",
       "21 21        1360.731 1612.703\n",
       "22 22        1269.915 1497.085\n",
       "23 23        1354.101 1597.699\n",
       "24 24        1320.894 1565.439\n",
       "25 25        1405.595 1716.871\n",
       "26 26        1262.802 1440.865\n",
       "27 27        1503.610 1778.724\n",
       "28 28        1308.476 1545.157\n",
       "29 29        1469.835 1745.965\n",
       "30 30        1281.572 1493.328\n",
       "31 31        1314.260 1553.740\n",
       "32 32        1348.737 1632.330\n",
       "33 33        1352.005 1570.262\n",
       "34 34        1441.330 1702.604\n",
       "35 35        1440.935 1692.965\n",
       "36 36        1394.614 1662.319\n",
       "37 37        1329.100 1554.300\n",
       "38 38        1382.518 1622.015\n",
       "39 39        1507.439 1818.461\n",
       "40 40        1387.359 1626.974\n",
       "41 41        1402.186 1774.147\n",
       "42 42        1316.386 1548.314\n",
       "43 43        1367.316 1572.484\n",
       "44 44        1423.177 1664.123\n",
       "45 45        1363.765 1683.602\n",
       "46 46        1308.417 1505.950\n",
       "47 47        1416.142 1677.325\n",
       "48 48        1400.258 1651.609\n",
       "49 49        1386.168 1653.065\n",
       "50 50        1344.210 1628.557"
      ]
     },
     "metadata": {},
     "output_type": "display_data"
    }
   ],
   "source": [
    "ames %>%\n",
    "rep_sample_n(size = n, reps = 50, replace = TRUE) %>%\n",
    "summarize(lower = mean(area) - z_star_95 * sd(area) / sqrt(n),\n",
    "          upper = mean(area) + z_star_95 * sd(area) / sqrt(n))"
   ]
  },
  {
   "cell_type": "code",
   "execution_count": 88,
   "metadata": {},
   "outputs": [
    {
     "data": {},
     "metadata": {},
     "output_type": "display_data"
    },
    {
     "data": {
      "image/png": "[encoded data removed]",
      "text/plain": [
       "plot without title"
      ]
     },
     "metadata": {},
     "output_type": "display_data"
    }
   ],
   "source": [
    "ci <- ames %>%\n",
    "rep_sample_n(size = n, reps = 50, replace = TRUE) %>%\n",
    "summarize(lower = mean(area) - z_star_95 * sd(area) / sqrt(n),\n",
    "          upper = mean(area) + z_star_95 * sd(area) / sqrt(n))\n",
    "\n",
    "ci <- ci %>%\n",
    "mutate(capture_mu = ifelse(lower < params$mu & upper > params$mu, 'yes', 'no'))\n",
    "\n",
    "melt(ci, id = c('replicate', 'capture_mu')) %>%\n",
    "ggplot(aes(value, replicate, group = replicate, color = capture_mu)) +\n",
    "geom_point(size = 2) +\n",
    "geom_line() +\n",
    "geom_vline(xintercept = params$mu, color = 'darkgray')"
   ]
  },
  {
   "cell_type": "code",
   "execution_count": 89,
   "metadata": {
    "scrolled": true
   },
   "outputs": [
    {
     "data": {},
     "metadata": {},
     "output_type": "display_data"
    },
    {
     "data": {
      "image/png": "[encoded data removed]",
      "text/plain": [
       "plot without title"
      ]
     },
     "metadata": {},
     "output_type": "display_data"
    }
   ],
   "source": [
    "ci2 <- ci %>%\n",
    "mutate(mean = (lower + upper) / 2,\n",
    "      lower_99 = mean - (mean - lower) * z_star_99 / z_star_95,\n",
    "      upper_99 = mean + (upper - mean) * z_star_99 / z_star_95,\n",
    "      capture_99 = ifelse(lower_99 < params$mu & upper_99 > params$mu, 'yes', 'no'))\n",
    "\n",
    "melt(ci2, id = c('replicate', 'capture_mu', 'capture_99')) %>%\n",
    "ggplot(aes(value, replicate, group = replicate, color = capture_99)) +\n",
    "geom_point(size = 2) +\n",
    "geom_line() +\n",
    "geom_vline(xintercept = params$mu, color = 'darkgray')"
   ]
  }
 ],
 "metadata": {
  "kernelspec": {
   "display_name": "R",
   "language": "R",
   "name": "ir"
  },
  "language_info": {
   "codemirror_mode": "r",
   "file_extension": ".r",
   "mimetype": "text/x-r-source",
   "name": "R",
   "pygments_lexer": "r",
   "version": "3.4.2"
  }
 },
 "nbformat": 4,
 "nbformat_minor": 2
}
