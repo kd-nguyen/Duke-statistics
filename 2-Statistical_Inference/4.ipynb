{
 "cells": [
  {
   "cell_type": "code",
   "execution_count": 2,
   "metadata": {
    "scrolled": true
   },
   "outputs": [
    {
     "data": {
      "text/html": [
       "-2.32634787404084"
      ],
      "text/latex": [
       "-2.32634787404084"
      ],
      "text/markdown": [
       "-2.32634787404084"
      ],
      "text/plain": [
       "[1] -2.326348"
      ]
     },
     "metadata": {},
     "output_type": "display_data"
    }
   ],
   "source": [
    "qnorm(0.01)"
   ]
  },
  {
   "cell_type": "code",
   "execution_count": 5,
   "metadata": {},
   "outputs": [
    {
     "data": {
      "text/html": [
       "31.8715531886935"
      ],
      "text/latex": [
       "31.8715531886935"
      ],
      "text/markdown": [
       "31.8715531886935"
      ],
      "text/plain": [
       "[1] 31.87155"
      ]
     },
     "metadata": {},
     "output_type": "display_data"
    }
   ],
   "source": [
    "-qnorm(0.05) * 4.31/ 6 + 30.69"
   ]
  },
  {
   "cell_type": "code",
   "execution_count": 1,
   "metadata": {},
   "outputs": [
    {
     "data": {
      "text/html": [
       "-1.64485362695147"
      ],
      "text/latex": [
       "-1.64485362695147"
      ],
      "text/markdown": [
       "-1.64485362695147"
      ],
      "text/plain": [
       "[1] -1.644854"
      ]
     },
     "metadata": {},
     "output_type": "display_data"
    }
   ],
   "source": [
    "qnorm(0.05)"
   ]
  },
  {
   "cell_type": "code",
   "execution_count": 5,
   "metadata": {},
   "outputs": [
    {
     "data": {
      "text/html": [
       "0.0836302752271898"
      ],
      "text/latex": [
       "0.0836302752271898"
      ],
      "text/markdown": [
       "0.0836302752271898"
      ],
      "text/plain": [
       "[1] 0.08363028"
      ]
     },
     "metadata": {},
     "output_type": "display_data"
    }
   ],
   "source": [
    "(1 - pnorm(1.73))*2"
   ]
  },
  {
   "cell_type": "code",
   "execution_count": 1,
   "metadata": {
    "scrolled": true
   },
   "outputs": [
    {
     "data": {
      "text/html": [
       "1.54317248913734e-05"
      ],
      "text/latex": [
       "1.54317248913734e-05"
      ],
      "text/markdown": [
       "1.54317248913734e-05"
      ],
      "text/plain": [
       "[1] 1.543172e-05"
      ]
     },
     "metadata": {},
     "output_type": "display_data"
    }
   ],
   "source": [
    "pnorm(-4.167)"
   ]
  },
  {
   "cell_type": "code",
   "execution_count": 2,
   "metadata": {
    "scrolled": true
   },
   "outputs": [
    {
     "data": {
      "text/html": [
       "-1.64485362695147"
      ],
      "text/latex": [
       "-1.64485362695147"
      ],
      "text/markdown": [
       "-1.64485362695147"
      ],
      "text/plain": [
       "[1] -1.644854"
      ]
     },
     "metadata": {},
     "output_type": "display_data"
    }
   ],
   "source": [
    "qnorm(0.05)"
   ]
  },
  {
   "cell_type": "code",
   "execution_count": 5,
   "metadata": {},
   "outputs": [
    {
     "data": {
      "text/html": [
       "<ol class=list-inline>\n",
       "\t<li>2.97257119783505</li>\n",
       "\t<li>3.42742880216495</li>\n",
       "</ol>\n"
      ],
      "text/latex": [
       "\\begin{enumerate*}\n",
       "\\item 2.97257119783505\n",
       "\\item 3.42742880216495\n",
       "\\end{enumerate*}\n"
      ],
      "text/markdown": [
       "1. 2.97257119783505\n",
       "2. 3.42742880216495\n",
       "\n",
       "\n"
      ],
      "text/plain": [
       "[1] 2.972571 3.427429"
      ]
     },
     "metadata": {},
     "output_type": "display_data"
    }
   ],
   "source": [
    "mean <- 3.2\n",
    "stdev <- 1.97\n",
    "z <- -qnorm(0.05)\n",
    "se <- stdev / sqrt(203)\n",
    "c(mean - z * se, mean + z * se)"
   ]
  },
  {
   "cell_type": "code",
   "execution_count": 12,
   "metadata": {
    "scrolled": true
   },
   "outputs": [
    {
     "data": {
      "text/html": [
       "0.0049116215627476"
      ],
      "text/latex": [
       "0.0049116215627476"
      ],
      "text/markdown": [
       "0.0049116215627476"
      ],
      "text/plain": [
       "[1] 0.004911622"
      ]
     },
     "metadata": {},
     "output_type": "display_data"
    }
   ],
   "source": [
    "1 - pnorm(2.58199)"
   ]
  },
  {
   "cell_type": "code",
   "execution_count": 14,
   "metadata": {},
   "outputs": [
    {
     "data": {
      "text/html": [
       "0.0956352269981469"
      ],
      "text/latex": [
       "0.0956352269981469"
      ],
      "text/markdown": [
       "0.0956352269981469"
      ],
      "text/plain": [
       "[1] 0.09563523"
      ]
     },
     "metadata": {},
     "output_type": "display_data"
    }
   ],
   "source": [
    "1 - pnorm(1.30683)"
   ]
  },
  {
   "cell_type": "code",
   "execution_count": 15,
   "metadata": {},
   "outputs": [
    {
     "data": {
      "text/html": [
       "0.178722371685171"
      ],
      "text/latex": [
       "0.178722371685171"
      ],
      "text/markdown": [
       "0.178722371685171"
      ],
      "text/plain": [
       "[1] 0.1787224"
      ]
     },
     "metadata": {},
     "output_type": "display_data"
    }
   ],
   "source": [
    "1 - pnorm(0.920245)"
   ]
  }
 ],
 "metadata": {
  "kernelspec": {
   "display_name": "R",
   "language": "R",
   "name": "ir"
  },
  "language_info": {
   "codemirror_mode": "r",
   "file_extension": ".r",
   "mimetype": "text/x-r-source",
   "name": "R",
   "pygments_lexer": "r",
   "version": "3.4.2"
  }
 },
 "nbformat": 4,
 "nbformat_minor": 2
}
