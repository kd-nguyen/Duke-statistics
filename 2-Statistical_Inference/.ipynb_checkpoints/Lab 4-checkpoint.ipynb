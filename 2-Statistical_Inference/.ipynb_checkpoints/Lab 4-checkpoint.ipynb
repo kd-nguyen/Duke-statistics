{
 "cells": [
  {
   "cell_type": "code",
   "execution_count": 1,
   "metadata": {},
   "outputs": [
    {
     "name": "stderr",
     "output_type": "stream",
     "text": [
      "Loading tidyverse: ggplot2\n",
      "Loading tidyverse: tibble\n",
      "Loading tidyverse: tidyr\n",
      "Loading tidyverse: readr\n",
      "Loading tidyverse: purrr\n",
      "Loading tidyverse: dplyr\n",
      "Warning message:\n",
      "\"package 'tidyr' was built under R version 3.4.3\"Conflicts with tidy packages ---------------------------------------------------\n",
      "filter(): dplyr, stats\n",
      "lag():    dplyr, stats\n"
     ]
    }
   ],
   "source": [
    "library(tidyverse)\n",
    "library(statsr)"
   ]
  },
  {
   "cell_type": "code",
   "execution_count": 6,
   "metadata": {
    "scrolled": true
   },
   "outputs": [
    {
     "data": {
      "text/html": [
       "<ol class=list-inline>\n",
       "\t<li>2012</li>\n",
       "\t<li>2005</li>\n",
       "</ol>\n"
      ],
      "text/latex": [
       "\\begin{enumerate*}\n",
       "\\item 2012\n",
       "\\item 2005\n",
       "\\end{enumerate*}\n"
      ],
      "text/markdown": [
       "1. 2012\n",
       "2. 2005\n",
       "\n",
       "\n"
      ],
      "text/plain": [
       "[1] 2012 2005"
      ]
     },
     "metadata": {},
     "output_type": "display_data"
    }
   ],
   "source": [
    "unique(atheism$year)"
   ]
  },
  {
   "cell_type": "code",
   "execution_count": 8,
   "metadata": {},
   "outputs": [],
   "source": [
    "us12 <- atheism %>%\n",
    "filter(nationality == 'United States', atheism$year == 2012)"
   ]
  },
  {
   "cell_type": "code",
   "execution_count": 22,
   "metadata": {
    "scrolled": false
   },
   "outputs": [],
   "source": [
    "sample_p <- sum(us12$response == 'atheist') / nrow(us12)"
   ]
  },
  {
   "cell_type": "code",
   "execution_count": 21,
   "metadata": {},
   "outputs": [
    {
     "name": "stdout",
     "output_type": "stream",
     "text": [
      "Single categorical variable, success: atheist\n",
      "n = 1002, p-hat = 0.0499\n",
      "95% CI: (0.0364 , 0.0634)\n"
     ]
    },
    {
     "data": {
      "image/png": "[encoded data removed]",
      "text/plain": [
       "plot without title"
      ]
     },
     "metadata": {},
     "output_type": "display_data"
    }
   ],
   "source": [
    "inference(y = response, data = us12, statistic = 'proportion',\n",
    "         type = 'ci', method = 'theoretical', success = 'atheist')"
   ]
  },
  {
   "cell_type": "code",
   "execution_count": 23,
   "metadata": {
    "collapsed": true
   },
   "outputs": [],
   "source": [
    "se <- sqrt(sample_p * (1 - sample_p) / nrow(us12))"
   ]
  },
  {
   "cell_type": "code",
   "execution_count": 29,
   "metadata": {
    "scrolled": true
   },
   "outputs": [
    {
     "data": {},
     "metadata": {},
     "output_type": "display_data"
    },
    {
     "data": {
      "image/png": "[encoded data removed]",
      "text/plain": [
       "plot without title"
      ]
     },
     "metadata": {},
     "output_type": "display_data"
    }
   ],
   "source": [
    "p <- seq(0, 1, 0.01)\n",
    "n <- 1000\n",
    "me <- 1.96 * sqrt(p * (1 - p) / n)\n",
    "data.frame(p, me) %>%\n",
    "ggplot(aes(p, me)) +\n",
    "geom_line()"
   ]
  },
  {
   "cell_type": "code",
   "execution_count": 57,
   "metadata": {},
   "outputs": [],
   "source": [
    "spain <- atheism %>%\n",
    "filter(nationality == 'Spain') %>%\n",
    "group_by(year) %>%\n",
    "summarize(p_atheist = mean(response == 'atheist'), n = n(), \n",
    "          n_atheist = sum(response == 'atheist'))"
   ]
  },
  {
   "cell_type": "code",
   "execution_count": 66,
   "metadata": {},
   "outputs": [
    {
     "data": {
      "text/html": [
       "0.0951549541684854"
      ],
      "text/latex": [
       "0.0951549541684854"
      ],
      "text/markdown": [
       "0.0951549541684854"
      ],
      "text/plain": [
       "[1] 0.09515495"
      ]
     },
     "metadata": {},
     "output_type": "display_data"
    }
   ],
   "source": [
    "pooled_p <- sum(spain$n_atheist) / sum(spain$n)\n",
    "pooled_p"
   ]
  },
  {
   "cell_type": "code",
   "execution_count": 76,
   "metadata": {},
   "outputs": [],
   "source": [
    "spain_df <- as.data.frame(spain)"
   ]
  },
  {
   "cell_type": "code",
   "execution_count": 77,
   "metadata": {},
   "outputs": [],
   "source": [
    "rownames(spain_df) <- spain_df$year"
   ]
  },
  {
   "cell_type": "code",
   "execution_count": 83,
   "metadata": {},
   "outputs": [
    {
     "data": {
      "text/html": [
       "<ol class=list-inline>\n",
       "\t<li>108.952422522916</li>\n",
       "\t<li>1036.04757747708</li>\n",
       "</ol>\n"
      ],
      "text/latex": [
       "\\begin{enumerate*}\n",
       "\\item 108.952422522916\n",
       "\\item 1036.04757747708\n",
       "\\end{enumerate*}\n"
      ],
      "text/markdown": [
       "1. 108.952422522916\n",
       "2. 1036.04757747708\n",
       "\n",
       "\n"
      ],
      "text/plain": [
       "[1]  108.9524 1036.0476"
      ]
     },
     "metadata": {},
     "output_type": "display_data"
    }
   ],
   "source": [
    "c(spain_df['2012', 'n'] * pooled_p, spain_df['2012', 'n'] * (1 - pooled_p))"
   ]
  },
  {
   "cell_type": "code",
   "execution_count": 86,
   "metadata": {},
   "outputs": [],
   "source": [
    "diff <- spain_df['2012', 'p_atheist'] - spain_df['2005', 'p_atheist']\n",
    "se <- sqrt(pooled_p * (1 - pooled_p) / spain_df['2005', 'n'] + pooled_p\n",
    "          * (1 - pooled_p) / spain_df['2012', 'n'])"
   ]
  },
  {
   "cell_type": "code",
   "execution_count": 88,
   "metadata": {},
   "outputs": [],
   "source": [
    "z <- diff / se"
   ]
  },
  {
   "cell_type": "code",
   "execution_count": 90,
   "metadata": {},
   "outputs": [
    {
     "data": {
      "text/html": [
       "0.396641760875248"
      ],
      "text/latex": [
       "0.396641760875248"
      ],
      "text/markdown": [
       "0.396641760875248"
      ],
      "text/plain": [
       "[1] 0.3966418"
      ]
     },
     "metadata": {},
     "output_type": "display_data"
    }
   ],
   "source": [
    "2 * pnorm(z)"
   ]
  },
  {
   "cell_type": "code",
   "execution_count": 91,
   "metadata": {
    "scrolled": true
   },
   "outputs": [
    {
     "data": {
      "text/html": [
       "0.0951549541684854"
      ],
      "text/latex": [
       "0.0951549541684854"
      ],
      "text/markdown": [
       "0.0951549541684854"
      ],
      "text/plain": [
       "[1] 0.09515495"
      ]
     },
     "metadata": {},
     "output_type": "display_data"
    }
   ],
   "source": [
    "pooled_p"
   ]
  },
  {
   "cell_type": "code",
   "execution_count": 92,
   "metadata": {
    "scrolled": true
   },
   "outputs": [
    {
     "data": {
      "text/html": [
       "<table>\n",
       "<thead><tr><th></th><th scope=col>year</th><th scope=col>p_atheist</th><th scope=col>n</th><th scope=col>n_atheist</th></tr></thead>\n",
       "<tbody>\n",
       "\t<tr><th scope=row>2005</th><td>2005      </td><td>0.10034904</td><td>1146      </td><td>115       </td></tr>\n",
       "\t<tr><th scope=row>2012</th><td>2012      </td><td>0.08995633</td><td>1145      </td><td>103       </td></tr>\n",
       "</tbody>\n",
       "</table>\n"
      ],
      "text/latex": [
       "\\begin{tabular}{r|llll}\n",
       "  & year & p\\_atheist & n & n\\_atheist\\\\\n",
       "\\hline\n",
       "\t2005 & 2005       & 0.10034904 & 1146       & 115       \\\\\n",
       "\t2012 & 2012       & 0.08995633 & 1145       & 103       \\\\\n",
       "\\end{tabular}\n"
      ],
      "text/markdown": [
       "\n",
       "| <!--/--> | year | p_atheist | n | n_atheist | \n",
       "|---|---|\n",
       "| 2005 | 2005       | 0.10034904 | 1146       | 115        | \n",
       "| 2012 | 2012       | 0.08995633 | 1145       | 103        | \n",
       "\n",
       "\n"
      ],
      "text/plain": [
       "     year p_atheist  n    n_atheist\n",
       "2005 2005 0.10034904 1146 115      \n",
       "2012 2012 0.08995633 1145 103      "
      ]
     },
     "metadata": {},
     "output_type": "display_data"
    }
   ],
   "source": [
    "spain_df"
   ]
  },
  {
   "cell_type": "code",
   "execution_count": 94,
   "metadata": {},
   "outputs": [
    {
     "data": {
      "text/html": [
       "-0.0103927082618868"
      ],
      "text/latex": [
       "-0.0103927082618868"
      ],
      "text/markdown": [
       "-0.0103927082618868"
      ],
      "text/plain": [
       "[1] -0.01039271"
      ]
     },
     "metadata": {},
     "output_type": "display_data"
    }
   ],
   "source": [
    "diff"
   ]
  },
  {
   "cell_type": "code",
   "execution_count": 99,
   "metadata": {},
   "outputs": [],
   "source": [
    "us <- as.data.frame(atheism %>%\n",
    "filter(nationality == 'United States') %>%                    \n",
    "group_by(year) %>%\n",
    "summarize(n = n(), n_atheist = sum(response == 'atheist'), p_atheist = mean(response == 'atheist')))"
   ]
  },
  {
   "cell_type": "code",
   "execution_count": 101,
   "metadata": {},
   "outputs": [],
   "source": [
    "pooled_p <- sum(us$n_atheist) / sum(us$n)"
   ]
  },
  {
   "cell_type": "code",
   "execution_count": 102,
   "metadata": {},
   "outputs": [
    {
     "data": {
      "text/html": [
       "0.029940119760479"
      ],
      "text/latex": [
       "0.029940119760479"
      ],
      "text/markdown": [
       "0.029940119760479"
      ],
      "text/plain": [
       "[1] 0.02994012"
      ]
     },
     "metadata": {},
     "output_type": "display_data"
    }
   ],
   "source": [
    "pooled_p"
   ]
  },
  {
   "cell_type": "code",
   "execution_count": 104,
   "metadata": {},
   "outputs": [
    {
     "data": {
      "text/html": [
       "<ol class=list-inline>\n",
       "\t<li>30</li>\n",
       "\t<li>30</li>\n",
       "</ol>\n"
      ],
      "text/latex": [
       "\\begin{enumerate*}\n",
       "\\item 30\n",
       "\\item 30\n",
       "\\end{enumerate*}\n"
      ],
      "text/markdown": [
       "1. 30\n",
       "2. 30\n",
       "\n",
       "\n"
      ],
      "text/plain": [
       "[1] 30 30"
      ]
     },
     "metadata": {},
     "output_type": "display_data"
    }
   ],
   "source": [
    "us$n * pooled_p"
   ]
  },
  {
   "cell_type": "code",
   "execution_count": 105,
   "metadata": {
    "scrolled": true
   },
   "outputs": [
    {
     "data": {
      "text/html": [
       "<ol class=list-inline>\n",
       "\t<li>972</li>\n",
       "\t<li>972</li>\n",
       "</ol>\n"
      ],
      "text/latex": [
       "\\begin{enumerate*}\n",
       "\\item 972\n",
       "\\item 972\n",
       "\\end{enumerate*}\n"
      ],
      "text/markdown": [
       "1. 972\n",
       "2. 972\n",
       "\n",
       "\n"
      ],
      "text/plain": [
       "[1] 972 972"
      ]
     },
     "metadata": {},
     "output_type": "display_data"
    }
   ],
   "source": [
    "us$n * (1 - pooled_p)"
   ]
  },
  {
   "cell_type": "code",
   "execution_count": null,
   "metadata": {
    "collapsed": true
   },
   "outputs": [],
   "source": []
  }
 ],
 "metadata": {
  "kernelspec": {
   "display_name": "R",
   "language": "R",
   "name": "ir"
  },
  "language_info": {
   "codemirror_mode": "r",
   "file_extension": ".r",
   "mimetype": "text/x-r-source",
   "name": "R",
   "pygments_lexer": "r",
   "version": "3.4.2"
  }
 },
 "nbformat": 4,
 "nbformat_minor": 2
}
