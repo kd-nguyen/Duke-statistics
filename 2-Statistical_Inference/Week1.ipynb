{
 "cells": [
  {
   "cell_type": "code",
   "execution_count": 1,
   "metadata": {},
   "outputs": [
    {
     "data": {
      "text/html": [
       "<ol class=list-inline>\n",
       "\t<li>371.88</li>\n",
       "\t<li>458.12</li>\n",
       "</ol>\n"
      ],
      "text/latex": [
       "\\begin{enumerate*}\n",
       "\\item 371.88\n",
       "\\item 458.12\n",
       "\\end{enumerate*}\n"
      ],
      "text/markdown": [
       "1. 371.88\n",
       "2. 458.12\n",
       "\n",
       "\n"
      ],
      "text/plain": [
       "[1] 371.88 458.12"
      ]
     },
     "metadata": {},
     "output_type": "display_data"
    }
   ],
   "source": [
    "c(415 - 1.96 * 22, 415 + 1.96 * 22)"
   ]
  }
 ],
 "metadata": {
  "kernelspec": {
   "display_name": "R",
   "language": "R",
   "name": "ir"
  },
  "language_info": {
   "codemirror_mode": "r",
   "file_extension": ".r",
   "mimetype": "text/x-r-source",
   "name": "R",
   "pygments_lexer": "r",
   "version": "3.4.2"
  }
 },
 "nbformat": 4,
 "nbformat_minor": 2
}
