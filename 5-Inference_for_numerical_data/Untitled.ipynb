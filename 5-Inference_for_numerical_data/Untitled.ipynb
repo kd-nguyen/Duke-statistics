{
 "cells": [
  {
   "cell_type": "code",
   "execution_count": 4,
   "metadata": {},
   "outputs": [
    {
     "data": {
      "text/html": [
       "7.1930905676254e-11"
      ],
      "text/latex": [
       "7.1930905676254e-11"
      ],
      "text/markdown": [
       "7.1930905676254e-11"
      ],
      "text/plain": [
       "[1] 7.193091e-11"
      ]
     },
     "metadata": {},
     "output_type": "display_data"
    }
   ],
   "source": [
    "(1 - pt(7.64, df=72)) * 2"
   ]
  },
  {
   "cell_type": "code",
   "execution_count": 5,
   "metadata": {},
   "outputs": [
    {
     "data": {
      "text/html": [
       "1.99346356666187"
      ],
      "text/latex": [
       "1.99346356666187"
      ],
      "text/markdown": [
       "1.99346356666187"
      ],
      "text/plain": [
       "[1] 1.993464"
      ]
     },
     "metadata": {},
     "output_type": "display_data"
    }
   ],
   "source": [
    "qt(0.975, df=72)"
   ]
  }
 ],
 "metadata": {
  "kernelspec": {
   "display_name": "R",
   "language": "R",
   "name": "ir"
  },
  "language_info": {
   "codemirror_mode": "r",
   "file_extension": ".r",
   "mimetype": "text/x-r-source",
   "name": "R",
   "pygments_lexer": "r",
   "version": "3.4.2"
  }
 },
 "nbformat": 4,
 "nbformat_minor": 2
}
