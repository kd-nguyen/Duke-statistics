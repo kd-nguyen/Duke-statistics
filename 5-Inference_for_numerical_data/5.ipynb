{
 "cells": [
  {
   "cell_type": "code",
   "execution_count": 4,
   "metadata": {},
   "outputs": [
    {
     "data": {
      "text/html": [
       "7.1930905676254e-11"
      ],
      "text/latex": [
       "7.1930905676254e-11"
      ],
      "text/markdown": [
       "7.1930905676254e-11"
      ],
      "text/plain": [
       "[1] 7.193091e-11"
      ]
     },
     "metadata": {},
     "output_type": "display_data"
    }
   ],
   "source": [
    "(1 - pt(7.64, df=72)) * 2"
   ]
  },
  {
   "cell_type": "code",
   "execution_count": 5,
   "metadata": {},
   "outputs": [
    {
     "data": {
      "text/html": [
       "1.99346356666187"
      ],
      "text/latex": [
       "1.99346356666187"
      ],
      "text/markdown": [
       "1.99346356666187"
      ],
      "text/plain": [
       "[1] 1.993464"
      ]
     },
     "metadata": {},
     "output_type": "display_data"
    }
   ],
   "source": [
    "qt(0.975, df=72)"
   ]
  },
  {
   "cell_type": "code",
   "execution_count": 21,
   "metadata": {},
   "outputs": [
    {
     "data": {
      "text/html": [
       "<table>\n",
       "<tbody>\n",
       "\t<tr><th scope=row>one</th><td>1 </td><td>4 </td><td>7 </td><td>10</td></tr>\n",
       "\t<tr><th scope=row>two</th><td>2 </td><td>5 </td><td>8 </td><td>11</td></tr>\n",
       "\t<tr><th scope=row>three</th><td>3 </td><td>6 </td><td>9 </td><td>12</td></tr>\n",
       "</tbody>\n",
       "</table>\n"
      ],
      "text/latex": [
       "\\begin{tabular}{r|llll}\n",
       "\tone & 1  & 4  & 7  & 10\\\\\n",
       "\ttwo & 2  & 5  & 8  & 11\\\\\n",
       "\tthree & 3  & 6  & 9  & 12\\\\\n",
       "\\end{tabular}\n"
      ],
      "text/markdown": [
       "\n",
       "| one | 1  | 4  | 7  | 10 | \n",
       "| two | 2  | 5  | 8  | 11 | \n",
       "| three | 3  | 6  | 9  | 12 | \n",
       "\n",
       "\n"
      ],
      "text/plain": [
       "      [,1] [,2] [,3] [,4]\n",
       "one   1    4    7    10  \n",
       "two   2    5    8    11  \n",
       "three 3    6    9    12  "
      ]
     },
     "metadata": {},
     "output_type": "display_data"
    }
   ],
   "source": [
    "x <- matrix(1:12, nrow=3)\n",
    "rownames(x) <- c('one', 'two', 'three')\n",
    "x"
   ]
  }
 ],
 "metadata": {
  "kernelspec": {
   "display_name": "R",
   "language": "R",
   "name": "ir"
  },
  "language_info": {
   "codemirror_mode": "r",
   "file_extension": ".r",
   "mimetype": "text/x-r-source",
   "name": "R",
   "pygments_lexer": "r",
   "version": "3.4.2"
  }
 },
 "nbformat": 4,
 "nbformat_minor": 2
}
