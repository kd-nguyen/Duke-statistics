{
 "cells": [
  {
   "cell_type": "code",
   "execution_count": 3,
   "metadata": {},
   "outputs": [
    {
     "data": {
      "text/html": [
       "0.915365087842814"
      ],
      "text/latex": [
       "0.915365087842814"
      ],
      "text/markdown": [
       "0.915365087842814"
      ],
      "text/plain": [
       "[1] 0.9153651"
      ]
     },
     "metadata": {},
     "output_type": "display_data"
    }
   ],
   "source": [
    "# Percentile to z-score: qnorm\n",
    "# Z-score to percentile: pnorm\n",
    "qnorm(0.82)"
   ]
  },
  {
   "cell_type": "code",
   "execution_count": 5,
   "metadata": {},
   "outputs": [
    {
     "data": {
      "text/html": [
       "1.64485362695147"
      ],
      "text/latex": [
       "1.64485362695147"
      ],
      "text/markdown": [
       "1.64485362695147"
      ],
      "text/plain": [
       "[1] 1.644854"
      ]
     },
     "metadata": {},
     "output_type": "display_data"
    }
   ],
   "source": [
    "qnorm(0.95)"
   ]
  },
  {
   "cell_type": "code",
   "execution_count": 7,
   "metadata": {},
   "outputs": [
    {
     "data": {
      "text/html": [
       "76.4678811489822"
      ],
      "text/latex": [
       "76.4678811489822"
      ],
      "text/markdown": [
       "76.4678811489822"
      ],
      "text/plain": [
       "[1] 76.46788"
      ]
     },
     "metadata": {},
     "output_type": "display_data"
    }
   ],
   "source": [
    "qnorm(0.975)*3.3 + 70"
   ]
  },
  {
   "cell_type": "code",
   "execution_count": 8,
   "metadata": {},
   "outputs": [
    {
     "data": {
      "text/html": [
       "0.887267007497746"
      ],
      "text/latex": [
       "0.887267007497746"
      ],
      "text/markdown": [
       "0.887267007497746"
      ],
      "text/plain": [
       "[1] 0.887267"
      ]
     },
     "metadata": {},
     "output_type": "display_data"
    }
   ],
   "source": [
    "pnorm(4/3.3)"
   ]
  },
  {
   "cell_type": "code",
   "execution_count": 12,
   "metadata": {},
   "outputs": [
    {
     "data": {
      "text/html": [
       "0.116784051296114"
      ],
      "text/latex": [
       "0.116784051296114"
      ],
      "text/markdown": [
       "0.116784051296114"
      ],
      "text/plain": [
       "[1] 0.1167841"
      ]
     },
     "metadata": {},
     "output_type": "display_data"
    }
   ],
   "source": [
    "pnorm(-3/3.3) - pnorm(-5/3.3)"
   ]
  },
  {
   "cell_type": "code",
   "execution_count": 15,
   "metadata": {},
   "outputs": [
    {
     "data": {
      "text/html": [
       "0.99730020393674"
      ],
      "text/latex": [
       "0.99730020393674"
      ],
      "text/markdown": [
       "0.99730020393674"
      ],
      "text/plain": [
       "[1] 0.9973002"
      ]
     },
     "metadata": {},
     "output_type": "display_data"
    }
   ],
   "source": [
    "pnorm(3) - pnorm(-3)"
   ]
  },
  {
   "cell_type": "code",
   "execution_count": 16,
   "metadata": {},
   "outputs": [
    {
     "data": {
      "text/html": [
       "0.929219123008314"
      ],
      "text/latex": [
       "0.929219123008314"
      ],
      "text/markdown": [
       "0.929219123008314"
      ],
      "text/plain": [
       "[1] 0.9292191"
      ]
     },
     "metadata": {},
     "output_type": "display_data"
    }
   ],
   "source": [
    "pnorm(1.47)"
   ]
  },
  {
   "cell_type": "code",
   "execution_count": 17,
   "metadata": {},
   "outputs": [
    {
     "data": {
      "text/html": [
       "0.00433244836301256"
      ],
      "text/latex": [
       "0.00433244836301256"
      ],
      "text/markdown": [
       "0.00433244836301256"
      ],
      "text/plain": [
       "[1] 0.004332448"
      ]
     },
     "metadata": {},
     "output_type": "display_data"
    }
   ],
   "source": [
    "pnorm((59 - 80) / 8)"
   ]
  },
  {
   "cell_type": "code",
   "execution_count": 19,
   "metadata": {},
   "outputs": [
    {
     "data": {
      "text/html": [
       "0.899727432045558"
      ],
      "text/latex": [
       "0.899727432045558"
      ],
      "text/markdown": [
       "0.899727432045558"
      ],
      "text/plain": [
       "[1] 0.8997274"
      ]
     },
     "metadata": {},
     "output_type": "display_data"
    }
   ],
   "source": [
    "pnorm(1.28)"
   ]
  },
  {
   "cell_type": "code",
   "execution_count": 27,
   "metadata": {},
   "outputs": [
    {
     "data": {
      "text/html": [
       "159.455234861504"
      ],
      "text/latex": [
       "159.455234861504"
      ],
      "text/markdown": [
       "159.455234861504"
      ],
      "text/plain": [
       "[1] 159.4552"
      ]
     },
     "metadata": {},
     "output_type": "display_data"
    }
   ],
   "source": [
    "qnorm(0.80) * 7.67 + 153b"
   ]
  },
  {
   "cell_type": "code",
   "execution_count": 35,
   "metadata": {},
   "outputs": [
    {
     "data": {
      "text/html": [
       "26.8750815055451"
      ],
      "text/latex": [
       "26.8750815055451"
      ],
      "text/markdown": [
       "26.8750815055451"
      ],
      "text/plain": [
       "[1] 26.87508"
      ]
     },
     "metadata": {},
     "output_type": "display_data"
    }
   ],
   "source": [
    "qnorm(0.75, mean = 25, sd = 2.78)"
   ]
  },
  {
   "cell_type": "code",
   "execution_count": 37,
   "metadata": {},
   "outputs": [
    {
     "data": {
      "text/html": [
       "222.39033277584"
      ],
      "text/latex": [
       "222.39033277584"
      ],
      "text/markdown": [
       "222.39033277584"
      ],
      "text/plain": [
       "[1] 222.3903"
      ]
     },
     "metadata": {},
     "output_type": "display_data"
    }
   ],
   "source": [
    "(1800 - 1650) / qnorm(0.75)"
   ]
  },
  {
   "cell_type": "code",
   "execution_count": 42,
   "metadata": {},
   "outputs": [
    {
     "data": {
      "text/html": [
       "0.997446045578257"
      ],
      "text/latex": [
       "0.997446045578257"
      ],
      "text/markdown": [
       "0.997446045578257"
      ],
      "text/plain": [
       "[1] 0.997446"
      ]
     },
     "metadata": {},
     "output_type": "display_data"
    }
   ],
   "source": [
    "sum(dbinom(1:5, 5, 0.697))"
   ]
  },
  {
   "cell_type": "code",
   "execution_count": 49,
   "metadata": {},
   "outputs": [
    {
     "data": {
      "text/html": [
       "0.000722861721162371"
      ],
      "text/latex": [
       "0.000722861721162371"
      ],
      "text/markdown": [
       "0.000722861721162371"
      ],
      "text/plain": [
       "[1] 0.0007228617"
      ]
     },
     "metadata": {},
     "output_type": "display_data"
    }
   ],
   "source": [
    "sum(dbinom(45:50, 50, 0.70))"
   ]
  },
  {
   "cell_type": "code",
   "execution_count": 50,
   "metadata": {},
   "outputs": [
    {
     "data": {
      "text/html": [
       "0.060144356175093"
      ],
      "text/latex": [
       "0.060144356175093"
      ],
      "text/markdown": [
       "0.060144356175093"
      ],
      "text/plain": [
       "[1] 0.06014436"
      ]
     },
     "metadata": {},
     "output_type": "display_data"
    }
   ],
   "source": [
    "sum(dbinom(1786:2500, 2500, 0.70))"
   ]
  },
  {
   "cell_type": "code",
   "execution_count": 52,
   "metadata": {},
   "outputs": [
    {
     "data": {
      "text/html": [
       "0.060649161062572"
      ],
      "text/latex": [
       "0.060649161062572"
      ],
      "text/markdown": [
       "0.060649161062572"
      ],
      "text/plain": [
       "[1] 0.06064916"
      ]
     },
     "metadata": {},
     "output_type": "display_data"
    }
   ],
   "source": [
    "1 - pnorm(1785.5, mean = 2500 * 0.7, sd = sqrt(2500 * 0.7 * 0.3))"
   ]
  },
  {
   "cell_type": "code",
   "execution_count": 54,
   "metadata": {},
   "outputs": [
    {
     "data": {
      "text/html": [
       "0.551204681396484"
      ],
      "text/latex": [
       "0.551204681396484"
      ],
      "text/markdown": [
       "0.551204681396484"
      ],
      "text/plain": [
       "[1] 0.5512047"
      ]
     },
     "metadata": {},
     "output_type": "display_data"
    }
   ],
   "source": [
    "sum(dbinom(1:6, 6, 0.125))"
   ]
  },
  {
   "cell_type": "code",
   "execution_count": 55,
   "metadata": {},
   "outputs": [
    {
     "data": {
      "text/html": [
       "0.083740234375"
      ],
      "text/latex": [
       "0.083740234375"
      ],
      "text/markdown": [
       "0.083740234375"
      ],
      "text/plain": [
       "[1] 0.08374023"
      ]
     },
     "metadata": {},
     "output_type": "display_data"
    }
   ],
   "source": [
    "0.875^3 * 0.125"
   ]
  },
  {
   "cell_type": "code",
   "execution_count": 56,
   "metadata": {},
   "outputs": [
    {
     "data": {
      "text/html": [
       "4.5"
      ],
      "text/latex": [
       "4.5"
      ],
      "text/markdown": [
       "4.5"
      ],
      "text/plain": [
       "[1] 4.5"
      ]
     },
     "metadata": {},
     "output_type": "display_data"
    }
   ],
   "source": [
    "6*0.75"
   ]
  },
  {
   "cell_type": "code",
   "execution_count": 61,
   "metadata": {},
   "outputs": [
    {
     "data": {
      "text/html": [
       "0.114823026558829"
      ],
      "text/latex": [
       "0.114823026558829"
      ],
      "text/markdown": [
       "0.114823026558829"
      ],
      "text/plain": [
       "[1] 0.114823"
      ]
     },
     "metadata": {},
     "output_type": "display_data"
    }
   ],
   "source": [
    "dbinom(92, 100, 0.90)"
   ]
  },
  {
   "cell_type": "code",
   "execution_count": 58,
   "metadata": {},
   "outputs": [
    {
     "data": {
      "text/html": [
       "0.993790334674224"
      ],
      "text/latex": [
       "0.993790334674224"
      ],
      "text/markdown": [
       "0.993790334674224"
      ],
      "text/plain": [
       "[1] 0.9937903"
      ]
     },
     "metadata": {},
     "output_type": "display_data"
    }
   ],
   "source": [
    "pnorm(2.5)"
   ]
  },
  {
   "cell_type": "code",
   "execution_count": 64,
   "metadata": {},
   "outputs": [
    {
     "data": {
      "text/html": [
       "0.203945561416596"
      ],
      "text/latex": [
       "0.203945561416596"
      ],
      "text/markdown": [
       "0.203945561416596"
      ],
      "text/plain": [
       "[1] 0.2039456"
      ]
     },
     "metadata": {},
     "output_type": "display_data"
    }
   ],
   "source": [
    "1 - pnorm(49.5, mean = 44.8, sd = 5.679)"
   ]
  }
 ],
 "metadata": {
  "kernelspec": {
   "display_name": "R",
   "language": "R",
   "name": "ir"
  },
  "language_info": {
   "codemirror_mode": "r",
   "file_extension": ".r",
   "mimetype": "text/x-r-source",
   "name": "R",
   "pygments_lexer": "r",
   "version": "3.4.2"
  }
 },
 "nbformat": 4,
 "nbformat_minor": 2
}
