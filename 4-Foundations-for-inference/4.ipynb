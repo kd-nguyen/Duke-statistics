{
 "cells": [
  {
   "cell_type": "code",
   "execution_count": 1,
   "metadata": {},
   "outputs": [
    {
     "data": {
      "text/html": [
       "0.990119968484459"
      ],
      "text/latex": [
       "0.990119968484459"
      ],
      "text/markdown": [
       "0.990119968484459"
      ],
      "text/plain": [
       "[1] 0.99012"
      ]
     },
     "metadata": {},
     "output_type": "display_data"
    }
   ],
   "source": [
    "pnorm(2.58) - pnorm(-2.58)"
   ]
  },
  {
   "cell_type": "code",
   "execution_count": 2,
   "metadata": {},
   "outputs": [
    {
     "data": {
      "text/html": [
       "0.148474146379871"
      ],
      "text/latex": [
       "0.148474146379871"
      ],
      "text/markdown": [
       "0.148474146379871"
      ],
      "text/plain": [
       "[1] 0.1484741"
      ]
     },
     "metadata": {},
     "output_type": "display_data"
    }
   ],
   "source": [
    "pnorm(-1.043)"
   ]
  },
  {
   "cell_type": "code",
   "execution_count": 14,
   "metadata": {},
   "outputs": [
    {
     "data": {
      "text/html": [
       "5041"
      ],
      "text/latex": [
       "5041"
      ],
      "text/markdown": [
       "5041"
      ],
      "text/plain": [
       "[1] 5041"
      ]
     },
     "metadata": {},
     "output_type": "display_data"
    }
   ],
   "source": [
    "71 ^ 2"
   ]
  }
 ],
 "metadata": {
  "kernelspec": {
   "display_name": "R",
   "language": "R",
   "name": "ir"
  },
  "language_info": {
   "codemirror_mode": "r",
   "file_extension": ".r",
   "mimetype": "text/x-r-source",
   "name": "R",
   "pygments_lexer": "r",
   "version": "3.4.2"
  }
 },
 "nbformat": 4,
 "nbformat_minor": 2
}
