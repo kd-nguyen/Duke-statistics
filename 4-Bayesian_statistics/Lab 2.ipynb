{
 "cells": [
  {
   "cell_type": "code",
   "execution_count": 1,
   "metadata": {
    "collapsed": true
   },
   "outputs": [],
   "source": [
    "library(statsr)\n",
    "data(brfss)"
   ]
  },
  {
   "cell_type": "code",
   "execution_count": 2,
   "metadata": {
    "scrolled": true
   },
   "outputs": [
    {
     "data": {
      "text/html": [
       "<ol class=list-inline>\n",
       "\t<li>0.0840258179384256</li>\n",
       "\t<li>1.37218468691622</li>\n",
       "</ol>\n"
      ],
      "text/latex": [
       "\\begin{enumerate*}\n",
       "\\item 0.0840258179384256\n",
       "\\item 1.37218468691622\n",
       "\\end{enumerate*}\n"
      ],
      "text/markdown": [
       "1. 0.0840258179384256\n",
       "2. 1.37218468691622\n",
       "\n",
       "\n"
      ],
      "text/plain": [
       "[1] 0.08402582 1.37218469"
      ]
     },
     "metadata": {},
     "output_type": "display_data"
    }
   ],
   "source": [
    "qgamma(c(0.005, 0.995), shape = 4, rate = 8)"
   ]
  },
  {
   "cell_type": "code",
   "execution_count": 3,
   "metadata": {
    "scrolled": true
   },
   "outputs": [
    {
     "data": {
      "text/plain": [
       "\n",
       "  Male Female \n",
       "  2414   2586 "
      ]
     },
     "metadata": {},
     "output_type": "display_data"
    }
   ],
   "source": [
    "table(brfss$sex)"
   ]
  },
  {
   "cell_type": "code",
   "execution_count": 4,
   "metadata": {
    "collapsed": true
   },
   "outputs": [],
   "source": [
    "n <- length(brfss$sex)\n",
    "x <- sum(brfss$sex == 'Female')"
   ]
  },
  {
   "cell_type": "code",
   "execution_count": 6,
   "metadata": {},
   "outputs": [
    {
     "data": {
      "text/html": [
       "<ol class=list-inline>\n",
       "\t<li>0.503340506349799</li>\n",
       "\t<li>0.531032716595999</li>\n",
       "</ol>\n"
      ],
      "text/latex": [
       "\\begin{enumerate*}\n",
       "\\item 0.503340506349799\n",
       "\\item 0.531032716595999\n",
       "\\end{enumerate*}\n"
      ],
      "text/markdown": [
       "1. 0.503340506349799\n",
       "2. 0.531032716595999\n",
       "\n",
       "\n"
      ],
      "text/plain": [
       "[1] 0.5033405 0.5310327"
      ]
     },
     "metadata": {},
     "output_type": "display_data"
    }
   ],
   "source": [
    "qbeta(c(0.025, 0.975), 2587, 2415)"
   ]
  },
  {
   "cell_type": "code",
   "execution_count": 7,
   "metadata": {
    "scrolled": true
   },
   "outputs": [
    {
     "data": {
      "text/html": [
       "<ol class=list-inline>\n",
       "\t<li>0.501683992176244</li>\n",
       "\t<li>0.526973623829875</li>\n",
       "</ol>\n"
      ],
      "text/latex": [
       "\\begin{enumerate*}\n",
       "\\item 0.501683992176244\n",
       "\\item 0.526973623829875\n",
       "\\end{enumerate*}\n"
      ],
      "text/markdown": [
       "1. 0.501683992176244\n",
       "2. 0.526973623829875\n",
       "\n",
       "\n"
      ],
      "text/plain": [
       "[1] 0.5016840 0.5269736"
      ]
     },
     "metadata": {},
     "output_type": "display_data"
    }
   ],
   "source": [
    "qbeta(c(0.025, 0.975), 500 + 2586, 500 + 2414)"
   ]
  },
  {
   "cell_type": "code",
   "execution_count": 16,
   "metadata": {
    "scrolled": true
   },
   "outputs": [
    {
     "data": {
      "text/html": [
       "<ol class=list-inline>\n",
       "\t<li>0.486392585227313</li>\n",
       "\t<li>0.50918955211309</li>\n",
       "</ol>\n"
      ],
      "text/latex": [
       "\\begin{enumerate*}\n",
       "\\item 0.486392585227313\n",
       "\\item 0.50918955211309\n",
       "\\end{enumerate*}\n"
      ],
      "text/markdown": [
       "1. 0.486392585227313\n",
       "2. 0.50918955211309\n",
       "\n",
       "\n"
      ],
      "text/plain": [
       "[1] 0.4863926 0.5091896"
      ]
     },
     "metadata": {},
     "output_type": "display_data"
    }
   ],
   "source": [
    "qbeta(c(0.025, 0.975), 5 + 2586, 500 + 2414)"
   ]
  },
  {
   "cell_type": "code",
   "execution_count": 17,
   "metadata": {
    "scrolled": true
   },
   "outputs": [
    {
     "data": {
      "text/html": [
       "<ol class=list-inline>\n",
       "\t<li>0.763694878124932</li>\n",
       "\t<li>0.783161981304587</li>\n",
       "</ol>\n"
      ],
      "text/latex": [
       "\\begin{enumerate*}\n",
       "\\item 0.763694878124932\n",
       "\\item 0.783161981304587\n",
       "\\end{enumerate*}\n"
      ],
      "text/markdown": [
       "1. 0.763694878124932\n",
       "2. 0.783161981304587\n",
       "\n",
       "\n"
      ],
      "text/plain": [
       "[1] 0.7636949 0.7831620"
      ]
     },
     "metadata": {},
     "output_type": "display_data"
    }
   ],
   "source": [
    "qbeta(c(0.05, 0.95), 3869, 1133)"
   ]
  },
  {
   "cell_type": "code",
   "execution_count": 14,
   "metadata": {},
   "outputs": [
    {
     "data": {
      "text/html": [
       "8114"
      ],
      "text/latex": [
       "8114"
      ],
      "text/markdown": [
       "8114"
      ],
      "text/plain": [
       "[1] 8114"
      ]
     },
     "metadata": {},
     "output_type": "display_data"
    }
   ],
   "source": [
    "sum(brfss$fruit_per_day)"
   ]
  },
  {
   "cell_type": "code",
   "execution_count": 18,
   "metadata": {},
   "outputs": [
    {
     "data": {
      "text/html": [
       "<ol class=list-inline>\n",
       "\t<li>1.59395327737064</li>\n",
       "\t<li>1.653224691315</li>\n",
       "</ol>\n"
      ],
      "text/latex": [
       "\\begin{enumerate*}\n",
       "\\item 1.59395327737064\n",
       "\\item 1.653224691315\n",
       "\\end{enumerate*}\n"
      ],
      "text/markdown": [
       "1. 1.59395327737064\n",
       "2. 1.653224691315\n",
       "\n",
       "\n"
      ],
      "text/plain": [
       "[1] 1.593953 1.653225"
      ]
     },
     "metadata": {},
     "output_type": "display_data"
    }
   ],
   "source": [
    "qgamma(c(0.05, 0.95), 8119, 5001)"
   ]
  }
 ],
 "metadata": {
  "kernelspec": {
   "display_name": "R",
   "language": "R",
   "name": "ir"
  },
  "language_info": {
   "codemirror_mode": "r",
   "file_extension": ".r",
   "mimetype": "text/x-r-source",
   "name": "R",
   "pygments_lexer": "r",
   "version": "3.4.2"
  }
 },
 "nbformat": 4,
 "nbformat_minor": 2
}
