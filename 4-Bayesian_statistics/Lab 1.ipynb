{
 "cells": [
  {
   "cell_type": "code",
   "execution_count": 16,
   "metadata": {},
   "outputs": [
    {
     "name": "stderr",
     "output_type": "stream",
     "text": [
      "Loading tidyverse: ggplot2\n",
      "Loading tidyverse: tibble\n",
      "Loading tidyverse: tidyr\n",
      "Loading tidyverse: readr\n",
      "Loading tidyverse: purrr\n",
      "Loading tidyverse: dplyr\n",
      "Warning message:\n",
      "\"package 'tidyr' was built under R version 3.4.3\"Conflicts with tidy packages ---------------------------------------------------\n",
      "filter(): dplyr, stats\n",
      "lag():    dplyr, stats\n"
     ]
    }
   ],
   "source": [
    "library(statsr)\n",
    "library(tidyverse)"
   ]
  },
  {
   "cell_type": "code",
   "execution_count": 13,
   "metadata": {
    "collapsed": true
   },
   "outputs": [],
   "source": [
    "data1 = data.frame(machine = c(1L, 1L), outcome = c('W', 'W'))\n",
    "data2 = data.frame(machine = c(2L, 2L, 2L), outcome = c('W', 'W', 'L'))"
   ]
  },
  {
   "cell_type": "code",
   "execution_count": 17,
   "metadata": {
    "scrolled": false
   },
   "outputs": [
    {
     "data": {
      "text/html": [
       "<dl class=dl-horizontal>\n",
       "\t<dt>m1_good</dt>\n",
       "\t\t<dd>0.571428571428572</dd>\n",
       "\t<dt>m2_good</dt>\n",
       "\t\t<dd>0.428571428571429</dd>\n",
       "</dl>\n"
      ],
      "text/latex": [
       "\\begin{description*}\n",
       "\\item[m1\\textbackslash{}\\_good] 0.571428571428572\n",
       "\\item[m2\\textbackslash{}\\_good] 0.428571428571429\n",
       "\\end{description*}\n"
      ],
      "text/markdown": [
       "m1_good\n",
       ":   0.571428571428572m2_good\n",
       ":   0.428571428571429\n",
       "\n"
      ],
      "text/plain": [
       "  m1_good   m2_good \n",
       "0.5714286 0.4285714 "
      ]
     },
     "metadata": {},
     "output_type": "display_data"
    }
   ],
   "source": [
    "bandit_posterior(data = data1) %>% bandit_posterior(data = data2, prior = .)"
   ]
  },
  {
   "cell_type": "code",
   "execution_count": 18,
   "metadata": {
    "collapsed": true
   },
   "outputs": [],
   "source": [
    "data = data.frame(machine = c(1L, 2L, 1L, 2L, 1L, 2L, 1L, 2L, 1L, 2L, 1L, 2L, 1L, 2L, 1L, 2L, 1L, 2L, 1L, 2L, 1L, 2L, 1L, 2L, 1L, 2L, 1L, 2L, 1L, 2L, 1L, 2L, 1L, 2L, 1L, 2L, 1L, 2L, 1L, 2L, 1L, 2L, 1L, 2L, 1L, 2L, 1L, 2L, 1L, 2L), outcome = c(\"L\", \"W\", \"L\", \"L\", \"L\", \"L\", \"L\", \"W\", \"W\", \"W\", \"W\", \"W\", \"L\", \"W\", \"L\", \"L\", \"L\", \"L\", \"L\", \"W\", \"L\", \"L\", \"W\", \"L\", \"W\", \"L\", \"W\", \"W\", \"L\", \"L\", \"L\", \"L\", \"L\", \"W\", \"L\", \"W\", \"L\", \"L\", \"L\", \"L\", \"W\", \"W\", \"L\", \"W\", \"W\", \"L\", \"W\", \"L\", \"W\", \"W\"))"
   ]
  },
  {
   "cell_type": "code",
   "execution_count": 20,
   "metadata": {
    "scrolled": true
   },
   "outputs": [
    {
     "data": {},
     "metadata": {},
     "output_type": "display_data"
    },
    {
     "data": {
      "image/png": "[encoded data removed]",
      "text/plain": [
       "plot without title"
      ]
     },
     "metadata": {},
     "output_type": "display_data"
    }
   ],
   "source": [
    "plot_bandit_posterior(data)"
   ]
  },
  {
   "cell_type": "code",
   "execution_count": 22,
   "metadata": {},
   "outputs": [
    {
     "data": {
      "text/html": [
       "<table>\n",
       "<thead><tr><th scope=col>H</th><th scope=col>T</th></tr></thead>\n",
       "<tbody>\n",
       "\t<tr><td>0.8</td><td>0.2</td></tr>\n",
       "\t<tr><td>0.5</td><td>0.5</td></tr>\n",
       "</tbody>\n",
       "</table>\n"
      ],
      "text/latex": [
       "\\begin{tabular}{r|ll}\n",
       " H & T\\\\\n",
       "\\hline\n",
       "\t 0.8 & 0.2\\\\\n",
       "\t 0.5 & 0.5\\\\\n",
       "\\end{tabular}\n"
      ],
      "text/markdown": [
       "\n",
       "H | T | \n",
       "|---|---|\n",
       "| 0.8 | 0.2 | \n",
       "| 0.5 | 0.5 | \n",
       "\n",
       "\n"
      ],
      "text/plain": [
       "  H   T  \n",
       "1 0.8 0.2\n",
       "2 0.5 0.5"
      ]
     },
     "metadata": {},
     "output_type": "display_data"
    }
   ],
   "source": [
    "data.frame(H = c(0.8, 0.5), T = c(0.2, 0.5))"
   ]
  }
 ],
 "metadata": {
  "kernelspec": {
   "display_name": "R",
   "language": "R",
   "name": "ir"
  },
  "language_info": {
   "codemirror_mode": "r",
   "file_extension": ".r",
   "mimetype": "text/x-r-source",
   "name": "R",
   "pygments_lexer": "r",
   "version": "3.4.2"
  }
 },
 "nbformat": 4,
 "nbformat_minor": 2
}
