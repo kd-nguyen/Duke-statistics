{
 "cells": [
  {
   "cell_type": "code",
   "execution_count": 2,
   "metadata": {
    "scrolled": true
   },
   "outputs": [
    {
     "data": {
      "text/html": [
       "0.00590896606445312"
      ],
      "text/latex": [
       "0.00590896606445312"
      ],
      "text/markdown": [
       "0.00590896606445312"
      ],
      "text/plain": [
       "[1] 0.005908966"
      ]
     },
     "metadata": {},
     "output_type": "display_data"
    }
   ],
   "source": [
    "sum(dbinom(0:4, size = 20, p = 0.5))"
   ]
  },
  {
   "cell_type": "code",
   "execution_count": 13,
   "metadata": {
    "scrolled": true
   },
   "outputs": [
    {
     "data": {
      "text/html": [
       "0.73728"
      ],
      "text/latex": [
       "0.73728"
      ],
      "text/markdown": [
       "0.73728"
      ],
      "text/plain": [
       "[1] 0.73728"
      ]
     },
     "metadata": {},
     "output_type": "display_data"
    }
   ],
   "source": [
    "sum(dbinom(0:1, size = 5, p = 0.2))"
   ]
  },
  {
   "cell_type": "code",
   "execution_count": 14,
   "metadata": {
    "scrolled": true
   },
   "outputs": [
    {
     "data": {
      "text/html": [
       "0.6777995264"
      ],
      "text/latex": [
       "0.6777995264"
      ],
      "text/markdown": [
       "0.6777995264"
      ],
      "text/plain": [
       "[1] 0.6777995"
      ]
     },
     "metadata": {},
     "output_type": "display_data"
    }
   ],
   "source": [
    "sum(dbinom(0:2, size = 10, p = 0.2))"
   ]
  },
  {
   "cell_type": "code",
   "execution_count": 21,
   "metadata": {
    "scrolled": true
   },
   "outputs": [
    {
     "data": {
      "text/html": [
       "0.648162104573952"
      ],
      "text/latex": [
       "0.648162104573952"
      ],
      "text/markdown": [
       "0.648162104573952"
      ],
      "text/plain": [
       "[1] 0.6481621"
      ]
     },
     "metadata": {},
     "output_type": "display_data"
    }
   ],
   "source": [
    "sum(dbinom(0:3, size = 15, p = 0.2))"
   ]
  },
  {
   "cell_type": "code",
   "execution_count": 22,
   "metadata": {},
   "outputs": [
    {
     "data": {
      "text/html": [
       "0.629648263902669"
      ],
      "text/latex": [
       "0.629648263902669"
      ],
      "text/markdown": [
       "0.629648263902669"
      ],
      "text/plain": [
       "[1] 0.6296483"
      ]
     },
     "metadata": {},
     "output_type": "display_data"
    }
   ],
   "source": [
    "sum(dbinom(0:4, size = 20, p = 0.2))"
   ]
  },
  {
   "cell_type": "code",
   "execution_count": 27,
   "metadata": {
    "scrolled": true
   },
   "outputs": [
    {
     "data": {
      "text/html": [
       "0.512"
      ],
      "text/latex": [
       "0.512"
      ],
      "text/markdown": [
       "0.512"
      ],
      "text/plain": [
       "[1] 0.512"
      ]
     },
     "metadata": {},
     "output_type": "display_data"
    }
   ],
   "source": [
    "dbinom(3, size = 3, p = 0.8)"
   ]
  },
  {
   "cell_type": "code",
   "execution_count": 28,
   "metadata": {
    "collapsed": true
   },
   "outputs": [],
   "source": [
    "prior <- c(0.125, 0.125, 0.5, 0.125, 0.125)"
   ]
  },
  {
   "cell_type": "code",
   "execution_count": 29,
   "metadata": {
    "collapsed": true
   },
   "outputs": [],
   "source": [
    "likelihood <- c(0.008, 0.064, 0.125, 0.216, 0.512)"
   ]
  },
  {
   "cell_type": "code",
   "execution_count": 32,
   "metadata": {},
   "outputs": [
    {
     "data": {
      "text/html": [
       "1"
      ],
      "text/latex": [
       "1"
      ],
      "text/markdown": [
       "1"
      ],
      "text/plain": [
       "[1] 1"
      ]
     },
     "metadata": {},
     "output_type": "display_data"
    }
   ],
   "source": [
    "sum(prior*likelihood / sum(prior*likelihood))"
   ]
  },
  {
   "cell_type": "code",
   "execution_count": 33,
   "metadata": {
    "collapsed": true
   },
   "outputs": [],
   "source": [
    "prior <- c(0.2, 0.3, 0.3, 0.1, 0.025, 0.025, 0.025, 0.025, 0.025)\n",
    "likelihood <- c(0.001, 0.005, 0.03, 0.12, 0.22, 0.25, 0.21, 0.09, 0.01)\n",
    "posterior <- prior * likelihood / sum(prior * likelihood)"
   ]
  },
  {
   "cell_type": "code",
   "execution_count": 34,
   "metadata": {
    "collapsed": true
   },
   "outputs": [],
   "source": [
    "library(ggplot2)"
   ]
  },
  {
   "cell_type": "code",
   "execution_count": 39,
   "metadata": {},
   "outputs": [
    {
     "data": {
      "text/html": [
       "1"
      ],
      "text/latex": [
       "1"
      ],
      "text/markdown": [
       "1"
      ],
      "text/plain": [
       "[1] 1"
      ]
     },
     "metadata": {},
     "output_type": "display_data"
    }
   ],
   "source": [
    "sum(posterior)"
   ]
  },
  {
   "cell_type": "code",
   "execution_count": 43,
   "metadata": {},
   "outputs": [
    {
     "data": {
      "text/html": [
       "<ol class=list-inline>\n",
       "\t<li>1</li>\n",
       "\t<li>2</li>\n",
       "\t<li>3</li>\n",
       "\t<li>4</li>\n",
       "\t<li>5</li>\n",
       "\t<li>6</li>\n",
       "\t<li>7</li>\n",
       "\t<li>8</li>\n",
       "\t<li>9</li>\n",
       "</ol>\n"
      ],
      "text/latex": [
       "\\begin{enumerate*}\n",
       "\\item 1\n",
       "\\item 2\n",
       "\\item 3\n",
       "\\item 4\n",
       "\\item 5\n",
       "\\item 6\n",
       "\\item 7\n",
       "\\item 8\n",
       "\\item 9\n",
       "\\end{enumerate*}\n"
      ],
      "text/markdown": [
       "1. 1\n",
       "2. 2\n",
       "3. 3\n",
       "4. 4\n",
       "5. 5\n",
       "6. 6\n",
       "7. 7\n",
       "8. 8\n",
       "9. 9\n",
       "\n",
       "\n"
      ],
      "text/plain": [
       "[1] 1 2 3 4 5 6 7 8 9"
      ]
     },
     "metadata": {},
     "output_type": "display_data"
    }
   ],
   "source": [
    "seq_along(posterior)"
   ]
  },
  {
   "cell_type": "code",
   "execution_count": 49,
   "metadata": {},
   "outputs": [],
   "source": [
    "posterior_df <- data.frame(n = seq_along(posterior), p = posterior)"
   ]
  },
  {
   "cell_type": "code",
   "execution_count": 50,
   "metadata": {},
   "outputs": [
    {
     "data": {
      "text/html": [
       "<table>\n",
       "<thead><tr><th scope=col>n</th><th scope=col>p</th></tr></thead>\n",
       "<tbody>\n",
       "\t<tr><td>1          </td><td>0.004739336</td></tr>\n",
       "\t<tr><td>2          </td><td>0.035545024</td></tr>\n",
       "\t<tr><td>3          </td><td>0.213270142</td></tr>\n",
       "\t<tr><td>4          </td><td>0.284360190</td></tr>\n",
       "\t<tr><td>5          </td><td>0.130331754</td></tr>\n",
       "\t<tr><td>6          </td><td>0.148104265</td></tr>\n",
       "\t<tr><td>7          </td><td>0.124407583</td></tr>\n",
       "\t<tr><td>8          </td><td>0.053317536</td></tr>\n",
       "\t<tr><td>9          </td><td>0.005924171</td></tr>\n",
       "</tbody>\n",
       "</table>\n"
      ],
      "text/latex": [
       "\\begin{tabular}{r|ll}\n",
       " n & p\\\\\n",
       "\\hline\n",
       "\t 1           & 0.004739336\\\\\n",
       "\t 2           & 0.035545024\\\\\n",
       "\t 3           & 0.213270142\\\\\n",
       "\t 4           & 0.284360190\\\\\n",
       "\t 5           & 0.130331754\\\\\n",
       "\t 6           & 0.148104265\\\\\n",
       "\t 7           & 0.124407583\\\\\n",
       "\t 8           & 0.053317536\\\\\n",
       "\t 9           & 0.005924171\\\\\n",
       "\\end{tabular}\n"
      ],
      "text/markdown": [
       "\n",
       "n | p | \n",
       "|---|---|---|---|---|---|---|---|---|\n",
       "| 1           | 0.004739336 | \n",
       "| 2           | 0.035545024 | \n",
       "| 3           | 0.213270142 | \n",
       "| 4           | 0.284360190 | \n",
       "| 5           | 0.130331754 | \n",
       "| 6           | 0.148104265 | \n",
       "| 7           | 0.124407583 | \n",
       "| 8           | 0.053317536 | \n",
       "| 9           | 0.005924171 | \n",
       "\n",
       "\n"
      ],
      "text/plain": [
       "  n p          \n",
       "1 1 0.004739336\n",
       "2 2 0.035545024\n",
       "3 3 0.213270142\n",
       "4 4 0.284360190\n",
       "5 5 0.130331754\n",
       "6 6 0.148104265\n",
       "7 7 0.124407583\n",
       "8 8 0.053317536\n",
       "9 9 0.005924171"
      ]
     },
     "metadata": {},
     "output_type": "display_data"
    }
   ],
   "source": [
    "posterior_df"
   ]
  },
  {
   "cell_type": "code",
   "execution_count": 52,
   "metadata": {
    "scrolled": true
   },
   "outputs": [
    {
     "data": {},
     "metadata": {},
     "output_type": "display_data"
    },
    {
     "data": {
      "image/png": "[encoded data removed]",
      "text/plain": [
       "plot without title"
      ]
     },
     "metadata": {},
     "output_type": "display_data"
    }
   ],
   "source": [
    "ggplot(posterior_df, aes(n, p)) +\n",
    "geom_bar(stat = 'identity')"
   ]
  },
  {
   "cell_type": "code",
   "execution_count": 53,
   "metadata": {
    "collapsed": true
   },
   "outputs": [],
   "source": [
    "z <- (0.9942 - 0.993) / sqrt(0.993 * 0.007 / 10000)"
   ]
  },
  {
   "cell_type": "code",
   "execution_count": 56,
   "metadata": {},
   "outputs": [
    {
     "data": {
      "text/html": [
       "1.43932080083517"
      ],
      "text/latex": [
       "1.43932080083517"
      ],
      "text/markdown": [
       "1.43932080083517"
      ],
      "text/plain": [
       "[1] 1.439321"
      ]
     },
     "metadata": {},
     "output_type": "display_data"
    }
   ],
   "source": [
    "z"
   ]
  },
  {
   "cell_type": "code",
   "execution_count": 55,
   "metadata": {
    "scrolled": true
   },
   "outputs": [
    {
     "data": {
      "text/html": [
       "0.0750298260176123"
      ],
      "text/latex": [
       "0.0750298260176123"
      ],
      "text/markdown": [
       "0.0750298260176123"
      ],
      "text/plain": [
       "[1] 0.07502983"
      ]
     },
     "metadata": {},
     "output_type": "display_data"
    }
   ],
   "source": [
    "pnorm(z, lower.tail = FALSE)"
   ]
  },
  {
   "cell_type": "code",
   "execution_count": 59,
   "metadata": {},
   "outputs": [],
   "source": [
    "l1 <- 1-pbinom(998, 6000, 1/6)"
   ]
  },
  {
   "cell_type": "code",
   "execution_count": 60,
   "metadata": {},
   "outputs": [],
   "source": [
    "l2 <- 1-pbinom(998, 6000, 0.175)"
   ]
  },
  {
   "cell_type": "code",
   "execution_count": 61,
   "metadata": {},
   "outputs": [
    {
     "data": {
      "text/html": [
       "0.683740458471239"
      ],
      "text/latex": [
       "0.683740458471239"
      ],
      "text/markdown": [
       "0.683740458471239"
      ],
      "text/plain": [
       "[1] 0.6837405"
      ]
     },
     "metadata": {},
     "output_type": "display_data"
    }
   ],
   "source": [
    "0.8 * l1 / (0.8 * l1 + 0.2 * l2)"
   ]
  },
  {
   "cell_type": "code",
   "execution_count": 65,
   "metadata": {
    "collapsed": true
   },
   "outputs": [],
   "source": [
    "z <- (5/300 - 0.01) / sqrt((5/300) * (1-5/300) / 300)"
   ]
  },
  {
   "cell_type": "code",
   "execution_count": 66,
   "metadata": {},
   "outputs": [
    {
     "data": {
      "text/html": [
       "0.901975233603395"
      ],
      "text/latex": [
       "0.901975233603395"
      ],
      "text/markdown": [
       "0.901975233603395"
      ],
      "text/plain": [
       "[1] 0.9019752"
      ]
     },
     "metadata": {},
     "output_type": "display_data"
    }
   ],
   "source": [
    "z"
   ]
  },
  {
   "cell_type": "code",
   "execution_count": 67,
   "metadata": {
    "scrolled": true
   },
   "outputs": [
    {
     "data": {
      "text/html": [
       "0.183535012049337"
      ],
      "text/latex": [
       "0.183535012049337"
      ],
      "text/markdown": [
       "0.183535012049337"
      ],
      "text/plain": [
       "[1] 0.183535"
      ]
     },
     "metadata": {},
     "output_type": "display_data"
    }
   ],
   "source": [
    "pnorm(z, lower.tail = FALSE)"
   ]
  },
  {
   "cell_type": "code",
   "execution_count": 99,
   "metadata": {},
   "outputs": [],
   "source": [
    "h <- seq.int(100000000, 900000000, 100000000)"
   ]
  },
  {
   "cell_type": "code",
   "execution_count": 100,
   "metadata": {},
   "outputs": [
    {
     "data": {
      "text/html": [
       "<ol class=list-inline>\n",
       "\t<li>1e+08</li>\n",
       "\t<li>2e+08</li>\n",
       "\t<li>3e+08</li>\n",
       "\t<li>4e+08</li>\n",
       "\t<li>5e+08</li>\n",
       "\t<li>6e+08</li>\n",
       "\t<li>7e+08</li>\n",
       "\t<li>8e+08</li>\n",
       "\t<li>9e+08</li>\n",
       "</ol>\n"
      ],
      "text/latex": [
       "\\begin{enumerate*}\n",
       "\\item 1e+08\n",
       "\\item 2e+08\n",
       "\\item 3e+08\n",
       "\\item 4e+08\n",
       "\\item 5e+08\n",
       "\\item 6e+08\n",
       "\\item 7e+08\n",
       "\\item 8e+08\n",
       "\\item 9e+08\n",
       "\\end{enumerate*}\n"
      ],
      "text/markdown": [
       "1. 1e+08\n",
       "2. 2e+08\n",
       "3. 3e+08\n",
       "4. 4e+08\n",
       "5. 5e+08\n",
       "6. 6e+08\n",
       "7. 7e+08\n",
       "8. 8e+08\n",
       "9. 9e+08\n",
       "\n",
       "\n"
      ],
      "text/plain": [
       "[1] 1e+08 2e+08 3e+08 4e+08 5e+08 6e+08 7e+08 8e+08 9e+08"
      ]
     },
     "metadata": {},
     "output_type": "display_data"
    }
   ],
   "source": [
    "h"
   ]
  },
  {
   "cell_type": "code",
   "execution_count": 74,
   "metadata": {},
   "outputs": [
    {
     "data": {
      "text/html": [
       "<ol class=list-inline>\n",
       "\t<li>0.111111111111111</li>\n",
       "\t<li>0.111111111111111</li>\n",
       "\t<li>0.111111111111111</li>\n",
       "\t<li>0.111111111111111</li>\n",
       "\t<li>0.111111111111111</li>\n",
       "\t<li>0.111111111111111</li>\n",
       "\t<li>0.111111111111111</li>\n",
       "\t<li>0.111111111111111</li>\n",
       "\t<li>0.111111111111111</li>\n",
       "</ol>\n"
      ],
      "text/latex": [
       "\\begin{enumerate*}\n",
       "\\item 0.111111111111111\n",
       "\\item 0.111111111111111\n",
       "\\item 0.111111111111111\n",
       "\\item 0.111111111111111\n",
       "\\item 0.111111111111111\n",
       "\\item 0.111111111111111\n",
       "\\item 0.111111111111111\n",
       "\\item 0.111111111111111\n",
       "\\item 0.111111111111111\n",
       "\\end{enumerate*}\n"
      ],
      "text/markdown": [
       "1. 0.111111111111111\n",
       "2. 0.111111111111111\n",
       "3. 0.111111111111111\n",
       "4. 0.111111111111111\n",
       "5. 0.111111111111111\n",
       "6. 0.111111111111111\n",
       "7. 0.111111111111111\n",
       "8. 0.111111111111111\n",
       "9. 0.111111111111111\n",
       "\n",
       "\n"
      ],
      "text/plain": [
       "[1] 0.1111111 0.1111111 0.1111111 0.1111111 0.1111111 0.1111111 0.1111111\n",
       "[8] 0.1111111 0.1111111"
      ]
     },
     "metadata": {},
     "output_type": "display_data"
    }
   ],
   "source": [
    "prior <- rep(1 / length(h), length(h))\n",
    "prior"
   ]
  },
  {
   "cell_type": "code",
   "execution_count": 76,
   "metadata": {
    "collapsed": true
   },
   "outputs": [],
   "source": [
    "f <- function(n){\n",
    "    dbinom(3, 413271201, p = 1/n)\n",
    "}"
   ]
  },
  {
   "cell_type": "code",
   "execution_count": 101,
   "metadata": {},
   "outputs": [],
   "source": [
    "likelihood <- (1 / h) ^ 3 * (1 - 1 / h) ^ (413271201 - 3)"
   ]
  },
  {
   "cell_type": "code",
   "execution_count": 102,
   "metadata": {},
   "outputs": [
    {
     "data": {
      "text/html": [
       "<ol class=list-inline>\n",
       "\t<li>1.60393208025107e-26</li>\n",
       "\t<li>1.58308054635999e-26</li>\n",
       "\t<li>9.34038739598267e-27</li>\n",
       "\t<li>5.56053432691086e-27</li>\n",
       "\t<li>3.50047657093062e-27</li>\n",
       "\t<li>2.32493371653011e-27</li>\n",
       "\t<li>1.61548849246607e-27</li>\n",
       "\t<li>1.16514047513077e-27</li>\n",
       "\t<li>8.66659887842459e-28</li>\n",
       "</ol>\n"
      ],
      "text/latex": [
       "\\begin{enumerate*}\n",
       "\\item 1.60393208025107e-26\n",
       "\\item 1.58308054635999e-26\n",
       "\\item 9.34038739598267e-27\n",
       "\\item 5.56053432691086e-27\n",
       "\\item 3.50047657093062e-27\n",
       "\\item 2.32493371653011e-27\n",
       "\\item 1.61548849246607e-27\n",
       "\\item 1.16514047513077e-27\n",
       "\\item 8.66659887842459e-28\n",
       "\\end{enumerate*}\n"
      ],
      "text/markdown": [
       "1. 1.60393208025107e-26\n",
       "2. 1.58308054635999e-26\n",
       "3. 9.34038739598267e-27\n",
       "4. 5.56053432691086e-27\n",
       "5. 3.50047657093062e-27\n",
       "6. 2.32493371653011e-27\n",
       "7. 1.61548849246607e-27\n",
       "8. 1.16514047513077e-27\n",
       "9. 8.66659887842459e-28\n",
       "\n",
       "\n"
      ],
      "text/plain": [
       "[1] 1.603932e-26 1.583081e-26 9.340387e-27 5.560534e-27 3.500477e-27\n",
       "[6] 2.324934e-27 1.615488e-27 1.165140e-27 8.666599e-28"
      ]
     },
     "metadata": {},
     "output_type": "display_data"
    }
   ],
   "source": [
    "likelihood"
   ]
  },
  {
   "cell_type": "code",
   "execution_count": 110,
   "metadata": {},
   "outputs": [
    {
     "data": {
      "text/html": [
       "0.893815350567536"
      ],
      "text/latex": [
       "0.893815350567536"
      ],
      "text/markdown": [
       "0.893815350567536"
      ],
      "text/plain": [
       "[1] 0.8938154"
      ]
     },
     "metadata": {},
     "output_type": "display_data"
    }
   ],
   "source": [
    "sum((prior * likelihood / sum(prior * likelihood))[1:5])"
   ]
  }
 ],
 "metadata": {
  "kernelspec": {
   "display_name": "R",
   "language": "R",
   "name": "ir"
  },
  "language_info": {
   "codemirror_mode": "r",
   "file_extension": ".r",
   "mimetype": "text/x-r-source",
   "name": "R",
   "pygments_lexer": "r",
   "version": "3.4.2"
  }
 },
 "nbformat": 4,
 "nbformat_minor": 2
}
